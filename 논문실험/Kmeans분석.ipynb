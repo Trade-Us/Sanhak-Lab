{
 "cells": [
  {
   "cell_type": "code",
   "execution_count": 1,
   "metadata": {},
   "outputs": [],
   "source": [
    "import numpy as np\n",
    "f = open('resources/InsectWingbeatSound/InsectWingbeatSound_TEST','r')\n",
    "data = f.read()\n",
    "f.close()\n",
    "# 개행문자 기준으로 끊어서 리스트로\n",
    "data_list = data.split('\\n')\n",
    "\n",
    "# \",\" 기준으로 끊어서 리스트로\n",
    "emptylist = []\n",
    "for list_part in data_list:\n",
    "    emptylist.append(list_part.split(\",\"))"
   ]
  },
  {
   "cell_type": "code",
   "execution_count": 2,
   "metadata": {},
   "outputs": [],
   "source": [
    "# str -> float 변환\n",
    "tofloat = []\n",
    "for partlist in emptylist:\n",
    "    tofloat.append([float(i) for i in partlist]) "
   ]
  },
  {
   "cell_type": "code",
   "execution_count": 3,
   "metadata": {},
   "outputs": [
    {
     "name": "stdout",
     "output_type": "stream",
     "text": [
      "(1980,)\n",
      "(1980, 256)\n"
     ]
    }
   ],
   "source": [
    "labels = []\n",
    "data_list = []\n",
    "for datas in tofloat:\n",
    "    labels.append(datas[0])\n",
    "    data_list.append(datas[1:])\n",
    "print(np.shape(labels))\n",
    "print(np.shape(data_list))\n"
   ]
  },
  {
   "cell_type": "code",
   "execution_count": 4,
   "metadata": {},
   "outputs": [],
   "source": [
    "from readFile import split_into_values, toRPdata\n",
    "from sklearn.preprocessing import MinMaxScaler, StandardScaler\n",
    "from tslearn.preprocessing import TimeSeriesScalerMeanVariance, TimeSeriesResampler\n",
    "\n",
    "def Standard(data):\n",
    "    SS = StandardScaler().fit(data)\n",
    "    scaled = SS.transform(data)\n",
    "    return scaled\n",
    "\n",
    "def MinMax(data):\n",
    "    MMS = MinMaxScaler().fit(data)\n",
    "    scaled = MMS.transform(data)\n",
    "    return scaled\n",
    "\n",
    "# result_list transpose\n",
    "result_T = [list(x) for x in zip(*data_list)]\n",
    "\n",
    "# minmax 정규화\n",
    "result_scaled = Standard(result_T)\n",
    "\n",
    "# 다시 result transpose 해서 원래대로\n",
    "result_scaled = [list(x) for x in zip(*result_scaled)]\n",
    "\n",
    "result_ = np.array(result_scaled)"
   ]
  },
  {
   "cell_type": "code",
   "execution_count": 5,
   "metadata": {},
   "outputs": [
    {
     "data": {
      "text/plain": [
       "(1980, 256)"
      ]
     },
     "execution_count": 5,
     "metadata": {},
     "output_type": "execute_result"
    }
   ],
   "source": [
    "result_.shape"
   ]
  },
  {
   "cell_type": "code",
   "execution_count": 6,
   "metadata": {},
   "outputs": [
    {
     "data": {
      "text/plain": [
       "(1980, 256, 256, 1)"
      ]
     },
     "execution_count": 6,
     "metadata": {},
     "output_type": "execute_result"
    }
   ],
   "source": [
    "data = result_.reshape(result_.shape[0], 1, result_.shape[1])\n",
    "X = toRPdata(data, threshold='point', percentage=30)\n",
    "#X = toRPdata(data)\n",
    "    \n",
    "X_scaled = np.expand_dims(X, axis=3)\n",
    "X_scaled.shape"
   ]
  },
  {
   "cell_type": "code",
   "execution_count": 20,
   "metadata": {},
   "outputs": [],
   "source": [
    "from utils import split_data, normalization_tool\n",
    "from agent import Autoencoder_Agent\n",
    "from keras import backend as K\n",
    "import tensorflow as tf"
   ]
  },
  {
   "cell_type": "code",
   "execution_count": 106,
   "metadata": {},
   "outputs": [],
   "source": [
    "learning_rate = 3e-5\n",
    "optimizer='Adam'\n",
    "loss='mse'\n",
    "image_size = 256 #1024, 256\n",
    "dimension = 8 # ..."
   ]
  },
  {
   "cell_type": "code",
   "execution_count": 107,
   "metadata": {},
   "outputs": [
    {
     "name": "stdout",
     "output_type": "stream",
     "text": [
      "Model: \"sequential_6\"\n",
      "_________________________________________________________________\n",
      "Layer (type)                 Output Shape              Param #   \n",
      "=================================================================\n",
      "conv2d_54 (Conv2D)           (None, 256, 256, 128)     1280      \n",
      "_________________________________________________________________\n",
      "activation_54 (Activation)   (None, 256, 256, 128)     0         \n",
      "_________________________________________________________________\n",
      "max_pooling2d_24 (MaxPooling (None, 128, 128, 128)     0         \n",
      "_________________________________________________________________\n",
      "conv2d_55 (Conv2D)           (None, 128, 128, 64)      73792     \n",
      "_________________________________________________________________\n",
      "activation_55 (Activation)   (None, 128, 128, 64)      0         \n",
      "_________________________________________________________________\n",
      "max_pooling2d_25 (MaxPooling (None, 64, 64, 64)        0         \n",
      "_________________________________________________________________\n",
      "conv2d_56 (Conv2D)           (None, 64, 64, 32)        18464     \n",
      "_________________________________________________________________\n",
      "activation_56 (Activation)   (None, 64, 64, 32)        0         \n",
      "_________________________________________________________________\n",
      "max_pooling2d_26 (MaxPooling (None, 32, 32, 32)        0         \n",
      "_________________________________________________________________\n",
      "conv2d_57 (Conv2D)           (None, 32, 32, 2)         578       \n",
      "_________________________________________________________________\n",
      "activation_57 (Activation)   (None, 32, 32, 2)         0         \n",
      "_________________________________________________________________\n",
      "max_pooling2d_27 (MaxPooling (None, 2, 2, 2)           0         \n",
      "_________________________________________________________________\n",
      "conv2d_58 (Conv2D)           (None, 2, 2, 2)           38        \n",
      "_________________________________________________________________\n",
      "activation_58 (Activation)   (None, 2, 2, 2)           0         \n",
      "_________________________________________________________________\n",
      "up_sampling2d_24 (UpSampling (None, 32, 32, 2)         0         \n",
      "_________________________________________________________________\n",
      "conv2d_59 (Conv2D)           (None, 32, 32, 32)        608       \n",
      "_________________________________________________________________\n",
      "activation_59 (Activation)   (None, 32, 32, 32)        0         \n",
      "_________________________________________________________________\n",
      "up_sampling2d_25 (UpSampling (None, 64, 64, 32)        0         \n",
      "_________________________________________________________________\n",
      "conv2d_60 (Conv2D)           (None, 64, 64, 64)        18496     \n",
      "_________________________________________________________________\n",
      "activation_60 (Activation)   (None, 64, 64, 64)        0         \n",
      "_________________________________________________________________\n",
      "up_sampling2d_26 (UpSampling (None, 128, 128, 64)      0         \n",
      "_________________________________________________________________\n",
      "conv2d_61 (Conv2D)           (None, 128, 128, 128)     73856     \n",
      "_________________________________________________________________\n",
      "activation_61 (Activation)   (None, 128, 128, 128)     0         \n",
      "_________________________________________________________________\n",
      "up_sampling2d_27 (UpSampling (None, 256, 256, 128)     0         \n",
      "_________________________________________________________________\n",
      "conv2d_62 (Conv2D)           (None, 256, 256, 1)       1153      \n",
      "_________________________________________________________________\n",
      "activation_62 (Activation)   (None, 256, 256, 1)       0         \n",
      "=================================================================\n",
      "Total params: 188,265\n",
      "Trainable params: 188,265\n",
      "Non-trainable params: 0\n",
      "_________________________________________________________________\n"
     ]
    }
   ],
   "source": [
    "autoencoder = Autoencoder_Agent(model_size=image_size, dimension=dimension, optimizer=optimizer,learning_rate=learning_rate)"
   ]
  },
  {
   "cell_type": "code",
   "execution_count": 108,
   "metadata": {},
   "outputs": [],
   "source": [
    "autoencoder.load(f'model/insect_128_{dimension}_bce.h5')"
   ]
  },
  {
   "cell_type": "code",
   "execution_count": 123,
   "metadata": {
    "scrolled": true
   },
   "outputs": [
    {
     "name": "stdout",
     "output_type": "stream",
     "text": [
      "(1980, 8)\n"
     ]
    }
   ],
   "source": [
    "all_feature = np.empty((0,dimension), float)\n",
    "for i in range(66):\n",
    "    all_feature = np.append(all_feature, autoencoder.feature_extract(X_scaled[i*30:(i+1)*30]), axis=0)\n",
    "\n",
    "print(all_feature.shape)"
   ]
  },
  {
   "cell_type": "code",
   "execution_count": 135,
   "metadata": {},
   "outputs": [
    {
     "data": {
      "text/plain": [
       "0.22493226471341543"
      ]
     },
     "execution_count": 135,
     "metadata": {},
     "output_type": "execute_result"
    }
   ],
   "source": [
    "from sklearn.cluster import KMeans\n",
    "cluster_result = KMeans(n_clusters=10).fit(origin_data)\n",
    "plotSilhouette(origin_data,cluster_result)"
   ]
  },
  {
   "cell_type": "code",
   "execution_count": 89,
   "metadata": {},
   "outputs": [
    {
     "name": "stdout",
     "output_type": "stream",
     "text": [
      "군집 11 최대 실루엣 점수: -0.03062825026564111\n"
     ]
    }
   ],
   "source": [
    "# 1. 해당 dimension 에서 100번 돌려서 제일 좋은 결과를 뽑는다.\n",
    "max_result = -1\n",
    "for _ in range(100):\n",
    "    result = KMeans(n_clusters=11).fit(features)\n",
    "    res = plotSilhouette(result_,result)\n",
    "    if max_result < res:\n",
    "        max_result = res\n",
    "print(f\"군집 11 최대 실루엣 점수: {max_result}\")"
   ]
  },
  {
   "cell_type": "code",
   "execution_count": 90,
   "metadata": {},
   "outputs": [
    {
     "ename": "KeyboardInterrupt",
     "evalue": "",
     "output_type": "error",
     "traceback": [
      "\u001b[1;31m-------------------------------------------------------------------\u001b[0m",
      "\u001b[1;31mKeyboardInterrupt\u001b[0m                 Traceback (most recent call last)",
      "\u001b[1;32m<ipython-input-90-b2fd2354c85a>\u001b[0m in \u001b[0;36m<module>\u001b[1;34m\u001b[0m\n\u001b[0;32m      3\u001b[0m \u001b[0mmax_case_cluster_n\u001b[0m \u001b[1;33m=\u001b[0m \u001b[1;36m0\u001b[0m\u001b[1;33m\u001b[0m\u001b[1;33m\u001b[0m\u001b[0m\n\u001b[0;32m      4\u001b[0m \u001b[1;32mfor\u001b[0m \u001b[0mi\u001b[0m \u001b[1;32min\u001b[0m \u001b[0mrange\u001b[0m\u001b[1;33m(\u001b[0m\u001b[1;36m5\u001b[0m\u001b[1;33m,\u001b[0m \u001b[1;36m101\u001b[0m\u001b[1;33m)\u001b[0m\u001b[1;33m:\u001b[0m\u001b[1;33m\u001b[0m\u001b[1;33m\u001b[0m\u001b[0m\n\u001b[1;32m----> 5\u001b[1;33m     \u001b[0mresult\u001b[0m \u001b[1;33m=\u001b[0m \u001b[0mKMeans\u001b[0m\u001b[1;33m(\u001b[0m\u001b[0mn_clusters\u001b[0m\u001b[1;33m=\u001b[0m\u001b[0mi\u001b[0m\u001b[1;33m)\u001b[0m\u001b[1;33m.\u001b[0m\u001b[0mfit\u001b[0m\u001b[1;33m(\u001b[0m\u001b[0mfeatures\u001b[0m\u001b[1;33m)\u001b[0m\u001b[1;33m\u001b[0m\u001b[1;33m\u001b[0m\u001b[0m\n\u001b[0m\u001b[0;32m      6\u001b[0m     \u001b[0mres\u001b[0m \u001b[1;33m=\u001b[0m \u001b[0mplotSilhouette\u001b[0m\u001b[1;33m(\u001b[0m\u001b[0mresult_\u001b[0m\u001b[1;33m,\u001b[0m\u001b[0mresult\u001b[0m\u001b[1;33m)\u001b[0m\u001b[1;33m\u001b[0m\u001b[1;33m\u001b[0m\u001b[0m\n\u001b[0;32m      7\u001b[0m     \u001b[1;32mif\u001b[0m \u001b[0mmax_case_result\u001b[0m \u001b[1;33m<\u001b[0m \u001b[0mres\u001b[0m\u001b[1;33m:\u001b[0m\u001b[1;33m\u001b[0m\u001b[1;33m\u001b[0m\u001b[0m\n",
      "\u001b[1;32mc:\\users\\mosan\\anaconda3\\envs\\ottflab\\lib\\site-packages\\sklearn\\cluster\\_kmeans.py\u001b[0m in \u001b[0;36mfit\u001b[1;34m(self, X, y, sample_weight)\u001b[0m\n\u001b[0;32m   1066\u001b[0m         \u001b[1;32mfor\u001b[0m \u001b[0mseed\u001b[0m \u001b[1;32min\u001b[0m \u001b[0mseeds\u001b[0m\u001b[1;33m:\u001b[0m\u001b[1;33m\u001b[0m\u001b[1;33m\u001b[0m\u001b[0m\n\u001b[0;32m   1067\u001b[0m             \u001b[1;31m# run a k-means once\u001b[0m\u001b[1;33m\u001b[0m\u001b[1;33m\u001b[0m\u001b[1;33m\u001b[0m\u001b[0m\n\u001b[1;32m-> 1068\u001b[1;33m             labels, inertia, centers, n_iter_ = kmeans_single(\n\u001b[0m\u001b[0;32m   1069\u001b[0m                 \u001b[0mX\u001b[0m\u001b[1;33m,\u001b[0m \u001b[0msample_weight\u001b[0m\u001b[1;33m,\u001b[0m \u001b[0mself\u001b[0m\u001b[1;33m.\u001b[0m\u001b[0mn_clusters\u001b[0m\u001b[1;33m,\u001b[0m \u001b[0mmax_iter\u001b[0m\u001b[1;33m=\u001b[0m\u001b[0mself\u001b[0m\u001b[1;33m.\u001b[0m\u001b[0mmax_iter\u001b[0m\u001b[1;33m,\u001b[0m\u001b[1;33m\u001b[0m\u001b[1;33m\u001b[0m\u001b[0m\n\u001b[0;32m   1070\u001b[0m                 \u001b[0minit\u001b[0m\u001b[1;33m=\u001b[0m\u001b[0minit\u001b[0m\u001b[1;33m,\u001b[0m \u001b[0mverbose\u001b[0m\u001b[1;33m=\u001b[0m\u001b[0mself\u001b[0m\u001b[1;33m.\u001b[0m\u001b[0mverbose\u001b[0m\u001b[1;33m,\u001b[0m \u001b[0mtol\u001b[0m\u001b[1;33m=\u001b[0m\u001b[0mself\u001b[0m\u001b[1;33m.\u001b[0m\u001b[0m_tol\u001b[0m\u001b[1;33m,\u001b[0m\u001b[1;33m\u001b[0m\u001b[1;33m\u001b[0m\u001b[0m\n",
      "\u001b[1;32mc:\\users\\mosan\\anaconda3\\envs\\ottflab\\lib\\site-packages\\sklearn\\cluster\\_kmeans.py\u001b[0m in \u001b[0;36m_kmeans_single_elkan\u001b[1;34m(X, sample_weight, n_clusters, max_iter, init, verbose, x_squared_norms, random_state, tol, n_threads)\u001b[0m\n\u001b[0;32m    426\u001b[0m         \u001b[1;31m# compute new pairwise distances between centers and closest other\u001b[0m\u001b[1;33m\u001b[0m\u001b[1;33m\u001b[0m\u001b[1;33m\u001b[0m\u001b[0m\n\u001b[0;32m    427\u001b[0m         \u001b[1;31m# center of each center for next iterations\u001b[0m\u001b[1;33m\u001b[0m\u001b[1;33m\u001b[0m\u001b[1;33m\u001b[0m\u001b[0m\n\u001b[1;32m--> 428\u001b[1;33m         \u001b[0mcenter_half_distances\u001b[0m \u001b[1;33m=\u001b[0m \u001b[0meuclidean_distances\u001b[0m\u001b[1;33m(\u001b[0m\u001b[0mcenters_new\u001b[0m\u001b[1;33m)\u001b[0m \u001b[1;33m/\u001b[0m \u001b[1;36m2\u001b[0m\u001b[1;33m\u001b[0m\u001b[1;33m\u001b[0m\u001b[0m\n\u001b[0m\u001b[0;32m    429\u001b[0m         distance_next_center = np.partition(\n\u001b[0;32m    430\u001b[0m             np.asarray(center_half_distances), kth=1, axis=0)[1]\n",
      "\u001b[1;32mc:\\users\\mosan\\anaconda3\\envs\\ottflab\\lib\\site-packages\\sklearn\\utils\\validation.py\u001b[0m in \u001b[0;36minner_f\u001b[1;34m(*args, **kwargs)\u001b[0m\n\u001b[0;32m     70\u001b[0m                           FutureWarning)\n\u001b[0;32m     71\u001b[0m         \u001b[0mkwargs\u001b[0m\u001b[1;33m.\u001b[0m\u001b[0mupdate\u001b[0m\u001b[1;33m(\u001b[0m\u001b[1;33m{\u001b[0m\u001b[0mk\u001b[0m\u001b[1;33m:\u001b[0m \u001b[0marg\u001b[0m \u001b[1;32mfor\u001b[0m \u001b[0mk\u001b[0m\u001b[1;33m,\u001b[0m \u001b[0marg\u001b[0m \u001b[1;32min\u001b[0m \u001b[0mzip\u001b[0m\u001b[1;33m(\u001b[0m\u001b[0msig\u001b[0m\u001b[1;33m.\u001b[0m\u001b[0mparameters\u001b[0m\u001b[1;33m,\u001b[0m \u001b[0margs\u001b[0m\u001b[1;33m)\u001b[0m\u001b[1;33m}\u001b[0m\u001b[1;33m)\u001b[0m\u001b[1;33m\u001b[0m\u001b[1;33m\u001b[0m\u001b[0m\n\u001b[1;32m---> 72\u001b[1;33m         \u001b[1;32mreturn\u001b[0m \u001b[0mf\u001b[0m\u001b[1;33m(\u001b[0m\u001b[1;33m**\u001b[0m\u001b[0mkwargs\u001b[0m\u001b[1;33m)\u001b[0m\u001b[1;33m\u001b[0m\u001b[1;33m\u001b[0m\u001b[0m\n\u001b[0m\u001b[0;32m     73\u001b[0m     \u001b[1;32mreturn\u001b[0m \u001b[0minner_f\u001b[0m\u001b[1;33m\u001b[0m\u001b[1;33m\u001b[0m\u001b[0m\n\u001b[0;32m     74\u001b[0m \u001b[1;33m\u001b[0m\u001b[0m\n",
      "\u001b[1;32mc:\\users\\mosan\\anaconda3\\envs\\ottflab\\lib\\site-packages\\sklearn\\metrics\\pairwise.py\u001b[0m in \u001b[0;36meuclidean_distances\u001b[1;34m(X, Y, Y_norm_squared, squared, X_norm_squared)\u001b[0m\n\u001b[0;32m    308\u001b[0m     \u001b[1;32melse\u001b[0m\u001b[1;33m:\u001b[0m\u001b[1;33m\u001b[0m\u001b[1;33m\u001b[0m\u001b[0m\n\u001b[0;32m    309\u001b[0m         \u001b[1;31m# if dtype is already float64, no need to chunk and upcast\u001b[0m\u001b[1;33m\u001b[0m\u001b[1;33m\u001b[0m\u001b[1;33m\u001b[0m\u001b[0m\n\u001b[1;32m--> 310\u001b[1;33m         \u001b[0mdistances\u001b[0m \u001b[1;33m=\u001b[0m \u001b[1;33m-\u001b[0m \u001b[1;36m2\u001b[0m \u001b[1;33m*\u001b[0m \u001b[0msafe_sparse_dot\u001b[0m\u001b[1;33m(\u001b[0m\u001b[0mX\u001b[0m\u001b[1;33m,\u001b[0m \u001b[0mY\u001b[0m\u001b[1;33m.\u001b[0m\u001b[0mT\u001b[0m\u001b[1;33m,\u001b[0m \u001b[0mdense_output\u001b[0m\u001b[1;33m=\u001b[0m\u001b[1;32mTrue\u001b[0m\u001b[1;33m)\u001b[0m\u001b[1;33m\u001b[0m\u001b[1;33m\u001b[0m\u001b[0m\n\u001b[0m\u001b[0;32m    311\u001b[0m         \u001b[0mdistances\u001b[0m \u001b[1;33m+=\u001b[0m \u001b[0mXX\u001b[0m\u001b[1;33m\u001b[0m\u001b[1;33m\u001b[0m\u001b[0m\n\u001b[0;32m    312\u001b[0m         \u001b[0mdistances\u001b[0m \u001b[1;33m+=\u001b[0m \u001b[0mYY\u001b[0m\u001b[1;33m\u001b[0m\u001b[1;33m\u001b[0m\u001b[0m\n",
      "\u001b[1;32mc:\\users\\mosan\\anaconda3\\envs\\ottflab\\lib\\site-packages\\sklearn\\utils\\validation.py\u001b[0m in \u001b[0;36minner_f\u001b[1;34m(*args, **kwargs)\u001b[0m\n\u001b[0;32m     70\u001b[0m                           FutureWarning)\n\u001b[0;32m     71\u001b[0m         \u001b[0mkwargs\u001b[0m\u001b[1;33m.\u001b[0m\u001b[0mupdate\u001b[0m\u001b[1;33m(\u001b[0m\u001b[1;33m{\u001b[0m\u001b[0mk\u001b[0m\u001b[1;33m:\u001b[0m \u001b[0marg\u001b[0m \u001b[1;32mfor\u001b[0m \u001b[0mk\u001b[0m\u001b[1;33m,\u001b[0m \u001b[0marg\u001b[0m \u001b[1;32min\u001b[0m \u001b[0mzip\u001b[0m\u001b[1;33m(\u001b[0m\u001b[0msig\u001b[0m\u001b[1;33m.\u001b[0m\u001b[0mparameters\u001b[0m\u001b[1;33m,\u001b[0m \u001b[0margs\u001b[0m\u001b[1;33m)\u001b[0m\u001b[1;33m}\u001b[0m\u001b[1;33m)\u001b[0m\u001b[1;33m\u001b[0m\u001b[1;33m\u001b[0m\u001b[0m\n\u001b[1;32m---> 72\u001b[1;33m         \u001b[1;32mreturn\u001b[0m \u001b[0mf\u001b[0m\u001b[1;33m(\u001b[0m\u001b[1;33m**\u001b[0m\u001b[0mkwargs\u001b[0m\u001b[1;33m)\u001b[0m\u001b[1;33m\u001b[0m\u001b[1;33m\u001b[0m\u001b[0m\n\u001b[0m\u001b[0;32m     73\u001b[0m     \u001b[1;32mreturn\u001b[0m \u001b[0minner_f\u001b[0m\u001b[1;33m\u001b[0m\u001b[1;33m\u001b[0m\u001b[0m\n\u001b[0;32m     74\u001b[0m \u001b[1;33m\u001b[0m\u001b[0m\n",
      "\u001b[1;32mc:\\users\\mosan\\anaconda3\\envs\\ottflab\\lib\\site-packages\\sklearn\\utils\\extmath.py\u001b[0m in \u001b[0;36msafe_sparse_dot\u001b[1;34m(a, b, dense_output)\u001b[0m\n\u001b[0;32m    151\u001b[0m             \u001b[0mret\u001b[0m \u001b[1;33m=\u001b[0m \u001b[0mnp\u001b[0m\u001b[1;33m.\u001b[0m\u001b[0mdot\u001b[0m\u001b[1;33m(\u001b[0m\u001b[0ma\u001b[0m\u001b[1;33m,\u001b[0m \u001b[0mb\u001b[0m\u001b[1;33m)\u001b[0m\u001b[1;33m\u001b[0m\u001b[1;33m\u001b[0m\u001b[0m\n\u001b[0;32m    152\u001b[0m     \u001b[1;32melse\u001b[0m\u001b[1;33m:\u001b[0m\u001b[1;33m\u001b[0m\u001b[1;33m\u001b[0m\u001b[0m\n\u001b[1;32m--> 153\u001b[1;33m         \u001b[0mret\u001b[0m \u001b[1;33m=\u001b[0m \u001b[0ma\u001b[0m \u001b[1;33m@\u001b[0m \u001b[0mb\u001b[0m\u001b[1;33m\u001b[0m\u001b[1;33m\u001b[0m\u001b[0m\n\u001b[0m\u001b[0;32m    154\u001b[0m \u001b[1;33m\u001b[0m\u001b[0m\n\u001b[0;32m    155\u001b[0m     if (sparse.issparse(a) and sparse.issparse(b)\n",
      "\u001b[1;31mKeyboardInterrupt\u001b[0m: "
     ]
    }
   ],
   "source": [
    "# 2. 1 ~ 100 군집 개수로 인한 결과 중에서 가장 좋은 결과를 뽑는다.\n",
    "max_case_result = -1\n",
    "max_case_cluster_n = 0\n",
    "for i in range(5, 101):\n",
    "    result = KMeans(n_clusters=i).fit(features)\n",
    "    res = plotSilhouette(result_,result)\n",
    "    if max_case_result < res:\n",
    "        max_case_result = res\n",
    "        max_case_cluster_n = i\n",
    "print(f\"최대 실루엣 점수: {max_case_result}\\n군집개수: {max_case_cluster_n}\")"
   ]
  },
  {
   "cell_type": "code",
   "execution_count": 55,
   "metadata": {},
   "outputs": [],
   "source": [
    "from sklearn.metrics import silhouette_samples,silhouette_score\n",
    "\n",
    "def plotSilhouette(X, y_km):\n",
    "    cluster_labels = np.unique(y_km.labels_)\n",
    "    n_clusters = cluster_labels.shape[0]\n",
    "    silhouette_vals = silhouette_score(X, y_km.labels_,metric='euclidean')\n",
    "#     print(silhouette_vals)\n",
    "    return silhouette_vals"
   ]
  },
  {
   "cell_type": "code",
   "execution_count": 95,
   "metadata": {},
   "outputs": [
    {
     "data": {
      "text/plain": [
       "(1980, 256)"
      ]
     },
     "execution_count": 95,
     "metadata": {},
     "output_type": "execute_result"
    }
   ],
   "source": [
    "origin_data = np.array(data_list)\n",
    "origin_data.shape"
   ]
  },
  {
   "cell_type": "code",
   "execution_count": 125,
   "metadata": {},
   "outputs": [
    {
     "name": "stdout",
     "output_type": "stream",
     "text": [
      "[ 4  0  4  4  4  0  0  4  0  0  4  0  0  4  0  0  4 10  4  0  0 10  0  4\n",
      "  0  4  4  0  0  0  4  4  0  0  0  0  0  4  4  4  0  0  4  4  0  0  0  4\n",
      "  0  0  4  0  0  4 10  0  0  0  4  0  0  0  4  0  0  4  0  4  0  4  4  4\n",
      "  0  0  0  0  4  4  4  0  4  0  0 10  4  0  4  0  4 10  4  0  0  0 10  0\n",
      "  0  0  0  4  4  4  4  0  0  0  0  0  0  4  4  4  0  4  4  4  4  4  4 10\n",
      "  0  4  4  4  4  0  4  0  0 10  4  0  4  0  4  4  0  4  0 10  0  0  0  4\n",
      "  4  0  4  0  0  4  0  0  4  0  4  0  0  4  0  4  4  0  0  0  0  4  4  4\n",
      "  4  0 10  0  4  0  0  4  0  0  4  0]\n",
      "[ 3  7  3  7  3  5  3  2  3  7 10  2 10  8  3  7  1  3  3  7  3  0  5  7\n",
      "  3  7  3  3  8  7  2  3  7  7  3  3  3  3 10  7  7  3  3  3  3  4  3  3\n",
      "  3  3  7  3  3  7  7  3  7  3  3  7  3  7  3  7  6  8  3  6  2  3  3  7\n",
      "  7  7  3  2  2  2  7  7  3  3  3  3  3  9  7  6  1  3  7  3  3  3  3  6\n",
      "  3  3  3  3  7  3  3  7  7  2  7  3  7  5  3  7  7  3  7  3  2  7  7  2\n",
      "  3  7  7  2  5  5  2  5  7  2  3  3  7  7  3  3  8  3  1  3  3  8  7  7\n",
      " 10  7  3  2  7  7  2  3  7  3  3  6  7  7  3  3  1  3  3  3  3  3  3  6\n",
      "  5  3  3  3  3  7  7  7  3  7  3  3]\n",
      "[6 6 6 6 5 6 6 6 6 5 6 5 6 5 6 6 6 6 6 6 5 6 5 6 6 6 6 5 6 6 6 6 6 6 6 5 6\n",
      " 5 6 6 5 6 5 5 6 6 6 6 5 6 8 6 5 5 6 6 6 5 5 5 8 6 6 6 5 6 6 8 8 8 6 6 6 6\n",
      " 8 6 6 6 6 6 6 6 6 6 3 6 5 8 6 6 6 6 6 6 0 6 6 6 6 6 9 6 6 6 6 6 6 5 6 6 6\n",
      " 6 5 5 5 6 5 6 8 6 6 6 5 6 6 5 6 5 6 6 8 5 6 6 6 6 5 6 6 6 6 6 6 5 6 0 6 5\n",
      " 6 6 6 6 5 6 5 6 5 6 6 6 6 6 6 8 6 6 5 5 6 6 6 5 6 6 5 6 6 6 5 6]\n",
      "[ 8  8  4  0  8  8  8  0  8  8  8 10  2  8  6  8  8 10  2  8  0  8  6 10\n",
      " 10  8  8  8  2  8  8  0 10 10 10  8  0  8  8 10  0  1  8  8  8  0  8  8\n",
      "  8  8  8  8  8  8  6  6  8  8  4 10 10  6  8  8  8  4  8  4  8 10  8  0\n",
      "  8  8 10  0  8  8  4  6  8  0  8  6  2  8  0  8  8 10  6  4  8  8  4 10\n",
      "  8  5  8 10 10 10  8  8  8  4  8  8  4  8  8  1  8  8  8  8  6  8  8  6\n",
      "  8  8  8  8  8  0  2  8  4  8  8  8  6  8  0  4  8 10  6  8  8  4  8 10\n",
      "  8  8  6  0  0 10  8  8  4  8  8  6 10  8  8  8 10  8  8  6 10  8  8  2\n",
      "  8  6  8 10  8  4 10  8  6  8 10 10]\n",
      "[ 1 10 10 10 10  7 10  1  9  1 10  1  1  1  1 10 10 10 10  1 10  1 10  1\n",
      "  1 10 10 10 10 10 10  1  9  9 10  1  1  1  9 10  1 10  9  9  1  1 10  1\n",
      " 10  1  1  1 10 10  1  4  4 10  4 10  1  2  1 10  1 10 10  1 10  1  9  1\n",
      " 10  9  1  9  9  1  9  4 10  1  1  1  1  4 10  1 10 10  1 10 10 10 10  1\n",
      "  4  1 10  9  9 10  1 10 10 10  4  1  1  4  4  1 10  1  9  1 10 10 10  1\n",
      "  1  4 10  1  9  1  0  9 10 10  9  1  4  1 10  1  1  1 10  1  9  1  9 10\n",
      " 10  1  1 10  1 10  4 10 10 10  1  1  1  1  1  1 10  1 10 10  9  1  1  9\n",
      "  1  1  9 10  1  3 10 10  1  9  9 10]\n",
      "[8 8 6 6 6 8 8 5 6 6 5 6 8 7 8 6 8 8 6 6 8 6 5 6 6 0 6 6 8 8 6 6 6 5 0 1 5\n",
      " 8 5 8 6 5 6 0 6 6 0 6 8 0 8 6 6 8 6 6 8 8 6 5 6 5 6 6 8 6 6 6 6 6 0 8 8 8\n",
      " 8 6 7 7 1 8 6 0 6 0 6 8 8 0 8 5 6 5 6 5 6 0 5 8 8 1 6 6 8 6 6 8 6 6 5 6 8\n",
      " 5 6 6 0 6 6 8 6 6 8 6 0 5 8 8 8 5 6 0 6 6 5 6 6 6 8 6 8 5 5 8 8 6 5 6 6 6\n",
      " 6 6 6 6 8 0 6 8 6 6 6 8 8 6 6 8 6 6 8 6 8 6 5 6 6 6 8 8 8 6 8 5]\n",
      "[ 1 10  1  1  1  1 10  9  1 10  1  1  1 10  9  9  1  1  9  1  1 10  1  9\n",
      "  9  1  9 10  1  9  4  9 10  1  9  9  1  1  9  9 10  9 10  9  9  4  1 10\n",
      "  9  1  9  9  9  9  9  1 10  9  1  1  1  1 10  1  1  1  1  4  9  9  1  9\n",
      "  9  1  9  1  9 10  9  9  9  9  1  1  9  1  1  9  9  9  9  9  1  9  9  9\n",
      "  9  9  9  9 10 10  1  9  9  9  9  1  9  9 10 10 10 10  9 10  9  1  1 10\n",
      "  7  1  1  9  9  1  9  1  1  1  1  1  1  9  1  1  9  9  1  1  1 10 10  1\n",
      "  9  9  9  1 10 10  4  9  9  9  9  1  9  9 10 10  9  9  2  1  1  9  9 10\n",
      " 10  9  9  9  9  9  9 10  9  9 10  9]\n",
      "[5 6 7 5 5 7 5 5 6 5 5 5 5 5 6 6 5 9 5 5 7 5 5 9 6 5 6 6 5 9 9 5 5 6 5 5 5\n",
      " 5 7 6 7 5 5 9 9 5 5 5 5 7 5 5 9 5 5 5 5 5 6 5 5 7 5 6 5 5 7 5 6 5 6 5 6 5\n",
      " 5 5 5 5 5 7 7 5 5 5 7 6 6 5 5 5 5 5 5 5 6 7 5 5 5 7 5 5 6 5 7 5 5 5 7 5 6\n",
      " 6 5 6 5 6 5 6 5 5 7 5 1 6 7 6 5 5 6 5 5 6 5 5 7 5 9 7 5 5 7 5 5 5 6 6 5 5\n",
      " 5 7 5 9 5 5 5 5 7 6 6 5 5 5 5 5 5 7 5 5 5 5 5 7 7 5 9 6 5 5 5 5]\n",
      "[10  4 10 10  4  1  1 10  1 10  1  1 10 10  4  1  1 10 10  4 10  4  1  1\n",
      "  4  1 10  4  1  1 10  1 10  1  4  1  4  0  9  4 10 10  4 10  1  4  1  4\n",
      "  1 10  4  4  1 10  1 10 10  1  4 10  1 10  1  4  4  4  4  1 10  9  4  4\n",
      "  1  4 10  4  1  1  1  0  1  1  1  9 10  1  4  1 10  1  1 10 10  1  4  1\n",
      "  0  1 10  0 10  1  1  1  1  1 10  1  1  4  4  4  4 10  1  4 10  4  1  4\n",
      " 10  1  1  1 10 10  1 10  1  1  4  4 10  1  1 10  1  4  1 10 10  1 10  0\n",
      "  4  1 10  9  4  1  4  1  1  1  4 10 10 10 10  4  4  4  1 10  4  1  1 10\n",
      " 10 10  1  1 10  1 10  4  1  1  1  1]\n",
      "[ 2 10  3  2  2  2  7  2  2  3  3  7  2  2  2  7  7  6  2  2  2  2  1  2\n",
      "  2  2  7  2  7  2  2  2  9  2  2  2  2  7  2  2  2  2  2  2  2  7  2  2\n",
      "  3  7  0  2  3  2  7  2  2  2  2  2  6  3  2  3  7  2  1  3  2  6  2  2\n",
      "  7  2  7  7  7  2  7  2  2  2  2  3  2  2  3  3  7  2  7  2  2  2  2  2\n",
      "  2  2  2  2  7  7  2  7  7  7  7  2  2  2  3  2  2  2  7  2  3  2  1  7\n",
      "  2  7  2  2  2  7  2  2  3  3  2  7  2  2  2  2  3  7  7  2  2  2  7  2\n",
      "  2  2  3  2  2  2  2  2  7  2  7  2  7  2  2  2  7  7  2  2  7  7  2  2\n",
      "  3  7  7  2  3  2  0  7  7  7  3  2]\n",
      "[ 3  3  2  3  3  3  3  3  3  3  3  2  3  2  3  3  3  3  3  3  3  3  3  3\n",
      "  3  3  3  3  3  2  2  3  3  3  3  3  3  2  3  2  3  3  3  3  3  2  3  7\n",
      "  3  3  3  2  3  3  3  3  6  3  3  3  3  3  7  3  3  3  3  3  2  3  2  3\n",
      "  3  3  3  3  3  3  8  3  3  3  3  3  3  3  3  3  3  2  3  3  3  3  3  3\n",
      "  3  3  3  8  2  3  3  3  3  3  3  3  3  6  3  3  3  3  3  3  3  3  3  3\n",
      "  3  3  3  3  3  3  3  3  3  3  3  3  3  3  3  3  4  3  3  3  3  3  3  3\n",
      "  3  3  3  3  3  3  3  3  7  3  3  3  3  3  3 10  3  3  3  3  3  3  3  3\n",
      "  3  3  3  3  3  3  3  3  3  3  3  3]\n"
     ]
    }
   ],
   "source": [
    "# 각 label 별 리스트 나누기\n",
    "# labels : 기존 라벨\n",
    "# all_feature : dataset\n",
    "\n",
    "# labels == 1 인 인덱스 : idx\n",
    "# cluster_1 = all_feature[idx]\n",
    "\n",
    "for i in range(1, 12):\n",
    "#     features = np.empty((1,32))\n",
    "    indexes = []\n",
    "    for idx, label in enumerate(labels):\n",
    "        if label == i:\n",
    "            indexes.append(idx)\n",
    "    features = origin_data[indexes]\n",
    "    result = cluster_result.predict(features)\n",
    "    print(result)\n",
    "#     print(features)\n",
    "#     print(features.shape)\n",
    "\n",
    "# 리스트 별로 predict 진행\n",
    "# 결과 저장"
   ]
  },
  {
   "cell_type": "code",
   "execution_count": 131,
   "metadata": {},
   "outputs": [
    {
     "name": "stdout",
     "output_type": "stream",
     "text": [
      "3: 216\n",
      "2: 286\n",
      "9: 180\n",
      "4: 145\n",
      "1: 203\n",
      "5: 149\n",
      "10: 120\n",
      "11: 209\n",
      "6: 184\n",
      "7: 197\n",
      "8: 91\n"
     ]
    }
   ],
   "source": [
    "labels_ = cluster_result.labels_ + 1\n",
    "dic_labels_ = {}\n",
    "for i in labels_:\n",
    "    if f'{i}' not in dic_labels_.keys():\n",
    "        dic_labels_[f'{i}'] = 1\n",
    "    else:\n",
    "        dic_labels_[f'{i}'] += 1\n",
    "\n",
    "for key, value in dic_labels_.items():\n",
    "    print(f\"{key}: {value}\")"
   ]
  },
  {
   "cell_type": "code",
   "execution_count": 128,
   "metadata": {},
   "outputs": [
    {
     "name": "stdout",
     "output_type": "stream",
     "text": [
      "[7 2 7 5 8 2 6 2 5 7 0 5 2 5 7 0 7 8 6 2 8 5 5 2 7 5 2 5 8 7 6 5 0 2 7 2 0\n",
      " 2 5 7 2 7 2 5 3 2 7 5 0 2 2 2 8 5 5 5 7 5 2 6 0 8 0 5 2 8 7 7 5 0 2 5 8 7\n",
      " 6 7 5 5 2 2 5 5 5 8 5 7 5 5 7 2 5 6 5 5 5 2 5 0 0 8 2 2 7 2 7 2 6 7 8 5 0\n",
      " 2 5 5 2 5 5 2 8 8 0 5 7 2 2 7 6 2 2 7 5 2 2 2 2 2 2 5 7 2 2 2 2 2 2 2 5 2\n",
      " 0 5 5 7 5 5 2 5 7 5 6 7 0 7 8 6 0 7 2 7 2 0 8 7 5 7 7 8 2 0 7 7]\n",
      "[ 1 10  3  5  9  0  1  7  1  9 10  1  0  3  0 10  2  9  3 10 10  5  1  1\n",
      "  0  5  6  3  3 10  1  1 10 10 10  4  0  1  7  0  1 10  3  7  1  0  0  4\n",
      "  3  3  1  1  4 10 10  1  2  4  3  5  1  1  0 10 10  1 10 10  4  1  9  6\n",
      "  1  0  6  1  1  5  5 10  0  1 10 10  0  6  6  2  5  1  3 10  1  6 10  0\n",
      "  4  1  9  1  6  1  9  1 10  9 10  7  6  3 10 10  0 10 10  1  3 10 10  9\n",
      "  1 10  2  6  5  5  1  3  1  1  3  3 10  1  6 10  1 10  8  1  3  3  6  6\n",
      "  9  1  1 10 10  1  3 10  6  1 10  3 10  1  1  1 10 10 10 10 10  1  6  6\n",
      "  9  3  6  7  1  6 10  4  3  0  1  1]\n",
      "[ 0  5  5  5  5  7  5  2  5  8  7  7  7  6  7  6  5  8  6  0  6  7  6  5\n",
      "  7  7  6 10  6  5  7  6  8  5  6  6  5  5  0  0  0  6  6  5  2  5  6  2\n",
      "  6  5  5  2  2  5 10  5  5  5  7  5  5  7  5  3  6  5  5  5  5  5  6  7\n",
      "  0  7  0  6  5  6  6  7  7  6  9  5  3  7  5  8  8  2  5  7  5 10  2  5\n",
      "  0  5  8  0  8  0  7  5  0  7  7  8  5  5  6  6  7  2  5  5  5  7  5  0\n",
      "  6  6  6  6  8  8  6  5  5  5  0  7  5  5  5  2  0  0  3  2  2  6  7  7\n",
      "  7  5  6  7  7  3  7  7  7  6  5  0  7  5  7  6  6  5  8  0  5  5  5  5\n",
      "  0  0  0  6  2  0  0  7  5  0  2  5]\n",
      "[10  0  5  5 10  6 10  7  6  6 10  3  1  7  3  6 10  6  4  6  6  5  5  6\n",
      "  6  6  0 10  7  6  7  8  6  2  6  6  6  6  7  0  5 10  6  7  5  7  6 10\n",
      "  0  6  6  5  5  6  7  6  0 10  6 10 10  5  4  1  6  7  0  6  7  5 10  7\n",
      "  3  2  6  2  5  3 10  6  6  5 10  5 10  5  6 10  3  6  7  6  3  0  6  0\n",
      "  6  0  6  6 10  6  5  6  0  6 10  6  6 10  0 10 10  5  2 10  6  0  6  5\n",
      "  5  8  5  0  6  7 10  6 10  5  6  6  6  6  6  7  5  6  0  4 10  0 10  5\n",
      "  6  6  2  0  8 10  0  0  6  7  8  5 10  6  6  7 10  0  1  0  6  7  6 10\n",
      "  7  6  6 10  0  0  6  5  5  6  6 10]\n",
      "[7 5 2 8 2 6 2 7 7 8 8 2 5 8 2 7 2 7 2 5 2 2 5 7 2 2 8 2 8 2 5 2 2 8 2 5 8\n",
      " 5 7 2 8 8 7 8 8 5 5 5 7 2 8 2 8 6 8 8 0 7 2 8 5 5 2 8 2 5 8 2 8 8 5 2 5 0\n",
      " 8 7 8 2 7 8 7 2 2 8 5 2 8 8 5 2 8 2 8 8 5 5 8 5 8 8 0 5 8 5 2 9 2 2 2 5 8\n",
      " 7 5 5 8 2 7 2 5 2 2 3 2 5 5 8 0 8 0 8 7 8 5 8 5 2 2 5 2 2 7 5 8 5 8 2 2 7\n",
      " 8 2 5 5 5 5 8 8 2 2 7 7 5 2 0 5 8 5 8 7 8 8 2 2 8 6 8 5 5 8 8 8]\n",
      "[ 6  5  7  6  0  2 10  5  5  7  7  5  6  6  2  8  6  6  5  7  6  6  5  5\n",
      "  5  6  5  6  5  7 10  7  5  5  5  6  6  5  8  5  6  0  5  8  7  6  5  7\n",
      "  0  6  6  2  5  5  5  8  8  6  6  7  6  7  7  7  6  5  5  7  5  5  2  8\n",
      "  5  0  6  5  1  2  5  5  2  7  6  7  5  8  7  7  0  2  2  0  2  5  6  5\n",
      "  2  5  7  8  8  0  6  7  8  8  6  6  7  7 10  5  6  5  8  7  7  5  7  8\n",
      "  5  5  5  7  5  5  5  5  0  7  5  5  7  7  7  2  5  6  5  9  0  5  7  5\n",
      "  7  5  5  5  5  7  8  0  5  6  7  5  5  0  5  0  5  2  7  0  5  5  5  7\n",
      "  6  2  7  5  7  8  0  0  5  2  0  2]\n",
      "[5 8 5 2 8 8 8 8 2 2 2 8 5 8 7 8 5 8 8 2 5 0 8 0 8 8 5 2 8 8 2 8 8 8 2 8 8\n",
      " 5 8 5 5 7 2 7 5 6 8 8 5 0 5 8 8 8 8 8 2 5 7 8 8 8 8 8 8 8 8 8 2 7 8 8 5 8\n",
      " 7 5 8 8 3 7 7 7 8 7 7 2 8 2 8 2 8 6 5 5 0 8 5 8 8 7 5 5 8 5 8 8 8 8 7 5 8\n",
      " 8 8 8 6 2 8 8 8 7 5 8 5 8 8 8 7 8 8 8 7 5 8 8 8 8 7 8 8 8 8 5 3 8 7 7 7 8\n",
      " 7 5 7 8 8 7 8 8 8 5 8 8 8 2 9 8 7 5 8 8 5 8 8 2 5 8 7 8 5 8 8 8]\n",
      "[ 2  2  8  0  5  6  5  6  6  8  5  5  0  6  6  2  5  0  8  6  2  7  2  7\n",
      "  8  8  7  7  5  7  8  5  7  7  7  2  0  5  2  5  8  5  8  7  5  0  7  7\n",
      "  5  2  7  7  2  5  6  2  6  6  8  2  7  5  7  7  7  5  2  5  5  3  8  2\n",
      "  5  2  7  5  2  8  5  2  8  5  2  0  6  2  0  2  0  6  5  7  2  2  5  5\n",
      "  5  7  5  5  7  5 10  6  7  8  6  5  7  7  8  2  6  5  5  7  8  7  2  0\n",
      "  5  7  8  5  5  6  2  7  7  8  5  6  0  6  7  0  7  8  5  5  5  5  6  2\n",
      "  2  2  5  2  0  6  2  5  2  7  5  5  2  6  7  2  2  7  8  5  7  5  5  6\n",
      "  5  7  2  5  5  5  7  2  5  5  5  8]\n",
      "[5 2 7 7 2 8 5 2 5 2 5 0 5 5 5 8 5 5 8 0 5 2 8 8 2 6 8 8 5 5 8 2 8 8 2 2 7\n",
      " 7 2 5 5 2 8 8 6 2 5 2 8 8 0 2 5 0 8 5 2 8 2 7 7 8 8 2 6 0 5 2 8 8 2 5 7 2\n",
      " 8 5 5 5 2 7 7 2 2 8 5 5 0 2 5 2 5 5 5 2 6 8 2 0 0 7 8 5 0 5 5 8 5 2 5 7 8\n",
      " 7 5 5 7 2 5 8 8 0 7 2 7 8 8 2 2 2 8 7 7 2 8 8 8 8 5 0 2 2 2 2 2 7 2 8 8 8\n",
      " 2 5 7 2 8 2 5 2 8 6 8 2 8 8 2 2 5 2 8 7 8 5 5 2 8 5 5 8 8 5 8 8]\n",
      "[10  5  3 10  9  0  1  7 10  5  1  3 10  6  0 10 10  1  1  3  0  2  5 10\n",
      "  3  3  4  3  1  0  3  1  7 10  5  5  7 10  0 10 10  3  1  4  6  7  6  0\n",
      " 10  0  8  0 10  0 10  2  1 10  6  5  9  0  6 10  7  1  8  0 10  4 10  2\n",
      "  3  1  1  3  6 10  1  1 10  0  4 10 10  3  1  1 10  7 10  2 10 10  3 10\n",
      "  1  1  1  1  3 10 10  1  1  1  9 10  6  0  3 10  0  3 10  3  3  1  6 10\n",
      "  3  1  5 10  0  1  6 10 10 10 10  1 10  0  0  6  1  3  1 10 10  5  1 10\n",
      " 10 10 10  0 10  6  0 10  0  3 10  4  3  9  0 10 10  0  1 10  1 10  1  3\n",
      "  4  1  1  0  1  6  4  3  1  0  1  6]\n",
      "[ 0  3  4  4  4  3  4  1  9  3  3  1  3  3  4  9  3  4  3  4  9  1  3  3\n",
      " 10  9  9  0  1  7  1  9  4  1  4  6  1  4  2  4  3  4  0  9  3  0  4  1\n",
      "  3  0  1  3  3  4  0  3  4  3  3  4  1  4  3  9  2  1  9  4  3  4  0  4\n",
      "  0  4  3  1  3  5 10  3  9  4  9  4  4  0 10  4  3  4  1  3  4  1  3  1\n",
      "  4  3  3  9  5  3  3  3  3  9  4 10  1  1  3  3  1  4  3  4  4  3  3 10\n",
      "  3  4 10  4  8  4  9  3  0  4  1  1  4  3  3  0  9  3  3  3  3  3  2  1\n",
      " 10  3  4  4  4  3  9  4  7 10  3  1  3  4  3  3  3  3  4  4  0  3  1  3\n",
      "  9 10  4  1  3  4  9  0  3  3  3  3]\n"
     ]
    }
   ],
   "source": [
    "# 각 label 별 리스트 나누기\n",
    "# labels : 기존 라벨\n",
    "# all_feature : dataset\n",
    "\n",
    "# labels == 1 인 인덱스 : idx\n",
    "# cluster_1 = all_feature[idx]\n",
    "\n",
    "for i in range(1, 12):\n",
    "#     features = np.empty((1,32))\n",
    "    indexes = []\n",
    "    for idx, label in enumerate(labels):\n",
    "        if label == i:\n",
    "            indexes.append(idx)\n",
    "    features = all_feature[indexes]\n",
    "    result = cluster_result.predict(features)\n",
    "    print(result)\n",
    "#     print(features)\n",
    "#     print(features.shape)\n",
    "\n",
    "# 리스트 별로 predict 진행\n",
    "# 결과 저장"
   ]
  },
  {
   "cell_type": "code",
   "execution_count": 129,
   "metadata": {},
   "outputs": [
    {
     "name": "stdout",
     "output_type": "stream",
     "text": [
      "1: 163\n",
      "6: 384\n",
      "7: 198\n",
      "8: 241\n",
      "4: 120\n",
      "11: 144\n",
      "2: 112\n",
      "3: 248\n",
      "5: 63\n",
      "9: 271\n",
      "10: 36\n"
     ]
    }
   ],
   "source": [
    "labels_ = cluster_result.labels_ + 1\n",
    "dic_labels_ = {}\n",
    "for i in labels_:\n",
    "    if f'{i}' not in dic_labels_.keys():\n",
    "        dic_labels_[f'{i}'] = 1\n",
    "    else:\n",
    "        dic_labels_[f'{i}'] += 1\n",
    "\n",
    "for key, value in dic_labels_.items():\n",
    "    print(f\"{key}: {value}\")"
   ]
  },
  {
   "cell_type": "code",
   "execution_count": null,
   "metadata": {},
   "outputs": [],
   "source": []
  }
 ],
 "metadata": {
  "kernelspec": {
   "display_name": "Python 3",
   "language": "python",
   "name": "python3"
  },
  "language_info": {
   "codemirror_mode": {
    "name": "ipython",
    "version": 3
   },
   "file_extension": ".py",
   "mimetype": "text/x-python",
   "name": "python",
   "nbconvert_exporter": "python",
   "pygments_lexer": "ipython3",
   "version": "3.8.5"
  }
 },
 "nbformat": 4,
 "nbformat_minor": 4
}
