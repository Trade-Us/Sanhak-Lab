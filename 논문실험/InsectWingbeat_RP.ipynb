{
 "cells": [
  {
   "cell_type": "code",
   "execution_count": 1,
   "metadata": {},
   "outputs": [],
   "source": [
    "import numpy as np\n",
    "f = open('resources/InsectWingbeatSound/InsectWingbeatSound_TEST','r')\n",
    "data = f.read()\n",
    "f.close()\n",
    "# 개행문자 기준으로 끊어서 리스트로\n",
    "data_list = data.split('\\n')\n",
    "\n",
    "# \",\" 기준으로 끊어서 리스트로\n",
    "emptylist = []\n",
    "for list_part in data_list:\n",
    "    emptylist.append(list_part.split(\",\"))"
   ]
  },
  {
   "cell_type": "code",
   "execution_count": 2,
   "metadata": {},
   "outputs": [],
   "source": [
    "# str -> float 변환\n",
    "tofloat = []\n",
    "for partlist in emptylist:\n",
    "    tofloat.append([float(i) for i in partlist]) "
   ]
  },
  {
   "cell_type": "code",
   "execution_count": 3,
   "metadata": {},
   "outputs": [
    {
     "name": "stdout",
     "output_type": "stream",
     "text": [
      "(1980,)\n",
      "(1980, 256)\n"
     ]
    }
   ],
   "source": [
    "labels = []\n",
    "data_list = []\n",
    "for datas in tofloat:\n",
    "    labels.append(datas[0])\n",
    "    data_list.append(datas[1:])\n",
    "print(np.shape(labels))\n",
    "print(np.shape(data_list))\n"
   ]
  },
  {
   "cell_type": "code",
   "execution_count": 4,
   "metadata": {},
   "outputs": [
    {
     "name": "stdout",
     "output_type": "stream",
     "text": [
      "[11.0, 3.0, 3.0, 3.0, 6.0, 1.0, 6.0, 5.0, 11.0, 6.0, 4.0, 2.0, 10.0, 5.0, 7.0, 1.0, 9.0, 1.0, 11.0, 4.0, 3.0, 6.0, 2.0, 2.0, 1.0, 3.0, 5.0, 6.0, 4.0, 10.0, 7.0, 7.0, 3.0, 7.0, 7.0, 7.0, 11.0, 3.0, 8.0, 9.0, 10.0, 9.0, 11.0, 3.0, 5.0, 3.0, 7.0, 9.0, 9.0, 6.0, 8.0, 4.0, 10.0, 11.0, 2.0, 9.0, 7.0, 9.0, 5.0, 5.0, 4.0, 4.0, 7.0, 6.0, 1.0, 2.0, 10.0, 7.0, 11.0, 6.0, 4.0, 11.0, 3.0, 3.0, 7.0, 7.0, 11.0, 4.0, 6.0, 2.0, 9.0, 2.0, 7.0, 8.0, 5.0, 3.0, 9.0, 9.0, 4.0, 3.0, 4.0, 5.0, 7.0, 6.0, 5.0, 8.0, 3.0, 8.0, 8.0, 11.0, 9.0, 2.0, 4.0, 2.0, 6.0, 7.0, 8.0, 8.0, 1.0, 3.0, 8.0, 6.0, 2.0, 5.0, 7.0, 3.0, 1.0, 11.0, 11.0, 7.0, 3.0, 2.0, 11.0, 6.0, 2.0, 3.0, 10.0, 4.0, 8.0, 1.0, 4.0, 9.0, 10.0, 4.0, 11.0, 1.0, 7.0, 8.0, 10.0, 5.0, 11.0, 9.0, 7.0, 4.0, 4.0, 2.0, 9.0, 11.0, 3.0, 7.0, 9.0, 1.0, 1.0, 9.0, 11.0, 6.0, 2.0, 1.0, 8.0, 1.0, 7.0, 9.0, 10.0, 3.0, 1.0, 10.0, 10.0, 2.0, 11.0, 10.0, 4.0, 10.0, 2.0, 1.0, 5.0, 5.0, 1.0, 3.0, 11.0, 4.0, 1.0, 7.0, 5.0, 6.0, 7.0, 4.0, 2.0, 3.0, 2.0, 4.0, 4.0, 6.0, 11.0, 5.0, 4.0, 5.0, 3.0, 6.0, 3.0, 11.0, 5.0, 2.0, 7.0, 2.0, 1.0, 11.0, 4.0, 7.0, 1.0, 5.0, 2.0, 10.0, 2.0, 3.0, 8.0, 10.0, 10.0, 9.0, 3.0, 5.0, 6.0, 9.0, 11.0, 10.0, 1.0, 8.0, 10.0, 10.0, 9.0, 10.0, 11.0, 2.0, 5.0, 2.0, 4.0, 8.0, 5.0, 4.0, 6.0, 2.0, 6.0, 5.0, 11.0, 11.0, 11.0, 10.0, 4.0, 11.0, 9.0, 9.0, 3.0, 9.0, 8.0, 9.0, 9.0, 10.0, 11.0, 7.0, 6.0, 5.0, 11.0, 10.0, 8.0, 10.0, 8.0, 10.0, 9.0, 11.0, 9.0, 7.0, 11.0, 4.0, 9.0, 3.0, 8.0, 2.0, 1.0, 10.0, 2.0, 1.0, 8.0, 9.0, 9.0, 1.0, 9.0, 7.0, 9.0, 8.0, 11.0, 11.0, 9.0, 6.0, 9.0, 3.0, 5.0, 4.0, 7.0, 7.0, 5.0, 9.0, 9.0, 1.0, 2.0, 9.0, 5.0, 11.0, 1.0, 9.0, 5.0, 3.0, 1.0, 8.0, 9.0, 4.0, 1.0, 1.0, 1.0, 4.0, 9.0, 5.0, 9.0, 7.0, 6.0, 9.0, 10.0, 10.0, 3.0, 2.0, 7.0, 6.0, 5.0, 10.0, 7.0, 10.0, 7.0, 8.0, 2.0, 3.0, 9.0, 4.0, 6.0, 5.0, 9.0, 8.0, 10.0, 6.0, 4.0, 3.0, 3.0, 4.0, 4.0, 8.0, 10.0, 3.0, 8.0, 2.0, 8.0, 10.0, 7.0, 9.0, 1.0, 7.0, 2.0, 5.0, 1.0, 2.0, 9.0, 4.0, 4.0, 5.0, 9.0, 6.0, 8.0, 8.0, 2.0, 11.0, 5.0, 6.0, 7.0, 8.0, 1.0, 11.0, 5.0, 3.0, 8.0, 2.0, 1.0, 1.0, 11.0, 5.0, 8.0, 4.0, 3.0, 3.0, 8.0, 2.0, 8.0, 3.0, 9.0, 8.0, 1.0, 11.0, 1.0, 5.0, 6.0, 1.0, 7.0, 9.0, 5.0, 9.0, 11.0, 8.0, 7.0, 5.0, 3.0, 2.0, 11.0, 11.0, 2.0, 1.0, 4.0, 6.0, 2.0, 4.0, 7.0, 2.0, 11.0, 10.0, 10.0, 6.0, 7.0, 3.0, 10.0, 3.0, 6.0, 8.0, 3.0, 10.0, 2.0, 6.0, 4.0, 9.0, 2.0, 3.0, 2.0, 10.0, 4.0, 11.0, 1.0, 6.0, 1.0, 2.0, 6.0, 8.0, 3.0, 5.0, 1.0, 9.0, 10.0, 5.0, 9.0, 6.0, 4.0, 8.0, 4.0, 9.0, 10.0, 5.0, 4.0, 3.0, 4.0, 3.0, 11.0, 8.0, 7.0, 2.0, 8.0, 3.0, 6.0, 3.0, 3.0, 5.0, 2.0, 3.0, 2.0, 3.0, 6.0, 10.0, 5.0, 11.0, 5.0, 2.0, 1.0, 10.0, 5.0, 10.0, 1.0, 6.0, 6.0, 10.0, 8.0, 3.0, 10.0, 7.0, 4.0, 2.0, 11.0, 1.0, 6.0, 7.0, 1.0, 1.0, 5.0, 1.0, 3.0, 8.0, 8.0, 11.0, 9.0, 8.0, 2.0, 4.0, 3.0, 11.0, 8.0, 3.0, 7.0, 7.0, 1.0, 9.0, 7.0, 8.0, 9.0, 5.0, 1.0, 8.0, 8.0, 2.0, 11.0, 5.0, 5.0, 11.0, 1.0, 8.0, 11.0, 8.0, 5.0, 6.0, 7.0, 10.0, 3.0, 7.0, 7.0, 3.0, 6.0, 11.0, 9.0, 5.0, 5.0, 5.0, 2.0, 9.0, 7.0, 7.0, 5.0, 2.0, 4.0, 5.0, 8.0, 1.0, 8.0, 5.0, 1.0, 3.0, 11.0, 10.0, 10.0, 5.0, 1.0, 1.0, 1.0, 8.0, 4.0, 9.0, 10.0, 6.0, 6.0, 2.0, 6.0, 11.0, 6.0, 9.0, 2.0, 1.0, 8.0, 8.0, 6.0, 5.0, 5.0, 11.0, 6.0, 7.0, 9.0, 7.0, 11.0, 6.0, 8.0, 4.0, 8.0, 9.0, 3.0, 7.0, 2.0, 4.0, 4.0, 5.0, 4.0, 4.0, 3.0, 8.0, 9.0, 8.0, 5.0, 5.0, 3.0, 8.0, 6.0, 10.0, 1.0, 7.0, 5.0, 10.0, 1.0, 8.0, 6.0, 1.0, 2.0, 11.0, 7.0, 1.0, 6.0, 5.0, 3.0, 4.0, 9.0, 6.0, 7.0, 10.0, 9.0, 11.0, 8.0, 4.0, 10.0, 6.0, 11.0, 8.0, 6.0, 11.0, 1.0, 5.0, 5.0, 11.0, 4.0, 6.0, 11.0, 4.0, 7.0, 7.0, 4.0, 2.0, 9.0, 4.0, 10.0, 9.0, 8.0, 1.0, 9.0, 6.0, 5.0, 9.0, 4.0, 4.0, 5.0, 5.0, 6.0, 8.0, 4.0, 3.0, 9.0, 7.0, 3.0, 4.0, 6.0, 11.0, 9.0, 6.0, 6.0, 11.0, 2.0, 8.0, 2.0, 10.0, 11.0, 4.0, 8.0, 9.0, 7.0, 2.0, 1.0, 3.0, 7.0, 11.0, 1.0, 7.0, 3.0, 9.0, 1.0, 6.0, 6.0, 5.0, 11.0, 9.0, 4.0, 1.0, 5.0, 3.0, 7.0, 8.0, 3.0, 2.0, 3.0, 11.0, 6.0, 6.0, 6.0, 6.0, 9.0, 3.0, 4.0, 8.0, 3.0, 10.0, 11.0, 8.0, 6.0, 9.0, 8.0, 9.0, 2.0, 9.0, 5.0, 1.0, 2.0, 6.0, 5.0, 5.0, 2.0, 2.0, 10.0, 2.0, 6.0, 8.0, 1.0, 10.0, 7.0, 4.0, 6.0, 2.0, 4.0, 7.0, 9.0, 4.0, 8.0, 10.0, 2.0, 6.0, 11.0, 11.0, 4.0, 10.0, 3.0, 6.0, 1.0, 6.0, 3.0, 10.0, 10.0, 1.0, 3.0, 2.0, 6.0, 11.0, 2.0, 5.0, 9.0, 3.0, 11.0, 4.0, 10.0, 6.0, 10.0, 8.0, 6.0, 11.0, 5.0, 7.0, 11.0, 9.0, 9.0, 9.0, 10.0, 4.0, 6.0, 1.0, 6.0, 10.0, 4.0, 9.0, 9.0, 8.0, 7.0, 9.0, 7.0, 10.0, 1.0, 11.0, 4.0, 2.0, 1.0, 10.0, 6.0, 11.0, 8.0, 10.0, 1.0, 8.0, 8.0, 8.0, 3.0, 6.0, 4.0, 2.0, 1.0, 11.0, 11.0, 10.0, 1.0, 1.0, 3.0, 6.0, 4.0, 5.0, 3.0, 5.0, 6.0, 10.0, 2.0, 7.0, 3.0, 10.0, 5.0, 7.0, 2.0, 1.0, 6.0, 8.0, 1.0, 4.0, 8.0, 8.0, 6.0, 6.0, 5.0, 5.0, 5.0, 3.0, 11.0, 1.0, 2.0, 9.0, 8.0, 4.0, 5.0, 10.0, 2.0, 7.0, 8.0, 3.0, 5.0, 6.0, 3.0, 1.0, 10.0, 10.0, 10.0, 10.0, 2.0, 3.0, 6.0, 6.0, 3.0, 11.0, 8.0, 9.0, 3.0, 4.0, 5.0, 3.0, 6.0, 8.0, 7.0, 5.0, 7.0, 1.0, 1.0, 2.0, 9.0, 4.0, 9.0, 3.0, 2.0, 2.0, 1.0, 4.0, 10.0, 1.0, 8.0, 4.0, 8.0, 11.0, 3.0, 11.0, 1.0, 1.0, 2.0, 5.0, 10.0, 7.0, 8.0, 1.0, 2.0, 6.0, 2.0, 1.0, 8.0, 2.0, 10.0, 10.0, 10.0, 11.0, 3.0, 4.0, 4.0, 2.0, 8.0, 9.0, 5.0, 10.0, 2.0, 10.0, 10.0, 7.0, 2.0, 7.0, 2.0, 6.0, 9.0, 7.0, 11.0, 7.0, 7.0, 4.0, 4.0, 2.0, 10.0, 4.0, 5.0, 7.0, 3.0, 6.0, 3.0, 8.0, 9.0, 10.0, 11.0, 10.0, 3.0, 7.0, 5.0, 9.0, 7.0, 10.0, 10.0, 5.0, 7.0, 11.0, 5.0, 8.0, 9.0, 9.0, 4.0, 11.0, 11.0, 7.0, 1.0, 10.0, 4.0, 7.0, 10.0, 7.0, 10.0, 4.0, 10.0, 10.0, 2.0, 4.0, 7.0, 6.0, 5.0, 7.0, 2.0, 5.0, 6.0, 7.0, 11.0, 10.0, 5.0, 1.0, 6.0, 3.0, 8.0, 5.0, 5.0, 1.0, 7.0, 10.0, 8.0, 1.0, 5.0, 7.0, 4.0, 6.0, 1.0, 7.0, 2.0, 4.0, 11.0, 4.0, 3.0, 1.0, 1.0, 2.0, 2.0, 11.0, 3.0, 2.0, 3.0, 7.0, 4.0, 3.0, 10.0, 8.0, 9.0, 2.0, 11.0, 4.0, 7.0, 7.0, 10.0, 8.0, 10.0, 6.0, 1.0, 1.0, 8.0, 4.0, 4.0, 5.0, 11.0, 3.0, 11.0, 1.0, 3.0, 11.0, 6.0, 11.0, 1.0, 11.0, 7.0, 7.0, 7.0, 9.0, 2.0, 8.0, 11.0, 4.0, 2.0, 9.0, 5.0, 2.0, 9.0, 1.0, 9.0, 1.0, 4.0, 9.0, 4.0, 4.0, 9.0, 1.0, 6.0, 5.0, 1.0, 9.0, 5.0, 11.0, 1.0, 6.0, 1.0, 1.0, 4.0, 9.0, 6.0, 9.0, 3.0, 3.0, 4.0, 11.0, 9.0, 10.0, 2.0, 5.0, 1.0, 3.0, 10.0, 2.0, 8.0, 8.0, 1.0, 5.0, 3.0, 10.0, 10.0, 2.0, 5.0, 4.0, 6.0, 9.0, 2.0, 9.0, 10.0, 10.0, 10.0, 6.0, 8.0, 7.0, 8.0, 7.0, 10.0, 4.0, 6.0, 3.0, 2.0, 10.0, 7.0, 8.0, 6.0, 5.0, 2.0, 4.0, 3.0, 11.0, 4.0, 8.0, 7.0, 7.0, 1.0, 2.0, 6.0, 8.0, 10.0, 5.0, 9.0, 4.0, 11.0, 3.0, 5.0, 5.0, 6.0, 10.0, 8.0, 2.0, 8.0, 7.0, 6.0, 2.0, 11.0, 9.0, 6.0, 5.0, 2.0, 6.0, 8.0, 10.0, 6.0, 1.0, 6.0, 8.0, 10.0, 2.0, 2.0, 4.0, 9.0, 1.0, 7.0, 6.0, 2.0, 5.0, 7.0, 11.0, 9.0, 3.0, 5.0, 8.0, 11.0, 8.0, 4.0, 3.0, 10.0, 7.0, 2.0, 8.0, 9.0, 10.0, 2.0, 3.0, 1.0, 5.0, 4.0, 7.0, 7.0, 11.0, 3.0, 6.0, 8.0, 5.0, 8.0, 11.0, 10.0, 4.0, 2.0, 10.0, 11.0, 7.0, 1.0, 10.0, 3.0, 6.0, 11.0, 5.0, 4.0, 11.0, 4.0, 3.0, 5.0, 9.0, 1.0, 2.0, 1.0, 5.0, 2.0, 4.0, 6.0, 2.0, 4.0, 2.0, 9.0, 9.0, 3.0, 4.0, 3.0, 6.0, 8.0, 5.0, 6.0, 11.0, 4.0, 5.0, 9.0, 6.0, 3.0, 4.0, 6.0, 9.0, 10.0, 10.0, 6.0, 10.0, 11.0, 11.0, 3.0, 10.0, 11.0, 11.0, 10.0, 2.0, 3.0, 3.0, 10.0, 9.0, 10.0, 10.0, 6.0, 3.0, 11.0, 11.0, 1.0, 9.0, 3.0, 10.0, 4.0, 3.0, 3.0, 11.0, 6.0, 8.0, 4.0, 9.0, 2.0, 11.0, 10.0, 3.0, 6.0, 4.0, 10.0, 9.0, 5.0, 3.0, 10.0, 6.0, 7.0, 2.0, 5.0, 1.0, 7.0, 6.0, 5.0, 1.0, 4.0, 5.0, 11.0, 2.0, 11.0, 10.0, 8.0, 3.0, 2.0, 7.0, 11.0, 10.0, 1.0, 11.0, 3.0, 7.0, 1.0, 1.0, 10.0, 5.0, 8.0, 10.0, 4.0, 5.0, 1.0, 5.0, 2.0, 1.0, 11.0, 2.0, 2.0, 11.0, 5.0, 1.0, 7.0, 9.0, 8.0, 9.0, 11.0, 1.0, 1.0, 8.0, 6.0, 2.0, 3.0, 4.0, 7.0, 8.0, 5.0, 6.0, 1.0, 2.0, 11.0, 3.0, 7.0, 3.0, 1.0, 4.0, 3.0, 4.0, 11.0, 1.0, 8.0, 3.0, 10.0, 8.0, 7.0, 9.0, 2.0, 6.0, 10.0, 8.0, 4.0, 11.0, 9.0, 11.0, 9.0, 2.0, 3.0, 9.0, 5.0, 7.0, 4.0, 2.0, 1.0, 2.0, 7.0, 3.0, 6.0, 7.0, 7.0, 3.0, 6.0, 3.0, 8.0, 6.0, 1.0, 4.0, 9.0, 8.0, 5.0, 3.0, 2.0, 5.0, 2.0, 10.0, 6.0, 4.0, 8.0, 11.0, 7.0, 7.0, 6.0, 10.0, 8.0, 9.0, 3.0, 1.0, 4.0, 7.0, 11.0, 1.0, 5.0, 11.0, 8.0, 11.0, 9.0, 6.0, 8.0, 8.0, 2.0, 7.0, 4.0, 5.0, 5.0, 11.0, 6.0, 4.0, 2.0, 2.0, 7.0, 5.0, 1.0, 11.0, 5.0, 10.0, 8.0, 10.0, 11.0, 4.0, 10.0, 9.0, 7.0, 11.0, 10.0, 7.0, 7.0, 3.0, 11.0, 5.0, 2.0, 1.0, 10.0, 6.0, 11.0, 11.0, 10.0, 11.0, 5.0, 9.0, 1.0, 4.0, 7.0, 1.0, 2.0, 9.0, 4.0, 3.0, 8.0, 11.0, 5.0, 10.0, 5.0, 7.0, 6.0, 2.0, 7.0, 11.0, 1.0, 3.0, 5.0, 6.0, 8.0, 5.0, 2.0, 5.0, 1.0, 7.0, 10.0, 10.0, 3.0, 9.0, 7.0, 2.0, 9.0, 6.0, 8.0, 11.0, 8.0, 7.0, 8.0, 1.0, 3.0, 4.0, 8.0, 3.0, 5.0, 2.0, 3.0, 3.0, 4.0, 8.0, 1.0, 2.0, 2.0, 6.0, 3.0, 2.0, 9.0, 9.0, 10.0, 7.0, 6.0, 10.0, 8.0, 9.0, 10.0, 9.0, 7.0, 11.0, 7.0, 11.0, 5.0, 2.0, 7.0, 11.0, 1.0, 1.0, 9.0, 11.0, 6.0, 9.0, 10.0, 5.0, 2.0, 7.0, 6.0, 5.0, 3.0, 2.0, 9.0, 11.0, 3.0, 9.0, 2.0, 10.0, 3.0, 11.0, 11.0, 9.0, 7.0, 6.0, 8.0, 7.0, 9.0, 8.0, 9.0, 1.0, 4.0, 2.0, 3.0, 2.0, 3.0, 7.0, 8.0, 11.0, 1.0, 4.0, 2.0, 8.0, 1.0, 9.0, 6.0, 3.0, 4.0, 4.0, 10.0, 8.0, 1.0, 7.0, 8.0, 11.0, 5.0, 5.0, 7.0, 8.0, 9.0, 4.0, 4.0, 1.0, 4.0, 5.0, 2.0, 8.0, 2.0, 4.0, 8.0, 10.0, 7.0, 4.0, 10.0, 8.0, 8.0, 11.0, 6.0, 10.0, 4.0, 8.0, 10.0, 6.0, 5.0, 1.0, 9.0, 11.0, 3.0, 9.0, 2.0, 1.0, 5.0, 5.0, 7.0, 5.0, 6.0, 9.0, 2.0, 4.0, 4.0, 7.0, 8.0, 9.0, 9.0, 11.0, 1.0, 1.0, 5.0, 3.0, 11.0, 5.0, 10.0, 9.0, 7.0, 5.0, 1.0, 2.0, 10.0, 3.0, 2.0, 6.0, 7.0, 9.0, 4.0, 8.0, 2.0, 2.0, 10.0, 8.0, 4.0, 1.0, 3.0, 6.0, 2.0, 11.0, 5.0, 7.0, 3.0, 9.0, 9.0, 4.0, 9.0, 8.0, 6.0, 7.0, 8.0, 5.0, 10.0, 1.0, 3.0, 11.0, 7.0, 1.0, 10.0, 3.0, 3.0, 5.0, 5.0, 5.0, 4.0, 10.0, 1.0, 6.0, 7.0, 4.0, 4.0, 9.0, 10.0, 3.0, 10.0, 3.0, 11.0, 7.0, 10.0, 11.0, 11.0, 4.0, 1.0, 8.0, 2.0, 9.0, 4.0, 1.0, 9.0, 2.0, 10.0, 3.0, 7.0, 3.0, 7.0, 6.0, 9.0, 11.0, 4.0, 4.0, 5.0, 10.0, 5.0, 3.0, 5.0, 9.0, 5.0, 10.0, 10.0, 3.0, 8.0, 7.0, 8.0, 7.0, 5.0, 11.0, 1.0, 1.0, 3.0, 10.0, 4.0, 5.0, 7.0, 2.0, 6.0, 5.0, 8.0, 4.0, 8.0, 3.0, 11.0, 4.0, 2.0, 10.0, 4.0, 4.0, 2.0, 6.0, 6.0, 5.0, 11.0, 7.0, 6.0, 2.0, 7.0, 6.0, 4.0, 11.0, 8.0, 4.0, 8.0, 9.0, 1.0, 11.0, 6.0, 11.0, 1.0, 6.0, 1.0, 4.0, 7.0, 1.0, 8.0, 5.0, 4.0, 8.0, 6.0, 10.0, 9.0, 10.0, 4.0, 7.0, 6.0, 5.0, 8.0, 9.0, 8.0, 1.0, 3.0, 6.0, 2.0, 1.0, 4.0, 7.0, 1.0, 1.0, 9.0, 4.0, 2.0, 2.0, 6.0, 10.0, 3.0, 2.0, 2.0, 7.0, 5.0, 5.0, 1.0, 8.0, 2.0, 8.0, 2.0, 9.0, 8.0, 1.0, 4.0, 8.0, 7.0, 7.0, 9.0, 11.0, 7.0, 4.0, 6.0, 8.0, 1.0, 6.0, 8.0, 3.0, 9.0, 4.0, 11.0, 11.0, 6.0, 8.0, 6.0, 7.0, 1.0, 8.0, 1.0, 5.0, 10.0, 9.0, 7.0, 9.0, 6.0, 7.0, 2.0, 6.0, 3.0, 3.0, 6.0, 8.0, 10.0, 5.0, 3.0, 6.0, 9.0, 7.0, 1.0, 3.0, 1.0, 7.0, 2.0, 7.0, 7.0, 6.0, 9.0, 11.0, 9.0, 6.0, 8.0, 10.0, 9.0, 3.0, 9.0, 5.0, 6.0, 5.0, 1.0, 3.0, 3.0, 7.0, 10.0, 4.0, 2.0, 3.0, 11.0, 1.0, 11.0, 5.0, 10.0, 1.0, 5.0, 6.0, 4.0, 11.0, 11.0, 6.0] "
     ]
    },
    {
     "name": "stderr",
     "output_type": "stream",
     "text": [
      "IOPub data rate exceeded.\n",
      "The notebook server will temporarily stop sending output\n",
      "to the client in order to avoid crashing it.\n",
      "To change this limit, set the config variable\n",
      "`--NotebookApp.iopub_data_rate_limit`.\n",
      "\n",
      "Current values:\n",
      "NotebookApp.iopub_data_rate_limit=1000000.0 (bytes/sec)\n",
      "NotebookApp.rate_limit_window=3.0 (secs)\n",
      "\n"
     ]
    }
   ],
   "source": [
    "print(labels, data_list)\n",
    "#오류나면 밑에 링크 참고\n",
    "#https://coffee-with-me.tistory.com/16"
   ]
  },
  {
   "cell_type": "code",
   "execution_count": 5,
   "metadata": {},
   "outputs": [
    {
     "name": "stderr",
     "output_type": "stream",
     "text": [
      "IOPub data rate exceeded.\n",
      "The notebook server will temporarily stop sending output\n",
      "to the client in order to avoid crashing it.\n",
      "To change this limit, set the config variable\n",
      "`--NotebookApp.iopub_data_rate_limit`.\n",
      "\n",
      "Current values:\n",
      "NotebookApp.iopub_data_rate_limit=1000000.0 (bytes/sec)\n",
      "NotebookApp.rate_limit_window=3.0 (secs)\n",
      "\n"
     ]
    }
   ],
   "source": [
    "print( data_list)"
   ]
  },
  {
   "cell_type": "code",
   "execution_count": 25,
   "metadata": {},
   "outputs": [],
   "source": [
    "from readFile import split_into_values, toRPdata\n",
    "from sklearn.preprocessing import MinMaxScaler, StandardScaler\n",
    "from tslearn.preprocessing import TimeSeriesScalerMeanVariance, TimeSeriesResampler\n",
    "\n",
    "def Standard(data):\n",
    "    SS = StandardScaler().fit(data)\n",
    "    scaled = SS.transform(data)\n",
    "    return scaled\n",
    "\n",
    "def MinMax(data):\n",
    "    MMS = MinMaxScaler().fit(data)\n",
    "    scaled = MMS.transform(data)\n",
    "    return scaled\n",
    "\n",
    "# result_list transpose\n",
    "result_T = [list(x) for x in zip(*data_list)]\n",
    "\n",
    "# minmax 정규화\n",
    "result_scaled = Standard(result_T)\n",
    "\n",
    "# 다시 result transpose 해서 원래대로\n",
    "result_scaled = [list(x) for x in zip(*result_scaled)]\n",
    "\n",
    "# 2. 시계열 셋 크기 변경\n",
    "size=256\n",
    "result_ = TimeSeriesResampler(sz=size).fit_transform(result_scaled)"
   ]
  },
  {
   "cell_type": "code",
   "execution_count": 26,
   "metadata": {},
   "outputs": [
    {
     "data": {
      "text/plain": [
       "(1980, 256, 1)"
      ]
     },
     "execution_count": 26,
     "metadata": {},
     "output_type": "execute_result"
    }
   ],
   "source": [
    "result_.shape"
   ]
  },
  {
   "cell_type": "code",
   "execution_count": 27,
   "metadata": {},
   "outputs": [
    {
     "data": {
      "text/plain": [
       "(1980, 256, 256, 1)"
      ]
     },
     "execution_count": 27,
     "metadata": {},
     "output_type": "execute_result"
    }
   ],
   "source": [
    "data = result_.reshape(result_.shape[0], 1, size)\n",
    "X = toRPdata(data, threshold='point', percentage=30)\n",
    "#X = toRPdata(data)\n",
    "    \n",
    "X_scaled = np.expand_dims(X, axis=3)\n",
    "X_scaled.shape"
   ]
  },
  {
   "cell_type": "code",
   "execution_count": 28,
   "metadata": {},
   "outputs": [
    {
     "data": {
      "text/plain": [
       "<matplotlib.image.AxesImage at 0x2b97cb0a518>"
      ]
     },
     "execution_count": 28,
     "metadata": {},
     "output_type": "execute_result"
    },
    {
     "data": {
      "image/png": "[encoded data removed]",
      "text/plain": [
       "<Figure size 432x288 with 1 Axes>"
      ]
     },
     "metadata": {
      "needs_background": "light"
     },
     "output_type": "display_data"
    }
   ],
   "source": [
    "from matplotlib import pyplot as plt\n",
    "plt.imshow(X[0], cmap='Greys')"
   ]
  },
  {
   "cell_type": "code",
   "execution_count": null,
   "metadata": {},
   "outputs": [],
   "source": []
  }
 ],
 "metadata": {
  "kernelspec": {
   "display_name": "Python 3",
   "language": "python",
   "name": "python3"
  },
  "language_info": {
   "codemirror_mode": {
    "name": "ipython",
    "version": 3
   },
   "file_extension": ".py",
   "mimetype": "text/x-python",
   "name": "python",
   "nbconvert_exporter": "python",
   "pygments_lexer": "ipython3",
   "version": "3.6.12"
  }
 },
 "nbformat": 4,
 "nbformat_minor": 4
}
