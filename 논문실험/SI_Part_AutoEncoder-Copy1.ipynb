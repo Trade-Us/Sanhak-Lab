{
 "cells": [
  {
   "cell_type": "code",
   "execution_count": 1,
   "metadata": {},
   "outputs": [],
   "source": [
    "import numpy as np\n",
    "f = open('resources/InsectWingbeatSound/InsectWingbeatSound_TEST','r')\n",
    "data = f.read()\n",
    "f.close()\n",
    "# 개행문자 기준으로 끊어서 리스트로\n",
    "data_list = data.split('\\n')\n",
    "\n",
    "# \",\" 기준으로 끊어서 리스트로\n",
    "emptylist = []\n",
    "for list_part in data_list:\n",
    "    emptylist.append(list_part.split(\",\"))"
   ]
  },
  {
   "cell_type": "code",
   "execution_count": 2,
   "metadata": {},
   "outputs": [],
   "source": [
    "# str -> float 변환\n",
    "tofloat = []\n",
    "for partlist in emptylist:\n",
    "    tofloat.append([float(i) for i in partlist]) "
   ]
  },
  {
   "cell_type": "code",
   "execution_count": 3,
   "metadata": {},
   "outputs": [
    {
     "name": "stdout",
     "output_type": "stream",
     "text": [
      "(1980,)\n",
      "(1980, 256)\n"
     ]
    }
   ],
   "source": [
    "labels = []\n",
    "data_list = []\n",
    "for datas in tofloat:\n",
    "    labels.append(datas[0])\n",
    "    data_list.append(datas[1:])\n",
    "print(np.shape(labels))\n",
    "print(np.shape(data_list))\n"
   ]
  },
  {
   "cell_type": "code",
   "execution_count": 4,
   "metadata": {},
   "outputs": [
    {
     "name": "stdout",
     "output_type": "stream",
     "text": [
      "11.0\n",
      "1.0\n"
     ]
    }
   ],
   "source": [
    "print(max(labels))\n",
    "print(min(labels))"
   ]
  },
  {
   "cell_type": "code",
   "execution_count": 5,
   "metadata": {},
   "outputs": [],
   "source": [
    "from readFile import split_into_values, toRPdata\n",
    "from sklearn.preprocessing import MinMaxScaler, StandardScaler\n",
    "from tslearn.preprocessing import TimeSeriesScalerMeanVariance, TimeSeriesResampler\n",
    "\n",
    "def Standard(data):\n",
    "    SS = StandardScaler().fit(data)\n",
    "    scaled = SS.transform(data)\n",
    "    return scaled\n",
    "\n",
    "def MinMax(data):\n",
    "    MMS = MinMaxScaler().fit(data)\n",
    "    scaled = MMS.transform(data)\n",
    "    return scaled\n",
    "\n",
    "# result_list transpose\n",
    "result_T = [list(x) for x in zip(*data_list)]\n",
    "\n",
    "# minmax 정규화\n",
    "result_scaled = Standard(result_T)\n",
    "\n",
    "# 다시 result transpose 해서 원래대로\n",
    "result_scaled = [list(x) for x in zip(*result_scaled)]\n",
    "\n",
    "result_ = np.array(result_scaled)"
   ]
  },
  {
   "cell_type": "code",
   "execution_count": 6,
   "metadata": {},
   "outputs": [
    {
     "data": {
      "text/plain": [
       "(1980, 256)"
      ]
     },
     "execution_count": 6,
     "metadata": {},
     "output_type": "execute_result"
    }
   ],
   "source": [
    "result_.shape"
   ]
  },
  {
   "cell_type": "code",
   "execution_count": 7,
   "metadata": {},
   "outputs": [
    {
     "data": {
      "text/plain": [
       "(1980, 256, 256, 1)"
      ]
     },
     "execution_count": 7,
     "metadata": {},
     "output_type": "execute_result"
    }
   ],
   "source": [
    "data = result_.reshape(result_.shape[0], 1, result_.shape[1])\n",
    "X = toRPdata(data, threshold='point', percentage=30)\n",
    "#X = toRPdata(data)\n",
    "    \n",
    "X_scaled = np.expand_dims(X, axis=3)\n",
    "X_scaled.shape"
   ]
  },
  {
   "cell_type": "code",
   "execution_count": 8,
   "metadata": {},
   "outputs": [
    {
     "data": {
      "text/plain": [
       "<matplotlib.image.AxesImage at 0x1af6472c7c0>"
      ]
     },
     "execution_count": 8,
     "metadata": {},
     "output_type": "execute_result"
    },
    {
     "data": {
      "image/png": "[encoded data removed]",
      "text/plain": [
       "<Figure size 432x288 with 1 Axes>"
      ]
     },
     "metadata": {
      "needs_background": "light"
     },
     "output_type": "display_data"
    }
   ],
   "source": [
    "from matplotlib import pyplot as plt\n",
    "plt.imshow(X[0], cmap='Greys')"
   ]
  },
  {
   "cell_type": "code",
   "execution_count": 9,
   "metadata": {},
   "outputs": [],
   "source": [
    "learning_rate = 3e-3\n",
    "optimizer='Adam'\n",
    "loss='binary_crossentropy'\n",
    "image_size = 256 #1024, 256\n",
    "dimension = 4 # ..."
   ]
  },
  {
   "cell_type": "code",
   "execution_count": 10,
   "metadata": {},
   "outputs": [],
   "source": [
    "batch_size = 10\n",
    "epochs = 5000"
   ]
  },
  {
   "cell_type": "code",
   "execution_count": null,
   "metadata": {
    "scrolled": true
   },
   "outputs": [
    {
     "name": "stdout",
     "output_type": "stream",
     "text": [
      "INFO:tensorflow:Using MirroredStrategy with devices ('/job:localhost/replica:0/task:0/device:GPU:0', '/job:localhost/replica:0/task:0/device:GPU:1')\n",
      "Model: \"sequential\"\n",
      "_________________________________________________________________\n",
      "Layer (type)                 Output Shape              Param #   \n",
      "=================================================================\n",
      "conv2d (Conv2D)              (None, 256, 256, 128)     1280      \n",
      "_________________________________________________________________\n",
      "activation (Activation)      (None, 256, 256, 128)     0         \n",
      "_________________________________________________________________\n",
      "max_pooling2d (MaxPooling2D) (None, 128, 128, 128)     0         \n",
      "_________________________________________________________________\n",
      "conv2d_1 (Conv2D)            (None, 128, 128, 64)      73792     \n",
      "_________________________________________________________________\n",
      "activation_1 (Activation)    (None, 128, 128, 64)      0         \n",
      "_________________________________________________________________\n",
      "max_pooling2d_1 (MaxPooling2 (None, 64, 64, 64)        0         \n",
      "_________________________________________________________________\n",
      "conv2d_2 (Conv2D)            (None, 64, 64, 32)        18464     \n",
      "_________________________________________________________________\n",
      "activation_2 (Activation)    (None, 64, 64, 32)        0         \n",
      "_________________________________________________________________\n",
      "max_pooling2d_2 (MaxPooling2 (None, 32, 32, 32)        0         \n",
      "_________________________________________________________________\n",
      "conv2d_3 (Conv2D)            (None, 32, 32, 1)         289       \n",
      "_________________________________________________________________\n",
      "activation_3 (Activation)    (None, 32, 32, 1)         0         \n",
      "_________________________________________________________________\n",
      "max_pooling2d_3 (MaxPooling2 (None, 2, 2, 1)           0         \n",
      "_________________________________________________________________\n",
      "conv2d_4 (Conv2D)            (None, 2, 2, 1)           10        \n",
      "_________________________________________________________________\n",
      "activation_4 (Activation)    (None, 2, 2, 1)           0         \n",
      "_________________________________________________________________\n",
      "up_sampling2d (UpSampling2D) (None, 32, 32, 1)         0         \n",
      "_________________________________________________________________\n",
      "conv2d_5 (Conv2D)            (None, 32, 32, 32)        320       \n",
      "_________________________________________________________________\n",
      "activation_5 (Activation)    (None, 32, 32, 32)        0         \n",
      "_________________________________________________________________\n",
      "up_sampling2d_1 (UpSampling2 (None, 64, 64, 32)        0         \n",
      "_________________________________________________________________\n",
      "conv2d_6 (Conv2D)            (None, 64, 64, 64)        18496     \n",
      "_________________________________________________________________\n",
      "activation_6 (Activation)    (None, 64, 64, 64)        0         \n",
      "_________________________________________________________________\n",
      "up_sampling2d_2 (UpSampling2 (None, 128, 128, 64)      0         \n",
      "_________________________________________________________________\n",
      "conv2d_7 (Conv2D)            (None, 128, 128, 128)     73856     \n",
      "_________________________________________________________________\n",
      "activation_7 (Activation)    (None, 128, 128, 128)     0         \n",
      "_________________________________________________________________\n",
      "up_sampling2d_3 (UpSampling2 (None, 256, 256, 128)     0         \n",
      "_________________________________________________________________\n",
      "conv2d_8 (Conv2D)            (None, 256, 256, 1)       1153      \n",
      "_________________________________________________________________\n",
      "activation_8 (Activation)    (None, 256, 256, 1)       0         \n",
      "=================================================================\n",
      "Total params: 187,660\n",
      "Trainable params: 187,660\n",
      "Non-trainable params: 0\n",
      "_________________________________________________________________\n",
      "Epoch 1/5000\n",
      "WARNING:tensorflow:From c:\\users\\mosan\\anaconda3\\envs\\ottflab\\lib\\site-packages\\tensorflow\\python\\data\\ops\\multi_device_iterator_ops.py:601: get_next_as_optional (from tensorflow.python.data.ops.iterator_ops) is deprecated and will be removed in a future version.\n",
      "Instructions for updating:\n",
      "Use `tf.data.Iterator.get_next_as_optional()` instead.\n",
      "INFO:tensorflow:batch_all_reduce: 18 all-reduces with algorithm = hierarchical_copy, num_packs = 1\n",
      "INFO:tensorflow:Reduce to /job:localhost/replica:0/task:0/device:CPU:0 then broadcast to ('/job:localhost/replica:0/task:0/device:CPU:0',).\n",
      "INFO:tensorflow:Reduce to /job:localhost/replica:0/task:0/device:CPU:0 then broadcast to ('/job:localhost/replica:0/task:0/device:CPU:0',).\n",
      "INFO:tensorflow:batch_all_reduce: 18 all-reduces with algorithm = hierarchical_copy, num_packs = 1\n",
      "INFO:tensorflow:Reduce to /job:localhost/replica:0/task:0/device:CPU:0 then broadcast to ('/job:localhost/replica:0/task:0/device:CPU:0',).\n",
      "INFO:tensorflow:Reduce to /job:localhost/replica:0/task:0/device:CPU:0 then broadcast to ('/job:localhost/replica:0/task:0/device:CPU:0',).\n",
      "149/149 [==============================] - ETA: 0s - loss: 0.6141INFO:tensorflow:Reduce to /job:localhost/replica:0/task:0/device:CPU:0 then broadcast to ('/job:localhost/replica:0/task:0/device:CPU:0',).\n",
      "INFO:tensorflow:Reduce to /job:localhost/replica:0/task:0/device:CPU:0 then broadcast to ('/job:localhost/replica:0/task:0/device:CPU:0',).\n",
      "INFO:tensorflow:Reduce to /job:localhost/replica:0/task:0/device:CPU:0 then broadcast to ('/job:localhost/replica:0/task:0/device:CPU:0',).\n",
      "INFO:tensorflow:Reduce to /job:localhost/replica:0/task:0/device:CPU:0 then broadcast to ('/job:localhost/replica:0/task:0/device:CPU:0',).\n",
      "\n",
      "Epoch 00001: val_loss improved from inf to 0.61030, saving model to insectWing_dimension_4.h5\n",
      "149/149 [==============================] - 18s 123ms/step - loss: 0.6141 - val_loss: 0.6103\n",
      "INFO:tensorflow:Reduce to /job:localhost/replica:0/task:0/device:CPU:0 then broadcast to ('/job:localhost/replica:0/task:0/device:CPU:0',).\n",
      "INFO:tensorflow:Reduce to /job:localhost/replica:0/task:0/device:CPU:0 then broadcast to ('/job:localhost/replica:0/task:0/device:CPU:0',).\n",
      "Epoch 2/5000\n",
      "149/149 [==============================] - ETA: 0s - loss: 0.6101\n",
      "Epoch 00002: val_loss improved from 0.61030 to 0.60983, saving model to insectWing_dimension_4.h5\n",
      "149/149 [==============================] - 17s 116ms/step - loss: 0.6101 - val_loss: 0.6098\n",
      "Epoch 3/5000\n",
      "149/149 [==============================] - ETA: 0s - loss: 0.6099\n",
      "Epoch 00003: val_loss improved from 0.60983 to 0.60971, saving model to insectWing_dimension_4.h5\n",
      "149/149 [==============================] - 16s 110ms/step - loss: 0.6099 - val_loss: 0.6097\n",
      "Epoch 4/5000\n",
      "149/149 [==============================] - ETA: 0s - loss: 0.6099\n",
      "Epoch 00004: val_loss improved from 0.60971 to 0.60961, saving model to insectWing_dimension_4.h5\n",
      "149/149 [==============================] - 17s 113ms/step - loss: 0.6099 - val_loss: 0.6096\n",
      "Epoch 5/5000\n",
      "149/149 [==============================] - ETA: 0s - loss: 0.6098\n",
      "Epoch 00005: val_loss improved from 0.60961 to 0.60960, saving model to insectWing_dimension_4.h5\n",
      "149/149 [==============================] - 16s 111ms/step - loss: 0.6098 - val_loss: 0.6096\n",
      "Epoch 6/5000\n",
      "149/149 [==============================] - ETA: 0s - loss: 0.6098\n",
      "Epoch 00006: val_loss improved from 0.60960 to 0.60959, saving model to insectWing_dimension_4.h5\n",
      "149/149 [==============================] - 17s 114ms/step - loss: 0.6098 - val_loss: 0.6096\n",
      "Epoch 7/5000\n",
      "149/149 [==============================] - ETA: 0s - loss: 0.6098\n",
      "Epoch 00007: val_loss improved from 0.60959 to 0.60944, saving model to insectWing_dimension_4.h5\n",
      "149/149 [==============================] - 17s 113ms/step - loss: 0.6098 - val_loss: 0.6094\n",
      "Epoch 8/5000\n",
      "149/149 [==============================] - ETA: 0s - loss: 0.6098\n",
      "Epoch 00008: val_loss did not improve from 0.60944\n",
      "149/149 [==============================] - 17s 112ms/step - loss: 0.6098 - val_loss: 0.6095\n",
      "Epoch 9/5000\n",
      "149/149 [==============================] - ETA: 0s - loss: 0.6097\n",
      "Epoch 00009: val_loss improved from 0.60944 to 0.60937, saving model to insectWing_dimension_4.h5\n",
      "149/149 [==============================] - 17s 114ms/step - loss: 0.6097 - val_loss: 0.6094\n"
     ]
    },
    {
     "name": "stdout",
     "output_type": "stream",
     "text": [
      "Epoch 10/5000\n",
      "149/149 [==============================] - ETA: 0s - loss: 0.6097\n",
      "Epoch 00010: val_loss did not improve from 0.60937\n",
      "149/149 [==============================] - 17s 113ms/step - loss: 0.6097 - val_loss: 0.6094\n",
      "Epoch 11/5000\n",
      "149/149 [==============================] - ETA: 0s - loss: 0.6097\n",
      "Epoch 00011: val_loss did not improve from 0.60937\n",
      "149/149 [==============================] - 17s 114ms/step - loss: 0.6097 - val_loss: 0.6096\n",
      "Epoch 12/5000\n",
      "149/149 [==============================] - ETA: 0s - loss: 0.6096\n",
      "Epoch 00012: val_loss improved from 0.60937 to 0.60934, saving model to insectWing_dimension_4.h5\n",
      "149/149 [==============================] - 17s 112ms/step - loss: 0.6096 - val_loss: 0.6093\n",
      "Epoch 13/5000\n",
      "149/149 [==============================] - ETA: 0s - loss: 0.6096\n",
      "Epoch 00013: val_loss did not improve from 0.60934\n",
      "149/149 [==============================] - 17s 115ms/step - loss: 0.6096 - val_loss: 0.6096\n",
      "Epoch 14/5000\n",
      "149/149 [==============================] - ETA: 0s - loss: 0.6096\n",
      "Epoch 00014: val_loss improved from 0.60934 to 0.60927, saving model to insectWing_dimension_4.h5\n",
      "149/149 [==============================] - 17s 111ms/step - loss: 0.6096 - val_loss: 0.6093\n",
      "Epoch 15/5000\n",
      "149/149 [==============================] - ETA: 0s - loss: 0.6096\n",
      "Epoch 00015: val_loss improved from 0.60927 to 0.60911, saving model to insectWing_dimension_4.h5\n",
      "149/149 [==============================] - 17s 113ms/step - loss: 0.6096 - val_loss: 0.6091\n",
      "Epoch 16/5000\n",
      "149/149 [==============================] - ETA: 0s - loss: 0.6094\n",
      "Epoch 00016: val_loss did not improve from 0.60911\n",
      "149/149 [==============================] - 17s 114ms/step - loss: 0.6094 - val_loss: 0.6092\n",
      "Epoch 17/5000\n",
      "149/149 [==============================] - ETA: 0s - loss: 0.6094\n",
      "Epoch 00017: val_loss improved from 0.60911 to 0.60901, saving model to insectWing_dimension_4.h5\n",
      "149/149 [==============================] - 17s 113ms/step - loss: 0.6094 - val_loss: 0.6090\n",
      "Epoch 18/5000\n",
      "149/149 [==============================] - ETA: 0s - loss: 0.6093\n",
      "Epoch 00018: val_loss improved from 0.60901 to 0.60899, saving model to insectWing_dimension_4.h5\n",
      "149/149 [==============================] - 16s 111ms/step - loss: 0.6093 - val_loss: 0.6090\n",
      "Epoch 19/5000\n",
      "149/149 [==============================] - ETA: 0s - loss: 0.6093\n",
      "Epoch 00019: val_loss improved from 0.60899 to 0.60892, saving model to insectWing_dimension_4.h5\n",
      "149/149 [==============================] - 17s 117ms/step - loss: 0.6093 - val_loss: 0.6089\n",
      "Epoch 20/5000\n",
      "149/149 [==============================] - ETA: 0s - loss: 0.6093\n",
      "Epoch 00020: val_loss did not improve from 0.60892\n",
      "149/149 [==============================] - 17s 111ms/step - loss: 0.6093 - val_loss: 0.6090\n",
      "Epoch 21/5000\n",
      "148/149 [============================>.] - ETA: 0s - loss: 0.6092\n",
      "Epoch 00021: val_loss did not improve from 0.60892\n",
      "149/149 [==============================] - 16s 109ms/step - loss: 0.6092 - val_loss: 0.6090\n",
      "Epoch 22/5000\n",
      "149/149 [==============================] - ETA: 0s - loss: 0.6092\n",
      "Epoch 00022: val_loss did not improve from 0.60892\n",
      "149/149 [==============================] - 15s 103ms/step - loss: 0.6092 - val_loss: 0.6089\n",
      "Epoch 23/5000\n",
      "149/149 [==============================] - ETA: 0s - loss: 0.6092\n",
      "Epoch 00023: val_loss did not improve from 0.60892\n",
      "149/149 [==============================] - 16s 104ms/step - loss: 0.6092 - val_loss: 0.6089\n",
      "Epoch 24/5000\n",
      "149/149 [==============================] - ETA: 0s - loss: 0.6092\n",
      "Epoch 00024: val_loss improved from 0.60892 to 0.60892, saving model to insectWing_dimension_4.h5\n",
      "149/149 [==============================] - 16s 106ms/step - loss: 0.6092 - val_loss: 0.6089\n",
      "Epoch 25/5000\n",
      "149/149 [==============================] - ETA: 0s - loss: 0.6091\n",
      "Epoch 00025: val_loss improved from 0.60892 to 0.60883, saving model to insectWing_dimension_4.h5\n",
      "149/149 [==============================] - 16s 109ms/step - loss: 0.6091 - val_loss: 0.6088\n",
      "Epoch 26/5000\n",
      "149/149 [==============================] - ETA: 0s - loss: 0.6091\n",
      "Epoch 00026: val_loss improved from 0.60883 to 0.60880, saving model to insectWing_dimension_4.h5\n",
      "149/149 [==============================] - 16s 105ms/step - loss: 0.6091 - val_loss: 0.6088\n",
      "Epoch 27/5000\n",
      "149/149 [==============================] - ETA: 0s - loss: 0.6091\n",
      "Epoch 00027: val_loss did not improve from 0.60880\n",
      "149/149 [==============================] - 16s 109ms/step - loss: 0.6091 - val_loss: 0.6089\n",
      "Epoch 28/5000\n",
      "149/149 [==============================] - ETA: 0s - loss: 0.6091\n",
      "Epoch 00028: val_loss did not improve from 0.60880\n",
      "149/149 [==============================] - 16s 105ms/step - loss: 0.6091 - val_loss: 0.6088\n",
      "Epoch 29/5000\n",
      "149/149 [==============================] - ETA: 0s - loss: 0.6092\n",
      "Epoch 00029: val_loss improved from 0.60880 to 0.60879, saving model to insectWing_dimension_4.h5\n",
      "149/149 [==============================] - 16s 107ms/step - loss: 0.6092 - val_loss: 0.6088\n",
      "Epoch 30/5000\n",
      "149/149 [==============================] - ETA: 0s - loss: 0.6091\n",
      "Epoch 00030: val_loss improved from 0.60879 to 0.60878, saving model to insectWing_dimension_4.h5\n",
      "149/149 [==============================] - 16s 109ms/step - loss: 0.6091 - val_loss: 0.6088\n",
      "Epoch 31/5000\n",
      "149/149 [==============================] - ETA: 0s - loss: 0.6091\n",
      "Epoch 00031: val_loss did not improve from 0.60878\n",
      "149/149 [==============================] - 16s 106ms/step - loss: 0.6091 - val_loss: 0.6088\n",
      "Epoch 32/5000\n",
      "149/149 [==============================] - ETA: 0s - loss: 0.6091\n",
      "Epoch 00032: val_loss did not improve from 0.60878\n",
      "149/149 [==============================] - 16s 106ms/step - loss: 0.6091 - val_loss: 0.6088\n",
      "Epoch 33/5000\n",
      "148/149 [============================>.] - ETA: 0s - loss: 0.6091\n",
      "Epoch 00033: val_loss did not improve from 0.60878\n",
      "149/149 [==============================] - 16s 104ms/step - loss: 0.6091 - val_loss: 0.6089\n",
      "Epoch 34/5000\n",
      "149/149 [==============================] - ETA: 0s - loss: 0.6091\n",
      "Epoch 00034: val_loss did not improve from 0.60878\n",
      "149/149 [==============================] - 15s 104ms/step - loss: 0.6091 - val_loss: 0.6088\n",
      "Epoch 35/5000\n",
      "149/149 [==============================] - ETA: 0s - loss: 0.6091\n",
      "Epoch 00035: val_loss did not improve from 0.60878\n",
      "149/149 [==============================] - 16s 105ms/step - loss: 0.6091 - val_loss: 0.6088\n",
      "Epoch 36/5000\n",
      " 43/149 [=======>......................] - ETA: 9s - loss: 0.6092 - ETA: 9s - loss: 0.609"
     ]
    }
   ],
   "source": [
    "from utils import split_data, normalization_tool\n",
    "from agent import Autoencoder_Agent\n",
    "from keras import backend as K\n",
    "import tensorflow as tf\n",
    "X_train, X_test, Y_train, Y_test = split_data(X_scaled, X_scaled) #데이터 분리\n",
    "\n",
    "mirrored_strategy = tf.distribute.MirroredStrategy(devices=[\"/gpu:0\", \"/gpu:1\"], cross_device_ops=tf.distribute.HierarchicalCopyAllReduce())\n",
    "with mirrored_strategy.scope():\n",
    "    autoencoder = Autoencoder_Agent(model_size=image_size, dimension=dimension, optimizer=optimizer,learning_rate=learning_rate)\n",
    "    hist = autoencoder.train(X_train,batch_size,epochs,X_test)\n",
    "#     feature = autoencoder.feature_extract(X_scaled)\n",
    "#     print(feature)\n",
    "#     print(feature.shape)\n",
    "# with tf.device('/cpu:0'):\n",
    "#     autoencoder = Autoencoder_Agent(model_size=image_size, dimension=dimension, optimizer=optimizer,learning_rate=learning_rate)\n",
    "#     hist = autoencoder.train(X_train,batch_size,epochs,X_test)\n",
    "#     feature = autoencoder.feature_extract(X_scaled)"
   ]
  },
  {
   "cell_type": "code",
   "execution_count": 13,
   "metadata": {},
   "outputs": [
    {
     "name": "stdout",
     "output_type": "stream",
     "text": [
      "[[0.01763297 0.         0.         ... 0.05126805 0.10514829 0.1502502 ]\n",
      " [0.0025138  0.         0.         ... 0.06736211 0.05718368 0.09721424]\n",
      " [0.0305176  0.         0.04115462 ... 0.07261652 0.07220548 0.06760643]\n",
      " ...\n",
      " [0.04467504 0.00881677 0.         ... 0.08224609 0.1502502  0.1502502 ]\n",
      " [0.         0.         0.         ... 0.13210015 0.1502502  0.1502502 ]\n",
      " [0.08075318 0.00418469 0.01429312 ... 0.0385666  0.06604405 0.05031005]]\n",
      "(1980, 64)\n"
     ]
    }
   ],
   "source": [
    "it = int(1980 / 30) \n",
    "all_feature = np.array(autoencoder.feature_extract(X_scaled[0:30]))\n",
    "for i in range(1, it):\n",
    "    feature = autoencoder.feature_extract(X_scaled[i*30:(i+1)*30])\n",
    "    all_feature = np.concatenate([all_feature, feature])\n",
    "print(all_feature)\n",
    "print(all_feature.shape)"
   ]
  },
  {
   "cell_type": "code",
   "execution_count": null,
   "metadata": {},
   "outputs": [],
   "source": [
    "\n",
    "\n",
    "%matplotlib inline\n",
    "import matplotlib.pyplot as plt\n",
    "\n",
    "fig, loss_ax = plt.subplots()\n",
    "\n",
    "\n",
    "loss_ax.plot(hist.history['loss'], 'y', label='train loss')\n",
    "loss_ax.plot(hist.history['val_loss'], 'r', label='val loss')\n",
    "# loss_ax.plot([hist['loss'][i] - hist['val_loss'][i] for i in range(len(hist['loss']))], 'g', label='loss - val loss')\n",
    "\n",
    "\n",
    "loss_ax.set_xlabel('epoch')\n",
    "loss_ax.set_ylabel('loss')\n",
    "\n",
    "loss_ax.legend(loc='upper left')\n",
    "\n",
    "plt.show()"
   ]
  },
  {
   "cell_type": "code",
   "execution_count": 170,
   "metadata": {},
   "outputs": [
    {
     "name": "stdout",
     "output_type": "stream",
     "text": [
      "11: 180\n",
      "3: 180\n",
      "6: 180\n",
      "1: 180\n",
      "5: 180\n",
      "4: 180\n",
      "2: 180\n",
      "10: 180\n",
      "7: 180\n",
      "9: 180\n",
      "8: 180\n"
     ]
    }
   ],
   "source": [
    "dic_labels = {}\n",
    "for i in labels:\n",
    "    if f'{i}' not in dic_labels.keys():\n",
    "        dic_labels[f'{i}'] = 1\n",
    "    else:\n",
    "        dic_labels[f'{i}'] += 1\n",
    "\n",
    "for key, value in dic_labels.items():\n",
    "    print(f\"{key}: {value}\")"
   ]
  },
  {
   "cell_type": "code",
   "execution_count": 171,
   "metadata": {},
   "outputs": [
    {
     "name": "stdout",
     "output_type": "stream",
     "text": [
      "4: 87\n",
      "9: 135\n",
      "8: 514\n",
      "3: 122\n",
      "5: 248\n",
      "6: 164\n",
      "1: 126\n",
      "10: 104\n",
      "2: 223\n",
      "11: 160\n",
      "7: 97\n"
     ]
    }
   ],
   "source": [
    "labels_ = cluster_result.labels_ + 1\n",
    "dic_labels_ = {}\n",
    "for i in labels_:\n",
    "    if f'{i}' not in dic_labels_.keys():\n",
    "        dic_labels_[f'{i}'] = 1\n",
    "    else:\n",
    "        dic_labels_[f'{i}'] += 1\n",
    "\n",
    "for key, value in dic_labels_.items():\n",
    "    print(f\"{key}: {value}\")"
   ]
  },
  {
   "cell_type": "code",
   "execution_count": 172,
   "metadata": {
    "scrolled": false
   },
   "outputs": [
    {
     "name": "stdout",
     "output_type": "stream",
     "text": [
      "[ 2  2  9  9  2  9  9  2  2  9  2  9  2  9  9  2  9 10  2  2  9  5  9  9\n",
      "  9  5 10  2  5  9  5  2  2  2  2  2  9  2  9  2  2  9  3  2  0  2  9  2\n",
      "  2  2  9  9  9  2  5  9  9  9  2  9  2  2  2  9  9  9  2  2  9  2 10  9\n",
      "  9  1  9  2  9  2  9  9  2  9  9 10  9  2  2  9  9 10 10  9  9  9 10  2\n",
      "  9  2  2  9  2  2  9  1  2  9  2  9  1  2  2  2  9 10  2  1  2  2 10 10\n",
      "  2  9  2  2  2  2  5  2  9 10  9  2  2  9  2  2  2  2  9  5  9  2  2  2\n",
      "  9  9  9  9  2  2  2  9 10  9  2  9  9  2  9 10  2  9  9  9  2  2  9  2\n",
      "  9  2  9  9  9  9  9  9  9  2  9  1]\n",
      "[ 0  4  0  4  6  4  3  4  8  6  7  0  4  8  3  4  3  6  8  7  4  7  8  0\n",
      "  8  7  3  0  0  8  4  8  3  7  4  0  3  8  1  3  4  4  6  4  8  3  4  0\n",
      "  6  8  8  3  6  3  4  8  5  8  8  7  8  4  7  8  3  6  4  3  6  0  6  7\n",
      "  8  8  4  4  4  9  7  4  3  8  8  8  0  7  4  4  1  8  6  4  8  4  8  8\n",
      "  8  4  6  3  7  0  6  4  7  6  4  8  4  0  4  4  8  4  4  3  0  7  4  6\n",
      "  8  4  3  4  7  7  4  6  8  0  0  8  4  4  7  4  8  4 10  7  8  8  4  7\n",
      "  6  8  0  4  4  6  0  8  7  6  8  8  4  8  3  0  7  3  4  4  8  0  4  7\n",
      "  6  8  7  8  8  4  8  0  6  4  0  6]\n",
      "[8 7 7 7 7 7 7 7 7 7 7 7 7 7 7 7 7 4 7 4 7 7 7 7 7 7 7 7 7 7 7 7 7 7 7 7 7\n",
      " 5 7 4 4 7 4 1 7 7 7 7 7 7 7 7 1 7 3 7 7 7 7 7 7 7 7 6 7 7 7 7 7 7 7 4 4 7\n",
      " 4 7 7 7 7 7 7 4 6 7 8 7 7 7 7 5 7 7 7 4 7 7 7 7 7 4 1 7 7 7 4 7 7 7 7 7 7\n",
      " 7 7 7 7 7 7 7 7 7 7 7 4 7 7 1 7 7 7 7 4 7 7 7 7 7 7 7 8 4 4 7 7 7 7 7 7 7\n",
      " 7 0 7 5 7 1 7 3 7 7 4 7 7 7 7 3 5 7 7 7 4 3 7 7 7 5 7 5 7 7 7 7]\n",
      "[4 4 7 7 4 7 0 7 4 7 4 3 4 4 0 7 4 4 6 4 4 7 7 4 4 4 4 4 4 4 7 9 4 3 4 4 7\n",
      " 7 4 4 4 8 4 4 4 7 4 3 8 4 4 7 7 4 7 4 4 3 7 4 4 7 6 3 7 3 4 3 4 9 4 4 8 4\n",
      " 4 7 7 0 4 7 4 7 8 1 4 7 7 3 8 4 7 7 3 4 7 4 4 1 7 4 4 4 4 4 4 4 4 7 4 4 4\n",
      " 4 4 7 7 3 7 4 4 7 7 4 7 8 4 7 4 4 3 7 7 7 7 4 7 7 7 7 4 6 4 0 4 7 4 7 7 7\n",
      " 7 7 4 4 4 4 7 7 3 4 7 7 4 3 0 4 7 3 7 4 7 7 4 4 4 4 4 7 7 7 7 3]\n",
      "[ 5  9  5  5  1  2  5  1  5  1 10  5  5  1  1  1  1 10  5  1  5 10 10  5\n",
      "  1  2 10  5 10  1 10  5  5  1  5 10  7 10  5 10  1 10  5  1  1 10 10  1\n",
      "  2  5 10  1 10 10  1  9  5 10  2 10  5  1 10 10  5 10 10  5 10  1  1  5\n",
      " 10  5  1  5  1  7  5 10  5  5  5  1  5  9  7  1 10  5 10  5 10 10  5 10\n",
      "  2  7 10  1  5  5  5 10  5  0  5 10  5  9  9  1 10  5  5  5 10  5 10  5\n",
      "  5  8  5  5  1  1  6  5  5  1  1  1  5  5 10 10  5  1  5  5  4  5  5 10\n",
      " 10  5  5 10  1  5  1  1 10 10  5  1  5  1  5  5 10  5  0 10  5  5  5  5\n",
      " 10  1  5  5  1  0 10 10  5  1  1 10]\n",
      "[7 4 7 4 7 4 8 7 5 7 1 7 7 4 7 1 4 7 7 5 3 7 7 7 7 4 7 7 7 7 7 3 7 7 7 7 7\n",
      " 4 7 7 7 4 7 7 7 7 7 7 7 7 7 7 7 7 7 7 7 4 7 7 7 7 7 7 4 7 7 7 7 7 7 7 7 8\n",
      " 4 7 3 4 7 7 7 7 7 7 7 7 7 7 3 7 7 7 7 7 7 9 7 7 7 9 5 7 7 7 7 7 7 7 7 7 4\n",
      " 7 7 7 7 7 7 7 7 7 7 7 7 7 4 7 7 7 7 1 7 7 7 7 7 5 7 7 7 0 7 7 7 7 7 7 7 7\n",
      " 7 7 7 7 7 7 7 7 7 4 7 4 7 7 5 4 7 7 1 3 4 7 7 7 7 9 4 4 7 7 4 7]\n",
      "[ 1 10  5  2  1  1 10  1  1 10  1 10  1 10  1  1  5  1  1  7  1 10 10  5\n",
      "  1  1  1 10 10  1 10  9 10  1  1  1 10  1  1  7 10  7 10  5  1  2  1 10\n",
      "  5  7  7  1  1  1  1  1  5  1  1 10  1  1 10 10  1 10 10  9  1  1  1  1\n",
      "  1 10  1  1  1 10  1  1  1  1 10  1  2  5  1  5  1  1  1  1  1  1  3  1\n",
      "  1  1  1  2 10 10  1  1  1  1  1 10  5  2 10  1 10  1  2 10  1 10  1 10\n",
      "  7  1 10  1  1  1  1 10  1  1  5  1  1  1 10  1  1  1  1  1  1 10  3  1\n",
      "  1  1  1 10  1 10  2  1  5  1  1  1  1  1 10 10  1  1  6  1  5  1  1 10\n",
      " 10  1  1  5  1  1  9 10  1  1 10  1]\n",
      "[7 7 1 7 7 5 7 7 7 1 7 7 7 7 7 7 7 7 7 4 7 1 7 2 7 1 7 7 7 7 1 7 7 7 7 7 7\n",
      " 7 7 7 7 7 1 1 7 2 7 7 7 7 1 1 5 7 7 7 7 7 7 7 4 5 7 5 7 7 7 1 7 8 7 7 7 7\n",
      " 7 7 7 1 7 7 1 7 7 7 4 7 4 7 4 7 7 1 7 7 7 3 7 7 7 1 7 7 8 7 1 7 7 1 7 7 7\n",
      " 7 7 7 7 7 1 7 7 7 7 7 1 7 1 7 7 7 7 1 2 7 4 7 7 2 1 7 7 7 1 7 7 7 7 7 7 7\n",
      " 7 7 7 9 5 7 1 1 7 7 4 7 7 7 1 7 7 1 7 7 2 7 7 1 7 7 7 7 7 7 1 1]\n",
      "[ 2  2  5 10 10  1  1 10  5 10  5  3 10  2 10  1 10 10  9  2 10  2  5  9\n",
      "  2  5 10  2  5 10 10  5 10  1  2  5  7  9  1 10  2  5 10 10  5  2  5 10\n",
      "  1 10  5  2  5  5  1 10  5  5  1 10  5 10  1  2  3  2  2  1 10  1  2  5\n",
      "  1 10  5  9  2  5  5  9  1  1  2  1 10  5  3  0 10  1  5 10  5  5  2  1\n",
      "  9  5  3  9 10  7  3  5  5 10 10  1  5  2  9  2 10 10  5  2 10 10  1  2\n",
      " 10  5  5  1 10  5  5  5  1  5  5  3 10  1 10 10  1  5 10  5 10  5  1  2\n",
      "  5  1 10  1  2  5  2  5  5  5  2 10 10  5 10  5  2  9  1 10  5  1  1 10\n",
      " 10 10  5  5 10  5  5 10 10  5 10 10]\n",
      "[3 9 8 4 6 4 8 4 3 5 8 0 4 4 4 8 4 0 8 8 4 4 4 3 0 8 6 8 4 8 8 8 4 8 3 4 7\n",
      " 4 8 4 4 8 4 6 4 5 4 8 8 8 9 8 8 4 4 4 8 8 4 7 6 8 4 8 7 3 9 8 4 6 8 4 6 4\n",
      " 8 8 4 8 0 3 4 3 8 8 4 0 0 3 4 4 3 4 4 4 8 3 8 4 8 8 0 8 4 8 3 8 6 8 4 3 6\n",
      " 4 4 6 4 4 0 8 4 4 0 3 7 8 3 4 4 0 8 8 8 4 4 4 4 4 8 4 0 8 8 7 6 4 3 4 4 0\n",
      " 4 4 3 4 8 0 8 0 8 6 8 3 3 0 0 4 7 3 6 8 6 3 8 4 8 4 0 6 4 8 8 4]\n",
      "[ 3  8  3  6  6  0  0  6  6  6  0  8  0  0  6  6  0  0  0  0  6  6  0  0\n",
      "  8  6  6  8  0  0  0  6  0  3  6  7  0  0  3  6  6  6  4  6  0  5  6  3\n",
      "  0  4  6  6  0  0  3  0  8  0  0  0  6  0  3  0  8  0  6  0  0  0  4  0\n",
      "  8  6  0  0  8  5  4  6  6  6  6  0  6  3  3  0  0  6  0  0  0  8  0  6\n",
      "  0  0  8  6  1  0  8  0  6  6  0  6  0  3  0  6  8  0  0  0  6  0  0  8\n",
      "  0  0  8  6  2  6  6  6  8  0  6  6  0  0  0  3 10  0  0  8  6  6  2  0\n",
      "  3  0  6  6  0  0  6  6  7  3  8  6  6  6  8  8  6  0  6  0  8  6  0  8\n",
      "  0  0  0  3  3  0  6  0  0  8  0  0]\n"
     ]
    }
   ],
   "source": [
    "# 각 label 별 리스트 나누기\n",
    "# labels : 기존 라벨\n",
    "# all_feature : dataset\n",
    "\n",
    "# labels == 1 인 인덱스 : idx\n",
    "# cluster_1 = all_feature[idx]\n",
    "\n",
    "for i in range(1, 12):\n",
    "#     features = np.empty((1,32))\n",
    "    indexes = []\n",
    "    for idx, label in enumerate(labels):\n",
    "        if label == i:\n",
    "            indexes.append(idx)\n",
    "    features = all_feature[indexes]\n",
    "    result = cluster_result.predict(features)\n",
    "    print(result)\n",
    "#     print(features)\n",
    "#     print(features.shape)\n",
    "\n",
    "# 리스트 별로 predict 진행\n",
    "# 결과 저장"
   ]
  },
  {
   "cell_type": "code",
   "execution_count": 15,
   "metadata": {
    "scrolled": true
   },
   "outputs": [],
   "source": [
    "from sklearn.cluster import KMeans\n",
    "# Cluster Algorithm\n",
    "cluster_result = KMeans(n_clusters=11).fit(all_feature)"
   ]
  },
  {
   "cell_type": "code",
   "execution_count": 16,
   "metadata": {},
   "outputs": [
    {
     "name": "stdout",
     "output_type": "stream",
     "text": [
      "0.16142237\n"
     ]
    }
   ],
   "source": [
    "from sklearn.metrics import silhouette_samples,silhouette_score\n",
    "def plotSilhouette(X, y_km):\n",
    "    cluster_labels = np.unique(y_km.labels_)\n",
    "    n_clusters = cluster_labels.shape[0]\n",
    "    silhouette_vals = silhouette_score(X, y_km.labels_,metric='euclidean')\n",
    "    print(silhouette_vals)\n",
    "    \n",
    "plotSilhouette(all_feature,cluster_result)"
   ]
  },
  {
   "cell_type": "code",
   "execution_count": 41,
   "metadata": {},
   "outputs": [
    {
     "name": "stdout",
     "output_type": "stream",
     "text": [
      "(6,)\n",
      "[1 2 3 4 5 6]\n",
      "---------------------------\n",
      "(2, 3)\n",
      "[[1 2 3]\n",
      " [4 5 6]]\n",
      "---------------------------\n",
      "(1, 6)\n",
      "[[1 2 3 4 5 6]]\n"
     ]
    },
    {
     "ename": "ValueError",
     "evalue": "all the input array dimensions for the concatenation axis must match exactly, but along dimension 1, the array at index 0 has size 0 and the array at index 1 has size 32",
     "output_type": "error",
     "traceback": [
      "\u001b[1;31m-------------------------------------------------------------------\u001b[0m",
      "\u001b[1;31mValueError\u001b[0m                        Traceback (most recent call last)",
      "\u001b[1;32m<ipython-input-41-165def55aeb3>\u001b[0m in \u001b[0;36m<module>\u001b[1;34m\u001b[0m\n\u001b[0;32m     30\u001b[0m \u001b[1;33m\u001b[0m\u001b[0m\n\u001b[0;32m     31\u001b[0m \u001b[0mtest\u001b[0m \u001b[1;33m=\u001b[0m \u001b[0mnp\u001b[0m\u001b[1;33m.\u001b[0m\u001b[0marray\u001b[0m\u001b[1;33m(\u001b[0m\u001b[1;33m[\u001b[0m\u001b[1;33m[\u001b[0m\u001b[1;33m]\u001b[0m\u001b[1;33m]\u001b[0m\u001b[1;33m)\u001b[0m\u001b[1;33m\u001b[0m\u001b[1;33m\u001b[0m\u001b[0m\n\u001b[1;32m---> 32\u001b[1;33m \u001b[0mtest1\u001b[0m \u001b[1;33m=\u001b[0m \u001b[0mnp\u001b[0m\u001b[1;33m.\u001b[0m\u001b[0mconcatenate\u001b[0m\u001b[1;33m(\u001b[0m\u001b[1;33m[\u001b[0m\u001b[0mtest\u001b[0m\u001b[1;33m,\u001b[0m \u001b[0mall_feature\u001b[0m\u001b[1;33m[\u001b[0m\u001b[1;36m0\u001b[0m\u001b[1;33m]\u001b[0m\u001b[1;33m]\u001b[0m\u001b[1;33m)\u001b[0m\u001b[1;33m\u001b[0m\u001b[1;33m\u001b[0m\u001b[0m\n\u001b[0m\u001b[0;32m     33\u001b[0m \u001b[0mprint\u001b[0m\u001b[1;33m(\u001b[0m\u001b[0mtest1\u001b[0m\u001b[1;33m)\u001b[0m\u001b[1;33m\u001b[0m\u001b[1;33m\u001b[0m\u001b[0m\n\u001b[0;32m     34\u001b[0m \u001b[0mprint\u001b[0m\u001b[1;33m(\u001b[0m\u001b[0mtest1\u001b[0m\u001b[1;33m.\u001b[0m\u001b[0mshape\u001b[0m\u001b[1;33m)\u001b[0m\u001b[1;33m\u001b[0m\u001b[1;33m\u001b[0m\u001b[0m\n",
      "\u001b[1;32m<__array_function__ internals>\u001b[0m in \u001b[0;36mconcatenate\u001b[1;34m(*args, **kwargs)\u001b[0m\n",
      "\u001b[1;31mValueError\u001b[0m: all the input array dimensions for the concatenation axis must match exactly, but along dimension 1, the array at index 0 has size 0 and the array at index 1 has size 32"
     ]
    }
   ],
   "source": [
    "array4 = array1.reshape(1, 3)  # [[1,2,3]]\n",
    "array5 = array2.reshape(1, 3)  # [[4,5,6]]\n",
    "\n",
    "# 2차원 배열을 위아래로 합치기\n",
    "\n",
    "array6 = np.concatenate([array4, array5], axis=0)\n",
    "print(array6.shape)\n",
    "print(array6)\n"
   ]
  }
 ],
 "metadata": {
  "kernelspec": {
   "display_name": "Python 3",
   "language": "python",
   "name": "python3"
  },
  "language_info": {
   "codemirror_mode": {
    "name": "ipython",
    "version": 3
   },
   "file_extension": ".py",
   "mimetype": "text/x-python",
   "name": "python",
   "nbconvert_exporter": "python",
   "pygments_lexer": "ipython3",
   "version": "3.8.5"
  }
 },
 "nbformat": 4,
 "nbformat_minor": 4
}
