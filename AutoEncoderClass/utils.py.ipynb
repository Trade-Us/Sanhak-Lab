{
 "cells": [
  {
   "cell_type": "code",
   "execution_count": null,
   "metadata": {},
   "outputs": [],
   "source": [
    "from keras import optimizers"
   ]
  },
  {
   "cell_type": "code",
   "execution_count": null,
   "metadata": {},
   "outputs": [],
   "source": [
    "def optimizer_set(optimizer, learning_rate):\n",
    "    if optimizer == 'SGD':\n",
    "        optimizer = optimizers.SGD(lr=learning_rate, clipnorm=1.)\n",
    "        \n",
    "    if optimizer == 'RMSprop':\n",
    "        optimizer = optimizers.RMSprop(lr=learning_rate, rho=0.9, epsilon=None, decay=0.0)\n",
    "        \n",
    "    if optimizer == 'Adam':\n",
    "        optimizer = optimizers.Adam(lr=learning_rate, beta_1=0.9, beta_2=0.999, epsilon=None, decay=0.0, amsgrad=False)\n",
    "        \n",
    "    if optimizer == 'Nadam':\n",
    "        optimizer = optimizers.Nadam(lr=learning_rate, beta_1=0.9, beta_2=0.999, epsilon=None, schedule_decay=0.004)\n",
    "        \n",
    "    if optimizer == 'Adagrad':\n",
    "        optimizer = optimizers.Adagrad(lr=learning_rate, epsilon=None, decay=0.0)\n",
    "        \n",
    "    if optimizer == 'Adadelta':\n",
    "        optimizer = optimizers.Adadelta(lr=learning_rate, rho=0.95, epsilon=None, decay=0.0)\n",
    "        \n",
    "    return optimizer"
   ]
  },
  {
   "cell_type": "code",
   "execution_count": null,
   "metadata": {},
   "outputs": [],
   "source": [
    "def category_set(): #해당 카테고리의 경우 이미지 이름에서 카테고리를 분류할 수 있는 이름으로 입력받아야 함\n",
    "    categories = input().split()\n",
    "    print(categories)\n",
    "    \n",
    "    return categories"
   ]
  },
  {
   "cell_type": "code",
   "execution_count": null,
   "metadata": {},
   "outputs": [],
   "source": [
    "import os\n",
    "from PIL import Image\n",
    "import numpy as np"
   ]
  },
  {
   "cell_type": "code",
   "execution_count": null,
   "metadata": {},
   "outputs": [],
   "source": [
    "def image_to_list(groups_folder_path):\n",
    "    data_path = os.listdir(groups_folder_path)\n",
    "    \n",
    "    X = []\n",
    "    Y = []\n",
    "    categories = category_set()\n",
    "    \n",
    "    for filepath in data_path:\n",
    "        #print(filepath)\n",
    "        filepath = groups_folder_path + filepath\n",
    "        file_path = os.listdir(filepath)\n",
    "        # print(file_path)\n",
    "\n",
    "        for data in file_path:\n",
    "            path_file = filepath + '/' + data\n",
    "            #print(path_file)\n",
    "            # print(data)\n",
    "            # img = img = image.load_img(path_file, target_size=(28, 28,1))\n",
    "            image = Image.open(path_file)\n",
    "            image = image.convert('L')  # 흑백으로 맹글기\n",
    "            image = image.resize((28, 28))\n",
    "            img_data = np.array(image)\n",
    "            img_data = img_data.reshape((28, 28, 1))\n",
    "\n",
    "            #img = cv2.resize(img, None, fx=image_w/img.shape[1], fy=image_h.shape[0])\n",
    "            # img_data = image.img_to_array(img)\n",
    "            # img_data = np.expand_dims(img_data, axis=0)\n",
    "            # img_data = preprocess_input(img_data)\n",
    "            # X.append(np.array(img_data))\n",
    "            img_data_np = np.array(img_data)\n",
    "            \n",
    "            for i in range(len(categories)):\n",
    "                if categories[i] in data:\n",
    "                    X.append(img_data_np)\n",
    "            \n",
    "            for i in range(len(categories)):\n",
    "                if categories[i] in data:\n",
    "                    Y.append(categories[i])\n",
    "                    \n",
    "    X = np.array(X)\n",
    "    Y = np.array(Y)\n",
    "                    \n",
    "    return X, Y"
   ]
  },
  {
   "cell_type": "code",
   "execution_count": null,
   "metadata": {},
   "outputs": [],
   "source": [
    "from sklearn.model_selection import train_test_split\n",
    "import numpy as np"
   ]
  },
  {
   "cell_type": "code",
   "execution_count": null,
   "metadata": {},
   "outputs": [],
   "source": [
    "def split_data(groups_folder_path, X, Y):\n",
    "    X, Y = image_to_list(groups_folder_path)\n",
    "    X_train, X_test, Y_train, Y_test = train_test_split(X,Y)\n",
    "    xy = (X_train, X_test, Y_train, Y_test)\n",
    "    np.save(\"./img_data.npy\", xy)\n",
    "    X_train, X_test, Y_train, Y_test = np.load('./img_data.npy', allow_pickle = True)\n",
    "    \n",
    "    return X_train, X_test, Y_train, Y_test"
   ]
  },
  {
   "cell_type": "code",
   "execution_count": null,
   "metadata": {},
   "outputs": [],
   "source": [
    "def normalization_tool(data):\n",
    "    data_nor = data.astype('float32') / 255\n",
    "    \n",
    "    return data_nor"
   ]
  }
 ],
 "metadata": {
  "kernelspec": {
   "display_name": "Python 3",
   "language": "python",
   "name": "python3"
  },
  "language_info": {
   "codemirror_mode": {
    "name": "ipython",
    "version": 3
   },
   "file_extension": ".py",
   "mimetype": "text/x-python",
   "name": "python",
   "nbconvert_exporter": "python",
   "pygments_lexer": "ipython3",
   "version": "3.6.12"
  }
 },
 "nbformat": 4,
 "nbformat_minor": 4
}
