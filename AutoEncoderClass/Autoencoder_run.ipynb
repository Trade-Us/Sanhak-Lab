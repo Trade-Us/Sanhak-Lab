{
 "cells": [
  {
   "cell_type": "code",
   "execution_count": null,
   "metadata": {},
   "outputs": [],
   "source": [
    "from utils import image_to_list, split_data, normalization_tool\n",
    "from agent import Autoencoder_Agent\n",
    "\n",
    "def run(groups_folder_path):\n",
    "    \n",
    "    X,Y = image_to_list(groups_folder_path)\n",
    "    X_train, X_test, Y_train, Y_test = split_data(groups_folder_path, X, Y) #데이터 분리\n",
    "    X_train = normalization_tool(X_train) #데이터 정규화\n",
    "    X_test = normalization_tool(X_test) #데이터 정규화\n",
    "    \n",
    "    #조절할 수 있는 파라미터\n",
    "    batch_size = 32\n",
    "    learning_rate = 0.01\n",
    "    epochs = 500\n",
    "    optimizer='Adam'\n",
    "    loss='binary_crossentropy'\n",
    "    \n",
    "    #에이전트 별로 학습가능\n",
    "    agent_28 = Autoencoder_Agent(28,optimizer,learning_rate)\n",
    "    agent_28.train(X_train,batch_size,epochs,X_test)\n",
    "    \n",
    "    \n",
    "    agent_96 = Autoencoder_Agent(96,optimizer,learning_rate)\n",
    "    agent_96.train(X_train,batch_size,epochs,X_test)\n",
    "    \n",
    "    X = normalization_tool(X) \n",
    "    compressed_data = agent_28.feature_extract(X)\n",
    "    compressed_data = agent_96.feature_extract(X)\n",
    "    "
   ]
  }
 ],
 "metadata": {
  "kernelspec": {
   "display_name": "Python 3",
   "language": "python",
   "name": "python3"
  },
  "language_info": {
   "codemirror_mode": {
    "name": "ipython",
    "version": 3
   },
   "file_extension": ".py",
   "mimetype": "text/x-python",
   "name": "python",
   "nbconvert_exporter": "python",
   "pygments_lexer": "ipython3",
   "version": "3.6.12"
  }
 },
 "nbformat": 4,
 "nbformat_minor": 4
}
