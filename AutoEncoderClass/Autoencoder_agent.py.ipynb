{
 "cells": [
  {
   "cell_type": "code",
   "execution_count": null,
   "metadata": {},
   "outputs": [],
   "source": [
    "import numpy as np\n",
    "import matplotlib.pyplot as plt\n",
    "import os\n",
    "from sklearn.model_selection import train_test_split\n",
    "import os, re, glob\n",
    "import cv2\n",
    "import numpy as np\n",
    "from model import CNNAutoEncoder_28, CNNAutoEncoder_96\n",
    "from PIL import Image\n",
    "\n",
    "class Autoencoder_Agent(object):\n",
    "\n",
    "  def __init__(self, model_size, optimizer,learning_rate):\n",
    "    self.model_size = model_size\n",
    "    self.optimizer = optimizer\n",
    "    self.learning_rate = learning_rate\n",
    "    if self.model_size == 28:\n",
    "        self.model = CNNAutoEncoder_28(optimizer = optimizer, learning_rate = learning_rate)\n",
    "        self.compressed_layer = 5\n",
    "    else \n",
    "        self.mode = CNNAutoEncoder_96(optimizer = optimizer, learning_rate = learning_rate)\n",
    "        self.compressed_layer = 8\n",
    "        \n",
    "  def train(self, X_train, batch_size, epochs, validation_data):\n",
    "    self.model.fit(X_train,X_train,batch_size = batch_size,epochs=epochs,validation_data=(validation_data,validation_data))\n",
    "    \n",
    "\n",
    "  def feature_extract(self,X_data):\n",
    "    get_5th_layer_output = K.function([model.layers[0].input],[model.layers[self.compressed_layer].output])\n",
    "    compressed = get_5th_layer_output([X])[0]\n",
    "    compressed = compressed.reshape(compressed.shape[0], compressed.shape[1]*compressed.shape[2]*compressed.shape[3])\n",
    "    return compressed\n",
    "    \n",
    "\n",
    "  def load(self, name):\n",
    "    self.model.load_weights(name)\n",
    "\n",
    "\n",
    "  def save(self, name):\n",
    "    self.model.save_weights(name)"
   ]
  }
 ],
 "metadata": {
  "kernelspec": {
   "display_name": "Python 3",
   "language": "python",
   "name": "python3"
  },
  "language_info": {
   "codemirror_mode": {
    "name": "ipython",
    "version": 3
   },
   "file_extension": ".py",
   "mimetype": "text/x-python",
   "name": "python",
   "nbconvert_exporter": "python",
   "pygments_lexer": "ipython3",
   "version": "3.6.12"
  }
 },
 "nbformat": 4,
 "nbformat_minor": 4
}
