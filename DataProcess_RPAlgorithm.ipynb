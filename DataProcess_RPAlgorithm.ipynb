{
 "cells": [
  {
   "cell_type": "markdown",
   "metadata": {},
   "source": [
    "# Main Test"
   ]
  },
  {
   "cell_type": "markdown",
   "metadata": {},
   "source": [
    "## Data Enigineer \n",
    "- Data shape  = (1, 가변 시계열)\n",
    "- 클래스 라벨링 (= CHIP[N]_ WIRE[N]_ [Parameter]_ [Seg_N])"
   ]
  },
  {
   "cell_type": "code",
   "execution_count": 6,
   "metadata": {
    "scrolled": true
   },
   "outputs": [
    {
     "name": "stdout",
     "output_type": "stream",
     "text": [
      "          chip    wire parameter  segment     value\n",
      "0        CHIP1  WIRE10     CLAMP        1  2.236858\n",
      "1        CHIP1  WIRE10     CLAMP        1  1.909297\n",
      "2        CHIP1  WIRE10     CLAMP        1  1.554571\n",
      "3        CHIP1  WIRE10     CLAMP        1  1.205214\n",
      "4        CHIP1  WIRE10     CLAMP        1  1.132879\n",
      "...        ...     ...       ...      ...       ...\n",
      "480063  CHIP10   WIRE9     CLAMP        6  2.349941\n",
      "480064  CHIP10   WIRE9     CLAMP        6  2.346782\n",
      "480065  CHIP10   WIRE9     CLAMP        6  2.347098\n",
      "480066  CHIP10   WIRE9     CLAMP        6  2.366051\n",
      "480067  CHIP10   WIRE9     CLAMP        6  2.546415\n",
      "\n",
      "[480068 rows x 5 columns]\n"
     ]
    }
   ],
   "source": [
    "import pandas as pd\n",
    "import numpy as np\n",
    "\n",
    "def readFile(filepath):\n",
    "    finalData = {}\n",
    "    data = pd.read_csv(filepath)\n",
    "    print(data)\n",
    "    uniqueChip = data['chip'].unique()\n",
    "    uniqueWire = data['wire'].unique()\n",
    "    uniquePar = data['parameter'].unique()\n",
    "    uniqueSeg = data['segment'].unique()\n",
    "\n",
    "    for chip in uniqueChip:\n",
    "        for wire in uniqueWire:\n",
    "            for par in uniquePar:\n",
    "                for seg in uniqueSeg:\n",
    "                    chipFilter = data.loc[data[\"chip\"] == chip]\n",
    "                    wireFilter = chipFilter.loc[data[\"wire\"] == wire]\n",
    "                    parFilter = wireFilter.loc[data[\"parameter\"] == par]\n",
    "                    segFilter = parFilter.loc[data[\"segment\"] == seg, \"value\"]\n",
    "                    result = segFilter.to_numpy()\n",
    "                    result = np.reshape(result,(1,len(result)))\n",
    "                    label = chip + \"_\" + wire + \"_\" + par +\"_\" +str(seg)\n",
    "                    finalData[label] = result\n",
    "    return finalData\n",
    "    \n",
    "#AXISX_data = readFile(\"resources/AXISX_resample.csv\")\n",
    "CLAMP_data = readFile(\"resources/CLAMP_resample.csv\")\n",
    "# AXISX_data CLAMP_data 합치기?"
   ]
  },
  {
   "cell_type": "markdown",
   "metadata": {},
   "source": [
    "## Convert Graph to Image Using RP\n",
    "- Data shape (28, 28, 1)\n",
    "- 10 * 19 * 13개의 데이터 "
   ]
  },
  {
   "cell_type": "code",
   "execution_count": 52,
   "metadata": {},
   "outputs": [
    {
     "data": {
      "image/png": "[encoded data removed]",
      "text/plain": [
       "<Figure size 28x28 with 1 Axes>"
      ]
     },
     "metadata": {
      "needs_background": "light"
     },
     "output_type": "display_data"
    }
   ],
   "source": [
    "# Show the results for the first time series\n",
    "width = 28\n",
    "height = 28\n",
    "my_dpi = 96\n",
    "plt.figure(figsize=(width/my_dpi, height/my_dpi), dpi=my_dpi)\n",
    "plt.axis('off')\n",
    "\n",
    "PATH = \"resources/imgs/\"\n",
    "\n",
    "for key, values in tempDict.items():\n",
    "    values_rp = rp.fit_transform(values)\n",
    "    \n",
    "    plt.imshow(values_rp[0], cmap='binary', origin='lower')\n",
    "    \n",
    "    classDir = key.split(\"_\")[2] + key.split(\"_\")[3] + \"/\"\n",
    "    \n",
    "    try:\n",
    "        if not os.path.exists(PATH + classDir):\n",
    "            os.makedirs(PATH + classDir)\n",
    "    except OSError:\n",
    "        print ('Error: Creating directory. ' +  PATH + classDir)\n",
    "    \n",
    "    filename = PATH + classDir + key + '.png'\n",
    "    if not os.path.exists(filename):\n",
    "        plt.savefig(filename, dpi=my_dpi,  bbox_inches='tight', pad_inches=0.0)\n",
    "    "
   ]
  },
  {
   "cell_type": "code",
   "execution_count": 9,
   "metadata": {},
   "outputs": [
    {
     "data": {
      "image/png": "[encoded data removed]",
      "text/plain": [
       "<Figure size 37.3x37.3 with 1 Axes>"
      ]
     },
     "metadata": {
      "needs_background": "light"
     },
     "output_type": "display_data"
    }
   ],
   "source": [
    "import numpy as np\n",
    "import matplotlib.pyplot as plt\n",
    "from pyts.image import RecurrencePlots\n",
    "import os\n",
    "\n",
    "def makeRPImgFiles(dirPath, dicDatas, width=28, height=28, dpi=96, ):\n",
    "    # Recurrence plot transformation\n",
    "    rp = RecurrencePlots(dimension=1,epsilon='percentage_points', percentage=30)\n",
    "    \n",
    "    \n",
    "    plt.figure(figsize=(width/dpi, height/dpi), dpi=dpi)\n",
    "    plt.axis('off')\n",
    "    for key, values in dicDatas.items():\n",
    "        # 디렉토리 생성\n",
    "        dirname = key.split(\"_\")\n",
    "        path = '%s%s%s/'%(dirPath, dirname[2], dirname[3])\n",
    "        try:\n",
    "            if not os.path.exists(path):\n",
    "                os.makedirs(path)\n",
    "        except OSError:\n",
    "            print ('Error: Creating directory. ' +  path)\n",
    "        \n",
    "        # 파일 존재 여부 확인 \n",
    "        ## 파일 존재하면 넘어감 \n",
    "        filename = '%s%s.png' %(path, key)\n",
    "        if os.path.exists(filename):\n",
    "            continue\n",
    "        \n",
    "        # RP 변환 및 이미지 파일 생성 저장\n",
    "        values_rp = rp.fit_transform(values)\n",
    "        plt.imshow(values_rp[0], cmap='binary', origin='lower')\n",
    "\n",
    "        plt.savefig(filename, dpi=dpi,  bbox_inches='tight', pad_inches=0.0)\n",
    "\n",
    "width = 37.3\n",
    "height = 37.3\n",
    "my_dpi = 96\n",
    "PATH = \"resources/imgs28x28/\"\n",
    "\n",
    "#makeRPImgFiles(PATH, AXISX_data, width, height, my_dpi)\n",
    "makeRPImgFiles(PATH, CLAMP_data, width, height, my_dpi)"
   ]
  },
  {
   "cell_type": "code",
   "execution_count": null,
   "metadata": {},
   "outputs": [],
   "source": []
  }
 ],
 "metadata": {
  "kernelspec": {
   "display_name": "Python 3",
   "language": "python",
   "name": "python3"
  },
  "language_info": {
   "codemirror_mode": {
    "name": "ipython",
    "version": 3
   },
   "file_extension": ".py",
   "mimetype": "text/x-python",
   "name": "python",
   "nbconvert_exporter": "python",
   "pygments_lexer": "ipython3",
   "version": "3.8.5"
  }
 },
 "nbformat": 4,
 "nbformat_minor": 4
}
