{
 "cells": [
  {
   "cell_type": "code",
   "execution_count": 2,
   "metadata": {},
   "outputs": [],
   "source": [
    "import numpy as np\n",
    "\n",
    "compressed = np.load('./compressed3.npy')\n",
    "feature = np.load('./feature3.npy')\n",
    "X_scaled = np.load('./X_scaled3.npy')"
   ]
  },
  {
   "cell_type": "code",
   "execution_count": 3,
   "metadata": {},
   "outputs": [
    {
     "name": "stdout",
     "output_type": "stream",
     "text": [
      "(1140, 28, 28, 1)\n",
      "(1140, 7, 7, 2)\n"
     ]
    }
   ],
   "source": [
    "print(X_scaled.shape)\n",
    "print(compressed.shape)"
   ]
  },
  {
   "cell_type": "code",
   "execution_count": 4,
   "metadata": {},
   "outputs": [],
   "source": [
    "# Clustering Algorithm\n",
    "from sklearn.cluster import DBSCAN\n",
    "from sklearn.cluster import KMeans\n",
    "from sklearn.cluster import SpectralClustering, AgglomerativeClustering\n",
    "\n",
    "# Normalization\n",
    "from sklearn.preprocessing import MinMaxScaler\n",
    "from sklearn.preprocessing import StandardScaler\n",
    "\n",
    "# Needed Library!\n",
    "import pandas as pd\n",
    "import numpy as np\n",
    "import matplotlib.pyplot as plt"
   ]
  },
  {
   "cell_type": "code",
   "execution_count": 5,
   "metadata": {},
   "outputs": [],
   "source": [
    "# Accuracy를 가져오는 함수\n",
    "# data_y: 정답 데이터\n",
    "# pred_y: 예측 데이터\n",
    "def getAccuracy(data_y, pred_y):\n",
    "    count = 0\n",
    "    bool_array = (data_y == pred_y)\n",
    "    for correct in bool_array:\n",
    "        if(correct):\n",
    "            count += 1\n",
    "    return count / pred_y.size"
   ]
  },
  {
   "cell_type": "code",
   "execution_count": 6,
   "metadata": {},
   "outputs": [],
   "source": [
    "# 정답 레이블 만들기\n",
    "## 원하는 클래스 레이블의 리스트를 넘긴다.\n",
    "## ex) list = [1, 4, 5] -> 클래스 1번, 4번, 5번 에 대하여 레이블 생성\n",
    "def getClassLabelFor(list, batch_size=190):\n",
    "    y=np.array([])\n",
    "    for i in list:\n",
    "        y_=np.full((1, batch_size), i)[0]\n",
    "        y=np.hstack([y, y_])\n",
    "\n",
    "    return y"
   ]
  },
  {
   "cell_type": "code",
   "execution_count": 7,
   "metadata": {},
   "outputs": [],
   "source": [
    "# Cluster Algorithm\n",
    "def kmeans(dataset, n_clusters, normalization='standard'):\n",
    "\n",
    "    scaled_dataset = []\n",
    "    if normalization == 'standard':\n",
    "        scaler = StandardScaler().fit(dataset)\n",
    "        scaled_dataset = scaler.transform(dataset)\n",
    "    elif normalization == 'minmax':\n",
    "        scaler = MinMaxScaler().fit(dataset)\n",
    "        scaled_dataset = scaler.transform(dataset)\n",
    "    else:\n",
    "        scaled_dataset = dataset\n",
    "        print(\"정규화 진행 안함\")\n",
    "    print(\"Scaled_dataset: \\n{}\".format(scaled_dataset))\n",
    "    cluster_data = KMeans(n_clusters=n_clusters).fit(scaled_dataset)\n",
    "    return cluster_data, scaled_dataset\n",
    "\n",
    "# DBSCAN\n",
    "def dbscan(dataset, eps=0.5, min_samples=5, normalization='standard'):\n",
    "   \n",
    "    scaled_dataset = []\n",
    "    if normalization == 'standard':\n",
    "        scaler = StandardScaler().fit(dataset)\n",
    "        scaled_dataset = scaler.transform(dataset)\n",
    "    elif normalization == 'minmax':\n",
    "        scaler = MinMaxScaler().fit(dataset)\n",
    "        scaled_dataset = scaler.transform(dataset)\n",
    "    else:\n",
    "        scaled_dataset = dataset\n",
    "        print(\"정규화 진행 안함\")\n",
    "\n",
    "    dbscan = DBSCAN(eps=eps, min_samples=min_samples)\n",
    "    cluster_data = dbscan.fit(scaled_dataset)\n",
    "    return cluster_data, scaled_dataset\n",
    "\n",
    "# Spectral Clustering\n",
    "def spectralClustering(dataset, n_clusters, n_init = 10, normalization='standard'):\n",
    "    \n",
    "    #scaled_dataset = norm(dataset, normalization=normalization)\n",
    "    scaled_dataset = []\n",
    "    if normalization == 'standard':\n",
    "        scaler = StandardScaler().fit(dataset)\n",
    "        scaled_dataset = scaler.transform(dataset)\n",
    "    elif normalization == 'minmax':\n",
    "        scaler = MinMaxScaler().fit(dataset)\n",
    "        scaled_dataset = scaler.transform(dataset)\n",
    "    else:\n",
    "        scaled_dataset = dataset\n",
    "        print(\"정규화 진행 안함\")\n",
    "    cluster_data = SpectralClustering(n_clusters=n_clusters, n_init=n_init).fit(scaled_dataset)\n",
    "    return cluster_data, scaled_dataset\n",
    "\n",
    "# Hierarchical Clustering\n",
    "def hierarchicalClustering(dataset, n_clusters, n_init = 10, linkage = 'ward', normalization='standard'):\n",
    "\n",
    "    #scaled_dataset = norm(dataset, normalization=normalization)\n",
    "    scaled_dataset = []\n",
    "    if normalization == 'standard':\n",
    "        scaler = StandardScaler().fit(dataset)\n",
    "        scaled_dataset = scaler.transform(dataset)\n",
    "    elif normalization == 'minmax':\n",
    "        scaler = MinMaxScaler().fit(dataset)\n",
    "        scaled_dataset = scaler.transform(dataset)\n",
    "    else:\n",
    "        scaled_dataset = dataset\n",
    "        print(\"정규화 진행 안함\")\n",
    "    cluster_data = AgglomerativeClustering(n_clusters = n_clusters, linkage = linkage ).fit(scaled_dataset)\n",
    "    return cluster_data, scaled_dataset"
   ]
  },
  {
   "cell_type": "code",
   "execution_count": 8,
   "metadata": {},
   "outputs": [
    {
     "name": "stdout",
     "output_type": "stream",
     "text": [
      "Scaled_dataset: \n",
      "[[0.28699148 0.         0.07158716 ... 0.21458949 0.6689296  1.        ]\n",
      " [0.04903603 0.         0.03027538 ... 0.8099792  0.40901053 0.06793353]\n",
      " [0.15434486 0.         0.27478167 ... 0.29570422 0.11035186 0.44604456]\n",
      " ...\n",
      " [0.04903603 0.         0.02123009 ... 0.8099792  0.40901053 0.06793353]\n",
      " [0.24784172 0.         0.88789433 ... 0.23404753 0.3687706  0.06793353]\n",
      " [0.15434486 0.         0.26415908 ... 0.21656537 0.8586761  0.5890475 ]]\n"
     ]
    }
   ],
   "source": [
    "result, scaled_x = kmeans(feature, 6, normalization='minmax')"
   ]
  },
  {
   "cell_type": "code",
   "execution_count": 9,
   "metadata": {},
   "outputs": [
    {
     "name": "stdout",
     "output_type": "stream",
     "text": [
      "[3 2 1 0 4 5 3 2 1 0 4 5 3 2 1 2 4 5 3 2 1 0 4 5 3 2 1 0 4 5 3 2 1 0 4 5 3\n",
      " 2 1 0 4 5 3 2 1 0 4 5 3 2 1 0 4 5 3 2 5 0 4 5 3 2 1 0 4 5 3 2 1 0 4 5 3 2\n",
      " 1 0 4 5 3 2 1 2 4 5 3 2 1 0 4 5 3 2 1 0 4 5 3 2 1 0 4 5 3 2 1 0 4 5 3 2 1\n",
      " 2 4 5 3 2 1 0 4 5 3 2 1 2 4 5 3 2 1 2 4 5 3 2 1 0 4 5 3 2 1 0 4 5 3 2 1 2\n",
      " 4 5 3 2 1 2 4 5 3 2 1 2 4 5 3 2 1 0 4 5 3 2 1 0 4 5 3 2 1 2 4 5 3 2 1 0 4\n",
      " 5 3 2 1 0 4 5 3 0 1 2 4 5 3 2 1 2 4 5 3 2 1 0 4 5 3 2 1 2 4 5 3 2 1 2 4 5\n",
      " 3 2 1 0 4 5 3 2 1 0 4 5 3 2 1 0 4 5 3 2 1 0 4 5 3 2 1 0 4 5 3 2 1 0 4 5 3\n",
      " 2 1 0 4 5 3 2 1 2 4 5 3 2 1 2 4 5 3 2 1 0 4 5 3 2 1 0 4 5 3 2 1 0 4 5 3 2\n",
      " 1 0 4 5 3 2 1 0 4 5 3 2 1 0 4 5 3 2 1 0 4 5 3 2 1 0 4 5 3 2 1 2 4 5 3 2 1\n",
      " 0 4 5 3 2 1 0 4 5 3 2 1 0 4 5 3 2 1 2 4 5 3 2 1 2 4 5 3 2 1 0 4 5 3 2 1 0\n",
      " 4 5 3 2 1 0 4 5 3 2 1 0 4 5 3 2 1 0 4 5 3 2 1 2 4 5 3 2 1 0 4 5 3 2 1 0 4\n",
      " 5 3 2 1 0 4 5 3 0 1 0 4 5 3 2 1 2 4 5 3 2 1 0 4 5 3 2 1 0 4 5 3 2 1 0 4 5\n",
      " 3 2 1 0 4 5 3 2 1 0 4 5 3 2 1 0 4 5 3 2 1 0 4 5 3 0 1 2 4 5 3 0 1 0 4 5 3\n",
      " 2 1 0 4 5 3 2 1 2 4 5 3 2 1 0 4 5 3 2 1 2 4 5 3 2 1 0 4 5 3 2 1 0 4 5 3 2\n",
      " 1 0 4 5 3 2 1 0 4 5 3 2 1 0 4 5 3 2 1 2 4 5 3 0 1 0 4 5 3 2 1 2 4 5 3 2 1\n",
      " 2 4 5 3 2 1 0 4 5 3 0 1 0 4 5 3 2 1 0 4 5 3 2 1 0 4 5 3 2 1 0 4 5 3 2 1 0\n",
      " 4 5 3 2 1 0 4 5 3 2 1 0 4 5 3 0 1 0 4 5 3 2 1 0 4 5 3 2 1 0 4 5 3 2 1 0 4\n",
      " 5 3 2 1 0 4 5 3 2 5 0 4 5 3 2 1 0 4 5 3 2 1 0 4 5 3 2 1 0 4 3 3 2 1 2 4 5\n",
      " 3 2 1 0 4 5 3 2 1 2 4 5 3 2 1 0 4 5 3 2 1 2 4 5 3 2 1 0 4 5 3 2 1 2 4 5 3\n",
      " 2 1 0 4 5 3 2 1 0 4 5 3 2 1 0 4 5 3 0 1 2 4 5 3 2 1 0 4 5 3 2 1 2 4 5 3 2\n",
      " 1 2 5 5 3 2 1 0 4 5 3 0 1 2 4 5 3 2 1 0 4 5 3 2 1 0 4 5 3 2 1 0 4 5 3 2 1\n",
      " 2 4 5 3 2 1 2 4 5 3 2 1 2 4 5 3 2 1 2 4 5 3 2 1 0 4 5 3 2 1 0 4 5 3 2 1 2\n",
      " 4 5 3 2 1 0 4 5 3 2 1 0 4 5 3 2 1 2 4 5 3 2 1 2 4 5 3 2 1 2 4 5 3 2 1 0 4\n",
      " 5 3 2 1 0 4 5 3 2 1 0 4 5 3 2 5 0 4 5 3 2 1 0 4 5 3 2 1 0 4 5 3 0 1 0 4 5\n",
      " 3 2 1 0 4 5 3 2 1 0 4 5 3 2 1 0 4 5 3 2 1 0 4 5 3 2 1 0 4 5 3 2 1 2 4 5 3\n",
      " 2 1 0 4 5 3 2 1 0 4 5 3 2 1 0 4 5 3 2 1 0 4 5 3 2 1 0 4 5 3 2 1 0 4 5 3 2\n",
      " 1 0 4 5 3 2 1 2 4 5 3 2 1 0 4 5 3 2 1 0 4 5 3 2 1 0 4 5 3 2 1 2 4 5 3 2 1\n",
      " 0 4 5 3 2 1 2 4 5 3 2 1 0 4 5 3 2 1 0 4 5 3 2 1 2 4 5 3 2 1 2 4 5 3 0 1 0\n",
      " 4 5 3 2 1 0 4 5 3 2 1 0 4 5 3 2 1 0 4 5 3 2 1 0 4 5 3 2 1 0 4 5 3 2 1 0 4\n",
      " 5 3 0 1 0 4 5 3 2 1 0 4 5 3 0 1 0 4 5 3 0 1 0 4 5 3 2 1 0 4 5 3 0 5 0 4 5\n",
      " 3 2 1 2 4 5 3 2 1 2 4 5 3 2 1 2 4 5 3 2 1 0 4 5 3 2 1 2 4 5]\n"
     ]
    }
   ],
   "source": [
    "import sys\n",
    "import numpy\n",
    "\n",
    "numpy.set_printoptions(threshold=sys.maxsize)\n",
    "print(result.labels_)"
   ]
  },
  {
   "cell_type": "code",
   "execution_count": 10,
   "metadata": {},
   "outputs": [],
   "source": [
    "y_label = [3, 2, 1, 0, 4, 5] * 190"
   ]
  },
  {
   "cell_type": "code",
   "execution_count": 11,
   "metadata": {},
   "outputs": [
    {
     "name": "stdout",
     "output_type": "stream",
     "text": [
      "0.9359649122807018\n"
     ]
    }
   ],
   "source": [
    "class_ = np.array(result.labels_)\n",
    "accuracy = getAccuracy(y_label, class_)\n",
    "print(accuracy)"
   ]
  },
  {
   "cell_type": "code",
   "execution_count": 42,
   "metadata": {},
   "outputs": [],
   "source": [
    "result2, scaled_x2 = dbscan(feature, 1.192, 6, normalization='minmax')"
   ]
  },
  {
   "cell_type": "code",
   "execution_count": 43,
   "metadata": {},
   "outputs": [
    {
     "name": "stdout",
     "output_type": "stream",
     "text": [
      "[ 0  1 -1  2 -1 -1  0  1 -1  2 -1  3  0  1 -1  1 -1 -1  0  1 -1  2 -1  3\n",
      "  0  1 -1  2  5 -1  0  1  4  2 -1 -1  0  1 -1  2 -1 -1  0  1 -1  2  5 -1\n",
      "  0  1  4  2  6 -1  0  1 -1  2 -1 -1  0  1 -1  2 -1  3  0  1 -1  2 -1  3\n",
      "  0  1 -1  2 -1 -1  0  1 -1  1 -1  3  0  1 -1  2  5 -1  0  1 -1  2  9  3\n",
      "  0  1 -1  2 -1  3  0  1  4  2  9 -1  0  1 -1  1 -1  7  0  1  4  2 -1  7\n",
      "  0  1 -1  1 -1  3  0  1  4  1 -1  3  0  1  4  2 -1  3  0  1 -1  2 -1  3\n",
      "  0  1 -1  1 -1 -1  0  1  4  1 -1 -1  0  1 -1  1 -1  3  0  1  4  2 -1  3\n",
      "  0  1  4  2  6  3  0  1 -1  1 -1  8  0  1  4  2 -1 -1  0  1 -1  2 -1  8\n",
      "  0  2  4  1 -1  3  0  1  4  1 -1  8  0  1 -1  2 -1  3  0  1  4  1 -1  8\n",
      "  0  1 -1  1 -1  3  0  1 -1  2  9  3  0  1 -1  2 -1 -1  0  1 -1  2 -1  3\n",
      "  0  1 -1  2  6  3  0  1 -1  2 -1  3  0  1 -1  2 -1 -1  0  1 -1  2 -1  3\n",
      "  0  1 -1  1 -1 -1  0  1 -1  1 -1  3  0  1 -1  2 -1 -1  0  1 -1  2  9  3\n",
      "  0  1  4  2 -1 -1  0  1  4  2 -1  3  0  1 -1  2 -1 -1  0  1  4  2  9 -1\n",
      "  0  1 -1  2 -1  3  0  1 -1  2 -1 -1  0  1 -1  1 -1 -1  0  1 -1  2 -1  3\n",
      "  0  1 -1  2 -1 -1  0  1 -1  2 -1  3  0  1  4  1 -1 -1  0  1  4  1 -1 -1\n",
      "  0  1  4  2 -1 -1  0  1  4  2 -1  3  0  1  4  2 -1 -1  0  1 -1  2 -1 -1\n",
      "  0  1  4  2 -1  3  0  1 -1  1 -1 -1  0  1  4  2 -1 -1  0  1  4  2 -1 -1\n",
      "  0  1  4  2 -1 -1  0  2 -1  2 -1  3  0  1 -1  1 -1 -1  0  1 -1  2 -1 -1\n",
      "  0  1 -1  2 -1 -1  0  1  4  2 -1 -1  0  1 -1  2 -1  7  0  1 -1  2 -1  8\n",
      "  0  1 -1  2 -1  3  0  1  4  2 -1 -1  0  2 -1  1 -1 -1  0  2 -1  2 -1 -1\n",
      "  0  1  4  2 -1 -1  0  1 -1  1 -1 -1  0  1 -1  2 -1  3  0  1  4  1 -1  3\n",
      "  0  1 -1  2 -1 -1  0  1 -1  2 -1 -1  0  1 -1  2 -1  3  0  1 -1  2  6  3\n",
      "  0  1  4  2  5 -1  0  1 -1  1 -1 -1  0  2 -1  2 -1 -1  0  1 -1  1 -1 -1\n",
      "  0  1  4  1 -1 -1  0  1  4  2 -1 -1  0  2  4  2 -1  7  0  1 -1  2  6  3\n",
      "  0  1 -1  2 -1 -1  0  1 -1  2 -1 -1  0  1 -1  2 -1 -1  0  1  4  2 -1  3\n",
      "  0  1  4  2 -1  3  0  2 -1  2  6  3  0  1  4  2 -1 -1  0  1  4  2 -1  8\n",
      "  0  1 -1  2 -1  3  0  1  4  2 -1 -1  0  1  3  2 -1 -1  0  1 -1  2 -1  3\n",
      "  0  1  4  2  9 -1  0  1 -1  2 -1 -1  0  1 -1  1 -1 -1  0  1  4  2 -1  8\n",
      "  0  1 -1  1 -1  3  0  1 -1  2  5 -1  0  1  4  1 -1  8  0  1  4  2 -1 -1\n",
      "  0  1  4  1 -1  3  0  1  4  2 -1  3  0  1 -1  2 -1  3  0  1  4  2 -1  3\n",
      "  0 -1 -1  1 -1 -1  0  1  4  2 -1 -1  0  1 -1  1 -1 -1  0  1 -1  1 -1 -1\n",
      "  0  1 -1  2 -1 -1  0  2  4  1 -1 -1  0  1 -1  2 -1 -1  0  1  4  2 -1  3\n",
      "  0  1  4  2 -1 -1  0  1  4  1 -1  3  0  1  4  1 -1 -1  0  1  4  1 -1  3\n",
      "  0  1 -1  1 -1  7  0  1 -1  2 -1 -1  0  1 -1  2 -1 -1  0  1 -1  1 -1  3\n",
      "  0  1 -1  2 -1  3  0  1  4  2 -1  3  0  1 -1  1 -1  3  0  1  4  1 -1  3\n",
      "  0  1 -1  1 -1 -1  0  1 -1  2 -1 -1  0  1  4  2 -1 -1  0  1  4  2 -1  3\n",
      "  0  1 -1  2  5 -1  0  1  4  2 -1 -1  0  1 -1  2  6  3  0  2 -1  2  9 -1\n",
      "  0  1 -1  2 -1 -1  0  1 -1  2 -1 -1  0  1 -1  2 -1 -1  0  1  4  2 -1  3\n",
      "  0  1 -1  2 -1  3  0  1  4  1 -1 -1  0  1 -1  2 -1 -1  0  1 -1  2 -1 -1\n",
      "  0  1  4  2 -1  3  0  1  4  2 -1  3  0  1 -1  2  9 -1  0  1 -1  2 -1  3\n",
      "  0  1 -1  2 -1 -1  0  1  4  1 -1 -1  0  1  4  2  9  3  0  1  4  2 -1 -1\n",
      "  0  1 -1  2 -1 -1  0  1 -1  1 -1  3  0  1  4  2 -1 -1  0  1 -1  1 -1 -1\n",
      "  0  1  4  2 -1 -1  0  1 -1  2  6  3  0  1 -1  1 -1 -1  0  1 -1  1 -1 -1\n",
      "  0  2 -1  2 -1 -1  0  1  4  2 -1 -1  0  1  4  2 -1  3  0  1  4  2 -1 -1\n",
      "  0  1  4  2 -1 -1  0  1  4  2 -1 -1  0  1  4  2 -1 -1  0  2 -1  2 -1 -1\n",
      "  0  1 -1  2 -1 -1  0  2  4  2 -1 -1  0  2  4  2 -1 -1  0  1 -1  2 -1 -1\n",
      "  0  2 -1  2 -1  3  0  1 -1  1 -1 -1  0  1  4  1 -1  8  0  1 -1  1 -1 -1\n",
      "  0  1  4  2 -1 -1  0  1 -1  1 -1 -1]\n"
     ]
    }
   ],
   "source": [
    "print(result2.labels_)"
   ]
  },
  {
   "cell_type": "code",
   "execution_count": 44,
   "metadata": {},
   "outputs": [],
   "source": [
    "y_label2 = [0, 1, 4, 2, 5, 3] * 190"
   ]
  },
  {
   "cell_type": "code",
   "execution_count": 45,
   "metadata": {},
   "outputs": [
    {
     "name": "stdout",
     "output_type": "stream",
     "text": [
      "0.5719298245614035\n"
     ]
    }
   ],
   "source": [
    "class2_ = np.array(result2.labels_)\n",
    "accuracy2 = getAccuracy(y_label2, class2_)\n",
    "print(accuracy2)"
   ]
  },
  {
   "cell_type": "code",
   "execution_count": 46,
   "metadata": {},
   "outputs": [],
   "source": [
    "result3, scaled_x3 = hierarchicalClustering(feature, 6)"
   ]
  },
  {
   "cell_type": "code",
   "execution_count": 47,
   "metadata": {},
   "outputs": [
    {
     "name": "stdout",
     "output_type": "stream",
     "text": [
      "[5 0 2 4 3 1 5 0 2 4 3 1 5 0 2 0 3 1 5 0 2 4 3 1 5 0 2 4 3 1 5 0 2 4 3 1 5\n",
      " 0 2 4 3 1 5 0 2 4 3 1 5 0 2 4 3 1 5 0 1 4 3 1 5 0 2 4 3 1 5 0 2 4 3 1 5 0\n",
      " 2 4 3 1 5 0 2 0 3 1 5 0 2 4 3 1 5 0 2 4 3 1 5 0 2 4 3 1 5 0 2 4 3 1 5 0 2\n",
      " 0 3 1 5 0 2 4 3 1 5 0 2 0 3 1 5 0 2 0 3 1 5 0 2 4 3 1 5 0 2 4 3 1 5 0 2 0\n",
      " 3 1 5 0 2 0 3 1 5 0 2 0 3 1 5 0 2 4 3 1 5 0 2 4 3 1 5 0 2 0 3 1 5 0 2 4 3\n",
      " 1 5 0 2 4 3 1 5 4 2 0 3 1 5 0 2 0 3 1 5 0 2 4 3 1 5 0 2 0 3 1 5 0 2 0 3 1\n",
      " 5 0 2 4 3 1 5 0 2 4 3 1 5 0 2 4 3 1 5 0 2 4 3 1 5 0 2 4 3 1 5 0 2 4 3 1 5\n",
      " 0 2 4 3 1 5 0 2 0 3 1 5 0 2 0 3 1 5 0 2 4 3 1 5 0 2 4 3 1 5 0 2 4 3 1 5 0\n",
      " 2 4 3 1 5 0 2 4 3 1 5 0 2 4 3 1 5 0 2 4 3 1 5 0 2 4 3 1 5 0 2 0 3 1 5 0 2\n",
      " 4 3 1 5 0 2 4 3 1 5 0 2 4 3 1 5 0 2 0 3 1 5 0 2 0 3 1 5 0 2 4 3 1 5 0 2 4\n",
      " 3 1 5 0 2 4 3 1 5 0 2 4 3 1 5 0 2 4 3 1 5 0 2 0 3 1 5 0 2 4 3 1 5 0 2 4 3\n",
      " 1 5 0 2 4 3 1 5 4 2 4 3 1 5 0 2 0 3 1 5 0 2 4 3 1 5 0 2 4 3 1 5 0 2 4 3 1\n",
      " 5 0 2 4 3 1 5 0 2 4 3 1 5 0 2 4 3 1 5 0 2 4 3 1 5 4 1 0 3 1 5 4 1 4 3 1 5\n",
      " 0 2 4 3 1 5 0 2 0 3 1 5 0 2 4 3 1 5 0 2 0 3 1 5 0 2 4 3 1 5 0 2 4 3 1 5 0\n",
      " 2 4 3 1 5 0 2 4 3 1 5 0 2 4 3 1 5 0 2 0 3 1 5 4 2 4 3 1 5 0 2 0 3 1 5 0 2\n",
      " 0 3 1 5 0 2 4 3 1 5 4 2 4 3 1 5 0 2 4 3 1 5 0 2 4 3 1 5 0 2 4 3 1 5 0 2 4\n",
      " 3 1 5 0 2 4 3 1 5 0 2 4 3 1 5 4 2 4 3 1 5 0 2 4 3 1 5 0 2 4 3 1 5 0 2 4 3\n",
      " 1 5 0 2 4 3 1 5 0 1 4 3 1 5 0 2 4 3 1 5 0 2 4 3 1 5 0 2 4 3 1 5 0 2 0 3 1\n",
      " 5 0 2 4 3 1 5 0 2 0 3 1 5 0 2 4 3 1 5 0 2 0 3 1 5 0 2 4 3 1 5 0 2 0 3 1 5\n",
      " 0 2 4 3 1 5 0 2 4 3 1 5 0 2 4 3 1 5 4 2 0 3 1 5 0 2 4 3 1 5 0 2 0 3 1 5 0\n",
      " 2 0 1 1 5 0 2 4 3 1 5 4 2 0 3 1 5 0 2 4 3 1 5 0 2 4 3 1 5 0 2 4 3 1 5 0 2\n",
      " 0 3 1 5 0 2 0 3 1 5 0 2 0 3 1 5 0 2 0 3 1 5 0 2 4 3 1 5 0 2 4 3 1 5 0 2 0\n",
      " 3 1 5 0 2 4 3 1 5 0 2 4 3 1 5 0 1 0 3 1 5 0 2 0 3 1 5 0 2 0 3 1 5 0 2 4 3\n",
      " 1 5 0 2 4 3 1 5 0 2 4 3 1 5 0 2 4 3 1 5 0 2 4 3 1 5 0 2 4 3 1 5 4 2 4 3 1\n",
      " 5 0 2 4 3 1 5 0 2 4 3 1 5 0 2 4 3 1 5 0 2 4 3 1 5 0 2 4 3 1 5 0 2 0 3 1 5\n",
      " 0 2 4 3 1 5 0 2 4 3 1 5 0 2 4 3 1 5 0 2 4 3 1 5 0 2 4 3 1 5 0 2 4 3 1 5 0\n",
      " 2 4 3 1 5 0 2 0 3 1 5 0 2 4 3 1 5 0 2 4 3 1 5 0 2 4 3 1 5 0 2 0 3 1 5 0 2\n",
      " 4 3 1 5 0 2 0 3 1 5 0 2 4 3 1 5 0 2 4 3 1 5 0 2 0 3 1 5 0 2 0 3 1 5 4 2 4\n",
      " 3 1 5 0 2 4 3 1 5 0 2 4 3 1 5 0 2 4 3 1 5 0 2 4 3 1 5 0 2 4 3 1 5 0 2 4 3\n",
      " 1 5 4 2 4 3 1 5 0 2 4 3 1 5 4 2 4 3 1 5 4 2 4 3 1 5 0 2 4 3 1 5 4 1 4 3 1\n",
      " 5 0 2 0 3 1 5 0 2 0 3 1 5 0 2 0 3 1 5 0 2 4 3 1 5 0 1 0 3 1]\n"
     ]
    }
   ],
   "source": [
    "print(result3.labels_)"
   ]
  },
  {
   "cell_type": "code",
   "execution_count": 50,
   "metadata": {},
   "outputs": [],
   "source": [
    "y_label3 = [5, 0, 2, 4, 3, 1] * 190"
   ]
  },
  {
   "cell_type": "code",
   "execution_count": 51,
   "metadata": {},
   "outputs": [
    {
     "name": "stdout",
     "output_type": "stream",
     "text": [
      "0.9342105263157895\n"
     ]
    }
   ],
   "source": [
    "class3_ = np.array(result3.labels_)\n",
    "accuracy3 = getAccuracy(y_label3, class3_)\n",
    "print(accuracy3)"
   ]
  },
  {
   "cell_type": "code",
   "execution_count": 53,
   "metadata": {},
   "outputs": [
    {
     "name": "stdout",
     "output_type": "stream",
     "text": [
      "CMAMP_RP1_96의 KMeans Accuray : 0.9359649122807018\n",
      "CMAMP_RP1_96의 DBSCAN Accuray : 0.5719298245614035\n",
      "CMAMP_RP1_96의 계층적 군집화 Accuray : 0.9342105263157895\n"
     ]
    }
   ],
   "source": [
    "print(\"CMAMP_RP1_96의 KMeans Accuray : \" + str(accuracy))\n",
    "print(\"CMAMP_RP1_96의 DBSCAN Accuray : \" + str(accuracy2))\n",
    "print(\"CMAMP_RP1_96의 계층적 군집화 Accuray : \" + str(accuracy3))"
   ]
  },
  {
   "cell_type": "code",
   "execution_count": null,
   "metadata": {},
   "outputs": [],
   "source": []
  }
 ],
 "metadata": {
  "kernelspec": {
   "display_name": "Python 3",
   "language": "python",
   "name": "python3"
  },
  "language_info": {
   "codemirror_mode": {
    "name": "ipython",
    "version": 3
   },
   "file_extension": ".py",
   "mimetype": "text/x-python",
   "name": "python",
   "nbconvert_exporter": "python",
   "pygments_lexer": "ipython3",
   "version": "3.8.7"
  }
 },
 "nbformat": 4,
 "nbformat_minor": 4
}
