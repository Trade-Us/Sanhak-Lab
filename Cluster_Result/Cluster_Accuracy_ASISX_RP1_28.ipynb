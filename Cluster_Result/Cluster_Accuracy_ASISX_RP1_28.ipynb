{
 "cells": [
  {
   "cell_type": "code",
   "execution_count": 1,
   "metadata": {},
   "outputs": [],
   "source": [
    "import numpy as np\n",
    "\n",
    "compressed = np.load('./compressed4.npy')\n",
    "feature = np.load('./feature4.npy')\n",
    "X_scaled = np.load('./X_scaled4.npy')"
   ]
  },
  {
   "cell_type": "code",
   "execution_count": 2,
   "metadata": {},
   "outputs": [
    {
     "name": "stdout",
     "output_type": "stream",
     "text": [
      "(1330, 28, 28, 1)\n",
      "(1330, 7, 7, 2)\n"
     ]
    }
   ],
   "source": [
    "print(X_scaled.shape)\n",
    "print(compressed.shape)"
   ]
  },
  {
   "cell_type": "code",
   "execution_count": 3,
   "metadata": {},
   "outputs": [],
   "source": [
    "# Clustering Algorithm\n",
    "from sklearn.cluster import DBSCAN\n",
    "from sklearn.cluster import KMeans\n",
    "from sklearn.cluster import SpectralClustering, AgglomerativeClustering\n",
    "\n",
    "# Normalization\n",
    "from sklearn.preprocessing import MinMaxScaler\n",
    "from sklearn.preprocessing import StandardScaler\n",
    "\n",
    "# Needed Library!\n",
    "import pandas as pd\n",
    "import numpy as np\n",
    "import matplotlib.pyplot as plt"
   ]
  },
  {
   "cell_type": "code",
   "execution_count": 4,
   "metadata": {},
   "outputs": [],
   "source": [
    "# Accuracy를 가져오는 함수\n",
    "# data_y: 정답 데이터\n",
    "# pred_y: 예측 데이터\n",
    "def getAccuracy(data_y, pred_y):\n",
    "    count = 0\n",
    "    bool_array = (data_y == pred_y)\n",
    "    for correct in bool_array:\n",
    "        if(correct):\n",
    "            count += 1\n",
    "    return count / pred_y.size"
   ]
  },
  {
   "cell_type": "code",
   "execution_count": 5,
   "metadata": {},
   "outputs": [],
   "source": [
    "# 정답 레이블 만들기\n",
    "## 원하는 클래스 레이블의 리스트를 넘긴다.\n",
    "## ex) list = [1, 4, 5] -> 클래스 1번, 4번, 5번 에 대하여 레이블 생성\n",
    "def getClassLabelFor(list, batch_size=190):\n",
    "    y=np.array([])\n",
    "    for i in list:\n",
    "        y_=np.full((1, batch_size), i)[0]\n",
    "        y=np.hstack([y, y_])\n",
    "\n",
    "    return y"
   ]
  },
  {
   "cell_type": "code",
   "execution_count": 6,
   "metadata": {},
   "outputs": [],
   "source": [
    "# Cluster Algorithm\n",
    "def kmeans(dataset, n_clusters, normalization='standard'):\n",
    "\n",
    "    scaled_dataset = []\n",
    "    if normalization == 'standard':\n",
    "        scaler = StandardScaler().fit(dataset)\n",
    "        scaled_dataset = scaler.transform(dataset)\n",
    "    elif normalization == 'minmax':\n",
    "        scaler = MinMaxScaler().fit(dataset)\n",
    "        scaled_dataset = scaler.transform(dataset)\n",
    "    else:\n",
    "        scaled_dataset = dataset\n",
    "        print(\"정규화 진행 안함\")\n",
    "    print(\"Scaled_dataset: \\n{}\".format(scaled_dataset))\n",
    "    cluster_data = KMeans(n_clusters=n_clusters).fit(scaled_dataset)\n",
    "    return cluster_data, scaled_dataset\n",
    "\n",
    "# DBSCAN\n",
    "def dbscan(dataset, eps=0.5, min_samples=5, normalization='standard'):\n",
    "   \n",
    "    scaled_dataset = []\n",
    "    if normalization == 'standard':\n",
    "        scaler = StandardScaler().fit(dataset)\n",
    "        scaled_dataset = scaler.transform(dataset)\n",
    "    elif normalization == 'minmax':\n",
    "        scaler = MinMaxScaler().fit(dataset)\n",
    "        scaled_dataset = scaler.transform(dataset)\n",
    "    else:\n",
    "        scaled_dataset = dataset\n",
    "        print(\"정규화 진행 안함\")\n",
    "\n",
    "    dbscan = DBSCAN(eps=eps, min_samples=min_samples)\n",
    "    cluster_data = dbscan.fit(scaled_dataset)\n",
    "    return cluster_data, scaled_dataset\n",
    "\n",
    "# Spectral Clustering\n",
    "def spectralClustering(dataset, n_clusters, n_init = 10, normalization='standard'):\n",
    "    \n",
    "    #scaled_dataset = norm(dataset, normalization=normalization)\n",
    "    scaled_dataset = []\n",
    "    if normalization == 'standard':\n",
    "        scaler = StandardScaler().fit(dataset)\n",
    "        scaled_dataset = scaler.transform(dataset)\n",
    "    elif normalization == 'minmax':\n",
    "        scaler = MinMaxScaler().fit(dataset)\n",
    "        scaled_dataset = scaler.transform(dataset)\n",
    "    else:\n",
    "        scaled_dataset = dataset\n",
    "        print(\"정규화 진행 안함\")\n",
    "    cluster_data = SpectralClustering(n_clusters=n_clusters, n_init=n_init).fit(scaled_dataset)\n",
    "    return cluster_data, scaled_dataset\n",
    "\n",
    "# Hierarchical Clustering\n",
    "def hierarchicalClustering(dataset, n_clusters, n_init = 10, linkage = 'ward', normalization='standard'):\n",
    "\n",
    "    #scaled_dataset = norm(dataset, normalization=normalization)\n",
    "    scaled_dataset = []\n",
    "    if normalization == 'standard':\n",
    "        scaler = StandardScaler().fit(dataset)\n",
    "        scaled_dataset = scaler.transform(dataset)\n",
    "    elif normalization == 'minmax':\n",
    "        scaler = MinMaxScaler().fit(dataset)\n",
    "        scaled_dataset = scaler.transform(dataset)\n",
    "    else:\n",
    "        scaled_dataset = dataset\n",
    "        print(\"정규화 진행 안함\")\n",
    "    cluster_data = AgglomerativeClustering(n_clusters = n_clusters, linkage = linkage ).fit(scaled_dataset)\n",
    "    return cluster_data, scaled_dataset"
   ]
  },
  {
   "cell_type": "code",
   "execution_count": 7,
   "metadata": {},
   "outputs": [
    {
     "name": "stdout",
     "output_type": "stream",
     "text": [
      "Scaled_dataset: \n",
      "[[0.5650824  0.3389668  0.48680142 ... 0.2651287  0.15985456 0.09067261]\n",
      " [0.14653423 0.37081832 0.23992121 ... 0.70367575 0.         0.40230024]\n",
      " [0.7119544  0.92514485 0.59025264 ... 0.581699   0.01537091 0.6982856 ]\n",
      " ...\n",
      " [0.2368486  0.6325552  0.6907741  ... 0.10357791 0.01596511 0.09261549]\n",
      " [0.1760668  0.36391813 0.20140629 ... 0.14144441 0.47990534 0.41146702]\n",
      " [0.06501773 0.29593056 0.48553616 ... 0.47705004 0.57893443 0.38249332]]\n"
     ]
    }
   ],
   "source": [
    "result, scaled_x = kmeans(feature, 7, normalization='minmax')"
   ]
  },
  {
   "cell_type": "code",
   "execution_count": 8,
   "metadata": {},
   "outputs": [
    {
     "name": "stdout",
     "output_type": "stream",
     "text": [
      "[0 5 6 1 2 3 4 0 5 6 1 2 3 4 0 5 6 1 2 3 4 0 5 6 1 2 3 4 0 5 6 1 2 3 4 0 5\n",
      " 6 1 2 3 4 0 5 6 1 2 3 4 0 5 6 1 2 3 4 0 5 6 1 0 3 4 0 5 6 1 2 3 4 0 1 0 1\n",
      " 2 3 4 0 5 6 1 2 3 4 0 5 0 1 2 3 4 0 5 6 1 2 3 4 0 5 6 1 2 3 4 0 5 6 1 2 3\n",
      " 4 0 5 6 1 2 3 4 0 5 6 1 2 3 4 0 5 6 1 2 3 4 0 1 6 1 2 3 4 0 1 6 1 2 3 4 0\n",
      " 1 6 1 2 3 4 0 1 6 1 2 3 4 0 1 6 1 2 3 4 0 1 6 1 2 3 4 0 1 6 1 2 3 4 0 1 0\n",
      " 1 2 3 4 0 1 6 1 2 3 4 0 1 6 1 2 3 4 0 5 6 1 2 3 4 0 1 6 1 2 3 4 0 1 6 1 2\n",
      " 3 4 0 1 6 1 2 3 4 0 1 6 1 2 3 4 0 1 6 1 2 3 4 0 1 6 1 2 3 4 0 1 6 1 2 3 4\n",
      " 0 1 6 1 2 3 4 0 5 6 1 2 4 4 0 5 6 5 2 3 4 0 5 6 5 0 4 4 0 5 6 5 2 4 4 4 5\n",
      " 6 1 2 4 4 0 5 6 5 2 4 4 0 5 6 1 2 3 4 0 5 6 5 2 4 4 0 5 6 5 0 4 4 0 5 6 5\n",
      " 2 4 0 0 1 6 1 2 4 4 0 5 6 1 2 3 4 0 5 6 1 2 3 4 0 5 6 1 2 3 4 0 5 6 1 2 4\n",
      " 0 0 5 6 5 2 4 4 0 5 6 1 2 3 4 0 5 6 5 2 3 4 0 5 6 5 2 3 4 0 1 6 1 2 3 4 0\n",
      " 1 6 1 2 3 4 0 1 6 1 2 3 4 0 1 6 1 2 3 4 0 1 6 1 2 3 4 0 1 6 1 2 3 4 0 1 6\n",
      " 1 2 3 4 0 1 0 1 2 3 4 0 1 6 1 2 3 4 0 1 6 1 2 3 4 0 5 6 1 2 3 4 0 1 6 1 2\n",
      " 3 4 0 1 6 1 2 3 4 0 1 6 1 2 3 4 0 1 6 1 2 3 4 0 1 6 1 2 3 4 0 1 6 1 2 3 4\n",
      " 0 1 6 1 2 3 4 0 1 6 1 2 3 4 0 1 6 1 2 3 4 0 1 6 1 2 3 4 0 1 6 1 2 3 4 0 1\n",
      " 6 1 2 3 4 0 1 6 1 2 3 4 0 1 6 1 2 3 4 0 1 6 1 2 3 4 0 1 6 1 2 3 4 0 1 6 1\n",
      " 2 3 4 0 1 6 1 2 3 4 0 1 0 1 2 3 4 4 1 6 1 2 3 4 0 1 6 1 2 3 4 0 1 6 1 2 3\n",
      " 4 0 1 6 1 2 3 4 0 1 6 1 2 3 4 0 1 6 1 2 3 4 0 1 6 1 2 3 4 0 1 6 1 2 3 4 0\n",
      " 5 6 1 2 3 4 4 5 6 1 2 3 0 0 5 6 1 2 3 4 0 5 6 1 2 3 4 0 5 6 1 2 3 4 0 5 6\n",
      " 1 2 3 0 0 5 6 1 2 3 4 0 5 6 1 2 3 4 0 5 6 1 2 3 4 0 5 6 1 2 3 4 0 1 0 1 2\n",
      " 3 4 0 5 6 1 2 3 4 0 5 6 1 2 3 4 0 5 6 1 2 3 4 0 5 6 1 2 3 4 0 5 6 1 2 3 4\n",
      " 0 5 6 1 2 3 4 0 5 6 1 2 3 4 0 5 6 1 2 3 4 0 1 6 1 2 3 4 0 1 6 1 2 3 4 0 1\n",
      " 6 1 2 3 4 0 1 6 1 2 3 4 0 1 6 1 2 3 4 0 1 6 1 2 3 4 0 1 6 1 2 3 4 0 1 6 1\n",
      " 2 3 4 0 1 6 1 2 3 4 0 1 6 1 2 3 4 6 5 6 1 2 3 4 0 1 6 1 2 3 4 0 1 6 1 2 3\n",
      " 4 0 1 6 1 2 3 4 0 1 6 1 2 3 4 0 1 6 1 2 3 4 0 1 6 1 2 3 4 0 1 6 1 2 3 4 0\n",
      " 1 6 1 2 3 4 0 5 6 5 2 4 4 0 5 6 5 2 4 6 0 5 6 5 0 4 0 0 5 6 5 0 4 4 0 5 6\n",
      " 5 2 4 0 0 5 6 5 2 4 4 0 5 6 5 2 4 4 0 5 6 5 2 4 4 0 5 6 5 2 4 0 0 5 6 5 2\n",
      " 4 6 0 1 0 1 2 4 4 0 5 6 1 2 3 4 0 5 6 1 2 3 0 0 5 6 5 2 4 4 0 5 6 5 2 3 4\n",
      " 0 5 6 5 0 4 0 4 5 6 5 2 4 4 0 5 6 5 2 4 4 0 5 6 5 2 4 0 0 1 6 1 2 3 4 0 1\n",
      " 6 1 2 3 4 0 1 6 1 2 3 4 0 1 6 1 2 3 4 0 1 6 1 2 3 4 0 1 6 1 2 3 4 0 1 6 1\n",
      " 2 3 4 0 1 6 1 2 3 4 0 1 6 1 2 3 4 0 1 0 1 2 3 4 0 5 6 1 2 3 4 6 1 6 1 2 3\n",
      " 4 0 1 6 1 2 3 4 0 1 6 1 2 3 4 0 1 6 1 2 3 4 4 1 6 1 2 3 4 0 1 6 1 2 3 4 0\n",
      " 1 6 1 2 3 4 4 1 6 1 2 3 4 0 1 6 1 2 3 4 0 1 6 1 2 3 4 0 1 6 1 2 3 4 0 1 6\n",
      " 1 2 3 4 0 1 6 1 2 3 4 0 1 6 1 2 3 4 0 1 6 1 2 3 4 0 1 6 1 2 3 4 0 1 6 1 2\n",
      " 3 4 0 1 6 1 2 3 4 0 1 0 1 2 3 4 0 1 6 1 2 3 4 0 1 6 1 2 3 4 0 1 6 1 2 3 4\n",
      " 0 1 6 1 2 3 4 0 1 6 1 2 3 4 0 1 6 1 2 3 4 0 1 6 1 2 3 4 0 1 6 1 2 3 4]\n"
     ]
    }
   ],
   "source": [
    "import sys\n",
    "import numpy\n",
    "\n",
    "numpy.set_printoptions(threshold=sys.maxsize)\n",
    "print(result.labels_)"
   ]
  },
  {
   "cell_type": "code",
   "execution_count": 9,
   "metadata": {},
   "outputs": [],
   "source": [
    "y_label = [0, 5, 6, 1, 2, 3, 4] * 190"
   ]
  },
  {
   "cell_type": "code",
   "execution_count": 10,
   "metadata": {},
   "outputs": [
    {
     "name": "stdout",
     "output_type": "stream",
     "text": [
      "0.8481203007518797\n"
     ]
    }
   ],
   "source": [
    "class_ = np.array(result.labels_)\n",
    "accuracy = getAccuracy(y_label, class_)\n",
    "print(accuracy)"
   ]
  },
  {
   "cell_type": "code",
   "execution_count": 109,
   "metadata": {},
   "outputs": [],
   "source": [
    "result2, scaled_x2 = dbscan(feature, 0.9713975, 7, normalization='minmax')"
   ]
  },
  {
   "cell_type": "code",
   "execution_count": 110,
   "metadata": {},
   "outputs": [
    {
     "name": "stdout",
     "output_type": "stream",
     "text": [
      "[-1  0 -1  1 -1  2 -1 -1  0 -1  1 -1  2 -1 -1  0 -1  1  5  2 -1 -1  0 -1\n",
      "  1 -1  2 -1 -1  0 -1  1 -1  2 -1 -1  0 -1  1 -1  2 -1 -1  0 -1  1 -1  2\n",
      " -1 -1  0 -1  1 -1  2 -1 -1  0 -1  1 -1  2 -1 -1  0 -1  1 -1  2 -1 -1  1\n",
      " -1  1 -1  2 -1 -1  0 -1  1 -1  2 -1 -1  0 -1  1 -1  2 -1 -1  0 -1  1 -1\n",
      "  2 -1 -1  0 -1  1 -1  2 -1 -1  0 -1  1 -1  2 -1 -1  0 -1  1 -1  2 -1 -1\n",
      "  0 -1  1 -1  2 -1 -1  0 -1  1 -1  2 -1 -1  1 -1  1 -1  2 -1 -1  1 -1  1\n",
      " -1  2 -1 -1  1 -1  1 -1  2 -1 -1  1 -1  1 -1  2 -1 -1  1 -1  1 -1  2 -1\n",
      " -1  1 -1  1 -1  2 -1 -1  1 -1  1 -1  2 -1 -1  1 -1  1 -1  2 -1 -1  1 -1\n",
      "  1 -1  2 -1 -1  1 -1  1 -1  2 -1 -1  0 -1  1 -1  2 -1 -1  1 -1  1 -1  2\n",
      " -1 -1  1 -1  1 -1  2 -1 -1  1 -1  1 -1  2 -1 -1  1 -1  1 -1  2 -1 -1  1\n",
      " -1  1 -1  2 -1 -1  1 -1  1 -1  2 -1 -1  1 -1  1 -1  2 -1 -1  1 -1  1 -1\n",
      "  2 -1 -1  0 -1  1 -1  3 -1 -1  0 -1 -1 -1  2 -1 -1  0 -1 -1 -1  3 -1 -1\n",
      "  0 -1 -1 -1  3 -1 -1  0 -1  1 -1  3 -1 -1  0 -1 -1 -1  3 -1 -1  0 -1  1\n",
      " -1  2 -1 -1  0 -1 -1 -1  3 -1 -1  0 -1 -1 -1  3 -1 -1  0 -1  4 -1  3 -1\n",
      " -1  1 -1  1 -1 -1 -1 -1  0 -1  1  5  2 -1 -1  0 -1  1  5 -1 -1 -1  0 -1\n",
      "  1  5  2 -1 -1  0 -1  1 -1  3 -1 -1  0 -1 -1 -1  3 -1 -1  0 -1  1 -1  2\n",
      " -1 -1  0 -1 -1 -1  2 -1 -1  0 -1 -1 -1  2 -1 -1  1 -1  1 -1  2 -1 -1  1\n",
      " -1  1 -1  2 -1 -1  1 -1  1 -1  2 -1 -1  1 -1  1 -1  2 -1 -1  1 -1  1 -1\n",
      "  2 -1 -1  1 -1  1 -1  2 -1 -1  1 -1  1 -1  2 -1 -1  1 -1  1 -1  2 -1 -1\n",
      "  1 -1  1 -1  2 -1 -1  1 -1  1 -1  2 -1 -1  0 -1  1 -1  2 -1 -1  1 -1  1\n",
      " -1  2 -1 -1  1 -1  1 -1  2 -1 -1  1  7  1 -1  2 -1 -1  1  7  1 -1  2 -1\n",
      " -1  1 -1  1 -1  2 -1 -1  1 -1  1 -1  2 -1 -1  1 -1  1 -1  2 -1 -1  1 -1\n",
      "  1 -1  2 -1 -1  1  7  1 -1  2 -1 -1  1 -1  1 -1  2 -1 -1  1 -1  1 -1  2\n",
      " -1 -1  1 -1  1 -1  2 -1 -1  1 -1  1 -1  2 -1 -1  1  7  1 -1  2 -1 -1  1\n",
      " -1  1 -1  2 -1 -1  1 -1  1 -1  2 -1 -1  1 -1  1 -1  2 -1 -1  1 -1  1 -1\n",
      "  2 -1 -1  1 -1  1 -1  2 -1 -1  1 -1  1 -1  2 -1 -1  1 -1  1 -1  2 -1 -1\n",
      "  1 -1  1 -1  2 -1 -1  1 -1  1 -1  2 -1 -1  1  7  1 -1  2 -1 -1  1 -1  1\n",
      " -1  2 -1 -1  1 -1  1 -1  2 -1 -1  1 -1  1 -1  2 -1 -1  0 -1  1 -1  2 -1\n",
      " -1  0 -1  1  5  2 -1 -1  0 -1  1 -1  2 -1 -1  0 -1  1  5  2 -1 -1  0 -1\n",
      "  1  5  2 -1 -1  0 -1  1 -1  2 -1 -1  0 -1  1  5  2 -1 -1  0 -1  1  5  2\n",
      " -1 -1  0 -1  1  5  2 -1 -1  0 -1  1  5  2 -1 -1  1 -1  1 -1  2 -1 -1  0\n",
      " -1  1 -1  2 -1 -1  0 -1  1 -1  2 -1 -1  0 -1  1 -1  2 -1 -1  0 -1  1 -1\n",
      "  2 -1 -1  0 -1  1 -1  2 -1 -1  0 -1  1 -1  2 -1 -1  0 -1  1 -1  2 -1 -1\n",
      "  0 -1  1 -1  2 -1 -1  1 -1  1 -1  2 -1 -1  1 -1  1 -1  2 -1 -1  1 -1  1\n",
      " -1  2 -1 -1  1 -1  1 -1  2 -1 -1  1 -1  1 -1  2 -1 -1  1 -1  1 -1  2 -1\n",
      " -1  1 -1  1 -1  2 -1 -1  1 -1  1 -1  2 -1 -1  1 -1  1 -1  2 -1 -1  1 -1\n",
      "  1 -1  2 -1 -1  0 -1  1 -1  2 -1 -1  1 -1  1 -1  2 -1 -1  1 -1  1 -1  2\n",
      " -1 -1  1 -1  1 -1  2 -1 -1  1 -1  1 -1  2 -1 -1  1 -1  1 -1  2 -1 -1  1\n",
      " -1  1 -1  2 -1 -1  1 -1  1 -1  2 -1 -1  1 -1  1 -1  2 -1 -1  0 -1 -1 -1\n",
      " -1 -1 -1  0 -1 -1 -1  6 -1 -1  0 -1  4 -1  6 -1 -1  0 -1  4 -1  6 -1 -1\n",
      "  0 -1  4 -1  6 -1 -1  0 -1  4 -1  6 -1 -1  0 -1  4 -1  6 -1 -1  0 -1 -1\n",
      " -1  6 -1 -1  0 -1 -1 -1  6 -1 -1  0 -1  0 -1 -1 -1 -1  1 -1  1 -1  3 -1\n",
      " -1  0 -1  1 -1  2 -1 -1  0 -1  1 -1  2 -1 -1  0 -1 -1 -1  3 -1 -1  0 -1\n",
      " -1 -1  2 -1 -1  0 -1  4 -1  6 -1 -1  0 -1 -1 -1  3 -1 -1  0 -1  4 -1  3\n",
      " -1 -1  0 -1  4 -1  3 -1 -1  1 -1  1 -1  2 -1 -1  1 -1  1 -1  2 -1 -1  1\n",
      " -1  1 -1  2 -1 -1  1 -1  1 -1  2 -1 -1  1 -1  1 -1  2 -1 -1  1 -1  1 -1\n",
      "  2 -1 -1  1 -1  1 -1  2 -1 -1  1 -1  1 -1  2 -1 -1  1 -1  1 -1  2 -1 -1\n",
      "  1 -1  1 -1  2 -1 -1  0 -1  1 -1  2 -1 -1  1 -1  1 -1  2 -1 -1  1 -1  1\n",
      " -1  2 -1 -1  1 -1  1 -1  2 -1 -1  1 -1  1 -1  2 -1 -1  1 -1  1 -1  2 -1\n",
      " -1  1 -1  1 -1  2 -1 -1  1 -1  1 -1  2 -1 -1  1 -1  1 -1  2 -1 -1  1  7\n",
      "  1 -1  2 -1 -1  1 -1  1 -1  2 -1 -1  1 -1  1 -1  2 -1 -1  1  7  1 -1  2\n",
      " -1 -1  1 -1  1 -1  2 -1 -1  1 -1  1 -1  2 -1 -1  1 -1  1 -1  2 -1 -1  1\n",
      " -1  1 -1  2 -1 -1  1 -1  1 -1  2 -1 -1  1 -1  1 -1  2 -1 -1  1 -1  1 -1\n",
      "  2 -1 -1  1 -1  1 -1  2 -1 -1  1 -1  1 -1  2 -1 -1  1 -1  1 -1  2 -1 -1\n",
      "  1 -1  1 -1  2 -1 -1  1 -1  1 -1  2 -1 -1  1 -1  1 -1  2 -1 -1  1  7  1\n",
      " -1  2 -1 -1  1 -1  1 -1  2 -1]\n"
     ]
    }
   ],
   "source": [
    "print(result2.labels_)"
   ]
  },
  {
   "cell_type": "code",
   "execution_count": 111,
   "metadata": {},
   "outputs": [],
   "source": [
    "result3, scaled_x3 = hierarchicalClustering(feature, 7)"
   ]
  },
  {
   "cell_type": "code",
   "execution_count": 112,
   "metadata": {},
   "outputs": [
    {
     "name": "stdout",
     "output_type": "stream",
     "text": [
      "[2 3 5 4 0 1 6 2 3 5 4 0 1 6 2 3 5 4 0 1 6 2 3 5 4 0 1 6 2 3 5 4 0 1 6 2 3\n",
      " 5 4 0 1 6 2 3 5 4 0 1 6 2 3 5 4 0 1 6 2 3 5 4 0 1 6 2 3 5 4 0 1 6 2 4 2 4\n",
      " 0 1 6 2 3 5 4 0 1 6 2 3 2 4 0 1 6 2 3 5 4 0 1 6 2 3 2 4 0 1 2 2 3 5 4 0 1\n",
      " 6 2 3 5 4 0 1 6 2 3 5 4 0 1 6 2 3 5 4 0 1 6 2 4 5 4 0 1 6 2 4 5 4 0 1 6 2\n",
      " 4 5 4 0 1 6 2 4 5 4 0 1 6 2 4 5 4 0 1 6 2 4 5 4 0 1 6 6 4 5 4 0 1 6 2 4 2\n",
      " 4 0 1 6 2 4 5 4 0 1 6 6 4 5 4 0 1 6 2 3 5 4 0 1 6 2 4 2 4 0 1 6 2 4 2 4 0\n",
      " 1 6 2 4 5 4 0 1 6 2 4 2 4 0 1 6 2 4 5 4 0 1 6 2 4 5 4 0 1 6 2 4 5 4 0 1 6\n",
      " 2 4 5 4 0 1 6 2 3 5 4 0 2 6 2 3 5 3 0 1 6 2 3 5 3 0 2 6 2 3 5 3 0 2 6 2 3\n",
      " 5 4 0 2 6 2 3 5 3 0 2 6 2 3 5 4 0 1 6 2 3 5 3 0 2 6 2 3 5 3 0 2 6 2 3 5 3\n",
      " 0 2 6 2 4 5 4 0 2 6 2 3 5 4 0 1 6 2 3 5 4 0 1 6 2 3 5 4 0 1 6 2 3 5 4 0 2\n",
      " 6 2 3 5 3 0 2 6 2 3 5 4 0 1 2 2 3 5 3 0 1 6 2 3 5 3 0 1 6 2 4 5 4 0 1 6 2\n",
      " 4 5 4 0 1 6 2 4 5 4 0 1 6 2 4 5 4 0 1 6 2 4 5 4 0 1 6 2 4 5 4 0 1 6 2 4 5\n",
      " 4 0 1 6 2 4 5 4 0 1 6 2 4 5 4 0 1 6 2 4 5 4 0 1 6 2 3 5 4 0 1 6 2 4 5 4 0\n",
      " 1 6 2 4 5 4 0 1 6 2 4 5 4 0 1 6 2 4 5 4 0 1 6 2 4 5 4 0 1 6 2 4 5 4 0 1 6\n",
      " 2 4 5 4 0 1 6 2 4 5 4 0 1 6 2 4 5 4 0 1 6 2 4 5 4 0 1 6 2 4 5 4 0 1 6 2 4\n",
      " 5 4 0 1 6 2 4 5 4 0 1 6 2 4 5 4 0 1 6 2 4 5 4 0 1 6 2 4 5 4 0 1 6 2 4 5 4\n",
      " 0 1 6 2 4 5 4 0 1 6 2 4 2 4 0 1 6 6 4 2 4 0 1 6 2 4 5 4 0 1 6 2 4 5 4 0 1\n",
      " 6 2 4 5 4 0 1 6 2 4 5 4 0 1 6 2 4 5 4 0 1 6 2 4 5 4 0 1 6 2 4 5 4 0 1 6 2\n",
      " 3 5 4 0 1 6 2 3 5 4 0 1 6 2 3 5 4 0 1 6 2 3 5 4 0 1 6 2 3 5 4 0 1 6 2 3 5\n",
      " 4 0 1 6 2 3 5 4 0 1 6 2 3 5 4 0 1 6 2 3 5 4 0 1 6 2 3 5 4 0 1 6 2 4 2 4 0\n",
      " 1 6 2 3 5 4 0 1 6 2 3 5 4 0 1 6 2 3 5 4 0 1 6 2 3 5 4 0 1 6 2 3 5 4 0 1 6\n",
      " 2 3 5 4 0 1 6 2 3 5 4 0 1 6 2 3 5 4 0 1 6 2 4 5 4 0 1 6 2 4 5 4 0 1 6 2 4\n",
      " 5 4 0 1 6 2 4 5 4 0 1 6 2 4 5 4 0 1 6 2 4 5 4 0 1 6 2 4 5 4 0 1 6 2 4 5 4\n",
      " 0 1 6 2 4 5 4 0 1 6 2 4 5 4 0 1 6 5 3 5 4 0 1 6 2 4 5 4 0 1 6 2 4 5 4 0 1\n",
      " 6 2 4 5 4 0 1 6 2 4 5 4 0 1 6 2 4 5 4 0 1 6 2 4 5 4 0 1 6 2 4 5 4 0 1 6 2\n",
      " 4 5 4 0 1 6 2 3 5 3 0 2 6 2 3 5 3 0 2 6 2 3 5 3 0 2 2 2 3 5 3 0 2 2 2 3 5\n",
      " 3 0 2 2 2 3 5 3 0 2 6 2 3 5 3 0 2 6 2 3 5 3 0 2 6 2 3 5 3 0 2 2 2 3 5 3 0\n",
      " 2 5 2 4 2 4 0 2 6 2 3 5 4 0 1 6 2 3 5 4 0 1 6 2 3 5 3 0 2 6 2 3 5 3 2 1 6\n",
      " 2 3 5 3 0 2 6 2 3 5 3 0 2 6 2 3 5 3 0 2 6 2 3 5 3 0 2 6 2 4 5 4 0 1 6 2 4\n",
      " 5 4 0 1 6 2 4 5 4 0 1 6 2 4 5 4 0 1 6 2 4 5 4 0 1 6 2 4 5 4 0 1 6 2 4 5 4\n",
      " 0 1 6 2 4 5 4 0 1 6 2 4 5 4 0 1 6 2 4 2 4 0 1 6 2 3 5 4 0 1 6 2 4 5 4 0 1\n",
      " 6 2 4 5 4 0 1 6 2 4 5 4 0 1 6 2 4 5 4 0 1 6 2 4 5 4 0 1 6 2 4 5 4 0 1 6 2\n",
      " 4 5 4 0 1 6 2 4 5 4 0 1 6 2 4 5 4 0 1 6 2 4 5 4 0 1 6 2 4 5 4 0 1 6 2 4 5\n",
      " 4 0 1 6 2 4 5 4 0 1 6 2 4 5 4 0 1 6 2 4 5 4 0 1 6 2 4 5 4 0 1 6 2 4 5 4 0\n",
      " 1 6 0 4 5 4 0 1 6 6 4 2 4 0 1 6 2 4 5 4 0 1 6 2 4 5 4 0 1 6 2 4 5 4 0 1 6\n",
      " 2 4 5 4 0 1 6 2 4 5 4 0 1 6 2 4 5 4 0 1 6 2 4 5 4 0 1 6 2 4 5 4 0 1 6]\n"
     ]
    }
   ],
   "source": [
    "print(result3.labels_)"
   ]
  },
  {
   "cell_type": "code",
   "execution_count": 113,
   "metadata": {},
   "outputs": [],
   "source": [
    "y_label3 = [2, 3, 5, 4, 0, 1, 6] * 190"
   ]
  },
  {
   "cell_type": "code",
   "execution_count": 114,
   "metadata": {},
   "outputs": [
    {
     "name": "stdout",
     "output_type": "stream",
     "text": [
      "0.8541353383458646\n"
     ]
    }
   ],
   "source": [
    "class3_ = np.array(result3.labels_)\n",
    "accuracy3 = getAccuracy(y_label3, class3_)\n",
    "print(accuracy3)"
   ]
  },
  {
   "cell_type": "code",
   "execution_count": 116,
   "metadata": {},
   "outputs": [
    {
     "name": "stdout",
     "output_type": "stream",
     "text": [
      "ASISX_RP1_28의 KMeans Accuray : 0.8481203007518797\n",
      "ASISX_RP1_28의 DBSCAN Accuray : 측정 불가능 - 패턴이 없음\n",
      "ASISX_RP1_28의 계층적 군집화 Accuray : 0.8541353383458646\n"
     ]
    }
   ],
   "source": [
    "print(\"ASISX_RP1_28의 KMeans Accuray : \" + str(accuracy))\n",
    "print(\"ASISX_RP1_28의 DBSCAN Accuray : 측정 불가능 - 패턴이 없음\")\n",
    "print(\"ASISX_RP1_28의 계층적 군집화 Accuray : \" + str(accuracy3))"
   ]
  },
  {
   "cell_type": "code",
   "execution_count": null,
   "metadata": {},
   "outputs": [],
   "source": []
  }
 ],
 "metadata": {
  "kernelspec": {
   "display_name": "Python 3",
   "language": "python",
   "name": "python3"
  },
  "language_info": {
   "codemirror_mode": {
    "name": "ipython",
    "version": 3
   },
   "file_extension": ".py",
   "mimetype": "text/x-python",
   "name": "python",
   "nbconvert_exporter": "python",
   "pygments_lexer": "ipython3",
   "version": "3.8.7"
  }
 },
 "nbformat": 4,
 "nbformat_minor": 4
}
