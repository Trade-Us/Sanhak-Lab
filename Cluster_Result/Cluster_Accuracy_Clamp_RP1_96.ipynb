{
 "cells": [
  {
   "cell_type": "code",
   "execution_count": 1,
   "metadata": {},
   "outputs": [],
   "source": [
    "import numpy as np"
   ]
  },
  {
   "cell_type": "code",
   "execution_count": 2,
   "metadata": {},
   "outputs": [],
   "source": [
    "compressed = np.load('./compressed.npy')"
   ]
  },
  {
   "cell_type": "code",
   "execution_count": 3,
   "metadata": {},
   "outputs": [],
   "source": [
    "feature = np.load('./feature.npy')"
   ]
  },
  {
   "cell_type": "code",
   "execution_count": 4,
   "metadata": {},
   "outputs": [],
   "source": [
    "X_scaled = np.load('./X_scaled.npy')"
   ]
  },
  {
   "cell_type": "code",
   "execution_count": 16,
   "metadata": {},
   "outputs": [
    {
     "name": "stdout",
     "output_type": "stream",
     "text": [
      "(1140, 96, 96, 1)\n"
     ]
    }
   ],
   "source": [
    "print(X_scaled.shape)"
   ]
  },
  {
   "cell_type": "code",
   "execution_count": 5,
   "metadata": {},
   "outputs": [
    {
     "name": "stdout",
     "output_type": "stream",
     "text": [
      "(1140, 12, 12, 2)\n"
     ]
    }
   ],
   "source": [
    "print(compressed.shape)"
   ]
  },
  {
   "cell_type": "code",
   "execution_count": 6,
   "metadata": {},
   "outputs": [],
   "source": [
    "# Clustering Algorithm\n",
    "from sklearn.cluster import DBSCAN\n",
    "from sklearn.cluster import KMeans\n",
    "from sklearn.cluster import SpectralClustering, AgglomerativeClustering\n",
    "\n",
    "# Normalization\n",
    "from sklearn.preprocessing import MinMaxScaler\n",
    "from sklearn.preprocessing import StandardScaler\n",
    "\n",
    "# Needed Library!\n",
    "import pandas as pd\n",
    "import numpy as np\n",
    "import matplotlib.pyplot as plt"
   ]
  },
  {
   "cell_type": "code",
   "execution_count": 7,
   "metadata": {},
   "outputs": [],
   "source": [
    "# Accuracy를 가져오는 함수\n",
    "# data_y: 정답 데이터\n",
    "# pred_y: 예측 데이터\n",
    "def getAccuracy(data_y, pred_y):\n",
    "    count = 0\n",
    "    bool_array = (data_y == pred_y)\n",
    "    for correct in bool_array:\n",
    "        if(correct):\n",
    "            count += 1\n",
    "    return count / pred_y.size"
   ]
  },
  {
   "cell_type": "code",
   "execution_count": 8,
   "metadata": {},
   "outputs": [],
   "source": [
    "# 정답 레이블 만들기\n",
    "## 원하는 클래스 레이블의 리스트를 넘긴다.\n",
    "## ex) list = [1, 4, 5] -> 클래스 1번, 4번, 5번 에 대하여 레이블 생성\n",
    "def getClassLabelFor(list, batch_size=190):\n",
    "    y=np.array([])\n",
    "    for i in list:\n",
    "        y_=np.full((1, batch_size), i)[0]\n",
    "        y=np.hstack([y, y_])\n",
    "\n",
    "    return y"
   ]
  },
  {
   "cell_type": "code",
   "execution_count": 115,
   "metadata": {},
   "outputs": [],
   "source": [
    "# Cluster Algorithm\n",
    "def kmeans(dataset, n_clusters, normalization='standard'):\n",
    "\n",
    "    scaled_dataset = []\n",
    "    if normalization == 'standard':\n",
    "        scaler = StandardScaler().fit(dataset)\n",
    "        scaled_dataset = scaler.transform(dataset)\n",
    "    elif normalization == 'minmax':\n",
    "        scaler = MinMaxScaler().fit(dataset)\n",
    "        scaled_dataset = scaler.transform(dataset)\n",
    "    else:\n",
    "        scaled_dataset = dataset\n",
    "        print(\"정규화 진행 안함\")\n",
    "    print(\"Scaled_dataset: \\n{}\".format(scaled_dataset))\n",
    "    cluster_data = KMeans(n_clusters=n_clusters).fit(scaled_dataset)\n",
    "    return cluster_data, scaled_dataset\n",
    "\n",
    "# DBSCAN\n",
    "def dbscan(dataset, eps=0.5, min_samples=5, normalization='standard'):\n",
    "   \n",
    "    scaled_dataset = []\n",
    "    if normalization == 'standard':\n",
    "        scaler = StandardScaler().fit(dataset)\n",
    "        scaled_dataset = scaler.transform(dataset)\n",
    "    elif normalization == 'minmax':\n",
    "        scaler = MinMaxScaler().fit(dataset)\n",
    "        scaled_dataset = scaler.transform(dataset)\n",
    "    else:\n",
    "        scaled_dataset = dataset\n",
    "        print(\"정규화 진행 안함\")\n",
    "\n",
    "    dbscan = DBSCAN(eps=eps, min_samples=min_samples)\n",
    "    cluster_data = dbscan.fit(scaled_dataset)\n",
    "    return cluster_data, scaled_dataset\n",
    "\n",
    "# Spectral Clustering\n",
    "def spectralClustering(dataset, n_clusters, n_init = 10, normalization='standard'):\n",
    "    \n",
    "    #scaled_dataset = norm(dataset, normalization=normalization)\n",
    "    scaled_dataset = []\n",
    "    if normalization == 'standard':\n",
    "        scaler = StandardScaler().fit(dataset)\n",
    "        scaled_dataset = scaler.transform(dataset)\n",
    "    elif normalization == 'minmax':\n",
    "        scaler = MinMaxScaler().fit(dataset)\n",
    "        scaled_dataset = scaler.transform(dataset)\n",
    "    else:\n",
    "        scaled_dataset = dataset\n",
    "        print(\"정규화 진행 안함\")\n",
    "    cluster_data = SpectralClustering(n_clusters=n_clusters, n_init=n_init).fit(scaled_dataset)\n",
    "    return cluster_data, scaled_dataset\n",
    "\n",
    "# Hierarchical Clustering\n",
    "def hierarchicalClustering(dataset, n_clusters, n_init = 10, linkage = 'ward', normalization='standard'):\n",
    "\n",
    "    #scaled_dataset = norm(dataset, normalization=normalization)\n",
    "    scaled_dataset = []\n",
    "    if normalization == 'standard':\n",
    "        scaler = StandardScaler().fit(dataset)\n",
    "        scaled_dataset = scaler.transform(dataset)\n",
    "    elif normalization == 'minmax':\n",
    "        scaler = MinMaxScaler().fit(dataset)\n",
    "        scaled_dataset = scaler.transform(dataset)\n",
    "    else:\n",
    "        scaled_dataset = dataset\n",
    "        print(\"정규화 진행 안함\")\n",
    "    cluster_data = AgglomerativeClustering(n_clusters = n_clusters, linkage = linkage ).fit(scaled_dataset)\n",
    "    return cluster_data, scaled_dataset"
   ]
  },
  {
   "cell_type": "code",
   "execution_count": 21,
   "metadata": {},
   "outputs": [
    {
     "name": "stderr",
     "output_type": "stream",
     "text": [
      "IOPub data rate exceeded.\n",
      "The notebook server will temporarily stop sending output\n",
      "to the client in order to avoid crashing it.\n",
      "To change this limit, set the config variable\n",
      "`--NotebookApp.iopub_data_rate_limit`.\n",
      "\n",
      "Current values:\n",
      "NotebookApp.iopub_data_rate_limit=1000000.0 (bytes/sec)\n",
      "NotebookApp.rate_limit_window=3.0 (secs)\n",
      "\n"
     ]
    }
   ],
   "source": [
    "result, scaled_x = kmeans(feature, 6, normalization='minmax')"
   ]
  },
  {
   "cell_type": "code",
   "execution_count": 26,
   "metadata": {},
   "outputs": [
    {
     "name": "stdout",
     "output_type": "stream",
     "text": [
      "[3 5 4 1 0 2 3 5 4 1 0 2 3 5 4 5 0 2 3 5 4 1 0 2 3 5 4 1 0 2 3 5 4 1 0 2 3\n",
      " 5 4 1 0 2 3 5 4 1 0 2 3 5 4 1 0 2 3 5 4 1 0 2 3 5 4 1 0 2 3 5 4 1 0 2 3 5\n",
      " 4 1 0 2 3 5 4 5 0 2 3 5 4 1 0 2 3 5 4 1 0 2 3 5 4 1 0 2 3 5 4 1 0 2 3 5 4\n",
      " 5 0 2 3 5 4 1 0 2 3 5 4 5 0 2 3 5 4 5 0 2 3 5 4 1 0 2 3 5 4 1 0 2 3 5 4 5\n",
      " 0 2 3 5 4 5 0 2 3 5 4 5 0 2 3 5 4 1 0 2 3 5 4 1 0 2 3 5 4 5 0 2 3 5 4 1 0\n",
      " 2 3 5 4 1 0 2 3 1 4 5 0 2 3 5 4 5 0 2 3 5 4 1 0 2 3 5 4 5 0 2 3 5 4 5 0 2\n",
      " 3 5 4 1 0 2 3 5 4 1 0 2 3 5 4 1 0 2 3 5 4 1 0 2 3 5 4 1 0 2 3 5 4 1 0 2 3\n",
      " 5 4 1 0 2 3 5 4 5 0 2 3 5 4 5 0 2 3 5 4 1 0 2 3 5 4 1 0 2 3 5 4 1 0 2 3 5\n",
      " 4 1 0 2 3 5 4 1 0 2 3 5 4 1 0 2 3 5 4 1 0 2 3 5 4 1 0 2 3 5 4 5 0 2 3 5 4\n",
      " 1 0 2 3 5 4 1 0 2 3 5 4 1 0 2 3 5 4 5 0 2 3 5 4 5 0 2 3 5 4 1 0 2 3 5 4 1\n",
      " 0 2 3 5 4 1 0 2 3 5 4 1 0 2 3 5 4 1 0 2 3 5 4 5 0 2 3 5 4 1 0 2 3 5 4 1 0\n",
      " 2 3 5 4 1 0 2 3 1 4 1 0 2 3 5 4 5 0 2 3 5 4 1 0 2 3 5 4 1 0 2 3 5 4 1 0 2\n",
      " 3 5 4 1 0 2 3 5 4 1 0 2 3 5 4 1 0 2 3 5 4 1 0 2 3 1 4 5 0 2 3 1 4 1 0 2 3\n",
      " 5 4 1 0 2 3 5 4 5 0 2 3 5 4 1 0 2 3 5 4 5 0 2 3 5 4 1 0 2 3 5 4 1 0 2 3 5\n",
      " 4 1 0 2 3 5 4 1 0 2 3 5 4 1 0 2 3 5 4 1 0 2 3 1 4 1 0 2 3 5 4 5 0 2 3 5 4\n",
      " 5 0 2 3 5 4 1 0 2 3 1 4 1 0 2 3 5 4 1 0 2 3 5 4 1 0 2 3 5 4 1 0 2 3 5 4 1\n",
      " 0 2 3 5 4 1 0 2 3 5 4 1 0 2 3 1 4 1 0 2 3 5 4 1 0 2 3 5 4 1 0 2 3 5 4 1 0\n",
      " 2 3 5 4 1 0 2 3 5 4 1 0 2 3 5 4 1 0 2 3 5 4 1 0 2 3 5 4 1 0 2 3 5 4 5 0 2\n",
      " 3 5 4 1 0 2 3 5 4 5 0 2 3 5 4 1 0 2 3 5 4 5 0 2 3 5 4 1 0 2 3 5 4 5 0 2 3\n",
      " 5 4 1 0 2 3 5 4 1 0 2 3 5 4 1 0 2 3 1 4 5 0 2 3 5 4 1 0 2 3 5 4 5 0 2 3 5\n",
      " 4 5 0 2 3 5 4 1 0 2 3 1 4 5 0 2 3 5 4 1 0 2 3 5 4 1 0 2 3 5 4 1 0 2 3 5 4\n",
      " 5 0 2 3 5 4 5 0 2 3 5 4 1 0 2 3 5 4 5 0 2 3 5 4 1 0 2 3 5 4 1 0 2 3 5 4 5\n",
      " 0 2 3 5 4 1 0 2 3 5 4 1 0 2 3 5 4 5 0 2 3 5 4 5 0 2 3 5 4 5 0 2 3 5 4 1 0\n",
      " 2 3 5 4 1 0 2 3 5 4 1 0 2 3 5 4 1 0 2 3 5 4 1 0 2 3 5 4 1 0 2 3 1 4 1 0 2\n",
      " 3 5 4 1 0 2 3 5 4 1 0 2 3 5 4 1 0 2 3 5 4 1 0 2 3 5 4 1 0 2 3 5 4 5 0 2 3\n",
      " 5 4 1 0 2 3 5 4 1 0 2 3 5 4 1 0 2 3 5 4 1 0 2 3 5 4 1 0 2 3 5 4 1 0 2 3 5\n",
      " 4 1 0 2 3 5 4 5 0 2 3 5 4 1 0 2 3 5 4 1 0 2 3 5 4 1 0 2 3 5 4 5 0 2 3 5 4\n",
      " 1 0 2 3 5 4 5 0 2 3 5 4 1 0 2 3 5 4 1 0 2 3 5 4 5 0 2 3 5 4 5 0 2 3 1 4 1\n",
      " 0 2 3 5 4 1 0 2 3 5 4 1 0 2 3 5 4 1 0 2 3 5 4 1 0 2 3 5 4 1 0 2 3 5 4 1 0\n",
      " 2 3 1 4 1 0 2 3 5 4 1 0 2 3 1 4 1 0 2 3 1 4 1 0 2 3 5 4 1 0 2 3 1 4 1 0 2\n",
      " 3 5 4 1 0 2 3 5 4 5 0 2 3 5 4 5 0 2 3 5 4 1 0 2 3 5 4 5 0 2]\n"
     ]
    }
   ],
   "source": [
    "print(result.labels_)"
   ]
  },
  {
   "cell_type": "code",
   "execution_count": 136,
   "metadata": {},
   "outputs": [],
   "source": [
    "y_label = [3, 5, 4, 1, 0, 2] * 190"
   ]
  },
  {
   "cell_type": "code",
   "execution_count": 137,
   "metadata": {},
   "outputs": [
    {
     "name": "stdout",
     "output_type": "stream",
     "text": [
      "[3, 5, 4, 1, 0, 2, 3, 5, 4, 1, 0, 2, 3, 5, 4, 1, 0, 2, 3, 5, 4, 1, 0, 2, 3, 5, 4, 1, 0, 2, 3, 5, 4, 1, 0, 2, 3, 5, 4, 1, 0, 2, 3, 5, 4, 1, 0, 2, 3, 5, 4, 1, 0, 2, 3, 5, 4, 1, 0, 2, 3, 5, 4, 1, 0, 2, 3, 5, 4, 1, 0, 2, 3, 5, 4, 1, 0, 2, 3, 5, 4, 1, 0, 2, 3, 5, 4, 1, 0, 2, 3, 5, 4, 1, 0, 2, 3, 5, 4, 1, 0, 2, 3, 5, 4, 1, 0, 2, 3, 5, 4, 1, 0, 2, 3, 5, 4, 1, 0, 2, 3, 5, 4, 1, 0, 2, 3, 5, 4, 1, 0, 2, 3, 5, 4, 1, 0, 2, 3, 5, 4, 1, 0, 2, 3, 5, 4, 1, 0, 2, 3, 5, 4, 1, 0, 2, 3, 5, 4, 1, 0, 2, 3, 5, 4, 1, 0, 2, 3, 5, 4, 1, 0, 2, 3, 5, 4, 1, 0, 2, 3, 5, 4, 1, 0, 2, 3, 5, 4, 1, 0, 2, 3, 5, 4, 1, 0, 2, 3, 5, 4, 1, 0, 2, 3, 5, 4, 1, 0, 2, 3, 5, 4, 1, 0, 2, 3, 5, 4, 1, 0, 2, 3, 5, 4, 1, 0, 2, 3, 5, 4, 1, 0, 2, 3, 5, 4, 1, 0, 2, 3, 5, 4, 1, 0, 2, 3, 5, 4, 1, 0, 2, 3, 5, 4, 1, 0, 2, 3, 5, 4, 1, 0, 2, 3, 5, 4, 1, 0, 2, 3, 5, 4, 1, 0, 2, 3, 5, 4, 1, 0, 2, 3, 5, 4, 1, 0, 2, 3, 5, 4, 1, 0, 2, 3, 5, 4, 1, 0, 2, 3, 5, 4, 1, 0, 2, 3, 5, 4, 1, 0, 2, 3, 5, 4, 1, 0, 2, 3, 5, 4, 1, 0, 2, 3, 5, 4, 1, 0, 2, 3, 5, 4, 1, 0, 2, 3, 5, 4, 1, 0, 2, 3, 5, 4, 1, 0, 2, 3, 5, 4, 1, 0, 2, 3, 5, 4, 1, 0, 2, 3, 5, 4, 1, 0, 2, 3, 5, 4, 1, 0, 2, 3, 5, 4, 1, 0, 2, 3, 5, 4, 1, 0, 2, 3, 5, 4, 1, 0, 2, 3, 5, 4, 1, 0, 2, 3, 5, 4, 1, 0, 2, 3, 5, 4, 1, 0, 2, 3, 5, 4, 1, 0, 2, 3, 5, 4, 1, 0, 2, 3, 5, 4, 1, 0, 2, 3, 5, 4, 1, 0, 2, 3, 5, 4, 1, 0, 2, 3, 5, 4, 1, 0, 2, 3, 5, 4, 1, 0, 2, 3, 5, 4, 1, 0, 2, 3, 5, 4, 1, 0, 2, 3, 5, 4, 1, 0, 2, 3, 5, 4, 1, 0, 2, 3, 5, 4, 1, 0, 2, 3, 5, 4, 1, 0, 2, 3, 5, 4, 1, 0, 2, 3, 5, 4, 1, 0, 2, 3, 5, 4, 1, 0, 2, 3, 5, 4, 1, 0, 2, 3, 5, 4, 1, 0, 2, 3, 5, 4, 1, 0, 2, 3, 5, 4, 1, 0, 2, 3, 5, 4, 1, 0, 2, 3, 5, 4, 1, 0, 2, 3, 5, 4, 1, 0, 2, 3, 5, 4, 1, 0, 2, 3, 5, 4, 1, 0, 2, 3, 5, 4, 1, 0, 2, 3, 5, 4, 1, 0, 2, 3, 5, 4, 1, 0, 2, 3, 5, 4, 1, 0, 2, 3, 5, 4, 1, 0, 2, 3, 5, 4, 1, 0, 2, 3, 5, 4, 1, 0, 2, 3, 5, 4, 1, 0, 2, 3, 5, 4, 1, 0, 2, 3, 5, 4, 1, 0, 2, 3, 5, 4, 1, 0, 2, 3, 5, 4, 1, 0, 2, 3, 5, 4, 1, 0, 2, 3, 5, 4, 1, 0, 2, 3, 5, 4, 1, 0, 2, 3, 5, 4, 1, 0, 2, 3, 5, 4, 1, 0, 2, 3, 5, 4, 1, 0, 2, 3, 5, 4, 1, 0, 2, 3, 5, 4, 1, 0, 2, 3, 5, 4, 1, 0, 2, 3, 5, 4, 1, 0, 2, 3, 5, 4, 1, 0, 2, 3, 5, 4, 1, 0, 2, 3, 5, 4, 1, 0, 2, 3, 5, 4, 1, 0, 2, 3, 5, 4, 1, 0, 2, 3, 5, 4, 1, 0, 2, 3, 5, 4, 1, 0, 2, 3, 5, 4, 1, 0, 2, 3, 5, 4, 1, 0, 2, 3, 5, 4, 1, 0, 2, 3, 5, 4, 1, 0, 2, 3, 5, 4, 1, 0, 2, 3, 5, 4, 1, 0, 2, 3, 5, 4, 1, 0, 2, 3, 5, 4, 1, 0, 2, 3, 5, 4, 1, 0, 2, 3, 5, 4, 1, 0, 2, 3, 5, 4, 1, 0, 2, 3, 5, 4, 1, 0, 2, 3, 5, 4, 1, 0, 2, 3, 5, 4, 1, 0, 2, 3, 5, 4, 1, 0, 2, 3, 5, 4, 1, 0, 2, 3, 5, 4, 1, 0, 2, 3, 5, 4, 1, 0, 2, 3, 5, 4, 1, 0, 2, 3, 5, 4, 1, 0, 2, 3, 5, 4, 1, 0, 2, 3, 5, 4, 1, 0, 2, 3, 5, 4, 1, 0, 2, 3, 5, 4, 1, 0, 2, 3, 5, 4, 1, 0, 2, 3, 5, 4, 1, 0, 2, 3, 5, 4, 1, 0, 2, 3, 5, 4, 1, 0, 2, 3, 5, 4, 1, 0, 2, 3, 5, 4, 1, 0, 2, 3, 5, 4, 1, 0, 2, 3, 5, 4, 1, 0, 2, 3, 5, 4, 1, 0, 2, 3, 5, 4, 1, 0, 2, 3, 5, 4, 1, 0, 2, 3, 5, 4, 1, 0, 2, 3, 5, 4, 1, 0, 2, 3, 5, 4, 1, 0, 2, 3, 5, 4, 1, 0, 2, 3, 5, 4, 1, 0, 2, 3, 5, 4, 1, 0, 2, 3, 5, 4, 1, 0, 2, 3, 5, 4, 1, 0, 2, 3, 5, 4, 1, 0, 2, 3, 5, 4, 1, 0, 2, 3, 5, 4, 1, 0, 2, 3, 5, 4, 1, 0, 2, 3, 5, 4, 1, 0, 2, 3, 5, 4, 1, 0, 2, 3, 5, 4, 1, 0, 2, 3, 5, 4, 1, 0, 2, 3, 5, 4, 1, 0, 2, 3, 5, 4, 1, 0, 2, 3, 5, 4, 1, 0, 2, 3, 5, 4, 1, 0, 2, 3, 5, 4, 1, 0, 2, 3, 5, 4, 1, 0, 2, 3, 5, 4, 1, 0, 2, 3, 5, 4, 1, 0, 2, 3, 5, 4, 1, 0, 2, 3, 5, 4, 1, 0, 2, 3, 5, 4, 1, 0, 2, 3, 5, 4, 1, 0, 2, 3, 5, 4, 1, 0, 2, 3, 5, 4, 1, 0, 2, 3, 5, 4, 1, 0, 2, 3, 5, 4, 1, 0, 2, 3, 5, 4, 1, 0, 2]\n"
     ]
    }
   ],
   "source": [
    "print(y_label)"
   ]
  },
  {
   "cell_type": "code",
   "execution_count": 138,
   "metadata": {},
   "outputs": [],
   "source": [
    "class_ = np.array(result.labels_)\n",
    "accuracy = getAccuracy(y_label, class_)"
   ]
  },
  {
   "cell_type": "code",
   "execution_count": 139,
   "metadata": {},
   "outputs": [
    {
     "name": "stdout",
     "output_type": "stream",
     "text": [
      "0.9438596491228071\n"
     ]
    }
   ],
   "source": [
    "print(accuracy)"
   ]
  },
  {
   "cell_type": "code",
   "execution_count": 122,
   "metadata": {},
   "outputs": [],
   "source": [
    "result2, scaled_x2 = dbscan(feature, 2.354, 23, normalization='minmax')"
   ]
  },
  {
   "cell_type": "code",
   "execution_count": 123,
   "metadata": {},
   "outputs": [
    {
     "name": "stdout",
     "output_type": "stream",
     "text": [
      "[ 0  1  2  1  3  4  0  1  2  1  3  4  0  1  2  1  3  4  0  1  2  1  3  4\n",
      "  0  1  2  1  3  4  0  1  2  1  3  4  0  1  2  1  3  4  0  1  2  1  3  4\n",
      "  0  1  2  1  3  4  0  1  2  1  3  4  0  1  2  1  3  4  0  1  2  1  3  4\n",
      "  0  1  2  1  3  4  0  1  2  1  3  4  0  1  2  1  3  4  0  1  2  1  3  4\n",
      "  0  1  2  1  3  4  0  1  2  1  3  4  0  1  2  1  3  4  0  1  2  1  3  4\n",
      "  0  1  2  1  3  4  0  1  2  1  3  4  0  1  2  1  3  4  0  1  2  1  3  4\n",
      "  0  1  2  1  3  4  0  1  2  1  3  4  0  1  2  1  3  4  0  1  2  1  3  4\n",
      "  0  1  2  1  3  4  0  1  2  1  3  4  0  1  2  1  3  4  0  1  2  1  3  4\n",
      "  0  1  2  1  3  4  0  1  2  1  3  4  0  1  2  1  3  4  0  1  2  1  3  4\n",
      "  0  1  2  1  3  4  0  1  2  1  3  4  0  1  2  1  3  4  0  1  2  1  3  4\n",
      "  0  1  2  1  3  4  0  1  2  1  3  4  0  1  2  1  3  4  0  1  2  1  3  4\n",
      "  0  1  2  1  3  4  0  1  2  1  3  4  0  1  2  1  3  4  0  1  2  1  3  4\n",
      "  0  1  2  1  3  4  0  1  2  1  3  4  0  1  2  1  3  4  0  1  2  1  3  4\n",
      "  0  1  2  1  3  4  0  1  2  1  3  4  0  1  2  1  3  4  0  1  2  1  3  4\n",
      "  0  1  2  1  3  4  0  1  2  1  3  4  0  1  2  1  3  4  0  1  2  1  3  4\n",
      "  0  1  2  1  3  4  0  1  2  1  3  4  0  1  2  1  3  4  0  1  2  1  3  4\n",
      "  0  1  2  1  3  4  0  1  2  1  3  4  0  1  2  1  3  4  0  1  2  1  3  4\n",
      "  0  1  2  1  3  4  0  1  2  1  3  4  0  1  2  1  3  4  0  1  2  1  3  4\n",
      "  0  1  2  1  3  4  0  1  2  1  3  4  0  1  2  1  3  4  0  1  2  1  3  4\n",
      "  0  1  2  1  3  4  0  1  2  1  3  4  0  1  2  1  3  4  0  1  2  1  3  4\n",
      "  0  1  2  1  3  4  0  1  2  1  3  4  0  1  2  1  3  4  0  1  2  1  3  4\n",
      "  0  1  2  1  3  4  0  1  2  1  3  4  0  1  2  1  3  4  0  1  2  1  3  4\n",
      "  0  1  2  1  3  4  0  1  2  1  3  4  0  1  2  1  3  4  0  1  2  1 -1  4\n",
      "  0  1  2  1  3  4  0  1  2  1  3  4  0  1  2  1  3  4  0  1  2  1  3  4\n",
      "  0  1  2  1  3  4  0  1  2  1  3  4  0  1  2  1  3  4  0  1  2  1  3  4\n",
      "  0  1  2  1  3  4  0  1  2  1  3  4  0  1  2  1  3  4  0  1  2  1  3  4\n",
      "  0  1  2  1  3  4  0  1  2  1  3  4  0  1  2  1  3  4  0  1  2  1  3  4\n",
      "  0  1  2  1  3  4  0  1  2  1  3  4  0  1  2  1  3  4  0  1  2  1  3  4\n",
      "  0  1  2  1  3  4  0  1  2  1  3  4  0  1  2  1  3  4  0  1  2  1  3  4\n",
      "  0  1  2  1  3  4  0  1  2  1  3  4  0  1  2  1  3  4  0  1  2  1  3  4\n",
      "  0  1  2  1  3  4  0  1  2  1  3  4  0  1  2  1  3  4  0  1  2  1  3  4\n",
      "  0  1  2  1  3  4  0  1  2  1  3  4  0  1  2  1  3  4  0  1  2  1  3  4\n",
      "  0  1  2  1  3  4  0  1  2  1  3  4  0  1  2  1  3  4  0  1  2  1  3  4\n",
      "  0  1  2  1  3  4  0  1  2  1  3  4  0  1  2  1  3  4  0  1  2  1  3  4\n",
      "  0  1  2  1  3  4  0  1  2  1  3  4  0  1  2  1  3  4  0  1  2  1  3  4\n",
      "  0  1  2  1  3  4  0  1  2  1  3  4  0  1  2  1  3  4  0  1  2  1  3  4\n",
      "  0  1  2  1  3  4  0  1  2  1  3  4  0  1  2  1  3  4  0  1  2  1  3  4\n",
      "  0  1  2  1  3  4  0  1  2  1  3  4  0  1  2  1  3  4  0  1  2  1  3  4\n",
      "  0  1  2  1  3  4  0  1  2  1  3  4  0  1  2  1  3  4  0  1  2  1  3  4\n",
      "  0  1  2  1  3  4  0  1  2  1  3  4  0  1  2  1  3  4  0  1  2  1  3  4\n",
      "  0  1  2  1  3  4  0  1  2  1  3  4  0  1  2  1  3  4  0  1  2  1  3  4\n",
      "  0  1  2  1  3  4  0  1  2  1  3  4  0  1  2  1  3  4  0  1  2  1 -1  4\n",
      "  0  1  2  1  3  4  0  1  2  1  3  4  0  1  2  1  3  4  0  1  2  1  3  4\n",
      "  0  1  2  1  3  4  0  1  2  1  3  4  0  1  2  1  3  4  0  1  2  1  3  4\n",
      "  0  1  2  1  3  4  0  1  2  1  3  4  0  1  2  1  3  4  0  1  2  1  3  4\n",
      "  0  1  2  1  3  4  0  1  2  1  3  4  0  1  2  1  3  4  0  1  2  1  3  4\n",
      "  0  1  2  1  3  4  0  1  2  1  3  4  0  1  2  1  3  4  0  1  2  1  3  4\n",
      "  0  1  2  1  3  4  0  1  2  1 -1  4]\n"
     ]
    }
   ],
   "source": [
    "print(result2.labels_)"
   ]
  },
  {
   "cell_type": "code",
   "execution_count": 124,
   "metadata": {},
   "outputs": [],
   "source": [
    "y_label2 = [0, 1, 2, 5, 3, 4] * 190"
   ]
  },
  {
   "cell_type": "code",
   "execution_count": 129,
   "metadata": {},
   "outputs": [],
   "source": [
    "class2_ = np.array(result2.labels_)\n",
    "accuracy2 = getAccuracy(y_label2, class2_)"
   ]
  },
  {
   "cell_type": "code",
   "execution_count": 130,
   "metadata": {},
   "outputs": [
    {
     "name": "stdout",
     "output_type": "stream",
     "text": [
      "0.8307017543859649\n"
     ]
    }
   ],
   "source": [
    "print(accuracy2)"
   ]
  },
  {
   "cell_type": "code",
   "execution_count": 116,
   "metadata": {},
   "outputs": [],
   "source": [
    "result3, scaled_x3 = hierarchicalClustering(feature, 6)"
   ]
  },
  {
   "cell_type": "code",
   "execution_count": 117,
   "metadata": {},
   "outputs": [
    {
     "name": "stdout",
     "output_type": "stream",
     "text": [
      "[0 2 1 3 4 5 0 2 1 3 4 5 0 2 1 2 4 5 0 2 1 3 4 5 0 2 1 3 4 5 0 2 1 3 4 5 0\n",
      " 2 1 3 4 5 0 2 1 3 4 5 0 2 1 3 4 5 0 2 1 3 4 5 0 2 1 3 4 5 0 2 1 3 4 5 0 2\n",
      " 1 3 4 5 0 2 1 2 4 5 0 2 1 3 4 5 0 2 1 3 4 5 0 2 1 3 4 5 0 2 1 3 4 5 0 2 1\n",
      " 2 4 5 0 2 1 3 4 5 0 2 1 2 4 5 0 2 1 2 4 5 0 2 1 3 4 5 0 2 1 3 4 5 0 2 1 2\n",
      " 4 5 0 2 1 2 4 5 0 2 1 2 4 5 0 2 1 3 4 5 0 2 1 3 4 5 0 2 1 2 4 5 0 2 1 3 4\n",
      " 5 0 2 1 3 4 5 0 3 1 2 4 5 0 2 1 2 4 5 0 2 1 3 4 5 0 2 1 2 4 5 0 2 1 2 4 5\n",
      " 0 2 1 3 4 5 0 2 1 3 4 5 0 2 1 3 4 5 0 2 1 3 4 5 0 2 1 3 4 5 0 2 1 3 4 5 0\n",
      " 2 1 3 4 5 0 2 1 2 4 5 0 2 1 2 4 5 0 2 1 3 4 5 0 2 1 3 4 5 0 2 1 3 4 5 0 2\n",
      " 1 3 4 5 0 2 1 3 4 5 0 2 1 3 4 5 0 2 1 3 4 5 0 2 1 3 4 5 0 2 1 2 4 5 0 2 1\n",
      " 3 4 5 0 2 1 3 4 5 0 2 1 3 4 5 0 2 1 2 4 5 0 2 1 2 4 5 0 2 1 3 4 5 0 2 1 3\n",
      " 4 5 0 2 1 3 4 5 0 2 1 3 4 5 0 2 1 3 4 5 0 2 1 2 4 5 0 2 1 3 4 5 0 2 1 3 4\n",
      " 5 0 2 1 3 4 5 0 3 1 3 4 5 0 2 1 2 4 5 0 2 1 3 4 5 0 2 1 3 4 5 0 2 1 3 4 5\n",
      " 0 2 1 3 4 5 0 2 1 3 4 5 0 2 1 3 4 5 0 2 1 3 4 5 0 3 1 2 4 5 0 3 1 3 4 5 0\n",
      " 2 1 3 4 5 0 2 1 2 4 5 0 2 1 3 4 5 0 2 1 2 4 5 0 2 1 3 4 5 0 2 1 3 4 5 0 2\n",
      " 1 3 4 5 0 2 1 3 4 5 0 2 1 3 4 5 0 2 1 2 4 5 0 3 1 3 4 5 0 2 1 2 4 5 0 2 1\n",
      " 2 4 5 0 2 1 3 4 5 0 3 1 3 4 5 0 2 1 3 4 5 0 2 1 3 4 5 0 2 1 3 4 5 0 2 1 3\n",
      " 4 5 0 2 1 3 4 5 0 2 1 3 4 5 0 3 1 3 4 5 0 2 1 3 4 5 0 2 1 3 4 5 0 2 1 3 4\n",
      " 5 0 2 1 3 4 5 0 2 1 3 4 5 0 2 1 3 4 5 0 2 1 3 4 5 0 2 1 3 4 5 0 2 1 2 4 5\n",
      " 0 2 1 3 4 5 0 2 1 2 4 5 0 2 1 3 4 5 0 2 1 2 4 5 0 2 1 3 4 5 0 2 1 2 4 5 0\n",
      " 2 1 3 4 5 0 2 1 3 4 5 0 2 1 3 4 5 0 3 1 2 4 5 0 2 1 3 4 5 0 2 1 2 4 5 0 2\n",
      " 1 2 4 5 0 2 1 3 4 5 0 3 1 2 4 5 0 2 1 3 4 5 0 2 1 3 4 5 0 2 1 3 4 5 0 2 1\n",
      " 2 4 5 0 2 1 2 4 5 0 2 1 2 4 5 0 2 1 2 4 5 0 2 1 3 4 5 0 2 1 3 4 5 0 2 1 2\n",
      " 4 5 0 2 1 3 4 5 0 2 1 3 4 5 0 2 1 2 4 5 0 2 1 2 4 5 0 2 1 2 4 5 0 2 1 3 4\n",
      " 5 0 2 1 3 4 5 0 2 1 3 4 5 0 2 1 3 4 5 0 2 1 3 4 5 0 2 1 3 4 5 0 3 1 3 4 5\n",
      " 0 2 1 3 4 5 0 2 1 3 4 5 0 2 1 3 4 5 0 2 1 3 4 5 0 2 1 3 4 5 0 2 1 2 4 5 0\n",
      " 2 1 3 4 5 0 2 1 3 4 5 0 2 1 3 4 5 0 2 1 3 4 5 0 2 1 3 4 5 0 2 1 3 4 5 0 2\n",
      " 1 3 4 5 0 2 1 2 4 5 0 2 1 3 4 5 0 2 1 3 4 5 0 2 1 3 4 5 0 2 1 2 4 5 0 2 1\n",
      " 3 4 5 0 2 1 2 4 5 0 2 1 3 4 5 0 2 1 3 4 5 0 2 1 2 4 5 0 2 1 2 4 5 0 3 1 3\n",
      " 4 5 0 2 1 3 4 5 0 2 1 3 4 5 0 2 1 3 4 5 0 2 1 3 4 5 0 2 1 3 4 5 0 2 1 3 4\n",
      " 5 0 3 1 3 4 5 0 2 1 3 4 5 0 3 1 3 4 5 0 3 1 3 4 5 0 2 1 3 4 5 0 3 1 3 4 5\n",
      " 0 2 1 2 4 5 0 2 1 2 4 5 0 2 1 2 4 5 0 2 1 3 4 5 0 2 1 2 4 5]\n"
     ]
    }
   ],
   "source": [
    "print(result3.labels_)"
   ]
  },
  {
   "cell_type": "code",
   "execution_count": 119,
   "metadata": {},
   "outputs": [],
   "source": [
    "y_label3 = [0, 2, 1, 3, 4, 5] * 190"
   ]
  },
  {
   "cell_type": "code",
   "execution_count": 127,
   "metadata": {},
   "outputs": [],
   "source": [
    "class3_ = np.array(result3.labels_)\n",
    "accuracy3 = getAccuracy(y_label3, class3_)"
   ]
  },
  {
   "cell_type": "code",
   "execution_count": 128,
   "metadata": {},
   "outputs": [
    {
     "name": "stdout",
     "output_type": "stream",
     "text": [
      "0.9412280701754386\n"
     ]
    }
   ],
   "source": [
    "print(accuracy3)"
   ]
  },
  {
   "cell_type": "code",
   "execution_count": null,
   "metadata": {},
   "outputs": [],
   "source": [
    "print(\"ClAMP_RP1_96의 KMeans Accuray : \" + str(accuracy))\n",
    "print(\"ClAMP_RP1_96의 DBSCAN Accuray : \" + str(accuracy2))\n",
    "print(\"ClAMP_RP1_96의 계층적 군집화 Accuray : \" + str(accuracy3))"
   ]
  },
  {
   "cell_type": "code",
   "execution_count": null,
   "metadata": {},
   "outputs": [],
   "source": []
  }
 ],
 "metadata": {
  "kernelspec": {
   "display_name": "Python 3",
   "language": "python",
   "name": "python3"
  },
  "language_info": {
   "codemirror_mode": {
    "name": "ipython",
    "version": 3
   },
   "file_extension": ".py",
   "mimetype": "text/x-python",
   "name": "python",
   "nbconvert_exporter": "python",
   "pygments_lexer": "ipython3",
   "version": "3.8.7"
  }
 },
 "nbformat": 4,
 "nbformat_minor": 4
}
