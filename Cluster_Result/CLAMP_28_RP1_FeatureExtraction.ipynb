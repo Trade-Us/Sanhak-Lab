{
 "cells": [
  {
   "cell_type": "code",
   "execution_count": 2,
   "metadata": {},
   "outputs": [],
   "source": [
    "import pandas as pd\n",
    "import numpy as np\n",
    "from readFile import split_into_values, toRPdata"
   ]
  },
  {
   "cell_type": "code",
   "execution_count": 3,
   "metadata": {},
   "outputs": [],
   "source": [
    "# columns 와 value는 사용자 입력\n",
    "#df = pd.read_csv('resources/AXISX_resample.csv')\n",
    "df = pd.read_csv('resources/CLAMP_resample.csv')\n",
    "value = ['value']\n",
    "#df = pd.read_csv('resources/Dataset1.csv')\n",
    "columns = ['chip', 'wire', 'segment']\n",
    "value = ['value']"
   ]
  },
  {
   "cell_type": "code",
   "execution_count": 4,
   "metadata": {},
   "outputs": [],
   "source": [
    "df = df.loc[:, columns + value] #('chip', 'wire', 'value')는 사용자 입력\n",
    "size = 28 # 모델에 따라 변경 28, 96\n",
    "result = split_into_values(df, columns)"
   ]
  },
  {
   "cell_type": "code",
   "execution_count": 5,
   "metadata": {},
   "outputs": [],
   "source": [
    "# dataframe -> list\n",
    "result_list = result.values.tolist()"
   ]
  },
  {
   "cell_type": "code",
   "execution_count": 6,
   "metadata": {},
   "outputs": [],
   "source": [
    "from sklearn.preprocessing import MinMaxScaler\n",
    "\n",
    "def MinMax(data):\n",
    "    MMS = MinMaxScaler().fit(data)\n",
    "    scaled = MMS.transform(data)\n",
    "    return scaled"
   ]
  },
  {
   "cell_type": "code",
   "execution_count": 7,
   "metadata": {},
   "outputs": [],
   "source": [
    "# result_list transpose\n",
    "result_T = [list(x) for x in zip(*result_list)]"
   ]
  },
  {
   "cell_type": "code",
   "execution_count": 8,
   "metadata": {},
   "outputs": [],
   "source": [
    "# minmax 정규화\n",
    "result_scaled = MinMax(result_T)"
   ]
  },
  {
   "cell_type": "code",
   "execution_count": 9,
   "metadata": {},
   "outputs": [],
   "source": [
    "# 다시 result transpose 해서 원래대로\n",
    "result_scaled = [list(x) for x in zip(*result_scaled)]"
   ]
  },
  {
   "cell_type": "code",
   "execution_count": 10,
   "metadata": {},
   "outputs": [],
   "source": [
    "from tslearn.preprocessing import TimeSeriesScalerMeanVariance, TimeSeriesResampler"
   ]
  },
  {
   "cell_type": "code",
   "execution_count": 11,
   "metadata": {},
   "outputs": [],
   "source": [
    "# 2. 시계열 셋 크기 변경\n",
    "result_ = TimeSeriesResampler(sz=size).fit_transform(result)"
   ]
  },
  {
   "cell_type": "code",
   "execution_count": 12,
   "metadata": {},
   "outputs": [],
   "source": [
    "data = result_.reshape(result_.shape[0], 1, size)\n",
    "X = toRPdata(data, threshold='point', percentage=30) # rp 1\n",
    "#X = toRPdata(data) # rp 2"
   ]
  },
  {
   "cell_type": "code",
   "execution_count": 13,
   "metadata": {},
   "outputs": [
    {
     "data": {
      "text/plain": [
       "(1140, 28, 28, 1)"
      ]
     },
     "execution_count": 13,
     "metadata": {},
     "output_type": "execute_result"
    }
   ],
   "source": [
    "X_scaled = np.expand_dims(X, axis=3)\n",
    "X_scaled.shape"
   ]
  },
  {
   "cell_type": "code",
   "execution_count": 14,
   "metadata": {},
   "outputs": [],
   "source": [
    "from keras.models import load_model\n",
    "model = load_model('CLAMP28_weight.h5')"
   ]
  },
  {
   "cell_type": "code",
   "execution_count": 15,
   "metadata": {},
   "outputs": [
    {
     "name": "stdout",
     "output_type": "stream",
     "text": [
      "Model: \"sequential_2\"\n",
      "_________________________________________________________________\n",
      "Layer (type)                 Output Shape              Param #   \n",
      "=================================================================\n",
      "conv2d_10 (Conv2D)           (None, 28, 28, 16)        160       \n",
      "_________________________________________________________________\n",
      "activation_10 (Activation)   (None, 28, 28, 16)        0         \n",
      "_________________________________________________________________\n",
      "max_pooling2d_4 (MaxPooling2 (None, 14, 14, 16)        0         \n",
      "_________________________________________________________________\n",
      "conv2d_11 (Conv2D)           (None, 14, 14, 2)         290       \n",
      "_________________________________________________________________\n",
      "activation_11 (Activation)   (None, 14, 14, 2)         0         \n",
      "_________________________________________________________________\n",
      "max_pooling2d_5 (MaxPooling2 (None, 7, 7, 2)           0         \n",
      "_________________________________________________________________\n",
      "conv2d_12 (Conv2D)           (None, 7, 7, 2)           38        \n",
      "_________________________________________________________________\n",
      "activation_12 (Activation)   (None, 7, 7, 2)           0         \n",
      "_________________________________________________________________\n",
      "up_sampling2d_4 (UpSampling2 (None, 14, 14, 2)         0         \n",
      "_________________________________________________________________\n",
      "conv2d_13 (Conv2D)           (None, 14, 14, 16)        304       \n",
      "_________________________________________________________________\n",
      "activation_13 (Activation)   (None, 14, 14, 16)        0         \n",
      "_________________________________________________________________\n",
      "up_sampling2d_5 (UpSampling2 (None, 28, 28, 16)        0         \n",
      "_________________________________________________________________\n",
      "conv2d_14 (Conv2D)           (None, 28, 28, 1)         145       \n",
      "_________________________________________________________________\n",
      "activation_14 (Activation)   (None, 28, 28, 1)         0         \n",
      "=================================================================\n",
      "Total params: 937\n",
      "Trainable params: 937\n",
      "Non-trainable params: 0\n",
      "_________________________________________________________________\n",
      "None\n"
     ]
    }
   ],
   "source": [
    "print(model.summary())"
   ]
  },
  {
   "cell_type": "code",
   "execution_count": 16,
   "metadata": {},
   "outputs": [
    {
     "name": "stdout",
     "output_type": "stream",
     "text": [
      "[[0.88457197 0.         0.10616754 ... 0.15150811 1.4553685  0.31374487]\n",
      " [0.6336747  0.         0.05666872 ... 0.5718753  1.1884595  0.0213138 ]\n",
      " [0.74471104 0.         0.34963053 ... 0.2087781  0.88176906 0.1399442 ]\n",
      " ...\n",
      " [0.6336747  0.         0.04583086 ... 0.5718753  1.1884595  0.0213138 ]\n",
      " [0.84329295 0.         1.0842481  ... 0.1652462  1.1471374  0.0213138 ]\n",
      " [0.74471104 0.         0.3369028  ... 0.15290315 1.6502179  0.18481062]]\n",
      "(1140, 98)\n"
     ]
    }
   ],
   "source": [
    "from keras import backend as K\n",
    "\n",
    "compressed_layer = 5\n",
    "get_layer_output = K.function([model.layers[0].input],[model.layers[compressed_layer].output])\n",
    "compressed = get_layer_output([X_scaled])[0]\n",
    "feature = compressed.reshape(compressed.shape[0], compressed.shape[1]*compressed.shape[2]*compressed.shape[3])\n",
    "\n",
    "print(feature)\n",
    "print(feature.shape)"
   ]
  },
  {
   "cell_type": "code",
   "execution_count": 17,
   "metadata": {},
   "outputs": [],
   "source": [
    "import numpy\n",
    "\n",
    "numpy.save('./compressed3', compressed) # x_save.npy\n",
    "numpy.save('./feature3', feature) # x_save.npy\n",
    "numpy.save('./X_scaled3', X_scaled) # x_save.npy"
   ]
  },
  {
   "cell_type": "code",
   "execution_count": null,
   "metadata": {},
   "outputs": [],
   "source": []
  }
 ],
 "metadata": {
  "kernelspec": {
   "display_name": "Python 3",
   "language": "python",
   "name": "python3"
  },
  "language_info": {
   "codemirror_mode": {
    "name": "ipython",
    "version": 3
   },
   "file_extension": ".py",
   "mimetype": "text/x-python",
   "name": "python",
   "nbconvert_exporter": "python",
   "pygments_lexer": "ipython3",
   "version": "3.8.7"
  }
 },
 "nbformat": 4,
 "nbformat_minor": 4
}
