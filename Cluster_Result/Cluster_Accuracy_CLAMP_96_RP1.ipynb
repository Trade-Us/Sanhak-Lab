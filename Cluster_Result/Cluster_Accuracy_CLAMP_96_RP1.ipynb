{
 "cells": [
  {
   "cell_type": "code",
   "execution_count": null,
   "metadata": {
    "scrolled": true
   },
   "outputs": [],
   "source": [
    "import pandas as pd\n",
    "import numpy as np\n",
    "from readFile import split_into_values, toRPdata"
   ]
  },
  {
   "cell_type": "code",
   "execution_count": null,
   "metadata": {},
   "outputs": [],
   "source": [
    "# columns 와 value는 사용자 입력\n",
    "#df = pd.read_csv('resources/AXISX_resample.csv')\n",
    "df = pd.read_csv('resources/CLAMP_resample.csv')\n",
    "value = ['value']\n",
    "#df = pd.read_csv('resources/Dataset1.csv')\n",
    "columns = ['chip', 'wire', 'segment']\n",
    "value = ['value']"
   ]
  },
  {
   "cell_type": "code",
   "execution_count": null,
   "metadata": {},
   "outputs": [],
   "source": [
    "df = df.loc[:, columns + value] #('chip', 'wire', 'value')는 사용자 입력\n",
    "size = 96 # 모델에 따라 변경 28, 96\n",
    "result = split_into_values(df, columns)"
   ]
  },
  {
   "cell_type": "code",
   "execution_count": null,
   "metadata": {},
   "outputs": [],
   "source": [
    "# dataframe -> list\n",
    "result_list = result.values.tolist()"
   ]
  },
  {
   "cell_type": "code",
   "execution_count": null,
   "metadata": {
    "scrolled": true
   },
   "outputs": [],
   "source": [
    "from sklearn.preprocessing import MinMaxScaler\n",
    "\n",
    "def MinMax(data):\n",
    "    MMS = MinMaxScaler().fit(data)\n",
    "    scaled = MMS.transform(data)\n",
    "    return scaled"
   ]
  },
  {
   "cell_type": "code",
   "execution_count": null,
   "metadata": {},
   "outputs": [],
   "source": [
    "# result_list transpose\n",
    "result_T = [list(x) for x in zip(*result_list)]"
   ]
  },
  {
   "cell_type": "code",
   "execution_count": null,
   "metadata": {},
   "outputs": [],
   "source": [
    "# minmax 정규화\n",
    "result_scaled = MinMax(result_T)"
   ]
  },
  {
   "cell_type": "code",
   "execution_count": null,
   "metadata": {},
   "outputs": [],
   "source": [
    "# 다시 result transpose 해서 원래대로\n",
    "result_scaled = [list(x) for x in zip(*result_scaled)]"
   ]
  },
  {
   "cell_type": "code",
   "execution_count": null,
   "metadata": {},
   "outputs": [],
   "source": [
    "from tslearn.preprocessing import TimeSeriesScalerMeanVariance, TimeSeriesResampler"
   ]
  },
  {
   "cell_type": "code",
   "execution_count": null,
   "metadata": {},
   "outputs": [],
   "source": [
    "# 2. 시계열 셋 크기 변경\n",
    "result_ = TimeSeriesResampler(sz=size).fit_transform(result)"
   ]
  },
  {
   "cell_type": "code",
   "execution_count": null,
   "metadata": {},
   "outputs": [],
   "source": [
    "data = result_.reshape(result_.shape[0], 1, size)\n",
    "X = toRPdata(data, threshold='point', percentage=30) # rp 1\n",
    "# X = toRPdata(data) # rp 2"
   ]
  },
  {
   "cell_type": "code",
   "execution_count": null,
   "metadata": {},
   "outputs": [],
   "source": [
    "X_scaled = np.expand_dims(X, axis=3)\n",
    "X_scaled.shape"
   ]
  },
  {
   "cell_type": "code",
   "execution_count": null,
   "metadata": {},
   "outputs": [],
   "source": [
    "from keras.models import Sequential"
   ]
  },
  {
   "cell_type": "code",
   "execution_count": null,
   "metadata": {},
   "outputs": [],
   "source": [
    "from keras.models import load_model"
   ]
  },
  {
   "cell_type": "code",
   "execution_count": null,
   "metadata": {},
   "outputs": [],
   "source": [
    "model = load_model('CLAMP_96_Autoencoder_128_3e-05_weight.h5')"
   ]
  },
  {
   "cell_type": "code",
   "execution_count": null,
   "metadata": {},
   "outputs": [],
   "source": [
    "print(model.summary())"
   ]
  },
  {
   "cell_type": "code",
   "execution_count": null,
   "metadata": {
    "scrolled": true
   },
   "outputs": [],
   "source": [
    "from keras import backend as K\n",
    "\n",
    "compressed_layer = 8\n",
    "get_layer_output = K.function([model.layers[0].input],[model.layers[compressed_layer].output])\n",
    "compressed = get_layer_output([X_scaled])[0]\n",
    "feature = compressed.reshape(compressed.shape[0], compressed.shape[1]*compressed.shape[2]*compressed.shape[3])\n",
    "\n",
    "print(feature)\n",
    "print(feature.shape)"
   ]
  },
  {
   "cell_type": "code",
   "execution_count": null,
   "metadata": {},
   "outputs": [],
   "source": [
    "print(compressed.shape)"
   ]
  },
  {
   "cell_type": "code",
   "execution_count": 7,
   "metadata": {},
   "outputs": [],
   "source": [
    "# Clustering Algorithm\n",
    "from sklearn.cluster import DBSCAN\n",
    "from sklearn.cluster import KMeans\n",
    "from sklearn.cluster import SpectralClustering, AgglomerativeClustering\n",
    "\n",
    "# Normalization\n",
    "from sklearn.preprocessing import MinMaxScaler\n",
    "from sklearn.preprocessing import StandardScaler\n",
    "\n",
    "# Needed Library!\n",
    "import pandas as pd\n",
    "import numpy as np\n",
    "import matplotlib.pyplot as plt"
   ]
  },
  {
   "cell_type": "code",
   "execution_count": 8,
   "metadata": {},
   "outputs": [],
   "source": [
    "# Accuracy를 가져오는 함수\n",
    "# data_y: 정답 데이터\n",
    "# pred_y: 예측 데이터\n",
    "def getAccuracy(data_y, pred_y):\n",
    "    count = 0\n",
    "    bool_array = (data_y == pred_y)\n",
    "    for correct in bool_array:\n",
    "        if(correct):\n",
    "            count += 1\n",
    "    return count / pred_y.size"
   ]
  },
  {
   "cell_type": "code",
   "execution_count": 9,
   "metadata": {},
   "outputs": [],
   "source": [
    "# 정답 레이블 만들기\n",
    "## 원하는 클래스 레이블의 리스트를 넘긴다.\n",
    "## ex) list = [1, 4, 5] -> 클래스 1번, 4번, 5번 에 대하여 레이블 생성\n",
    "def getClassLabelFor(list, batch_size=190):\n",
    "    y=np.array([])\n",
    "    for i in list:\n",
    "        y_=np.full((1, batch_size), i)[0]\n",
    "        y=np.hstack([y, y_])\n",
    "\n",
    "    return y"
   ]
  },
  {
   "cell_type": "code",
   "execution_count": 10,
   "metadata": {},
   "outputs": [],
   "source": [
    "# Cluster Algorithm\n",
    "def kmeans(dataset, n_clusters, normalization='standard'):\n",
    "\n",
    "    scaled_dataset = []\n",
    "    if normalization == 'standard':\n",
    "        scaler = StandardScaler().fit(dataset)\n",
    "        scaled_dataset = scaler.transform(dataset)\n",
    "    elif normalization == 'minmax':\n",
    "        scaler = MinMaxScaler().fit(dataset)\n",
    "        scaled_dataset = scaler.transform(dataset)\n",
    "    else:\n",
    "        scaled_dataset = dataset\n",
    "        print(\"정규화 진행 안함\")\n",
    "    print(\"Scaled_dataset: \\n{}\".format(scaled_dataset))\n",
    "    cluster_data = KMeans(n_clusters=n_clusters).fit(scaled_dataset)\n",
    "    return cluster_data, scaled_dataset\n",
    "\n",
    "# DBSCAN\n",
    "def dbscan(dataset, eps=0.5, min_samples=5, normalization='standard'):\n",
    "   \n",
    "    scaled_dataset = []\n",
    "    if normalization == 'standard':\n",
    "        scaler = StandardScaler().fit(dataset)\n",
    "        scaled_dataset = scaler.transform(dataset)\n",
    "    elif normalization == 'minmax':\n",
    "        scaler = MinMaxScaler().fit(dataset)\n",
    "        scaled_dataset = scaler.transform(dataset)\n",
    "    else:\n",
    "        scaled_dataset = dataset\n",
    "        print(\"정규화 진행 안함\")\n",
    "\n",
    "    dbscan = DBSCAN(eps=eps, min_samples=min_samples)\n",
    "    cluster_data = dbscan.fit_predict(scaled_dataset)\n",
    "    return cluster_data, scaled_dataset\n",
    "\n",
    "# Spectral Clustering\n",
    "def spectralClustering(dataset, n_clusters, n_init = 10, normalization='standard'):\n",
    "    \n",
    "    #scaled_dataset = norm(dataset, normalization=normalization)\n",
    "    scaled_dataset = []\n",
    "    if normalization == 'standard':\n",
    "        scaler = StandardScaler().fit(dataset)\n",
    "        scaled_dataset = scaler.transform(dataset)\n",
    "    elif normalization == 'minmax':\n",
    "        scaler = MinMaxScaler().fit(dataset)\n",
    "        scaled_dataset = scaler.transform(dataset)\n",
    "    else:\n",
    "        scaled_dataset = dataset\n",
    "        print(\"정규화 진행 안함\")\n",
    "    cluster_data = SpectralClustering(n_clusters=n_clusters, n_init=n_init).fit_predict(scaled_dataset)\n",
    "    return cluster_data, scaled_dataset\n",
    "\n",
    "# Hierarchical Clustering\n",
    "def hierarchicalClustering(dataset, n_clusters, n_init = 10, linkage = 'ward', normalization='standard'):\n",
    "\n",
    "    #scaled_dataset = norm(dataset, normalization=normalization)\n",
    "    scaled_dataset = []\n",
    "    if normalization == 'standard':\n",
    "        scaler = StandardScaler().fit(dataset)\n",
    "        scaled_dataset = scaler.transform(dataset)\n",
    "    elif normalization == 'minmax':\n",
    "        scaler = MinMaxScaler().fit(dataset)\n",
    "        scaled_dataset = scaler.transform(dataset)\n",
    "    else:\n",
    "        scaled_dataset = dataset\n",
    "        print(\"정규화 진행 안함\")\n",
    "    cluster_data = AgglomerativeClustering(n_clusters = n_clusters, linkage = linkage )\n",
    "    return cluster_data, scaled_dataset"
   ]
  },
  {
   "cell_type": "code",
   "execution_count": null,
   "metadata": {},
   "outputs": [],
   "source": [
    "import Clustering as C\n",
    "import Cluster as c"
   ]
  },
  {
   "cell_type": "code",
   "execution_count": null,
   "metadata": {},
   "outputs": [],
   "source": [
    "result, scaled_x = c.kmeans(feature, 6, normalization='minmax')"
   ]
  },
  {
   "cell_type": "code",
   "execution_count": null,
   "metadata": {},
   "outputs": [],
   "source": [
    "import sys\n",
    "import numpy\n",
    "numpy.set_printoptions(threshold=sys.maxsize)\n",
    "print(result.labels_)"
   ]
  },
  {
   "cell_type": "code",
   "execution_count": null,
   "metadata": {},
   "outputs": [],
   "source": [
    "y_label = getClassLabelFor([0, 1, 2, 3, 4, 5])\n",
    "print(y_label)"
   ]
  },
  {
   "cell_type": "code",
   "execution_count": null,
   "metadata": {},
   "outputs": [],
   "source": [
    "i = 0\n",
    "for c in result.labels_:\n",
    "    if c == 2:\n",
    "        result.labels_[i] = 0\n",
    "    elif c == 1:\n",
    "        result.labels_[i] = 1\n",
    "    elif c == 5:\n",
    "        result.labels_[i] = 2\n",
    "    elif c == 4:\n",
    "        result.labels_[i] = 3\n",
    "    elif c == 0:\n",
    "        result.labels_[i] = 4\n",
    "    elif c == 3:\n",
    "        result.labels_[i] = 5\n",
    "    i += 1"
   ]
  },
  {
   "cell_type": "code",
   "execution_count": null,
   "metadata": {},
   "outputs": [],
   "source": [
    "class_ = np.array(result.labels_)\n",
    "accuracy = getAccuracy(y_label, class_)"
   ]
  },
  {
   "cell_type": "code",
   "execution_count": null,
   "metadata": {},
   "outputs": [],
   "source": [
    "print(accuracy)"
   ]
  },
  {
   "cell_type": "code",
   "execution_count": 11,
   "metadata": {},
   "outputs": [],
   "source": [
    "result2, scaled_x2 = dbscan(feature)"
   ]
  },
  {
   "cell_type": "code",
   "execution_count": null,
   "metadata": {},
   "outputs": [],
   "source": [
    "print(scaled_x2)"
   ]
  },
  {
   "cell_type": "code",
   "execution_count": 12,
   "metadata": {
    "scrolled": true
   },
   "outputs": [
    {
     "name": "stderr",
     "output_type": "stream",
     "text": [
      "IOPub data rate exceeded.\n",
      "The notebook server will temporarily stop sending output\n",
      "to the client in order to avoid crashing it.\n",
      "To change this limit, set the config variable\n",
      "`--NotebookApp.iopub_data_rate_limit`.\n",
      "\n",
      "Current values:\n",
      "NotebookApp.iopub_data_rate_limit=1000000.0 (bytes/sec)\n",
      "NotebookApp.rate_limit_window=3.0 (secs)\n",
      "\n"
     ]
    }
   ],
   "source": [
    "import sys\n",
    "import numpy\n",
    "\n",
    "numpy.set_printoptions(threshold=sys.maxsize)\n",
    "print(\"Clusters DBSCAN: \\n{}\".format(scaled_x2))"
   ]
  },
  {
   "cell_type": "code",
   "execution_count": null,
   "metadata": {},
   "outputs": [],
   "source": [
    "numpy.save('./compressed', compressed) # x_save.npy"
   ]
  },
  {
   "cell_type": "code",
   "execution_count": null,
   "metadata": {},
   "outputs": [],
   "source": [
    "numpy.save('./feature', feature) # x_save.npy"
   ]
  },
  {
   "cell_type": "code",
   "execution_count": null,
   "metadata": {},
   "outputs": [],
   "source": [
    "numpy.save('./X_scaled', X_scaled) # x_save.npy"
   ]
  },
  {
   "cell_type": "code",
   "execution_count": null,
   "metadata": {},
   "outputs": [],
   "source": [
    "df = numpy.hstack([x, dbscan_x.reshape(-1, 1)]) # x_scaled_ss 오른쪽"
   ]
  },
  {
   "cell_type": "code",
   "execution_count": 1,
   "metadata": {},
   "outputs": [],
   "source": [
    "import numpy as np"
   ]
  },
  {
   "cell_type": "code",
   "execution_count": 2,
   "metadata": {},
   "outputs": [],
   "source": [
    "compressed = np.load('./compressed.npy')"
   ]
  },
  {
   "cell_type": "code",
   "execution_count": 3,
   "metadata": {},
   "outputs": [
    {
     "name": "stdout",
     "output_type": "stream",
     "text": [
      "[[[[2.1255448  0.93027747]\n",
      "   [2.7712724  0.24135658]\n",
      "   [3.832439   0.77795386]\n",
      "   ...\n",
      "   [3.7606878  0.5797688 ]\n",
      "   [3.7606878  0.5797688 ]\n",
      "   [3.761414   0.56892085]]\n",
      "\n",
      "  [[2.31936    0.27294186]\n",
      "   [2.3148901  2.2734265 ]\n",
      "   [4.295268   0.74573934]\n",
      "   ...\n",
      "   [4.0125594  0.3670555 ]\n",
      "   [4.0125594  0.3670555 ]\n",
      "   [4.0131826  0.35865983]]\n",
      "\n",
      "  [[4.113431   0.61970854]\n",
      "   [3.5518453  1.0416329 ]\n",
      "   [1.5736517  1.3612006 ]\n",
      "   ...\n",
      "   [4.0125594  0.3670555 ]\n",
      "   [4.0125594  0.3670555 ]\n",
      "   [4.0131826  0.35865983]]\n",
      "\n",
      "  ...\n",
      "\n",
      "  [[4.014099   0.5525328 ]\n",
      "   [4.0125594  0.3670555 ]\n",
      "   [4.0125594  0.3670555 ]\n",
      "   ...\n",
      "   [0.47503543 0.78421843]\n",
      "   [1.1137333  1.0478398 ]\n",
      "   [1.4541966  1.2668641 ]]\n",
      "\n",
      "  [[4.014099   0.5525328 ]\n",
      "   [4.0125594  0.3670555 ]\n",
      "   [4.0125594  0.3670555 ]\n",
      "   ...\n",
      "   [1.1212106  1.0299368 ]\n",
      "   [0.68415475 0.9009719 ]\n",
      "   [0.5457814  0.77407324]]\n",
      "\n",
      "  [[3.9232059  0.4530573 ]\n",
      "   [3.9197192  0.25944814]\n",
      "   [3.9197192  0.25944814]\n",
      "   ...\n",
      "   [1.1210308  0.9377413 ]\n",
      "   [0.9910853  0.49488136]\n",
      "   [1.1455225  1.1684911 ]]]\n",
      "\n",
      "\n",
      " [[[2.6609564  1.5576267 ]\n",
      "   [4.1201005  0.62557507]\n",
      "   [4.0470552  0.6859753 ]\n",
      "   ...\n",
      "   [3.019589   0.18960929]\n",
      "   [2.7917995  1.2880728 ]\n",
      "   [2.8901162  1.6136547 ]]\n",
      "\n",
      "  [[3.6328878  0.85894847]\n",
      "   [2.610878   1.0966601 ]\n",
      "   [3.9497304  0.6144172 ]\n",
      "   ...\n",
      "   [4.1624007  0.9006494 ]\n",
      "   [4.1033077  1.2523189 ]\n",
      "   [4.094588   0.5509825 ]]\n",
      "\n",
      "  [[4.249119   0.56310236]\n",
      "   [3.6575832  1.4096067 ]\n",
      "   [2.1013064  1.4744741 ]\n",
      "   ...\n",
      "   [3.6892636  0.52983105]\n",
      "   [4.1559424  0.6363467 ]\n",
      "   [4.0131826  0.35865983]]\n",
      "\n",
      "  ...\n",
      "\n",
      "  [[3.5123556  0.33076376]\n",
      "   [3.819821   0.71969235]\n",
      "   [3.536135   0.9139489 ]\n",
      "   ...\n",
      "   [3.0959523  2.3127232 ]\n",
      "   [4.7232785  0.52352655]\n",
      "   [4.361477   0.47976318]]\n",
      "\n",
      "  [[3.4164267  1.1596984 ]\n",
      "   [4.07291    1.2672254 ]\n",
      "   [4.1574836  0.46960738]\n",
      "   ...\n",
      "   [4.2067294  0.6027305 ]\n",
      "   [3.013692   1.7033278 ]\n",
      "   [3.8044426  0.        ]]\n",
      "\n",
      "  [[3.4866102  1.0633966 ]\n",
      "   [4.0415306  0.52239215]\n",
      "   [3.9197192  0.25944814]\n",
      "   ...\n",
      "   [4.1353703  0.28554335]\n",
      "   [2.8261642  0.        ]\n",
      "   [0.738788   0.9891319 ]]]\n",
      "\n",
      "\n",
      " [[[2.083116   0.77170813]\n",
      "   [1.8160751  0.54636395]\n",
      "   [2.489569   0.9299885 ]\n",
      "   ...\n",
      "   [1.7552071  0.991614  ]\n",
      "   [1.961974   0.8990227 ]\n",
      "   [2.1817455  0.820163  ]]\n",
      "\n",
      "  [[2.1935909  0.84936416]\n",
      "   [2.181306   1.1518681 ]\n",
      "   [2.7969558  1.3248968 ]\n",
      "   ...\n",
      "   [2.1707559  1.0569931 ]\n",
      "   [2.1930015  1.063948  ]\n",
      "   [2.3676379  0.95480883]]\n",
      "\n",
      "  [[2.2306483  1.0408543 ]\n",
      "   [2.288609   1.1248944 ]\n",
      "   [2.7493799  2.035955  ]\n",
      "   ...\n",
      "   [2.4294941  1.4072493 ]\n",
      "   [2.4276733  1.4092455 ]\n",
      "   [2.4603162  1.3949708 ]]\n",
      "\n",
      "  ...\n",
      "\n",
      "  [[2.1690953  0.96516573]\n",
      "   [2.2293367  1.1376649 ]\n",
      "   [2.8736823  1.4774718 ]\n",
      "   ...\n",
      "   [1.3165488  1.0192429 ]\n",
      "   [1.5851681  1.025984  ]\n",
      "   [2.0542414  1.320362  ]]\n",
      "\n",
      "  [[2.2267175  0.78323126]\n",
      "   [2.238079   1.1452631 ]\n",
      "   [2.9667642  1.5790958 ]\n",
      "   ...\n",
      "   [1.4372044  1.1506584 ]\n",
      "   [1.6638666  1.2908427 ]\n",
      "   [1.8990859  1.1500263 ]]\n",
      "\n",
      "  [[2.081316   0.6987556 ]\n",
      "   [2.2872252  0.9897914 ]\n",
      "   [2.7349699  1.3761867 ]\n",
      "   ...\n",
      "   [2.027776   1.1213752 ]\n",
      "   [1.9289389  1.1237799 ]\n",
      "   [1.9096785  1.0388081 ]]]\n",
      "\n",
      "\n",
      " ...\n",
      "\n",
      "\n",
      " [[[2.484306   1.9213071 ]\n",
      "   [4.404025   0.799615  ]\n",
      "   [4.1168537  0.6753843 ]\n",
      "   ...\n",
      "   [3.3056686  0.45607433]\n",
      "   [2.7353375  1.0154598 ]\n",
      "   [2.7937543  1.0024302 ]]\n",
      "\n",
      "  [[3.7327738  0.78952336]\n",
      "   [3.0764527  1.5983732 ]\n",
      "   [4.090052   0.23787269]\n",
      "   ...\n",
      "   [3.6493032  0.8884504 ]\n",
      "   [4.0348077  1.2715648 ]\n",
      "   [4.0418987  0.89829695]]\n",
      "\n",
      "  [[4.2549257  0.5653213 ]\n",
      "   [3.7268548  0.8125365 ]\n",
      "   [2.1990004  1.5048354 ]\n",
      "   ...\n",
      "   [3.6313066  1.1408136 ]\n",
      "   [4.115948   1.1077781 ]\n",
      "   [4.0131826  0.35865983]]\n",
      "\n",
      "  ...\n",
      "\n",
      "  [[3.637162   0.45096204]\n",
      "   [3.39279    1.0355251 ]\n",
      "   [3.5194652  0.8146026 ]\n",
      "   ...\n",
      "   [3.0760026  2.2738802 ]\n",
      "   [4.7506933  0.48168907]\n",
      "   [4.311934   0.5093632 ]]\n",
      "\n",
      "  [[3.3132422  1.0676476 ]\n",
      "   [4.017784   1.2168465 ]\n",
      "   [4.115901   0.82894003]\n",
      "   ...\n",
      "   [4.1942754  0.42790696]\n",
      "   [2.9839492  1.5313731 ]\n",
      "   [3.6552815  0.        ]]\n",
      "\n",
      "  [[3.1257453  1.0876813 ]\n",
      "   [3.9197192  1.1062671 ]\n",
      "   [3.9197192  0.25944814]\n",
      "   ...\n",
      "   [4.136286   0.28271005]\n",
      "   [2.659984   0.        ]\n",
      "   [0.55018127 1.0592482 ]]]\n",
      "\n",
      "\n",
      " [[[1.1270785  0.29288396]\n",
      "   [1.1943725  0.37746945]\n",
      "   [1.3201091  0.23128518]\n",
      "   ...\n",
      "   [2.3661275  1.521538  ]\n",
      "   [2.246586   0.92077947]\n",
      "   [1.2164754  0.5255997 ]]\n",
      "\n",
      "  [[1.5053247  0.93392694]\n",
      "   [1.318795   1.219003  ]\n",
      "   [1.1301117  0.95702827]\n",
      "   ...\n",
      "   [3.597207   1.1538087 ]\n",
      "   [2.693951   1.2412362 ]\n",
      "   [1.157967   0.81250143]]\n",
      "\n",
      "  [[1.4822078  0.6206558 ]\n",
      "   [1.1317129  1.0925097 ]\n",
      "   [1.2173665  1.2459818 ]\n",
      "   ...\n",
      "   [3.5815167  0.63791907]\n",
      "   [2.561427   1.0962542 ]\n",
      "   [1.0726131  0.76166606]]\n",
      "\n",
      "  ...\n",
      "\n",
      "  [[3.456693   0.96940947]\n",
      "   [3.771623   0.8365238 ]\n",
      "   [3.8008156  0.4454203 ]\n",
      "   ...\n",
      "   [2.8359506  1.4514513 ]\n",
      "   [3.0261095  1.2212368 ]\n",
      "   [3.1395004  1.211555  ]]\n",
      "\n",
      "  [[2.6384835  0.89660347]\n",
      "   [2.7941613  0.9976082 ]\n",
      "   [2.729382   0.8866637 ]\n",
      "   ...\n",
      "   [2.8176572  1.2361724 ]\n",
      "   [2.73391    1.4604982 ]\n",
      "   [2.6546783  0.8249099 ]]\n",
      "\n",
      "  [[1.5297813  0.45934764]\n",
      "   [1.2441782  0.57673824]\n",
      "   [1.1856229  0.5286344 ]\n",
      "   ...\n",
      "   [2.8679452  1.0211606 ]\n",
      "   [2.285543   0.9038929 ]\n",
      "   [1.4108856  0.94465506]]]\n",
      "\n",
      "\n",
      " [[[2.430436   0.7341207 ]\n",
      "   [3.2217436  0.5687977 ]\n",
      "   [3.7493844  0.69784117]\n",
      "   ...\n",
      "   [3.6083055  0.5797688 ]\n",
      "   [3.6042833  0.65693414]\n",
      "   [3.4644747  0.61811507]]\n",
      "\n",
      "  [[3.0182076  0.7003211 ]\n",
      "   [2.8875408  1.2826449 ]\n",
      "   [3.554516   1.0428964 ]\n",
      "   ...\n",
      "   [3.1882112  0.56973886]\n",
      "   [3.1346967  0.5931423 ]\n",
      "   [3.0199554  0.4033185 ]]\n",
      "\n",
      "  [[3.8712614  0.5652509 ]\n",
      "   [3.006411   0.9451884 ]\n",
      "   [2.6049883  1.3835769 ]\n",
      "   ...\n",
      "   [2.2762747  1.0136337 ]\n",
      "   [2.5041096  1.0927286 ]\n",
      "   [2.4067488  1.0562538 ]]\n",
      "\n",
      "  ...\n",
      "\n",
      "  [[3.7840867  0.5525328 ]\n",
      "   [2.9785452  0.6535547 ]\n",
      "   [2.5690854  1.1698496 ]\n",
      "   ...\n",
      "   [1.463409   1.4063094 ]\n",
      "   [1.2036972  1.0338738 ]\n",
      "   [1.1983795  0.93015945]]\n",
      "\n",
      "  [[3.7486563  0.62614274]\n",
      "   [2.9354208  0.92582333]\n",
      "   [2.6437466  1.2231238 ]\n",
      "   ...\n",
      "   [1.4409369  1.1622591 ]\n",
      "   [1.0428569  0.9445672 ]\n",
      "   [0.96921563 0.8792074 ]]\n",
      "\n",
      "  [[3.3912697  0.51172054]\n",
      "   [2.4957283  0.6050079 ]\n",
      "   [2.3375473  1.0688034 ]\n",
      "   ...\n",
      "   [1.3515923  1.098967  ]\n",
      "   [1.1536961  1.0553541 ]\n",
      "   [1.2100399  1.2525258 ]]]]\n"
     ]
    }
   ],
   "source": [
    "print(compressed)"
   ]
  },
  {
   "cell_type": "code",
   "execution_count": 4,
   "metadata": {},
   "outputs": [],
   "source": [
    "feature = np.load('./feature.npy')"
   ]
  },
  {
   "cell_type": "code",
   "execution_count": 5,
   "metadata": {},
   "outputs": [],
   "source": [
    "X_scaled = np.load('./X_scaled.npy')"
   ]
  },
  {
   "cell_type": "code",
   "execution_count": 6,
   "metadata": {},
   "outputs": [],
   "source": []
  },
  {
   "cell_type": "code",
   "execution_count": null,
   "metadata": {},
   "outputs": [],
   "source": []
  }
 ],
 "metadata": {
  "kernelspec": {
   "display_name": "Python 3",
   "language": "python",
   "name": "python3"
  },
  "language_info": {
   "codemirror_mode": {
    "name": "ipython",
    "version": 3
   },
   "file_extension": ".py",
   "mimetype": "text/x-python",
   "name": "python",
   "nbconvert_exporter": "python",
   "pygments_lexer": "ipython3",
   "version": "3.8.7"
  }
 },
 "nbformat": 4,
 "nbformat_minor": 4
}
