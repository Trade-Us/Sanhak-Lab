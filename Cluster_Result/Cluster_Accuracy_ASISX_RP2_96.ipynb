{
 "cells": [
  {
   "cell_type": "code",
   "execution_count": 1,
   "metadata": {},
   "outputs": [],
   "source": [
    "import numpy as np\n",
    "\n",
    "compressed = np.load('./compressed2.npy')\n",
    "feature = np.load('./feature2.npy')\n",
    "X_scaled = np.load('./X_scaled2.npy')"
   ]
  },
  {
   "cell_type": "code",
   "execution_count": 2,
   "metadata": {},
   "outputs": [
    {
     "name": "stdout",
     "output_type": "stream",
     "text": [
      "(1330, 96, 96, 1)\n",
      "(1330, 12, 12, 2)\n"
     ]
    }
   ],
   "source": [
    "print(X_scaled.shape)\n",
    "print(compressed.shape)"
   ]
  },
  {
   "cell_type": "code",
   "execution_count": 3,
   "metadata": {},
   "outputs": [],
   "source": [
    "# Clustering Algorithm\n",
    "from sklearn.cluster import DBSCAN\n",
    "from sklearn.cluster import KMeans\n",
    "from sklearn.cluster import SpectralClustering, AgglomerativeClustering\n",
    "\n",
    "# Normalization\n",
    "from sklearn.preprocessing import MinMaxScaler\n",
    "from sklearn.preprocessing import StandardScaler\n",
    "\n",
    "# Needed Library!\n",
    "import pandas as pd\n",
    "import numpy as np\n",
    "import matplotlib.pyplot as plt"
   ]
  },
  {
   "cell_type": "code",
   "execution_count": 4,
   "metadata": {},
   "outputs": [],
   "source": [
    "# Accuracy를 가져오는 함수\n",
    "# data_y: 정답 데이터\n",
    "# pred_y: 예측 데이터\n",
    "def getAccuracy(data_y, pred_y):\n",
    "    count = 0\n",
    "    bool_array = (data_y == pred_y)\n",
    "    for correct in bool_array:\n",
    "        if(correct):\n",
    "            count += 1\n",
    "    return count / pred_y.size"
   ]
  },
  {
   "cell_type": "code",
   "execution_count": 5,
   "metadata": {},
   "outputs": [],
   "source": [
    "# 정답 레이블 만들기\n",
    "## 원하는 클래스 레이블의 리스트를 넘긴다.\n",
    "## ex) list = [1, 4, 5] -> 클래스 1번, 4번, 5번 에 대하여 레이블 생성\n",
    "def getClassLabelFor(list, batch_size=190):\n",
    "    y=np.array([])\n",
    "    for i in list:\n",
    "        y_=np.full((1, batch_size), i)[0]\n",
    "        y=np.hstack([y, y_])\n",
    "\n",
    "    return y"
   ]
  },
  {
   "cell_type": "code",
   "execution_count": 6,
   "metadata": {},
   "outputs": [],
   "source": [
    "# Cluster Algorithm\n",
    "def kmeans(dataset, n_clusters, normalization='standard'):\n",
    "\n",
    "    scaled_dataset = []\n",
    "    if normalization == 'standard':\n",
    "        scaler = StandardScaler().fit(dataset)\n",
    "        scaled_dataset = scaler.transform(dataset)\n",
    "    elif normalization == 'minmax':\n",
    "        scaler = MinMaxScaler().fit(dataset)\n",
    "        scaled_dataset = scaler.transform(dataset)\n",
    "    else:\n",
    "        scaled_dataset = dataset\n",
    "        print(\"정규화 진행 안함\")\n",
    "    print(\"Scaled_dataset: \\n{}\".format(scaled_dataset))\n",
    "    cluster_data = KMeans(n_clusters=n_clusters).fit(scaled_dataset)\n",
    "    return cluster_data, scaled_dataset\n",
    "\n",
    "# DBSCAN\n",
    "def dbscan(dataset, eps=0.5, min_samples=5, normalization='standard'):\n",
    "   \n",
    "    scaled_dataset = []\n",
    "    if normalization == 'standard':\n",
    "        scaler = StandardScaler().fit(dataset)\n",
    "        scaled_dataset = scaler.transform(dataset)\n",
    "    elif normalization == 'minmax':\n",
    "        scaler = MinMaxScaler().fit(dataset)\n",
    "        scaled_dataset = scaler.transform(dataset)\n",
    "    else:\n",
    "        scaled_dataset = dataset\n",
    "        print(\"정규화 진행 안함\")\n",
    "\n",
    "    dbscan = DBSCAN(eps=eps, min_samples=min_samples)\n",
    "    cluster_data = dbscan.fit(scaled_dataset)\n",
    "    return cluster_data, scaled_dataset\n",
    "\n",
    "# Spectral Clustering\n",
    "def spectralClustering(dataset, n_clusters, n_init = 10, normalization='standard'):\n",
    "    \n",
    "    #scaled_dataset = norm(dataset, normalization=normalization)\n",
    "    scaled_dataset = []\n",
    "    if normalization == 'standard':\n",
    "        scaler = StandardScaler().fit(dataset)\n",
    "        scaled_dataset = scaler.transform(dataset)\n",
    "    elif normalization == 'minmax':\n",
    "        scaler = MinMaxScaler().fit(dataset)\n",
    "        scaled_dataset = scaler.transform(dataset)\n",
    "    else:\n",
    "        scaled_dataset = dataset\n",
    "        print(\"정규화 진행 안함\")\n",
    "    cluster_data = SpectralClustering(n_clusters=n_clusters, n_init=n_init).fit(scaled_dataset)\n",
    "    return cluster_data, scaled_dataset\n",
    "\n",
    "# Hierarchical Clustering\n",
    "def hierarchicalClustering(dataset, n_clusters, n_init = 10, linkage = 'ward', normalization='standard'):\n",
    "\n",
    "    #scaled_dataset = norm(dataset, normalization=normalization)\n",
    "    scaled_dataset = []\n",
    "    if normalization == 'standard':\n",
    "        scaler = StandardScaler().fit(dataset)\n",
    "        scaled_dataset = scaler.transform(dataset)\n",
    "    elif normalization == 'minmax':\n",
    "        scaler = MinMaxScaler().fit(dataset)\n",
    "        scaled_dataset = scaler.transform(dataset)\n",
    "    else:\n",
    "        scaled_dataset = dataset\n",
    "        print(\"정규화 진행 안함\")\n",
    "    cluster_data = AgglomerativeClustering(n_clusters = n_clusters, linkage = linkage ).fit(scaled_dataset)\n",
    "    return cluster_data, scaled_dataset"
   ]
  },
  {
   "cell_type": "code",
   "execution_count": 7,
   "metadata": {},
   "outputs": [
    {
     "name": "stdout",
     "output_type": "stream",
     "text": [
      "Scaled_dataset: \n",
      "[[0.12869266 0.1944374  0.31041503 ... 0.10582252 0.22042952 0.2885632 ]\n",
      " [0.36149484 0.         0.5506828  ... 0.15745087 0.06279364 0.        ]\n",
      " [0.7109965  0.8570393  0.60048974 ... 0.         0.5659062  0.        ]\n",
      " ...\n",
      " [0.59670997 0.10539619 0.7351928  ... 0.         0.33955365 0.        ]\n",
      " [0.2766949  0.3882143  0.7213162  ... 0.36514887 0.02570792 0.56257683]\n",
      " [0.3375677  0.47331065 0.6663536  ... 0.         0.60508734 0.        ]]\n"
     ]
    }
   ],
   "source": [
    "result, scaled_x = kmeans(feature, 7, normalization='minmax')"
   ]
  },
  {
   "cell_type": "code",
   "execution_count": 8,
   "metadata": {},
   "outputs": [
    {
     "name": "stdout",
     "output_type": "stream",
     "text": [
      "[3 5 0 1 6 4 3 3 5 0 1 6 4 3 3 5 0 1 6 4 3 3 5 0 1 6 4 3 3 5 0 1 6 4 3 3 5\n",
      " 0 1 6 4 3 3 5 0 1 6 4 3 3 5 0 1 6 4 3 3 5 0 1 6 4 3 3 5 0 1 6 4 3 3 1 0 1\n",
      " 6 4 3 3 5 0 1 6 4 3 3 5 0 1 6 4 3 3 5 0 1 6 4 3 3 5 0 1 6 4 3 3 5 0 1 6 4\n",
      " 3 3 5 0 1 6 4 3 3 5 0 1 6 4 3 3 5 0 1 6 4 3 3 1 0 1 2 4 3 3 1 0 1 2 4 3 3\n",
      " 1 0 1 2 4 3 3 1 0 1 2 4 3 3 1 0 1 2 4 3 3 1 0 1 2 4 3 3 1 0 1 2 4 3 3 1 0\n",
      " 1 2 4 3 3 1 0 1 2 4 3 3 1 0 1 2 4 3 3 5 0 1 2 4 3 3 1 0 1 2 4 3 3 1 0 1 2\n",
      " 4 3 3 1 0 1 2 4 3 3 1 0 1 2 4 3 3 1 0 1 2 4 3 3 1 0 1 2 4 3 3 1 0 1 2 4 3\n",
      " 3 1 0 1 2 4 3 3 5 0 1 2 3 3 3 5 0 5 6 4 3 3 5 0 5 2 3 3 3 5 0 5 2 3 3 3 5\n",
      " 0 1 2 3 3 3 5 0 5 2 3 3 3 5 0 1 6 4 3 3 5 0 5 2 3 3 3 5 0 5 2 3 3 3 5 0 5\n",
      " 2 3 3 3 1 0 1 2 3 3 3 5 0 1 6 4 3 3 5 0 1 6 4 3 3 5 0 1 6 4 3 3 5 0 1 2 3\n",
      " 3 3 5 0 5 2 3 3 3 5 0 1 6 4 3 3 5 0 5 6 4 3 3 5 0 3 6 4 3 3 1 0 1 2 4 3 3\n",
      " 1 0 1 2 4 3 3 1 0 1 2 4 3 3 1 0 1 2 4 3 3 1 0 1 2 4 3 3 1 0 1 2 4 3 3 1 0\n",
      " 1 2 4 3 3 1 0 1 2 4 3 3 1 0 1 2 4 3 3 1 0 1 2 4 3 3 5 0 1 2 4 3 3 1 0 1 2\n",
      " 4 3 3 1 0 1 2 4 3 3 1 0 1 2 4 3 3 1 0 1 2 4 3 3 1 0 1 2 4 3 3 1 0 1 2 4 3\n",
      " 3 1 0 1 2 4 3 3 1 0 1 2 4 3 3 1 0 1 2 4 3 3 1 0 1 2 4 3 3 1 0 1 2 4 3 3 1\n",
      " 0 1 2 4 3 3 1 0 1 2 4 3 3 1 0 1 2 4 3 3 1 0 1 2 4 3 3 1 0 1 2 4 3 3 1 0 1\n",
      " 2 4 3 3 1 0 1 2 4 3 3 1 0 1 2 4 3 3 1 0 1 2 4 3 3 1 0 1 2 4 3 3 1 0 1 2 4\n",
      " 3 3 1 0 1 2 4 3 3 1 0 1 2 4 3 3 1 0 1 2 4 3 3 1 0 1 2 4 3 3 1 0 1 2 4 3 3\n",
      " 5 0 1 6 4 3 3 5 0 1 6 4 3 3 5 0 1 6 4 3 3 5 0 1 6 4 3 3 5 0 1 6 4 3 3 5 0\n",
      " 1 6 4 3 3 5 0 1 6 4 3 3 5 0 1 6 4 3 3 5 0 1 6 4 3 3 5 0 1 6 4 3 3 1 0 1 6\n",
      " 4 3 3 5 0 1 6 4 3 3 5 0 1 6 4 3 3 5 0 1 6 4 3 3 5 0 1 6 4 3 3 5 0 1 6 4 3\n",
      " 3 5 0 1 6 4 3 3 5 0 1 6 4 3 3 5 0 1 6 4 3 3 1 0 1 2 4 3 3 1 0 1 2 4 3 3 1\n",
      " 0 1 2 4 3 3 1 0 1 2 4 3 3 1 0 1 2 4 3 3 1 0 1 2 4 3 3 1 0 1 2 4 3 3 1 0 1\n",
      " 2 4 3 3 1 0 1 2 4 3 3 1 0 1 2 4 3 3 5 0 1 2 4 3 3 1 0 1 2 4 3 3 1 0 1 2 4\n",
      " 3 3 1 0 1 2 4 3 3 1 0 1 2 4 3 3 1 0 1 2 4 3 3 1 0 1 2 4 3 3 1 0 1 2 4 3 3\n",
      " 1 0 1 2 4 3 3 5 0 5 2 3 3 3 5 0 5 2 3 3 3 5 0 5 2 3 3 3 5 0 5 2 3 3 3 5 0\n",
      " 5 2 3 3 3 5 0 5 2 3 3 3 5 0 5 2 3 3 3 5 0 5 2 3 3 3 5 0 5 2 3 3 3 5 0 5 2\n",
      " 3 3 3 1 0 1 2 3 3 3 5 0 1 6 4 3 3 5 0 1 6 4 3 3 5 0 5 2 3 3 3 5 0 5 6 4 3\n",
      " 3 5 0 5 2 3 3 3 5 0 5 2 3 3 3 5 0 5 2 3 3 3 5 0 5 2 3 3 3 1 0 1 2 4 3 3 1\n",
      " 0 1 2 4 3 3 1 0 1 2 4 3 3 1 0 1 2 4 3 3 1 0 1 2 4 3 3 1 0 1 2 4 3 3 1 0 1\n",
      " 2 4 3 3 1 0 1 2 4 3 3 1 0 1 2 4 3 3 1 0 1 2 4 3 3 5 0 1 2 4 3 3 1 0 1 2 4\n",
      " 3 3 1 0 1 2 4 3 3 1 0 1 2 4 3 3 1 0 1 2 4 3 3 1 0 1 2 4 3 3 1 0 1 2 4 3 3\n",
      " 1 0 1 2 4 3 3 1 0 1 2 4 3 3 1 0 1 2 4 3 3 1 0 1 2 4 3 3 1 0 1 2 4 3 3 1 0\n",
      " 1 2 4 3 3 1 0 1 2 4 3 3 1 0 1 2 4 3 3 1 0 1 2 4 3 3 1 0 1 2 4 3 3 1 0 1 2\n",
      " 4 3 3 1 0 1 2 4 3 3 1 0 1 2 4 3 3 1 0 1 2 4 3 3 1 0 1 2 4 3 3 1 0 1 2 4 3\n",
      " 3 1 0 1 2 4 3 3 1 0 1 2 4 3 3 1 0 1 2 4 3 3 1 0 1 2 4 3 3 1 0 1 2 4 3]\n"
     ]
    }
   ],
   "source": [
    "import sys\n",
    "import numpy\n",
    "\n",
    "numpy.set_printoptions(threshold=sys.maxsize)\n",
    "print(result.labels_)"
   ]
  },
  {
   "cell_type": "code",
   "execution_count": 9,
   "metadata": {},
   "outputs": [],
   "source": [
    "y_label = [3, 5, 0, 1, 6, 4, 3] * 190"
   ]
  },
  {
   "cell_type": "code",
   "execution_count": 10,
   "metadata": {},
   "outputs": [
    {
     "name": "stdout",
     "output_type": "stream",
     "text": [
      "0.7684210526315789\n"
     ]
    }
   ],
   "source": [
    "class_ = np.array(result.labels_)\n",
    "accuracy = getAccuracy(y_label, class_)\n",
    "print(accuracy)"
   ]
  },
  {
   "cell_type": "code",
   "execution_count": 64,
   "metadata": {},
   "outputs": [],
   "source": [
    "result2, scaled_x2 = dbscan(feature, 0.5107, 6, normalization='minmax')"
   ]
  },
  {
   "cell_type": "code",
   "execution_count": 65,
   "metadata": {},
   "outputs": [
    {
     "name": "stdout",
     "output_type": "stream",
     "text": [
      "[-1  0 -1  1 -1  2 -1 -1  0 -1 -1 -1  2 -1 -1  0 -1 -1 -1 -1 -1 -1  0 -1\n",
      "  1 -1  2 -1 -1  0 -1  1 -1  2 -1 -1  0 -1 -1 -1 -1 -1 -1  0 -1  3 -1 -1\n",
      " -1 -1  0 -1  1 -1  2 -1 -1  0 -1 -1 -1  2 -1 -1  0 -1 -1 -1  2 -1 -1  4\n",
      " -1  3 -1  2 -1 -1  0 -1 -1 -1  2 -1 -1  0 -1  3 -1  2 -1 -1  0 -1  3 -1\n",
      "  2 -1 -1  0 -1 -1 -1  2 -1 -1  0 -1  3 -1 -1 -1 -1  0 -1  5 -1  2 -1 -1\n",
      "  0 -1 -1 -1  2 -1 -1  0 -1 -1 -1  2 -1 -1  4 -1  3 -1  2 -1 -1  4 -1  3\n",
      " -1  2 -1 -1  4 -1  3 -1  2 -1 -1  4 -1  3 -1  2 -1 -1  4 -1  3 -1 -1 -1\n",
      " -1  4 -1  3 -1  2 -1 -1  4 -1  3 -1  2 -1 -1  4 -1  3 -1  2 -1 -1  4 -1\n",
      "  3 -1  2 -1 -1  4 -1  3 -1  2 -1 -1  0 -1  3 -1  2 -1 -1  4 -1  3 -1  2\n",
      " -1 -1  4 -1  3 -1  2 -1 -1  4 -1  3 -1  2 -1 -1  4 -1  3 -1  2 -1 -1  4\n",
      " -1  3 -1  2 -1 -1  4 -1  3 -1  2 -1 -1  4 -1  3 -1  2 -1 -1  4 -1  3 -1\n",
      "  2 -1 -1  0 -1 -1 -1 -1 -1 -1  0 -1 -1 -1  2 -1 -1  0 -1 -1 -1 -1 -1 -1\n",
      "  0 -1 -1 -1 -1 -1 -1  0 -1  1 -1 -1 -1 -1  0 -1 -1 -1 -1 -1 -1  0 -1 -1\n",
      " -1  2 -1 -1  0 -1 -1 -1 -1 -1 -1  0 -1 -1 -1 -1 -1 -1  0 -1 -1 -1 -1 -1\n",
      " -1  4 -1 -1 -1 -1 -1 -1  0 -1 -1 -1  2 -1 -1  0 -1 -1 -1 -1 -1 -1  0 -1\n",
      "  3 -1  2 -1 -1  0 -1 -1 -1 -1 -1 -1  0 -1 -1 -1 -1 -1 -1  0 -1 -1 -1  2\n",
      " -1 -1  0 -1 -1 -1  2 -1 -1  0 -1 -1 -1  2 -1 -1  4 -1  3 -1  2 -1 -1  4\n",
      " -1  3 -1  2 -1 -1  4 -1  3 -1  2 -1 -1  4 -1  3 -1  2 -1 -1  4 -1  3 -1\n",
      " -1 -1 -1  4 -1 -1 -1  2 -1 -1  4 -1  3 -1  2 -1 -1  4 -1  3 -1  2 -1 -1\n",
      "  4 -1  3 -1 -1 -1 -1  4 -1 -1 -1  2 -1 -1  0 -1  3 -1  2 -1 -1  4 -1  3\n",
      " -1  2 -1 -1  4 -1  3 -1  2 -1 -1  4 -1  3 -1  2 -1 -1  4 -1  3 -1  2 -1\n",
      " -1  4 -1  3 -1  2 -1 -1  4 -1  3 -1  2 -1 -1  4 -1 -1 -1  2 -1 -1  4 -1\n",
      "  3 -1  2 -1 -1  4 -1 -1 -1  2 -1 -1  4 -1  3 -1  2 -1 -1  4 -1  3 -1  2\n",
      " -1 -1  4 -1  3 -1  2 -1 -1  4 -1  3 -1 -1 -1 -1  4 -1  3 -1  2 -1 -1  4\n",
      " -1 -1 -1  2 -1 -1  4 -1  3 -1  2 -1 -1  4 -1  3 -1  2 -1 -1  4 -1  3 -1\n",
      "  2 -1 -1  4 -1  3 -1  2 -1 -1  4 -1  3 -1  2 -1 -1  4 -1 -1 -1  2 -1 -1\n",
      "  4 -1  5 -1  2 -1 -1  4 -1  3 -1  2 -1 -1  4 -1  3 -1  2 -1 -1  4 -1  3\n",
      " -1  2 -1 -1  4 -1  3 -1 -1 -1 -1  4 -1  3 -1  2 -1 -1  0 -1 -1 -1  2 -1\n",
      " -1  0 -1  1 -1  2 -1 -1  0 -1 -1 -1  2 -1 -1  0 -1  1 -1  2 -1 -1  0 -1\n",
      "  1 -1  2 -1 -1  0 -1 -1 -1  2 -1 -1  0 -1  3 -1  2 -1 -1  0 -1 -1 -1  2\n",
      " -1 -1  0 -1 -1 -1  2 -1 -1  0 -1 -1 -1 -1 -1 -1  4 -1 -1 -1  2 -1 -1  0\n",
      " -1 -1 -1  2 -1 -1  0 -1  3 -1 -1 -1 -1  0 -1  5 -1  2 -1 -1  0 -1  5 -1\n",
      "  2 -1 -1  0 -1 -1 -1  2 -1 -1  0 -1  1 -1 -1 -1 -1  0 -1 -1 -1  2 -1 -1\n",
      "  0 -1  3 -1  2 -1 -1  4 -1 -1 -1  2 -1 -1  4 -1  3 -1  2 -1 -1  4 -1 -1\n",
      " -1  2 -1 -1  4 -1  3 -1  2 -1 -1  4 -1 -1 -1 -1 -1 -1  4 -1  3 -1  2 -1\n",
      " -1  4 -1  3 -1 -1 -1 -1  4 -1  3 -1  2 -1 -1  4 -1 -1 -1  2 -1 -1  4 -1\n",
      "  3 -1  2 -1 -1  0 -1  3 -1  2 -1 -1  4 -1  3 -1  2 -1 -1  4 -1  3 -1 -1\n",
      " -1 -1  4 -1  3 -1  2 -1 -1  4 -1  3 -1  2 -1 -1  4 -1  3 -1  2 -1 -1  4\n",
      " -1  3 -1  2 -1 -1  4 -1  3 -1  2 -1 -1  4 -1  3 -1 -1 -1 -1  0 -1 -1 -1\n",
      " -1 -1 -1  0 -1 -1 -1 -1 -1 -1  0 -1 -1 -1 -1 -1 -1  0 -1 -1 -1 -1 -1 -1\n",
      "  0 -1 -1 -1 -1 -1 -1  0 -1 -1 -1 -1 -1 -1  0 -1 -1 -1 -1 -1 -1  0 -1 -1\n",
      " -1 -1 -1 -1  0 -1 -1 -1 -1 -1 -1  0 -1 -1 -1 -1 -1 -1  4 -1 -1 -1 -1 -1\n",
      " -1  0 -1 -1 -1 -1 -1 -1  0 -1 -1 -1 -1 -1 -1  0 -1 -1 -1 -1 -1 -1  0 -1\n",
      " -1 -1  2 -1 -1  0 -1 -1 -1 -1 -1 -1  0 -1 -1 -1 -1 -1 -1  0 -1 -1 -1 -1\n",
      " -1 -1  0 -1 -1 -1 -1 -1 -1  4 -1  3 -1 -1 -1 -1  4 -1  5 -1  2 -1 -1  4\n",
      " -1 -1 -1  2 -1 -1  4 -1  5 -1  2 -1 -1  4 -1 -1 -1 -1 -1 -1  4 -1 -1 -1\n",
      "  2 -1 -1  4 -1 -1 -1  2 -1 -1  4 -1  5 -1  2 -1 -1 -1 -1  3 -1  2 -1 -1\n",
      "  4 -1  5 -1  2 -1 -1  0 -1  3 -1  2 -1 -1  4 -1  3 -1  2 -1 -1  4 -1  3\n",
      " -1  2 -1 -1  4 -1  3 -1  2 -1 -1  3 -1  3 -1  2 -1 -1  4 -1 -1 -1  2 -1\n",
      " -1  4 -1  3 -1  2 -1 -1  4 -1  3 -1  2 -1 -1  4 -1  3 -1  2 -1 -1  4 -1\n",
      "  3 -1  2 -1 -1  4 -1  3 -1  2 -1 -1  4 -1 -1 -1 -1 -1 -1  4 -1  3 -1  2\n",
      " -1 -1  4 -1  3 -1  2 -1 -1  4 -1 -1 -1  2 -1 -1  4 -1  3 -1  2 -1 -1  4\n",
      " -1  3 -1  2 -1 -1  4 -1 -1 -1  2 -1 -1  4 -1  3 -1  2 -1 -1  4 -1  3 -1\n",
      "  2 -1 -1  4 -1  3 -1  2 -1 -1  4 -1 -1 -1  2 -1 -1  4 -1 -1 -1 -1 -1 -1\n",
      "  4 -1  3 -1  2 -1 -1  4 -1  3 -1  2 -1 -1  4 -1  3 -1  2 -1 -1  4 -1  3\n",
      " -1  2 -1 -1  4 -1  3 -1  2 -1]\n"
     ]
    }
   ],
   "source": [
    "print(result2.labels_)"
   ]
  },
  {
   "cell_type": "code",
   "execution_count": 13,
   "metadata": {},
   "outputs": [],
   "source": [
    "result3, scaled_x3 = hierarchicalClustering(feature, 7)"
   ]
  },
  {
   "cell_type": "code",
   "execution_count": 14,
   "metadata": {},
   "outputs": [
    {
     "name": "stdout",
     "output_type": "stream",
     "text": [
      "[0 4 5 2 6 3 0 0 4 5 2 6 3 0 0 4 5 2 6 3 0 0 4 5 2 6 3 0 0 4 5 2 6 3 0 0 4\n",
      " 5 2 6 3 0 0 4 5 2 6 3 0 0 4 5 2 6 3 0 0 4 5 2 6 3 0 0 4 5 2 6 3 0 0 2 5 2\n",
      " 6 3 0 0 4 5 2 6 3 0 0 4 5 2 6 3 0 0 4 5 2 6 3 0 0 4 5 2 6 3 0 0 4 5 2 6 3\n",
      " 0 0 4 5 2 6 3 0 0 4 5 2 6 3 0 0 4 5 2 6 3 0 0 2 5 2 1 3 0 0 2 5 2 1 3 0 0\n",
      " 2 5 2 1 3 0 0 2 5 2 1 3 0 0 2 5 2 1 3 0 0 2 5 2 1 3 0 0 2 5 2 1 3 0 0 2 5\n",
      " 2 1 3 0 0 2 5 2 1 3 0 0 2 5 2 1 3 0 0 4 5 2 1 3 0 0 2 5 2 1 3 0 0 2 5 2 1\n",
      " 3 0 0 2 5 2 1 3 0 0 2 5 2 1 3 0 0 2 5 2 1 3 0 0 2 5 2 1 3 0 0 2 5 2 1 3 0\n",
      " 0 2 5 2 1 3 0 0 4 5 2 1 0 0 0 4 5 4 6 3 0 0 4 5 4 1 0 0 0 4 5 4 1 0 0 0 4\n",
      " 5 2 1 0 0 0 4 5 4 1 0 0 0 4 5 2 6 3 0 0 4 5 4 1 0 0 0 4 5 4 1 0 0 0 4 5 4\n",
      " 1 0 0 0 2 5 2 1 0 0 0 4 5 2 6 3 0 0 4 5 2 6 3 0 0 4 5 2 6 3 0 0 4 5 2 1 0\n",
      " 0 0 4 5 4 1 0 0 0 4 5 2 6 3 0 0 4 5 4 6 3 0 0 4 5 4 6 3 0 0 2 5 2 1 3 0 0\n",
      " 2 5 2 1 3 0 0 2 5 2 1 3 0 0 2 5 2 1 3 0 0 2 5 2 1 3 0 0 2 5 2 1 3 0 0 2 5\n",
      " 2 1 3 0 0 2 5 2 1 3 0 0 2 5 2 1 3 0 0 2 5 2 1 3 0 0 4 5 2 1 3 0 0 2 5 2 1\n",
      " 3 0 0 2 5 2 1 3 0 0 2 5 2 1 3 0 0 2 5 2 1 3 0 0 2 5 2 1 3 0 0 2 5 2 1 3 0\n",
      " 0 2 5 2 1 3 0 0 2 5 2 1 3 0 0 2 5 2 1 3 0 0 2 5 2 1 3 0 0 2 5 2 1 3 0 0 2\n",
      " 5 2 1 3 0 0 2 5 2 1 3 0 0 2 5 2 1 3 0 0 2 5 2 1 3 0 0 2 5 2 1 3 0 0 2 5 2\n",
      " 1 3 0 0 2 5 2 1 3 0 0 2 5 2 1 3 0 0 2 5 2 1 3 0 0 2 5 2 1 3 0 0 2 5 2 1 3\n",
      " 0 0 2 5 2 1 3 0 0 2 5 2 1 3 0 0 2 5 2 1 3 0 0 2 5 2 1 3 0 0 2 5 2 1 3 0 0\n",
      " 4 5 2 6 3 0 0 4 5 2 6 3 0 0 4 5 2 6 3 0 0 4 5 2 6 3 0 0 4 5 2 6 3 0 0 4 5\n",
      " 2 6 3 0 0 4 5 2 6 3 0 0 4 5 2 6 3 0 0 4 5 2 6 3 0 0 4 5 2 6 3 0 0 2 5 2 6\n",
      " 3 0 0 4 5 2 6 3 0 0 4 5 2 6 3 0 0 4 5 2 6 3 0 0 4 5 2 6 3 0 0 4 5 2 6 3 0\n",
      " 0 4 5 2 6 3 0 0 4 5 2 6 3 0 0 4 5 2 6 3 0 0 2 5 2 1 3 0 0 2 5 2 1 3 0 0 2\n",
      " 5 2 1 3 0 0 2 5 2 1 3 0 0 2 5 2 1 3 0 0 2 5 2 1 3 0 0 2 5 2 1 3 0 0 2 5 2\n",
      " 1 3 0 0 2 5 2 1 3 0 0 2 5 2 1 3 0 0 4 5 2 1 3 0 0 2 5 2 1 3 0 0 2 5 2 1 3\n",
      " 0 0 2 5 2 1 3 0 0 2 5 2 1 3 0 0 2 5 2 1 3 0 0 2 5 2 1 3 0 0 2 5 2 1 3 0 0\n",
      " 2 5 2 1 3 0 0 4 5 4 1 0 0 0 4 5 4 1 0 0 0 4 5 4 1 0 0 0 4 5 4 1 0 0 0 4 5\n",
      " 4 1 0 0 0 4 5 4 1 0 0 0 4 5 4 1 0 0 0 4 5 4 1 0 0 0 4 5 4 1 0 0 0 4 5 4 1\n",
      " 0 0 0 2 5 2 1 0 0 0 4 5 2 6 3 0 0 4 5 2 6 3 0 0 4 5 4 1 0 0 0 4 5 4 6 3 0\n",
      " 0 4 5 4 1 0 0 0 4 5 4 1 0 0 0 4 5 4 1 0 0 0 4 5 4 1 0 0 0 2 5 2 1 3 0 0 2\n",
      " 5 2 1 3 0 0 2 5 2 1 3 0 0 2 5 2 1 3 0 0 2 5 2 1 3 0 0 2 5 2 1 3 0 0 2 5 2\n",
      " 1 3 0 0 2 5 2 1 3 0 0 2 5 2 1 3 0 0 2 5 2 1 3 0 0 4 5 2 1 3 0 0 2 5 2 1 3\n",
      " 0 0 2 5 2 1 3 0 0 2 5 2 1 3 0 0 2 5 2 1 3 0 0 2 5 2 1 3 0 0 2 5 2 1 3 0 0\n",
      " 2 5 2 1 3 0 0 2 5 2 1 3 0 0 2 5 2 1 3 0 0 2 5 2 1 3 0 0 2 5 2 1 3 0 0 2 5\n",
      " 2 1 3 0 0 2 5 2 1 3 0 0 2 5 2 1 3 0 0 2 5 2 1 3 0 0 2 5 2 1 3 0 0 2 5 2 1\n",
      " 3 0 0 2 5 2 1 3 0 0 2 5 2 1 3 0 0 2 5 2 1 3 0 0 2 5 2 1 3 0 0 2 5 2 1 3 0\n",
      " 0 2 5 2 1 3 0 0 2 5 2 1 3 0 0 2 5 2 1 3 0 0 2 5 2 1 3 0 0 2 5 2 1 3 0]\n"
     ]
    }
   ],
   "source": [
    "print(result3.labels_)"
   ]
  },
  {
   "cell_type": "code",
   "execution_count": 15,
   "metadata": {},
   "outputs": [],
   "source": [
    "y_label3 = [0, 4, 5, 2, 6, 3, 1] * 190"
   ]
  },
  {
   "cell_type": "code",
   "execution_count": 16,
   "metadata": {},
   "outputs": [
    {
     "name": "stdout",
     "output_type": "stream",
     "text": [
      "0.6255639097744361\n"
     ]
    }
   ],
   "source": [
    "class3_ = np.array(result3.labels_)\n",
    "accuracy3 = getAccuracy(y_label3, class3_)\n",
    "print(accuracy3)"
   ]
  },
  {
   "cell_type": "code",
   "execution_count": 66,
   "metadata": {},
   "outputs": [
    {
     "name": "stdout",
     "output_type": "stream",
     "text": [
      "ASISX_RP2_96의 KMeans Accuray : 0.7684210526315789\n",
      "ASISX_RP2_96의 DBSCAN Accuray : 측정 불가능 - 패턴이 없음\n",
      "ASISX_RP2_96의 계층적 군집화 Accuray : 0.6255639097744361\n"
     ]
    }
   ],
   "source": [
    "print(\"ASISX_RP2_96의 KMeans Accuray : \" + str(accuracy))\n",
    "print(\"ASISX_RP2_96의 DBSCAN Accuray : 측정 불가능 - 패턴이 없음\")\n",
    "print(\"ASISX_RP2_96의 계층적 군집화 Accuray : \" + str(accuracy3))"
   ]
  },
  {
   "cell_type": "code",
   "execution_count": null,
   "metadata": {},
   "outputs": [],
   "source": []
  }
 ],
 "metadata": {
  "kernelspec": {
   "display_name": "Python 3",
   "language": "python",
   "name": "python3"
  },
  "language_info": {
   "codemirror_mode": {
    "name": "ipython",
    "version": 3
   },
   "file_extension": ".py",
   "mimetype": "text/x-python",
   "name": "python",
   "nbconvert_exporter": "python",
   "pygments_lexer": "ipython3",
   "version": "3.8.7"
  }
 },
 "nbformat": 4,
 "nbformat_minor": 4
}
