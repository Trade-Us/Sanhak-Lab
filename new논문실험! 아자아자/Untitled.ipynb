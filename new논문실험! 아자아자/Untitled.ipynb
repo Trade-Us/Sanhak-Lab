{
 "cells": [
  {
   "cell_type": "code",
   "execution_count": 21,
   "metadata": {},
   "outputs": [],
   "source": [
    "def readFile(filepath):\n",
    "    finalData = []\n",
    "    data = pd.read_csv(filepath)\n",
    "    print(data)\n",
    "    uniqueChip = data['chip'].unique()\n",
    "    uniqueWire = data['wire'].unique()\n",
    "    uniquePar = data['parameter'].unique()\n",
    "    uniqueSeg = data['segment'].unique()\n",
    "\n",
    "    for chip in uniqueChip:\n",
    "        for wire in uniqueWire:\n",
    "            for par in uniquePar:\n",
    "                for seg in uniqueSeg:\n",
    "                    chipFilter = data.loc[data[\"chip\"] == chip]\n",
    "                    wireFilter = chipFilter.loc[data[\"wire\"] == wire]\n",
    "                    parFilter = wireFilter.loc[data[\"parameter\"] == par]\n",
    "                    segFilter = parFilter.loc[data[\"segment\"] == seg, \"value\"]\n",
    "                    result = segFilter.to_numpy()\n",
    "                    result = np.reshape(result,(1,len(result)))\n",
    "                    label = chip + \"_\" + wire + \"_\" + par +\"_\" +str(seg)\n",
    "                    finalData[label] = result\n",
    "    return finalData"
   ]
  },
  {
   "cell_type": "code",
   "execution_count": 23,
   "metadata": {
    "scrolled": true
   },
   "outputs": [
    {
     "name": "stdout",
     "output_type": "stream",
     "text": [
      "          chip    wire parameter  segment     value\n",
      "0        CHIP1  WIRE10     AXISX        1  1.873603\n",
      "1        CHIP1  WIRE10     AXISX        1  2.015115\n",
      "2        CHIP1  WIRE10     AXISX        1  2.033436\n",
      "3        CHIP1  WIRE10     AXISX        1  1.987634\n",
      "4        CHIP1  WIRE10     AXISX        1  1.932988\n",
      "...        ...     ...       ...      ...       ...\n",
      "480063  CHIP10   WIRE9     AXISX        7  0.598421\n",
      "480064  CHIP10   WIRE9     AXISX        7  0.549144\n",
      "480065  CHIP10   WIRE9     AXISX        7  0.520084\n",
      "480066  CHIP10   WIRE9     AXISX        7  0.539036\n",
      "480067  CHIP10   WIRE9     AXISX        7  0.611056\n",
      "\n",
      "[480068 rows x 5 columns]\n"
     ]
    }
   ],
   "source": [
    "datas = readFile(\"resources/AXISX_resample.csv\")"
   ]
  },
  {
   "cell_type": "markdown",
   "metadata": {},
   "source": [
    "print(datas[1])"
   ]
  },
  {
   "cell_type": "code",
   "execution_count": 27,
   "metadata": {},
   "outputs": [
    {
     "ename": "KeyError",
     "evalue": "1",
     "output_type": "error",
     "traceback": [
      "\u001b[1;31m---------------------------------------------------------------------------\u001b[0m",
      "\u001b[1;31mKeyError\u001b[0m                                  Traceback (most recent call last)",
      "\u001b[1;32m<ipython-input-27-97f40d88c812>\u001b[0m in \u001b[0;36m<module>\u001b[1;34m\u001b[0m\n\u001b[1;32m----> 1\u001b[1;33m \u001b[0mprint\u001b[0m\u001b[1;33m(\u001b[0m\u001b[0mdatas\u001b[0m\u001b[1;33m[\u001b[0m\u001b[1;36m1\u001b[0m\u001b[1;33m]\u001b[0m\u001b[1;33m)\u001b[0m\u001b[1;33m\u001b[0m\u001b[1;33m\u001b[0m\u001b[0m\n\u001b[0m",
      "\u001b[1;31mKeyError\u001b[0m: 1"
     ]
    }
   ],
   "source": [
    "print(datas)"
   ]
  },
  {
   "cell_type": "code",
   "execution_count": 4,
   "metadata": {},
   "outputs": [],
   "source": [
    "import pandas as pd\n",
    "import numpy as np\n",
    "from readFile import split_into_values, toRPdata\n",
    "# columns 와 value는 사용자 입력\n",
    "# df = pd.read_csv('resources/AXISX_resample.csv')\n",
    "# # df = pd.read_csv('resources/CLAMP_resample.csv')\n",
    "# columns = ['chip', 'wire', 'segment']\n",
    "# value = ['value']\n",
    "# #df = pd.read_csv('resources/Dataset1.csv')\n",
    "# #columns = ['Process', 'Step']\n",
    "# #value = ['Value']\n",
    "\n",
    "# df = df.loc[:, columns + value] #('chip', 'wire', 'value')는 사용자 입력\n",
    "# size = 96\n",
    "# result = split_into_values(df, columns)\n",
    "\n",
    "# # dataframe -> list\n",
    "# result_list = result.values.tolist()\n",
    "\n",
    "\n",
    "from sklearn.preprocessing import MinMaxScaler\n",
    "\n",
    "def MinMax(data):\n",
    "    MMS = MinMaxScaler().fit(data)\n",
    "    scaled = MMS.transform(data)\n",
    "    return scaled\n",
    "\n",
    "# result_list transpose\n",
    "result_T = [list(x) for x in zip(*result_list)]\n",
    "\n",
    "# minmax 정규화\n",
    "result_scaled = MinMax(result_T)\n",
    "\n",
    "# 다시 result transpose 해서 원래대로\n",
    "result_scaled = [list(x) for x in zip(*result_scaled)]\n",
    "\n",
    "from tslearn.preprocessing import TimeSeriesScalerMeanVariance, TimeSeriesResampler\n",
    "\n",
    "# 2. 시계열 셋 크기 변경\n",
    "result_ = TimeSeriesResampler(sz=size).fit_transform(result_scaled)"
   ]
  },
  {
   "cell_type": "code",
   "execution_count": 15,
   "metadata": {},
   "outputs": [
    {
     "name": "stdout",
     "output_type": "stream",
     "text": [
      "(1330, 96, 1)\n",
      "(1330, 96)\n"
     ]
    }
   ],
   "source": [
    "print(result_.shape)\n",
    "result_ = np.reshape(result_,(result_.shape[0],result_.shape[1]))\n",
    "print(result_.shape)"
   ]
  },
  {
   "cell_type": "code",
   "execution_count": 38,
   "metadata": {},
   "outputs": [],
   "source": [
    "from sklearn.cluster import DBSCAN\n",
    "from sklearn.cluster import KMeans\n",
    "kmeans_result = KMeans(n_clusters=7).fit(result_)"
   ]
  },
  {
   "cell_type": "code",
   "execution_count": 43,
   "metadata": {
    "scrolled": false
   },
   "outputs": [
    {
     "name": "stdout",
     "output_type": "stream",
     "text": [
      "[0 0 0 1 6 2 5]\n",
      "[0 0 0 1 6 2 5]\n",
      "[0 0 0 1 6 2 5]\n",
      "[0 0 0 1 6 2 5]\n",
      "[0 0 0 1 6 2 5]\n",
      "[0 0 0 1 6 2 5]\n",
      "[0 0 0 1 6 2 5]\n",
      "[0 0 0 1 6 2 5]\n",
      "[0 0 0 1 6 2 5]\n",
      "[0 0 0 1 6 2 5]\n",
      "[0 4 6 1 6 2 5]\n",
      "[0 0 0 1 6 2 5]\n",
      "[0 0 0 1 6 2 5]\n",
      "[0 0 0 1 6 2 5]\n",
      "[0 0 0 1 6 2 5]\n",
      "[0 0 0 1 6 2 5]\n",
      "[0 0 0 1 6 2 5]\n",
      "[0 0 0 1 6 2 5]\n",
      "[0 0 0 1 6 2 5]\n",
      "[0 4 5 1 3 2 5]\n",
      "[0 4 5 1 3 2 5]\n",
      "[0 4 5 1 3 2 5]\n",
      "[0 4 5 1 3 2 5]\n",
      "[0 4 5 1 3 2 5]\n",
      "[0 4 5 1 3 2 5]\n",
      "[0 4 5 1 3 2 5]\n",
      "[0 4 5 1 3 2 5]\n",
      "[0 4 5 1 3 2 5]\n",
      "[0 4 5 1 3 2 5]\n",
      "[0 0 5 1 3 2 5]\n",
      "[0 4 5 1 3 2 5]\n",
      "[0 4 5 1 3 2 5]\n",
      "[0 4 5 1 3 2 5]\n",
      "[0 4 5 1 3 2 5]\n",
      "[0 4 5 1 3 2 5]\n",
      "[0 4 5 1 3 2 5]\n",
      "[0 4 5 1 3 2 5]\n",
      "[0 4 5 1 3 2 5]\n",
      "[0 0 0 1 6 5 5]\n",
      "[0 0 0 5 6 2 5]\n",
      "[0 0 0 5 6 5 5]\n",
      "[0 0 0 5 6 5 5]\n",
      "[0 0 0 1 6 5 5]\n",
      "[0 0 0 5 6 5 5]\n",
      "[0 0 0 1 6 2 5]\n",
      "[0 0 0 5 6 5 5]\n",
      "[0 0 0 5 6 5 5]\n",
      "[0 0 0 5 6 5 5]\n",
      "[0 4 0 1 6 5 5]\n",
      "[0 0 0 1 6 2 5]\n",
      "[0 0 0 1 6 2 5]\n",
      "[0 0 0 1 6 2 5]\n",
      "[0 0 0 1 6 5 5]\n",
      "[0 0 0 5 6 5 5]\n",
      "[0 0 0 1 6 2 5]\n",
      "[0 0 0 5 6 2 5]\n",
      "[0 0 0 5 6 2 5]\n",
      "[0 4 5 1 3 2 5]\n",
      "[0 4 5 1 3 2 5]\n",
      "[0 4 5 1 3 2 5]\n",
      "[0 4 5 1 3 2 5]\n",
      "[0 4 5 1 3 2 5]\n",
      "[0 4 5 1 3 2 5]\n",
      "[0 4 5 1 3 2 5]\n",
      "[0 4 5 1 3 2 5]\n",
      "[0 4 5 1 3 2 5]\n",
      "[0 4 5 1 3 2 5]\n",
      "[0 0 5 1 3 2 5]\n",
      "[0 4 5 1 3 2 5]\n",
      "[0 4 5 1 3 2 5]\n",
      "[0 4 5 1 3 2 5]\n",
      "[0 4 5 1 3 2 5]\n",
      "[0 4 5 1 3 2 5]\n",
      "[0 4 5 1 3 2 5]\n",
      "[0 4 5 1 3 2 5]\n",
      "[0 4 5 1 3 2 5]\n",
      "[0 4 5 1 3 2 5]\n",
      "[0 4 5 1 3 2 5]\n",
      "[0 4 5 1 3 2 5]\n",
      "[0 4 5 1 3 2 5]\n",
      "[0 4 5 1 3 2 5]\n",
      "[0 4 5 1 3 2 5]\n",
      "[0 4 5 1 3 2 5]\n",
      "[0 4 5 1 3 2 5]\n",
      "[0 4 5 1 3 2 5]\n",
      "[0 4 5 1 3 2 5]\n",
      "[0 4 5 1 3 2 5]\n",
      "[0 4 5 1 3 2 5]\n",
      "[0 4 5 1 3 2 5]\n",
      "[0 4 5 1 3 2 5]\n",
      "[0 4 5 1 3 2 5]\n",
      "[0 4 5 1 3 2 5]\n",
      "[0 4 5 1 3 2 5]\n",
      "[0 4 5 1 3 2 5]\n",
      "[0 4 5 1 3 2 5]\n",
      "[0 0 0 1 6 2 5]\n",
      "[0 0 0 1 6 2 5]\n",
      "[0 0 0 1 6 2 5]\n",
      "[0 0 0 1 6 2 5]\n",
      "[0 0 0 1 6 2 5]\n",
      "[0 0 0 1 6 2 5]\n",
      "[0 0 0 1 6 2 5]\n",
      "[0 0 0 1 6 2 5]\n",
      "[0 0 0 1 6 2 5]\n",
      "[0 0 0 1 6 2 5]\n",
      "[0 4 6 1 6 2 5]\n",
      "[0 0 0 1 6 2 5]\n",
      "[0 0 0 1 6 2 5]\n",
      "[0 0 0 1 6 2 5]\n",
      "[0 0 0 1 6 2 5]\n",
      "[0 0 0 1 6 2 5]\n",
      "[0 0 0 1 6 2 5]\n",
      "[0 0 0 1 6 2 5]\n",
      "[0 0 0 1 6 2 5]\n",
      "[0 4 5 1 3 2 5]\n",
      "[0 4 5 1 3 2 5]\n",
      "[0 4 5 1 3 2 5]\n",
      "[0 4 5 1 3 2 5]\n",
      "[0 4 5 1 3 2 5]\n",
      "[0 4 5 1 3 2 5]\n",
      "[0 4 5 1 3 2 5]\n",
      "[0 4 5 1 3 2 5]\n",
      "[0 4 5 1 3 2 5]\n",
      "[0 4 5 1 3 2 5]\n",
      "[0 0 5 1 3 2 5]\n",
      "[0 4 5 1 3 2 5]\n",
      "[0 4 5 1 3 2 5]\n",
      "[0 4 5 1 3 2 5]\n",
      "[0 4 5 1 3 2 5]\n",
      "[0 4 5 1 3 2 5]\n",
      "[0 4 5 1 3 2 5]\n",
      "[0 4 5 1 3 2 5]\n",
      "[0 4 5 1 3 2 5]\n",
      "[0 0 0 5 6 5 5]\n",
      "[0 0 0 5 6 5 5]\n",
      "[0 0 0 5 6 5 5]\n",
      "[0 0 0 5 6 5 5]\n",
      "[0 0 0 5 6 5 0]\n",
      "[0 0 0 5 6 5 5]\n",
      "[0 0 0 5 6 5 5]\n",
      "[0 0 0 5 6 5 5]\n",
      "[0 0 0 5 6 5 5]\n",
      "[0 0 0 5 6 5 5]\n",
      "[0 4 0 1 6 5 5]\n",
      "[0 0 0 1 6 2 5]\n",
      "[0 0 0 1 6 2 5]\n",
      "[0 0 0 5 6 5 5]\n",
      "[0 0 0 5 6 2 5]\n",
      "[0 0 0 5 6 5 5]\n",
      "[0 0 0 5 6 5 0]\n",
      "[0 0 0 5 6 5 5]\n",
      "[0 0 0 5 6 5 5]\n",
      "[0 4 5 1 3 2 5]\n",
      "[0 4 5 1 3 2 5]\n",
      "[0 4 5 1 3 2 5]\n",
      "[0 4 5 1 3 2 5]\n",
      "[0 4 5 1 3 2 5]\n",
      "[0 4 5 1 3 2 5]\n",
      "[0 4 5 1 3 2 5]\n",
      "[0 4 5 1 3 2 5]\n",
      "[0 4 5 1 3 2 5]\n",
      "[0 4 5 1 3 2 5]\n",
      "[0 0 5 1 3 2 5]\n",
      "[0 4 5 1 3 2 5]\n",
      "[0 4 5 1 3 2 5]\n",
      "[0 4 5 1 3 2 5]\n",
      "[0 4 5 1 3 2 5]\n",
      "[0 4 5 1 3 2 5]\n",
      "[0 4 5 1 3 2 5]\n",
      "[0 4 5 1 3 2 5]\n",
      "[0 4 5 1 3 2 5]\n",
      "[0 4 5 1 3 2 5]\n",
      "[0 4 5 1 3 2 5]\n",
      "[0 4 5 1 3 2 5]\n",
      "[0 4 5 1 3 2 5]\n",
      "[0 4 5 1 3 2 5]\n",
      "[0 4 5 1 3 2 5]\n",
      "[0 4 5 1 3 2 5]\n",
      "[0 4 5 1 3 2 5]\n",
      "[0 4 5 1 3 2 5]\n",
      "[0 4 5 1 3 2 5]\n",
      "[0 4 5 1 3 2 5]\n",
      "[0 4 5 1 3 2 5]\n",
      "[0 4 5 1 3 2 5]\n",
      "[0 4 5 1 3 2 5]\n",
      "[0 4 5 1 3 2 5]\n",
      "[0 4 5 1 3 2 5]\n",
      "[0 4 5 1 3 2 5]\n",
      "[0 4 5 1 3 2 5]\n",
      "[0 4 5 1 3 2 5]\n"
     ]
    }
   ],
   "source": [
    "import sys\n",
    "import numpy\n",
    "\n",
    "numpy.set_printoptions(threshold=sys.maxsize)\n",
    "for i in range(int(np.shape(kmeans_result.labels_)[0]/ 7)):\n",
    "    print(kmeans_result.labels_[i*7:(i+1)*7])"
   ]
  },
  {
   "cell_type": "code",
   "execution_count": 50,
   "metadata": {},
   "outputs": [],
   "source": [
    "y_label = [0, 4, 5, 1, 3, 2, 6] * 190"
   ]
  },
  {
   "cell_type": "code",
   "execution_count": 51,
   "metadata": {},
   "outputs": [
    {
     "name": "stdout",
     "output_type": "stream",
     "text": [
      "0.6458646616541354\n"
     ]
    }
   ],
   "source": [
    "class_ = np.array(kmeans_result.labels_)\n",
    "accuracy = getAccuracy(y_label, class_)\n",
    "print(accuracy)"
   ]
  },
  {
   "cell_type": "code",
   "execution_count": 46,
   "metadata": {},
   "outputs": [],
   "source": [
    "# Accuracy를 가져오는 함수\n",
    "# data_y: 정답 데이터\n",
    "# pred_y: 예측 데이터\n",
    "def getAccuracy(data_y, pred_y):\n",
    "    count = 0\n",
    "    bool_array = (data_y == pred_y)\n",
    "    for correct in bool_array:\n",
    "        if(correct):\n",
    "            count += 1\n",
    "    return count / pred_y.size"
   ]
  },
  {
   "cell_type": "code",
   "execution_count": null,
   "metadata": {},
   "outputs": [],
   "source": []
  }
 ],
 "metadata": {
  "kernelspec": {
   "display_name": "Python 3",
   "language": "python",
   "name": "python3"
  },
  "language_info": {
   "codemirror_mode": {
    "name": "ipython",
    "version": 3
   },
   "file_extension": ".py",
   "mimetype": "text/x-python",
   "name": "python",
   "nbconvert_exporter": "python",
   "pygments_lexer": "ipython3",
   "version": "3.6.13"
  }
 },
 "nbformat": 4,
 "nbformat_minor": 4
}
