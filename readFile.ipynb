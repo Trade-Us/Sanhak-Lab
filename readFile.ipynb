{
 "cells": [
  {
   "cell_type": "code",
   "execution_count": null,
   "metadata": {},
   "outputs": [],
   "source": [
    "import pandas as pd\n",
    "import numpy as np\n",
    "from itertools import product\n",
    "import copy\n",
    "\n",
    "def split_into_values(df, columns):\n",
    "    # Columns 사용 Parameter 종류 추출\n",
    "    params_list = []\n",
    "    for param in columns:\n",
    "        df_params = df.loc[:, [param]].drop_duplicates().reset_index().drop(columns='index').transpose()\n",
    "        params_list.append(df_params.values[0].tolist())\n",
    "        \n",
    "    # Parameter Columns 가 가질 수 있는 모든 조합 생성\n",
    "    parameter_combination_sets = list(product(*params_list))\n",
    "\n",
    "    result_df = pd.DataFrame() # 결과 DataFrame\n",
    "    for param_set in parameter_combination_sets:\n",
    "        part_df = df.copy()\n",
    "        for i, param in enumerate(param_set):\n",
    "            # Parameter 각 조합을 반복문을 통해 파싱한다.\n",
    "            part_df = part_df.loc[part_df[columns[i]] == param, :]\n",
    "        # 값들만 결과에 저장    \n",
    "        part_df = part_df.reset_index().drop(columns=['index']+columns).transpose()\n",
    "        result_df = result_df.append(part_df, ignore_index=True)\n",
    "    # 반환    \n",
    "    return result_df[pd.notnull(result_df[0])]\n"
   ]
  }
 ],
 "metadata": {
  "kernelspec": {
   "display_name": "Python 3",
   "language": "python",
   "name": "python3"
  },
  "language_info": {
   "codemirror_mode": {
    "name": "ipython",
    "version": 3
   },
   "file_extension": ".py",
   "mimetype": "text/x-python",
   "name": "python",
   "nbconvert_exporter": "python",
   "pygments_lexer": "ipython3",
   "version": "3.8.5"
  }
 },
 "nbformat": 4,
 "nbformat_minor": 4
}
