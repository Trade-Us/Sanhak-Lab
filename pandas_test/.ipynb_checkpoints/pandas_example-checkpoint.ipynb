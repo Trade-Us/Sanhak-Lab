{
 "cells": [
  {
   "cell_type": "code",
   "execution_count": null,
   "metadata": {},
   "outputs": [],
   "source": [
    "import pandas as pd\n",
    "import numpy as np\n",
    "\n",
    "finalData = {}\n",
    "\n",
    "finalData['test'] = dummydata \n",
    "\n",
    "data = pd.read_csv(\"C:/Users/rqt92/Downloads/pandas_test/AXISX_resample.csv\")\n",
    "print(data)\n",
    "uniqueChip = data['chip'].unique()\n",
    "uniqueWire = data['wire'].unique()\n",
    "uniquePar = data['parameter'].unique()\n",
    "uniqueSeg = data['segment'].unique()\n",
    "\n",
    "for chip in uniqueChip:\n",
    "    for wire in uniqueWire:\n",
    "        for par in uniquePar:\n",
    "            for seg in uniqueSeg:\n",
    "                chipFilter = data.loc[data[\"chip\"] == chip]\n",
    "                wireFilter = chipFilter.loc[data[\"wire\"] == wire]\n",
    "                parFilter = wireFilter.loc[data[\"parameter\"] == par]\n",
    "                segFilter = parFilter.loc[data[\"segment\"] == seg]\n",
    "                print(segFilter)\n",
    "                \n",
    "                \n",
    "\n",
    "\n",
    "# chip = data.loc[data[\"chip\"] == \"CHIP1\"]\n",
    "# segment = chip.loc[chip[\"wire\"] == \"WIRE10\"]\n",
    "\n"
   ]
  },
  {
   "cell_type": "code",
   "execution_count": null,
   "metadata": {},
   "outputs": [],
   "source": []
  },
  {
   "cell_type": "code",
   "execution_count": null,
   "metadata": {},
   "outputs": [],
   "source": []
  }
 ],
 "metadata": {
  "kernelspec": {
   "display_name": "Python 3",
   "language": "python",
   "name": "python3"
  },
  "language_info": {
   "codemirror_mode": {
    "name": "ipython",
    "version": 3
   },
   "file_extension": ".py",
   "mimetype": "text/x-python",
   "name": "python",
   "nbconvert_exporter": "python",
   "pygments_lexer": "ipython3",
   "version": "3.6.12"
  }
 },
 "nbformat": 4,
 "nbformat_minor": 4
}
