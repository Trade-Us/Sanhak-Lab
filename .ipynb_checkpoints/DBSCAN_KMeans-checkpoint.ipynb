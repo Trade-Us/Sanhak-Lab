{
 "cells": [
  {
   "cell_type": "code",
   "execution_count": null,
   "metadata": {},
   "outputs": [],
   "source": [
    "import os, re, glob\n",
    "import cv2\n",
    "import numpy as np\n",
    "from keras.preprocessing import image\n",
    "!pip install opencv-python\n",
    "from keras.applications.imagenet_utils import preprocess_input\n",
    "\n",
    "groups_folder_path = './resources/imgs300x300/'\n",
    "categories = [\"AXISX1\", \"AXISX2\", \"AXISX3\", \"AXISX4\", \"AXISX5\", \"AXISX6\", \"AXISX7\"]\n",
    "num_classes = len(categories)"
   ]
  },
  {
   "cell_type": "code",
   "execution_count": null,
   "metadata": {},
   "outputs": [],
   "source": [
    "categories[0]\n",
    "image_w = 28\n",
    "image_h = 28"
   ]
  },
  {
   "cell_type": "code",
   "execution_count": null,
   "metadata": {},
   "outputs": [],
   "source": [
    "X = []\n",
    "Y = []\n",
    "data_path = os.listdir(groups_folder_path)\n",
    "print(data_path)\n",
    "for filepath in data_path:\n",
    "    print(filepath)\n",
    "    filepath = groups_folder_path + filepath\n",
    "    file_path = os.listdir(filepath)\n",
    "    #print(file_path)\n",
    "    \n",
    "    for data in file_path:\n",
    "        path_file = filepath + '/' +data\n",
    "        print(path_file)\n",
    "        #print(data)\n",
    "        img = img = image.load_img(path_file, target_size=(224, 224))\n",
    "        #img = cv2.resize(img, None, fx=image_w/img.shape[1], fy=image_h.shape[0])\n",
    "        img_data = image.img_to_array(img)\n",
    "        img_data = np.expand_dims(img_data, axis=0)\n",
    "        #img_data = preprocess_input(img_data)\n",
    "        X.append(img_data)\n",
    "        \n",
    "        if '_AXISX_1' in data:\n",
    "            Y.append(categories[0])\n",
    "        elif '_AXISX_2' in data:\n",
    "            Y.append(categories[1])\n",
    "        elif '_AXISX_3' in data:\n",
    "            Y.append(categories[2])\n",
    "        elif '_AXISX_4' in data:\n",
    "            Y.append(categories[3])\n",
    "        elif '_AXISX_5' in data:\n",
    "            Y.append(categories[4])\n",
    "        elif '_AXISX_6' in data:\n",
    "            Y.append(categories[5])\n",
    "        elif '_AXISX_7' in data:\n",
    "            Y.append(categories[6])\n",
    "    print(filepath)"
   ]
  }
 ],
 "metadata": {
  "kernelspec": {
   "display_name": "Python 3",
   "language": "python",
   "name": "python3"
  },
  "language_info": {
   "codemirror_mode": {
    "name": "ipython",
    "version": 3
   },
   "file_extension": ".py",
   "mimetype": "text/x-python",
   "name": "python",
   "nbconvert_exporter": "python",
   "pygments_lexer": "ipython3",
   "version": "3.8.5"
  }
 },
 "nbformat": 4,
 "nbformat_minor": 4
}
