{
 "cells": [
  {
   "cell_type": "code",
   "execution_count": 1,
   "metadata": {},
   "outputs": [],
   "source": [
    "import pandas as pd\n",
    "import numpy as np\n",
    "from readFile import split_into_values, toRPdata\n",
    "# # columns 와 value는 사용자 입력\n",
    "# df = pd.read_csv('resources/CLAMP_resample.csv')\n",
    "# columns = ['chip', 'wire', 'segment']\n",
    "# value = ['value']\n",
    "# #df = pd.read_csv('resources/Dataset1.csv')\n",
    "# #columns = ['Process', 'Step']\n",
    "# #value = ['Value']\n",
    "\n",
    "# df = df.loc[:, columns + value] #('chip', 'wire', 'value')는 사용자 입력\n",
    "# result = split_into_values(df, columns)\n",
    "# result"
   ]
  },
  {
   "cell_type": "code",
   "execution_count": 2,
   "metadata": {},
   "outputs": [],
   "source": [
    "data = [\n",
    "    [ \n",
    "        [5,8,2,2],\n",
    "        [5,2,4,6,5,4,3,7,7,8,7,4],\n",
    "        [4,11,2,1,2,7],\n",
    "        [7,4,5,7,4,0,7,2,3,1]\n",
    "    ],\n",
    "    [\n",
    "        [4,5,3,4,4,4,2,0,6,2],\n",
    "        [4,4,0,9],\n",
    "        [2,4,3,5,3,3,6,7,3,8],\n",
    "\n",
    "    ],\n",
    "    [\n",
    "        [4,2,3,2,4,3,4],\n",
    "        [7,6,5,6,6,5,4],\n",
    "        [3,2,3,4,5,4],\n",
    "        [4,4,0,9],\n",
    "        [2,4,3,5,3,3,6,7,3,8],\n",
    "        [5,4,5,5]\n",
    "    ],\n",
    "    [\n",
    "        [1,2,6,2,3,3,1],\n",
    "        [2,6,4,6,6,3,4],\n",
    "        [4,2,8,3,5,7],\n",
    "        [5,4,5,5],\n",
    "        [4,3,4,8,9,2,2,2]\n",
    "    ]\n",
    "]"
   ]
  },
  {
   "cell_type": "code",
   "execution_count": 3,
   "metadata": {},
   "outputs": [
    {
     "data": {
      "text/plain": [
       "4"
      ]
     },
     "execution_count": 3,
     "metadata": {},
     "output_type": "execute_result"
    }
   ],
   "source": [
    "len(data)"
   ]
  },
  {
   "cell_type": "code",
   "execution_count": 4,
   "metadata": {},
   "outputs": [
    {
     "data": {
      "text/plain": [
       "[4, 4, 4, 4]"
      ]
     },
     "execution_count": 4,
     "metadata": {},
     "output_type": "execute_result"
    }
   ],
   "source": [
    "#시계열셋 최소 길이 리스트형태로 담음\n",
    "min_lens=[]\n",
    "data_len=len(data)\n",
    "for i in range(0,data_len):\n",
    "    min=len(data[i][0])\n",
    "    for j in range(0,len(data[i])):\n",
    "        if len(data[i][j]) < min:\n",
    "            min = len(data[i][j])\n",
    "    min_lens.append(min)\n",
    "min_lens"
   ]
  },
  {
   "cell_type": "code",
   "execution_count": 5,
   "metadata": {},
   "outputs": [
    {
     "data": {
      "text/plain": [
       "[array([[5.        , 8.        , 2.        , 2.        ],\n",
       "        [5.        , 5.33333333, 7.        , 4.        ],\n",
       "        [4.        , 5.        , 1.33333333, 7.        ],\n",
       "        [7.        , 7.        , 7.        , 1.        ]]),\n",
       " array([[4., 4., 2., 2.],\n",
       "        [4., 4., 0., 9.],\n",
       "        [2., 5., 6., 8.]]),\n",
       " array([[4.        , 3.        , 4.        , 4.        ],\n",
       "        [7.        , 5.        , 6.        , 4.        ],\n",
       "        [3.        , 2.66666667, 4.33333333, 4.        ],\n",
       "        [4.        , 4.        , 0.        , 9.        ],\n",
       "        [2.        , 5.        , 6.        , 8.        ],\n",
       "        [5.        , 4.        , 5.        , 5.        ]]),\n",
       " array([[1.        , 6.        , 3.        , 1.        ],\n",
       "        [2.        , 4.        , 6.        , 4.        ],\n",
       "        [4.        , 6.        , 3.66666667, 7.        ],\n",
       "        [5.        , 4.        , 5.        , 5.        ],\n",
       "        [4.        , 5.33333333, 4.33333333, 2.        ]])]"
      ]
     },
     "execution_count": 5,
     "metadata": {},
     "output_type": "execute_result"
    }
   ],
   "source": [
    "#시계열 셋 길이 통일\n",
    "from tslearn.preprocessing import TimeSeriesScalerMeanVariance, TimeSeriesResampler\n",
    "\n",
    "result_re=[]\n",
    "for i in range(0,data_len):\n",
    "    result_ = TimeSeriesResampler(sz=min_lens[i]).fit_transform(data[i])\n",
    "    result_=result_.reshape(len(data[i]),min_lens[i])\n",
    "    result_re.append(result_)\n",
    "result_re"
   ]
  },
  {
   "cell_type": "code",
   "execution_count": 6,
   "metadata": {},
   "outputs": [
    {
     "data": {
      "text/plain": [
       "[array([[-0.22941573,  1.36082763, -0.87160193, -0.65465367],\n",
       "        [-0.22941573, -0.81649658,  0.99611649,  0.21821789],\n",
       "        [-1.14707867, -1.08866211, -1.12063105,  1.52752523],\n",
       "        [ 1.60591014,  0.54433105,  0.99611649, -1.09108945]]),\n",
       " array([[ 0.70710678, -0.70710678, -0.26726124, -1.40182605],\n",
       "        [ 0.70710678, -0.70710678, -1.06904497,  0.86266219],\n",
       "        [-1.41421356,  1.41421356,  1.33630621,  0.53916387]]),\n",
       " array([[-0.10599979, -1.06043086, -0.10927167, -0.81110711],\n",
       "        [ 1.8019964 ,  1.18518744,  0.87417338, -0.81110711],\n",
       "        [-0.74199852, -1.43470058,  0.05463584, -0.81110711],\n",
       "        [-0.10599979,  0.06237829, -2.07616179,  1.62221421],\n",
       "        [-1.37799724,  1.18518744,  0.87417338,  1.13554995],\n",
       "        [ 0.52999894,  0.06237829,  0.38245086, -0.32444284]]),\n",
       " array([[-1.4969104 ,  1.03209369, -1.34438724, -1.31122014],\n",
       "        [-0.81649658, -1.17953565,  1.53644256,  0.09365858],\n",
       "        [ 0.54433105,  1.03209369, -0.70420284,  1.4985373 ],\n",
       "        [ 1.22474487, -1.17953565,  0.57616596,  0.56195149],\n",
       "        [ 0.54433105,  0.29488391, -0.06401844, -0.84292723]])]"
      ]
     },
     "execution_count": 6,
     "metadata": {},
     "output_type": "execute_result"
    }
   ],
   "source": [
    "#수치형 변수 정규화\n",
    "from sklearn.preprocessing import StandardScaler\n",
    "result_norm=[]\n",
    "for i in range(0, data_len):\n",
    "    norm = StandardScaler().fit_transform(result_re[i])\n",
    "    result_norm.append(norm)\n",
    "    \n",
    "result_norm"
   ]
  },
  {
   "cell_type": "code",
   "execution_count": 7,
   "metadata": {},
   "outputs": [
    {
     "data": {
      "text/plain": [
       "[array([[-0.50280411,  1.6696733 ],\n",
       "        [ 0.22411085, -1.23184462],\n",
       "        [ 2.44810224,  0.03589788],\n",
       "        [-2.16940899, -0.47372656]]),\n",
       " array([[-1.27678337, -1.18590432],\n",
       "        [-1.18808636,  1.21469913],\n",
       "        [ 2.46486974, -0.02879481]]),\n",
       " array([[-0.31254508,  1.30608728],\n",
       "        [-2.03378871, -1.16721038],\n",
       "        [-0.05128314,  1.71208106],\n",
       "        [ 2.27155308, -0.33365151],\n",
       "        [ 0.82556172, -1.43030001],\n",
       "        [-0.69949787, -0.08700643]]),\n",
       " array([[ 2.51153879, -0.68572596],\n",
       "        [-1.28605   , -1.49239806],\n",
       "        [ 0.20241319,  1.90112661],\n",
       "        [-1.74316801,  0.32510741],\n",
       "        [ 0.31526602, -0.04811   ]])]"
      ]
     },
     "execution_count": 7,
     "metadata": {},
     "output_type": "execute_result"
    }
   ],
   "source": [
    "#주성분 분석 실시하기\n",
    "from sklearn.decomposition import PCA\n",
    "\n",
    "#PCA 객체 생성 (주성분 갯수 2개 생성)\n",
    "pca = PCA(n_components=2)\n",
    "result_pca=[]\n",
    "for i in range(0,data_len):\n",
    "    pca_ = pca.fit_transform(result_norm[i])\n",
    "    result_pca.append(pca_)\n",
    "\n",
    "result_pca"
   ]
  },
  {
   "cell_type": "code",
   "execution_count": 8,
   "metadata": {},
   "outputs": [
    {
     "data": {
      "text/plain": [
       "6"
      ]
     },
     "execution_count": 8,
     "metadata": {},
     "output_type": "execute_result"
    }
   ],
   "source": [
    "len(result_pca[2])"
   ]
  },
  {
   "cell_type": "code",
   "execution_count": 11,
   "metadata": {},
   "outputs": [
    {
     "data": {
      "text/plain": [
       "4"
      ]
     },
     "execution_count": 11,
     "metadata": {},
     "output_type": "execute_result"
    },
    {
     "data": {
      "image/png": "[encoded data removed]",
      "text/plain": [
       "<Figure size 432x288 with 1 Axes>"
      ]
     },
     "metadata": {
      "needs_background": "light"
     },
     "output_type": "display_data"
    }
   ],
   "source": [
    "import matplotlib.pyplot as plt\n",
    "num=0\n",
    "for i in range(0,data_len):\n",
    "    plt.scatter(result_pca[i][:,0], result_pca[i][:,1],s=7)\n",
    "\n"
   ]
  },
  {
   "cell_type": "code",
   "execution_count": null,
   "metadata": {},
   "outputs": [],
   "source": []
  }
 ],
 "metadata": {
  "kernelspec": {
   "display_name": "Python 3",
   "language": "python",
   "name": "python3"
  },
  "language_info": {
   "codemirror_mode": {
    "name": "ipython",
    "version": 3
   },
   "file_extension": ".py",
   "mimetype": "text/x-python",
   "name": "python",
   "nbconvert_exporter": "python",
   "pygments_lexer": "ipython3",
   "version": "3.6.12"
  }
 },
 "nbformat": 4,
 "nbformat_minor": 4
}
