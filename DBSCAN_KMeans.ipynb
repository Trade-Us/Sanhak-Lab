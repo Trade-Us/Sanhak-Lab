{
 "cells": [
  {
   "cell_type": "markdown",
   "metadata": {},
   "source": [
    "# Clustering & Measurement"
   ]
  },
  {
   "cell_type": "markdown",
   "metadata": {},
   "source": [
    "## Import Framework"
   ]
  },
  {
   "cell_type": "code",
   "execution_count": 1,
   "metadata": {},
   "outputs": [],
   "source": [
    "from sklearn.cluster import DBSCAN\n",
    "from sklearn.cluster import KMeans\n",
    "\n",
    "from sklearn.datasets import make_blobs\n",
    "from sklearn.datasets import make_moons\n",
    "\n",
    "from sklearn.preprocessing import MinMaxScaler\n",
    "from sklearn.preprocessing import StandardScaler\n",
    "\n",
    "import pandas as pd\n",
    "import numpy as np\n",
    "import matplotlib.pyplot as plt\n",
    "\n"
   ]
  },
  {
   "cell_type": "markdown",
   "metadata": {},
   "source": [
    "## Get Dataset"
   ]
  },
  {
   "cell_type": "code",
   "execution_count": null,
   "metadata": {},
   "outputs": [],
   "source": [
    "# dataset\n",
    "x, y = make_blobs(n_samples=100, random_state=0)\n",
    "x, y = make_moons(n_samples=200, noise=0.05, random_state=0)"
   ]
  },
  {
   "cell_type": "markdown",
   "metadata": {},
   "source": [
    "## Normalize\n",
    "- MinMaxScaler 최대 최소 정규화\n",
    "- Standard Scaler 표준화"
   ]
  },
  {
   "cell_type": "code",
   "execution_count": null,
   "metadata": {},
   "outputs": [],
   "source": [
    "# Normalize\n",
    "scaler_MMS = MinMaxScaler().fit(x)\n",
    "x_scaled_MMS = scaler_MMS.transform(x)\n",
    "\n",
    "scaler_ss = StandardScaler().fit(x)\n",
    "x_scaled_ss = scaler_ss.transform(x) "
   ]
  },
  {
   "cell_type": "markdown",
   "metadata": {},
   "source": [
    "## Clustering\n",
    "- DBSCAN  \n",
    "DBSCAN fit 반환값: numpy \n",
    "  \n",
    "- KMeans  \n",
    "KMeans fit 반환값: pandas.DataFrame  \n",
    "kmeans_result.labels_ => 결과 값(0, 1, 2.. 값으로 분류된 클래스들의 numpy를 반환)  \n",
    "- ..."
   ]
  },
  {
   "cell_type": "code",
   "execution_count": null,
   "metadata": {},
   "outputs": [],
   "source": [
    "# Clustering\n",
    "dbscan = DBSCAN(eps=0.5, min_samples=5)\n",
    "clusters = dbscan.fit_predict(x)\n",
    "\n",
    "kmeans_x_scaled = KMeans(n_clusters=2).fit(x)"
   ]
  },
  {
   "cell_type": "markdown",
   "metadata": {},
   "source": [
    "## Visualization with Matplotlib\n",
    "- 특징값이 2차원 데이터일 경우 점들의 군집화 형태를 그려줌"
   ]
  },
  {
   "cell_type": "code",
   "execution_count": null,
   "metadata": {},
   "outputs": [],
   "source": [
    "# visualization\n",
    "\n",
    "## DBSCAN의 경우\n",
    "df = np.hstack([x, dbscan_x.reshape(-1, 1)]) # x_scaled_ss 오른쪽에 1열 붙이기\n",
    "\n",
    "## KMeans의 경우\n",
    "df = np.hstack([x, kmeans_x.labels_.reshape(-1, 1)])\n",
    "\n",
    "\n",
    "\n",
    "df_ft0 = df[df[:,2]==0, :] # 클러스터 0 추출\n",
    "\n",
    "df_ft1 = df[df[:,2]==1, :] # 클러스터 1 추출\n",
    "\n",
    "\n",
    "# matplotlib로 그래프 그리기\n",
    "\n",
    "plt.scatter(df_ft0[:, 0], df_ft0[:, 1], label='cluster 0', cmap='Pairs') # x, y, label, 색상\n",
    "\n",
    "plt.scatter(df_ft1[:, 0], df_ft1[:, 1], label='cluster 1', cmap='Pairs')\n",
    "\n",
    "plt.xlabel('feature 0')\n",
    "\n",
    "plt.ylabel('feature 1')\n",
    "\n",
    "plt.legend()\n",
    "\n",
    "plt.show()"
   ]
  },
  {
   "cell_type": "markdown",
   "metadata": {},
   "source": [
    "## Example1"
   ]
  },
  {
   "cell_type": "code",
   "execution_count": 81,
   "metadata": {},
   "outputs": [],
   "source": [
    "# get Data\n",
    "x, y = make_blobs(n_samples=100, random_state=0)\n",
    "\n",
    "# 표준화\n",
    "scaler_ss = StandardScaler().fit(x)\n",
    "x_scaled_ss = scaler_ss.transform(x) \n",
    "\n",
    "# DBSCAN\n",
    "dbscan = DBSCAN(eps=0.6, min_samples=5)\n",
    "dbscan_x = dbscan.fit_predict(x)\n",
    "\n",
    "# KMEANS\n",
    "kmeans_x = KMeans(n_clusters=3).fit(x)"
   ]
  },
  {
   "cell_type": "code",
   "execution_count": 83,
   "metadata": {
    "scrolled": true
   },
   "outputs": [
    {
     "name": "stdout",
     "output_type": "stream",
     "text": [
      "Clusters DBSCAN: \n",
      "[-1  1 -1  0  0  1  2  0  3  1  1 -1 -1 -1  2 -1 -1  0 -1  2 -1 -1 -1  0\n",
      "  3  3  3  3 -1  0 -1 -1 -1  4 -1  1  1  3  3 -1 -1 -1  3 -1  1  1 -1 -1\n",
      "  2  0  1  3  1  3 -1 -1 -1 -1  1 -1  3  2  2 -1  2  3  1 -1  3  4  0 -1\n",
      " -1 -1 -1 -1  1  1 -1 -1 -1  1  3 -1 -1  1  1  0  3  1 -1 -1  0  2  2  0\n",
      "  1  4 -1  2]\n",
      "Clusters kmeans : \n",
      "[2 0 2 1 1 0 1 1 2 0 0 0 2 0 1 2 1 1 1 1 1 1 1 1 2 2 2 2 1 1 0 2 2 0 1 0 0\n",
      " 2 2 1 1 2 2 0 0 0 2 2 1 1 0 2 0 2 1 1 2 2 0 2 2 1 1 1 1 2 0 1 2 0 1 2 1 2\n",
      " 0 0 0 0 1 2 0 0 2 0 0 0 0 0 2 0 2 2 1 1 1 1 0 0 1 1]\n",
      "y : \n",
      "[1 0 1 0 0 0 2 2 1 0 0 0 1 0 2 1 2 0 2 2 2 2 2 0 1 1 1 1 2 2 0 1 1 0 2 2 0\n",
      " 1 1 2 2 1 1 0 0 0 1 1 2 2 2 1 0 1 2 2 1 1 0 1 1 2 2 2 2 1 0 2 1 0 2 0 0 1\n",
      " 1 0 0 0 2 1 0 0 1 0 1 0 0 0 1 0 1 1 2 2 2 2 0 0 2 2]\n"
     ]
    }
   ],
   "source": [
    "print(\"Clusters DBSCAN: \\n{}\".format(dbscan_x))\n",
    "print(\"Clusters kmeans : \\n{}\".format(kmeans_x.labels_))\n",
    "print(\"y : \\n{}\".format(y)) #  정답 numpy"
   ]
  },
  {
   "cell_type": "code",
   "execution_count": 85,
   "metadata": {
    "scrolled": true
   },
   "outputs": [
    {
     "data": {
      "image/png": "[encoded data removed]",
      "text/plain": [
       "<Figure size 432x288 with 1 Axes>"
      ]
     },
     "metadata": {
      "needs_background": "light"
     },
     "output_type": "display_data"
    }
   ],
   "source": [
    "# visualization\n",
    "\n",
    "## DBSCAN의 경우\n",
    "df = np.hstack([x_scaled_ss, dbscan_x.reshape(-1, 1)]) # x_scaled_ss 오른쪽에 1열 붙이기\n",
    "\n",
    "df_ft0 = df[df[:,2]==0, :] # 클러스터 0 추출\n",
    "df_ft1 = df[df[:,2]==1, :] # 클러스터 1 추출\n",
    "df_ft2 = df[df[:,2]==2, :] # 클러스터 2 추출\n",
    "\n",
    "\n",
    "# matplotlib로 그래프 그리기\n",
    "\n",
    "plt.scatter(df_ft0[:, 0], df_ft0[:, 1], label='cluster 0', cmap='Pairs') # x, y, label, 색상\n",
    "plt.scatter(df_ft1[:, 0], df_ft1[:, 1], label='cluster 1', cmap='Pairs')\n",
    "plt.scatter(df_ft2[:, 0], df_ft2[:, 1], label='cluster 2', cmap='Pairs')\n",
    "\n",
    "plt.xlabel('feature 0')\n",
    "plt.ylabel('feature 1')\n",
    "plt.legend()\n",
    "plt.title(\"DBSCAN result\")\n",
    "plt.show()"
   ]
  },
  {
   "cell_type": "code",
   "execution_count": 86,
   "metadata": {},
   "outputs": [
    {
     "data": {
      "image/png": "[encoded data removed]",
      "text/plain": [
       "<Figure size 432x288 with 1 Axes>"
      ]
     },
     "metadata": {
      "needs_background": "light"
     },
     "output_type": "display_data"
    }
   ],
   "source": [
    "# visualization\n",
    "\n",
    "## KMEANS result\n",
    "df = np.hstack([x_scaled_ss, kmeans_x.labels_.reshape(-1, 1)]) # x_scaled_ss 오른쪽에 1열 붙이기\n",
    "\n",
    "df_ft0 = df[df[:,2]==0, :] # 클러스터 0 추출\n",
    "df_ft1 = df[df[:,2]==1, :] # 클러스터 1 추출\n",
    "df_ft2 = df[df[:,2]==2, :] # 클러스터 2 추출\n",
    "\n",
    "\n",
    "# matplotlib로 그래프 그리기\n",
    "\n",
    "plt.scatter(df_ft0[:, 0], df_ft0[:, 1], label='cluster 0', cmap='Pairs') # x, y, label, 색상\n",
    "plt.scatter(df_ft1[:, 0], df_ft1[:, 1], label='cluster 1', cmap='Pairs')\n",
    "plt.scatter(df_ft2[:, 0], df_ft2[:, 1], label='cluster 2', cmap='Pairs')\n",
    "\n",
    "plt.xlabel('feature 0')\n",
    "plt.ylabel('feature 1')\n",
    "plt.legend()\n",
    "plt.title(\"KMEANS result\")\n",
    "plt.show()"
   ]
  },
  {
   "cell_type": "code",
   "execution_count": 87,
   "metadata": {
    "scrolled": true
   },
   "outputs": [
    {
     "data": {
      "image/png": "[encoded data removed]",
      "text/plain": [
       "<Figure size 432x288 with 1 Axes>"
      ]
     },
     "metadata": {
      "needs_background": "light"
     },
     "output_type": "display_data"
    }
   ],
   "source": [
    "# visualization\n",
    "\n",
    "## DBSCAN의 경우\n",
    "df = np.hstack([x_scaled_ss, y.reshape(-1, 1)]) # x_scaled_ss 오른쪽에 1열 붙이기\n",
    "\n",
    "df_ft0 = df[df[:,2]==0, :] # 클러스터 0 추출\n",
    "df_ft1 = df[df[:,2]==1, :] # 클러스터 1 추출\n",
    "df_ft2 = df[df[:,2]==2, :] # 클러스터 2 추출\n",
    "\n",
    "# matplotlib로 그래프 그리기\n",
    "\n",
    "plt.scatter(df_ft0[:, 0], df_ft0[:, 1], label='cluster 0', cmap='Pairs') # x, y, label, 색상\n",
    "plt.scatter(df_ft1[:, 0], df_ft1[:, 1], label='cluster 1', cmap='Pairs')\n",
    "plt.scatter(df_ft2[:, 0], df_ft2[:, 1], label='cluster 2', cmap='Pairs')\n",
    "plt.xlabel('feature 0')\n",
    "plt.ylabel('feature 1')\n",
    "plt.legend()\n",
    "plt.title(\"Actual result\")\n",
    "plt.show()"
   ]
  },
  {
   "cell_type": "markdown",
   "metadata": {},
   "source": [
    "## Example 2\n",
    "- 특징 벡터가 3차원일 경우"
   ]
  },
  {
   "cell_type": "code",
   "execution_count": 75,
   "metadata": {},
   "outputs": [
    {
     "data": {
      "text/html": [
       "<div>\n",
       "<style scoped>\n",
       "    .dataframe tbody tr th:only-of-type {\n",
       "        vertical-align: middle;\n",
       "    }\n",
       "\n",
       "    .dataframe tbody tr th {\n",
       "        vertical-align: top;\n",
       "    }\n",
       "\n",
       "    .dataframe thead th {\n",
       "        text-align: right;\n",
       "    }\n",
       "</style>\n",
       "<table border=\"1\" class=\"dataframe\">\n",
       "  <thead>\n",
       "    <tr style=\"text-align: right;\">\n",
       "      <th></th>\n",
       "      <th>0</th>\n",
       "      <th>1</th>\n",
       "      <th>2</th>\n",
       "      <th>3</th>\n",
       "    </tr>\n",
       "  </thead>\n",
       "  <tbody>\n",
       "    <tr>\n",
       "      <th>0</th>\n",
       "      <td>3</td>\n",
       "      <td>1</td>\n",
       "      <td>3</td>\n",
       "      <td>-1</td>\n",
       "    </tr>\n",
       "    <tr>\n",
       "      <th>1</th>\n",
       "      <td>4</td>\n",
       "      <td>1</td>\n",
       "      <td>1</td>\n",
       "      <td>-1</td>\n",
       "    </tr>\n",
       "    <tr>\n",
       "      <th>2</th>\n",
       "      <td>3</td>\n",
       "      <td>2</td>\n",
       "      <td>7</td>\n",
       "      <td>-1</td>\n",
       "    </tr>\n",
       "    <tr>\n",
       "      <th>3</th>\n",
       "      <td>4</td>\n",
       "      <td>2</td>\n",
       "      <td>12</td>\n",
       "      <td>-1</td>\n",
       "    </tr>\n",
       "    <tr>\n",
       "      <th>4</th>\n",
       "      <td>10</td>\n",
       "      <td>5</td>\n",
       "      <td>4</td>\n",
       "      <td>-1</td>\n",
       "    </tr>\n",
       "    <tr>\n",
       "      <th>5</th>\n",
       "      <td>10</td>\n",
       "      <td>6</td>\n",
       "      <td>2</td>\n",
       "      <td>-1</td>\n",
       "    </tr>\n",
       "    <tr>\n",
       "      <th>6</th>\n",
       "      <td>11</td>\n",
       "      <td>5</td>\n",
       "      <td>1</td>\n",
       "      <td>-1</td>\n",
       "    </tr>\n",
       "    <tr>\n",
       "      <th>7</th>\n",
       "      <td>11</td>\n",
       "      <td>6</td>\n",
       "      <td>3</td>\n",
       "      <td>-1</td>\n",
       "    </tr>\n",
       "    <tr>\n",
       "      <th>8</th>\n",
       "      <td>15</td>\n",
       "      <td>1</td>\n",
       "      <td>6</td>\n",
       "      <td>-1</td>\n",
       "    </tr>\n",
       "    <tr>\n",
       "      <th>9</th>\n",
       "      <td>15</td>\n",
       "      <td>2</td>\n",
       "      <td>2</td>\n",
       "      <td>-1</td>\n",
       "    </tr>\n",
       "    <tr>\n",
       "      <th>10</th>\n",
       "      <td>16</td>\n",
       "      <td>1</td>\n",
       "      <td>1</td>\n",
       "      <td>-1</td>\n",
       "    </tr>\n",
       "    <tr>\n",
       "      <th>11</th>\n",
       "      <td>16</td>\n",
       "      <td>2</td>\n",
       "      <td>2</td>\n",
       "      <td>-1</td>\n",
       "    </tr>\n",
       "  </tbody>\n",
       "</table>\n",
       "</div>"
      ],
      "text/plain": [
       "     0  1   2   3\n",
       "0    3  1   3  -1\n",
       "1    4  1   1  -1\n",
       "2    3  2   7  -1\n",
       "3    4  2  12  -1\n",
       "4   10  5   4  -1\n",
       "5   10  6   2  -1\n",
       "6   11  5   1  -1\n",
       "7   11  6   3  -1\n",
       "8   15  1   6  -1\n",
       "9   15  2   2  -1\n",
       "10  16  1   1  -1\n",
       "11  16  2   2  -1"
      ]
     },
     "execution_count": 75,
     "metadata": {},
     "output_type": "execute_result"
    }
   ],
   "source": [
    "df = pd.DataFrame(columns=['x', 'y', 'z'])\n",
    "\n",
    "df.loc[0] = [3, 1, 3]\n",
    "df.loc[1] = [4, 1, 1]\n",
    "df.loc[2] = [3, 2, 7]\n",
    "df.loc[3] = [4, 2, 12]\n",
    "df.loc[4] = [10, 5, 4]\n",
    "df.loc[5] = [10, 6, 2]\n",
    "df.loc[6] = [11, 5, 1]\n",
    "df.loc[7] = [11, 6, 3]\n",
    "df.loc[8] = [15, 1, 6]\n",
    "df.loc[9] = [15, 2, 2]\n",
    "df.loc[10] = [16, 1, 1]\n",
    "df.loc[11] = [16, 2, 2]\n",
    "\n",
    "df.head(20) # 데이터 프레임 차트 형식 출력\n",
    "data_points = df.to_numpy()\n",
    "#kmeans = KMeans(n_clusters=3).fit(data_points)\n",
    "#df['cluster_id'] = kmeans.labels_\n",
    "dbscan = DBSCAN(eps=0.5, min_samples=5)\n",
    "clusters = dbscan.fit_predict(df)\n",
    "\n",
    "df = np.hstack([df, clusters.reshape(-1, 1)])\n",
    "pd.DataFrame(df).head(12)\n"
   ]
  },
  {
   "cell_type": "markdown",
   "metadata": {},
   "source": [
    "## Accuracy 계산 함수\n",
    "- 인자 : 정답 numpy 리스트 / 예측 numpy 리스트\n",
    "- 결과 : 0 ~ 1 사이 값 (1에 가까울 수록 정확도 높다)\n",
    "- 실제 데이터 정답 라벨링이 필요하다."
   ]
  },
  {
   "cell_type": "code",
   "execution_count": 76,
   "metadata": {
    "scrolled": true
   },
   "outputs": [
    {
     "name": "stdout",
     "output_type": "stream",
     "text": [
      "KMeans accuracy: \n",
      "0.0\n"
     ]
    }
   ],
   "source": [
    "# Accuracy를 가져오는 함수\n",
    "def getAccuracy(data_y, pred_y):\n",
    "    count = 0\n",
    "    bool_array = (data_y == pred_y)\n",
    "    for correct in bool_array:\n",
    "        if(correct):\n",
    "            count += 1\n",
    "    return count / pred_y.size\n",
    "answer = np.array([1, 1, 0,1, 1, 0, 0, 0, 2, 2, 2, 2])\n",
    "print(\"KMeans accuracy: \\n{}\".format(getAccuracy(answer, clusters)))"
   ]
  },
  {
   "cell_type": "code",
   "execution_count": 102,
   "metadata": {},
   "outputs": [
    {
     "name": "stdout",
     "output_type": "stream",
     "text": [
      "[0. 0. 0. 0. 0. 0. 0. 0. 0. 0. 0. 0. 0. 0. 0. 0. 0. 0. 0. 0. 0. 0. 0. 0.\n",
      " 0. 0. 0. 0. 0. 0. 0. 0. 0. 0. 0. 0. 0. 0. 0. 0. 0. 0. 0. 0. 0. 0. 0. 0.\n",
      " 0. 0. 0. 0. 0. 0. 0. 0. 0. 0. 0. 0. 0. 0. 0. 0. 0. 0. 0. 0. 0. 0. 0. 0.\n",
      " 0. 0. 0. 0. 0. 0. 0. 0. 0. 0. 0. 0. 0. 0. 0. 0. 0. 0. 0. 0. 0. 0. 0. 0.\n",
      " 0. 0. 0. 0. 0. 0. 0. 0. 0. 0. 0. 0. 0. 0. 0. 0. 0. 0. 0. 0. 0. 0. 0. 0.\n",
      " 0. 0. 0. 0. 0. 0. 0. 0. 0. 0. 0. 0. 0. 0. 0. 0. 0. 0. 0. 0. 0. 0. 0. 0.\n",
      " 0. 0. 0. 0. 0. 0. 0. 0. 0. 0. 0. 0. 0. 0. 0. 0. 0. 0. 0. 0. 0. 0. 0. 0.\n",
      " 0. 0. 0. 0. 0. 0. 0. 0. 0. 0. 0. 0. 0. 0. 0. 0. 0. 0. 0. 0. 0. 0. 1. 1.\n",
      " 1. 1. 1. 1. 1. 1. 1. 1. 1. 1. 1. 1. 1. 1. 1. 1. 1. 1. 1. 1. 1. 1. 1. 1.\n",
      " 1. 1. 1. 1. 1. 1. 1. 1. 1. 1. 1. 1. 1. 1. 1. 1. 1. 1. 1. 1. 1. 1. 1. 1.\n",
      " 1. 1. 1. 1. 1. 1. 1. 1. 1. 1. 1. 1. 1. 1. 1. 1. 1. 1. 1. 1. 1. 1. 1. 1.\n",
      " 1. 1. 1. 1. 1. 1. 1. 1. 1. 1. 1. 1. 1. 1. 1. 1. 1. 1. 1. 1. 1. 1. 1. 1.\n",
      " 1. 1. 1. 1. 1. 1. 1. 1. 1. 1. 1. 1. 1. 1. 1. 1. 1. 1. 1. 1. 1. 1. 1. 1.\n",
      " 1. 1. 1. 1. 1. 1. 1. 1. 1. 1. 1. 1. 1. 1. 1. 1. 1. 1. 1. 1. 1. 1. 1. 1.\n",
      " 1. 1. 1. 1. 1. 1. 1. 1. 1. 1. 1. 1. 1. 1. 1. 1. 1. 1. 1. 1. 1. 1. 1. 1.\n",
      " 1. 1. 1. 1. 1. 1. 1. 1. 1. 1. 1. 1. 1. 1. 1. 1. 1. 1. 1. 1. 5. 5. 5. 5.\n",
      " 5. 5. 5. 5. 5. 5. 5. 5. 5. 5. 5. 5. 5. 5. 5. 5. 5. 5. 5. 5. 5. 5. 5. 5.\n",
      " 5. 5. 5. 5. 5. 5. 5. 5. 5. 5. 5. 5. 5. 5. 5. 5. 5. 5. 5. 5. 5. 5. 5. 5.\n",
      " 5. 5. 5. 5. 5. 5. 5. 5. 5. 5. 5. 5. 5. 5. 5. 5. 5. 5. 5. 5. 5. 5. 5. 5.\n",
      " 5. 5. 5. 5. 5. 5. 5. 5. 5. 5. 5. 5. 5. 5. 5. 5. 5. 5. 5. 5. 5. 5. 5. 5.\n",
      " 5. 5. 5. 5. 5. 5. 5. 5. 5. 5. 5. 5. 5. 5. 5. 5. 5. 5. 5. 5. 5. 5. 5. 5.\n",
      " 5. 5. 5. 5. 5. 5. 5. 5. 5. 5. 5. 5. 5. 5. 5. 5. 5. 5. 5. 5. 5. 5. 5. 5.\n",
      " 5. 5. 5. 5. 5. 5. 5. 5. 5. 5. 5. 5. 5. 5. 5. 5. 5. 5. 5. 5. 5. 5. 5. 5.\n",
      " 5. 5. 5. 5. 5. 5. 5. 5. 5. 5. 5. 5. 5. 5. 5. 5. 5. 5.]\n"
     ]
    }
   ],
   "source": [
    "# 정답 레이블 만들기\n",
    "## 원하는 클래스 레이블의 리스트를 넘긴다.\n",
    "\n",
    "def getClassLabelFor(list):\n",
    "    y=np.array([])\n",
    "    for i in list:\n",
    "        y_=np.full((1, 190), i)[0]\n",
    "        y=np.hstack([y, y_])\n",
    "    \n",
    "    return y\n",
    "\n",
    "classes = [0, 1, 5]\n",
    "y=getClassLabelFor(classes)\n",
    "print(y)"
   ]
  },
  {
   "cell_type": "code",
   "execution_count": null,
   "metadata": {},
   "outputs": [],
   "source": []
  }
 ],
 "metadata": {
  "kernelspec": {
   "display_name": "Python 3",
   "language": "python",
   "name": "python3"
  },
  "language_info": {
   "codemirror_mode": {
    "name": "ipython",
    "version": 3
   },
   "file_extension": ".py",
   "mimetype": "text/x-python",
   "name": "python",
   "nbconvert_exporter": "python",
   "pygments_lexer": "ipython3",
   "version": "3.8.5"
  }
 },
 "nbformat": 4,
 "nbformat_minor": 4
}
