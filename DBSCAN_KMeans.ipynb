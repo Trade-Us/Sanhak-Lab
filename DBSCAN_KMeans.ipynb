{
 "cells": [
  {
   "cell_type": "markdown",
   "metadata": {},
   "source": [
    "# Clustering & Measurement"
   ]
  },
  {
   "cell_type": "markdown",
   "metadata": {},
   "source": [
    "## Import Framework"
   ]
  },
  {
   "cell_type": "code",
   "execution_count": 42,
   "metadata": {},
   "outputs": [],
   "source": [
    "from sklearn.cluster import DBSCAN\n",
    "from sklearn.cluster import KMeans\n",
    "\n",
    "from sklearn.datasets import make_blobs\n",
    "from sklearn.datasets import make_moons\n",
    "\n",
    "from sklearn.preprocessing import MinMaxScaler\n",
    "from sklearn.preprocessing import StandardScaler\n",
    "\n",
    "import pandas as pd\n",
    "import numpy as np\n",
    "import matplotlib.pyplot as plt\n",
    "\n"
   ]
  },
  {
   "cell_type": "markdown",
   "metadata": {},
   "source": [
    "## Get Dataset"
   ]
  },
  {
   "cell_type": "code",
   "execution_count": 43,
   "metadata": {},
   "outputs": [],
   "source": [
    "# dataset\n",
    "x, y = make_blobs(n_samples=100, random_state=0)\n",
    "x, y = make_moons(n_samples=200, noise=0.05, random_state=0)"
   ]
  },
  {
   "cell_type": "markdown",
   "metadata": {},
   "source": [
    "## Normalize\n",
    "- MinMaxScaler 최대 최소 정규화\n",
    "- Standard Scaler 표준화"
   ]
  },
  {
   "cell_type": "code",
   "execution_count": 44,
   "metadata": {},
   "outputs": [],
   "source": [
    "# Normalize\n",
    "scaler_MMS = MinMaxScaler().fit(x)\n",
    "x_scaled_MMS = scaler_MMS.transform(x)\n",
    "\n",
    "scaler_ss = StandardScaler().fit(x)\n",
    "x_scaled_ss = scaler_ss.transform(x) "
   ]
  },
  {
   "cell_type": "markdown",
   "metadata": {},
   "source": [
    "## Clustering\n",
    "- DBSCAN  \n",
    "DBSCAN fit 반환값: numpy \n",
    "  \n",
    "- KMeans  \n",
    "KMeans fit 반환값: pandas.DataFrame  \n",
    "kmeans_result.labels_ => 결과 값(0, 1, 2.. 값으로 분류된 클래스들의 numpy를 반환)  \n",
    "- ..."
   ]
  },
  {
   "cell_type": "code",
   "execution_count": 45,
   "metadata": {},
   "outputs": [],
   "source": [
    "# Clustering\n",
    "dbscan = DBSCAN(eps=0.5, min_samples=5)\n",
    "clusters = dbscan.fit_predict(x)\n",
    "\n",
    "kmeans_x_scaled = KMeans(n_clusters=2).fit(x)"
   ]
  },
  {
   "cell_type": "markdown",
   "metadata": {},
   "source": [
    "## Visualization with Matplotlib\n",
    "- 특징값이 2차원 데이터일 경우 점들의 군집화 형태를 그려줌"
   ]
  },
  {
   "cell_type": "code",
   "execution_count": 46,
   "metadata": {},
   "outputs": [
    {
     "ename": "ValueError",
     "evalue": "all the input array dimensions for the concatenation axis must match exactly, but along dimension 0, the array at index 0 has size 200 and the array at index 1 has size 100",
     "output_type": "error",
     "traceback": [
      "\u001b[1;31m---------------------------------------------------------------------------\u001b[0m",
      "\u001b[1;31mValueError\u001b[0m                                Traceback (most recent call last)",
      "\u001b[1;32m<ipython-input-46-24994b458539>\u001b[0m in \u001b[0;36m<module>\u001b[1;34m\u001b[0m\n\u001b[0;32m      2\u001b[0m \u001b[1;33m\u001b[0m\u001b[0m\n\u001b[0;32m      3\u001b[0m \u001b[1;31m## DBSCAN의 경우\u001b[0m\u001b[1;33m\u001b[0m\u001b[1;33m\u001b[0m\u001b[1;33m\u001b[0m\u001b[0m\n\u001b[1;32m----> 4\u001b[1;33m \u001b[0mdf\u001b[0m \u001b[1;33m=\u001b[0m \u001b[0mnp\u001b[0m\u001b[1;33m.\u001b[0m\u001b[0mhstack\u001b[0m\u001b[1;33m(\u001b[0m\u001b[1;33m[\u001b[0m\u001b[0mx\u001b[0m\u001b[1;33m,\u001b[0m \u001b[0mdbscan_x\u001b[0m\u001b[1;33m.\u001b[0m\u001b[0mreshape\u001b[0m\u001b[1;33m(\u001b[0m\u001b[1;33m-\u001b[0m\u001b[1;36m1\u001b[0m\u001b[1;33m,\u001b[0m \u001b[1;36m1\u001b[0m\u001b[1;33m)\u001b[0m\u001b[1;33m]\u001b[0m\u001b[1;33m)\u001b[0m \u001b[1;31m# x_scaled_ss 오른쪽에 1열 붙이기\u001b[0m\u001b[1;33m\u001b[0m\u001b[1;33m\u001b[0m\u001b[0m\n\u001b[0m\u001b[0;32m      5\u001b[0m \u001b[1;33m\u001b[0m\u001b[0m\n\u001b[0;32m      6\u001b[0m \u001b[1;31m## KMeans의 경우\u001b[0m\u001b[1;33m\u001b[0m\u001b[1;33m\u001b[0m\u001b[1;33m\u001b[0m\u001b[0m\n",
      "\u001b[1;32m<__array_function__ internals>\u001b[0m in \u001b[0;36mhstack\u001b[1;34m(*args, **kwargs)\u001b[0m\n",
      "\u001b[1;32mc:\\users\\mosan\\anaconda3\\envs\\ottflab\\lib\\site-packages\\numpy\\core\\shape_base.py\u001b[0m in \u001b[0;36mhstack\u001b[1;34m(tup)\u001b[0m\n\u001b[0;32m    343\u001b[0m         \u001b[1;32mreturn\u001b[0m \u001b[0m_nx\u001b[0m\u001b[1;33m.\u001b[0m\u001b[0mconcatenate\u001b[0m\u001b[1;33m(\u001b[0m\u001b[0marrs\u001b[0m\u001b[1;33m,\u001b[0m \u001b[1;36m0\u001b[0m\u001b[1;33m)\u001b[0m\u001b[1;33m\u001b[0m\u001b[1;33m\u001b[0m\u001b[0m\n\u001b[0;32m    344\u001b[0m     \u001b[1;32melse\u001b[0m\u001b[1;33m:\u001b[0m\u001b[1;33m\u001b[0m\u001b[1;33m\u001b[0m\u001b[0m\n\u001b[1;32m--> 345\u001b[1;33m         \u001b[1;32mreturn\u001b[0m \u001b[0m_nx\u001b[0m\u001b[1;33m.\u001b[0m\u001b[0mconcatenate\u001b[0m\u001b[1;33m(\u001b[0m\u001b[0marrs\u001b[0m\u001b[1;33m,\u001b[0m \u001b[1;36m1\u001b[0m\u001b[1;33m)\u001b[0m\u001b[1;33m\u001b[0m\u001b[1;33m\u001b[0m\u001b[0m\n\u001b[0m\u001b[0;32m    346\u001b[0m \u001b[1;33m\u001b[0m\u001b[0m\n\u001b[0;32m    347\u001b[0m \u001b[1;33m\u001b[0m\u001b[0m\n",
      "\u001b[1;32m<__array_function__ internals>\u001b[0m in \u001b[0;36mconcatenate\u001b[1;34m(*args, **kwargs)\u001b[0m\n",
      "\u001b[1;31mValueError\u001b[0m: all the input array dimensions for the concatenation axis must match exactly, but along dimension 0, the array at index 0 has size 200 and the array at index 1 has size 100"
     ]
    }
   ],
   "source": [
    "# visualization\n",
    "\n",
    "## DBSCAN의 경우\n",
    "df = np.hstack([x, dbscan_x.reshape(-1, 1)]) # x_scaled_ss 오른쪽에 1열 붙이기\n",
    "\n",
    "## KMeans의 경우\n",
    "#df = np.hstack([x, kmeans_x.labels_.reshape(-1, 1)])\n",
    "\n",
    "\n",
    "\n",
    "df_ft0 = df[df[:,2]==0, :] # 클러스터 0 추출\n",
    "\n",
    "df_ft1 = df[df[:,2]==1, :] # 클러스터 1 추출\n",
    "\n",
    "\n",
    "# matplotlib로 그래프 그리기\n",
    "\n",
    "plt.scatter(df_ft0[:, 0], df_ft0[:, 1], label='cluster 0', cmap='Pairs') # x, y, label, 색상\n",
    "\n",
    "plt.scatter(df_ft1[:, 0], df_ft1[:, 1], label='cluster 1', cmap='Pairs')\n",
    "\n",
    "plt.xlabel('feature 0')\n",
    "\n",
    "plt.ylabel('feature 1')\n",
    "\n",
    "plt.legend()\n",
    "\n",
    "plt.show()"
   ]
  },
  {
   "cell_type": "markdown",
   "metadata": {},
   "source": [
    "## Example1"
   ]
  },
  {
   "cell_type": "code",
   "execution_count": 9,
   "metadata": {},
   "outputs": [],
   "source": [
    "# get Data\n",
    "x, y = make_blobs(n_samples=100, random_state=0)\n",
    "\n",
    "# 표준화\n",
    "scaler_ss = StandardScaler().fit(x)\n",
    "x_scaled_ss = scaler_ss.transform(x) \n",
    "\n",
    "# DBSCAN\n",
    "dbscan = DBSCAN(eps=0.6, min_samples=5)\n",
    "dbscan_x = dbscan.fit_predict(x)\n",
    "\n",
    "# KMEANS\n",
    "kmeans_x = KMeans(n_clusters=3).fit(x_scaled_ss)"
   ]
  },
  {
   "cell_type": "code",
   "execution_count": 10,
   "metadata": {
    "scrolled": true
   },
   "outputs": [
    {
     "name": "stdout",
     "output_type": "stream",
     "text": [
      "Clusters DBSCAN: \n",
      "[-1  1 -1  0  0  1  2  0  3  1  1 -1 -1 -1  2 -1 -1  0 -1  2 -1 -1 -1  0\n",
      "  3  3  3  3 -1  0 -1 -1 -1  4 -1  1  1  3  3 -1 -1 -1  3 -1  1  1 -1 -1\n",
      "  2  0  1  3  1  3 -1 -1 -1 -1  1 -1  3  2  2 -1  2  3  1 -1  3  4  0 -1\n",
      " -1 -1 -1 -1  1  1 -1 -1 -1  1  3 -1 -1  1  1  0  3  1 -1 -1  0  2  2  0\n",
      "  1  4 -1  2]\n",
      "Clusters kmeans : \n",
      "[1 2 1 0 0 2 0 0 1 2 2 2 1 2 0 1 0 0 0 0 0 0 0 0 1 1 1 1 0 0 2 1 1 2 0 2 2\n",
      " 1 1 0 0 1 1 2 2 2 1 1 0 0 2 1 2 1 0 0 1 1 2 1 1 0 0 0 0 1 2 0 1 2 0 1 0 1\n",
      " 2 2 2 2 0 1 2 2 1 2 2 2 2 2 1 2 1 1 0 0 0 0 2 2 0 0]\n",
      "y : \n",
      "[1 0 1 0 0 0 2 2 1 0 0 0 1 0 2 1 2 0 2 2 2 2 2 0 1 1 1 1 2 2 0 1 1 0 2 2 0\n",
      " 1 1 2 2 1 1 0 0 0 1 1 2 2 2 1 0 1 2 2 1 1 0 1 1 2 2 2 2 1 0 2 1 0 2 0 0 1\n",
      " 1 0 0 0 2 1 0 0 1 0 1 0 0 0 1 0 1 1 2 2 2 2 0 0 2 2]\n"
     ]
    }
   ],
   "source": [
    "print(\"Clusters DBSCAN: \\n{}\".format(dbscan_x))\n",
    "print(\"Clusters kmeans : \\n{}\".format(kmeans_x.labels_))\n",
    "print(\"y : \\n{}\".format(y)) #  정답 numpy"
   ]
  },
  {
   "cell_type": "code",
   "execution_count": 11,
   "metadata": {
    "scrolled": true
   },
   "outputs": [
    {
     "data": {
      "image/png": "[encoded data removed]",
      "text/plain": [
       "<Figure size 432x288 with 1 Axes>"
      ]
     },
     "metadata": {
      "needs_background": "light"
     },
     "output_type": "display_data"
    }
   ],
   "source": [
    "# visualization\n",
    "\n",
    "## DBSCAN의 경우\n",
    "df = np.hstack([x_scaled_ss, dbscan_x.reshape(-1, 1)]) # x_scaled_ss 오른쪽에 1열 붙이기\n",
    "\n",
    "df_ft0 = df[df[:,2]==0, :] # 클러스터 0 추출\n",
    "df_ft1 = df[df[:,2]==1, :] # 클러스터 1 추출\n",
    "df_ft2 = df[df[:,2]==2, :] # 클러스터 2 추출\n",
    "\n",
    "\n",
    "# matplotlib로 그래프 그리기\n",
    "\n",
    "plt.scatter(df_ft0[:, 0], df_ft0[:, 1], label='cluster 0', cmap='Pairs') # x, y, label, 색상\n",
    "plt.scatter(df_ft1[:, 0], df_ft1[:, 1], label='cluster 1', cmap='Pairs')\n",
    "plt.scatter(df_ft2[:, 0], df_ft2[:, 1], label='cluster 2', cmap='Pairs')\n",
    "\n",
    "plt.xlabel('feature 0')\n",
    "plt.ylabel('feature 1')\n",
    "plt.legend()\n",
    "plt.title(\"DBSCAN result\")\n",
    "plt.show()"
   ]
  },
  {
   "cell_type": "code",
   "execution_count": 36,
   "metadata": {},
   "outputs": [
    {
     "name": "stdout",
     "output_type": "stream",
     "text": [
      "[array([[-0.60757017,  0.82023674,  0.        ],\n",
      "       [-0.29827999,  0.030875  ,  0.        ],\n",
      "       [-1.72183725, -0.23308333,  0.        ],\n",
      "       [-0.57466614,  0.11042339,  0.        ],\n",
      "       [-1.50151964, -0.48717614,  0.        ],\n",
      "       [-1.1479391 , -0.38062684,  0.        ],\n",
      "       [-0.16949316, -0.1693719 ,  0.        ],\n",
      "       [-1.13141124,  1.17342459,  0.        ],\n",
      "       [-1.69826604,  0.08728664,  0.        ],\n",
      "       [-1.4461897 , -1.40056206,  0.        ],\n",
      "       [-1.1155684 , -0.71056249,  0.        ],\n",
      "       [-0.74387284, -1.00404504,  0.        ],\n",
      "       [-0.21032709, -0.33578226,  0.        ],\n",
      "       [-1.29605031, -0.10333552,  0.        ],\n",
      "       [-0.67184451,  0.59161599,  0.        ],\n",
      "       [-1.34329123,  0.06460774,  0.        ],\n",
      "       [-1.49867929,  1.06205791,  0.        ],\n",
      "       [-0.47771489, -0.652919  ,  0.        ],\n",
      "       [-1.59346635,  0.78352483,  0.        ],\n",
      "       [-0.80780206, -0.05898396,  0.        ],\n",
      "       [-1.3665422 ,  1.31477698,  0.        ],\n",
      "       [-0.6253206 , -0.37248482,  0.        ],\n",
      "       [-1.8013766 ,  0.22778673,  0.        ],\n",
      "       [-1.53360867, -0.39767332,  0.        ],\n",
      "       [-1.00289334,  0.46838572,  0.        ],\n",
      "       [-1.9099181 ,  0.34046939,  0.        ],\n",
      "       [-1.64127758, -0.95684791,  0.        ],\n",
      "       [-0.5902919 ,  0.26157488,  0.        ],\n",
      "       [-1.12133076,  1.38669347,  0.        ],\n",
      "       [-1.28774127, -0.84581359,  0.        ],\n",
      "       [-0.49247316,  0.48161432,  0.        ],\n",
      "       [-1.65989342,  0.49883034,  0.        ],\n",
      "       [-1.81398712, -0.24862146,  0.        ],\n",
      "       [-0.44412739,  0.26040776,  0.        ],\n",
      "       [-0.7520244 , -0.99430393,  0.        ],\n",
      "       [-1.76449155,  0.60525424,  0.        ]])\n",
      " array([[ 1.18110781, -1.40390591,  1.        ],\n",
      "       [ 1.38388996, -1.36906386,  1.        ],\n",
      "       [ 1.23346574, -1.00129939,  1.        ],\n",
      "       [ 1.12042086, -2.27216427,  1.        ],\n",
      "       [ 1.88737363, -0.67530794,  1.        ],\n",
      "       [ 0.27987537, -0.57827404,  1.        ],\n",
      "       [ 0.93509654, -1.0048775 ,  1.        ],\n",
      "       [ 0.44445772, -0.91513206,  1.        ],\n",
      "       [ 0.22823232, -0.67871977,  1.        ],\n",
      "       [ 1.67986161, -0.02811184,  1.        ],\n",
      "       [ 0.63938156, -1.75642561,  1.        ],\n",
      "       [ 0.49674972, -1.24690069,  1.        ],\n",
      "       [ 1.06062693, -0.8057296 ,  1.        ],\n",
      "       [ 1.08577917, -1.71546623,  1.        ],\n",
      "       [ 1.028826  , -0.40047365,  1.        ],\n",
      "       [ 0.38926747, -1.64618548,  1.        ],\n",
      "       [ 0.4856794 , -1.36554913,  1.        ],\n",
      "       [ 0.51780504, -0.82543614,  1.        ],\n",
      "       [ 0.97960873, -0.62915078,  1.        ],\n",
      "       [ 1.51055462, -1.38535402,  1.        ],\n",
      "       [ 0.87140955, -0.10004603,  1.        ],\n",
      "       [ 1.89590359, -2.14892622,  1.        ],\n",
      "       [ 0.17060532, -0.63388608,  1.        ],\n",
      "       [ 0.64509421, -0.46843392,  1.        ],\n",
      "       [ 0.6952203 , -1.23098973,  1.        ],\n",
      "       [ 1.51710736,  0.00841721,  1.        ],\n",
      "       [ 1.91767272, -0.29969861,  1.        ],\n",
      "       [ 1.07160092, -1.98654061,  1.        ],\n",
      "       [ 0.71904528, -0.74303768,  1.        ],\n",
      "       [ 1.20161713, -0.66474063,  1.        ],\n",
      "       [ 0.62760037, -0.05859724,  1.        ],\n",
      "       [ 1.08231344, -1.98239576,  1.        ]])\n",
      " array([[-0.21452913,  1.21230485,  2.        ],\n",
      "       [ 0.0850282 ,  1.06156062,  2.        ],\n",
      "       [-0.07166161,  0.72216074,  2.        ],\n",
      "       [ 0.67423732,  1.04366771,  2.        ],\n",
      "       [ 0.94843503,  1.74549339,  2.        ],\n",
      "       [ 1.11392115,  1.92005386,  2.        ],\n",
      "       [ 0.35416846,  1.91019057,  2.        ],\n",
      "       [ 1.09274899,  0.82519414,  2.        ],\n",
      "       [ 0.20969886,  0.67071403,  2.        ],\n",
      "       [ 0.21889557,  1.22779815,  2.        ],\n",
      "       [-0.65810544,  2.23482143,  2.        ],\n",
      "       [ 0.36013377,  1.20659033,  2.        ],\n",
      "       [-0.00345691,  0.67290522,  2.        ],\n",
      "       [ 0.08939063,  0.92704948,  2.        ],\n",
      "       [-0.2210021 ,  0.9932978 ,  2.        ],\n",
      "       [ 0.30039845,  0.83694646,  2.        ],\n",
      "       [ 0.69171504,  1.03888954,  2.        ],\n",
      "       [ 0.79514133,  0.86037121,  2.        ],\n",
      "       [ 0.39450385, -0.0188432 ,  2.        ],\n",
      "       [ 0.89871072,  0.1519603 ,  2.        ],\n",
      "       [ 0.37243148,  0.69663513,  2.        ],\n",
      "       [-0.09252643,  0.72424518,  2.        ],\n",
      "       [-0.41001739,  1.4676853 ,  2.        ],\n",
      "       [ 0.31175517,  1.15710107,  2.        ],\n",
      "       [-0.61648789,  1.26191777,  2.        ],\n",
      "       [ 0.22387013,  0.00309707,  2.        ],\n",
      "       [ 0.51819449,  1.17750235,  2.        ],\n",
      "       [ 0.25994678,  1.23939287,  2.        ],\n",
      "       [-0.00408767,  0.18739405,  2.        ],\n",
      "       [ 0.06346513,  0.76167756,  2.        ],\n",
      "       [ 0.44663857,  0.40089538,  2.        ],\n",
      "       [ 0.74828252,  0.47407972,  2.        ]])]\n"
     ]
    },
    {
     "data": {
      "image/png": "[encoded data removed]",
      "text/plain": [
       "<Figure size 432x288 with 1 Axes>"
      ]
     },
     "metadata": {
      "needs_background": "light"
     },
     "output_type": "display_data"
    }
   ],
   "source": [
    "## 클래스 Visualization\n",
    "### cluster_result -> numpy\n",
    "### class_num -> list\n",
    "def visualization_clusters(cluster_result, class_num):\n",
    "    class_list = []\n",
    "    \n",
    "    for i in range(len(class_num)):\n",
    "        _class = cluster_result[cluster_result[:, 2]==class_num[i], :]\n",
    "        \n",
    "        class_list.append(_class)\n",
    "        \n",
    "    class_list = np.array(class_list)\n",
    "    \n",
    "    for i in range(len(class_num)):\n",
    "        plt.scatter(class_list[i][:, 0], class_list[i][ :, 1], label=\"class{}\".format(i), cmap='Pairs')\n",
    "\n",
    "    plt.xlabel('feature 0')\n",
    "    plt.ylabel('feature 1')\n",
    "    plt.legend()\n",
    "    plt.title(\"result\")\n",
    "    plt.show()\n",
    "\n",
    "df = np.hstack([x_scaled_ss, kmeans_x.labels_.reshape(-1, 1)]) # x_scaled_ss 오른쪽에 1열 붙이기\n",
    "visualization_clusters(df, [0, 1, 2])\n",
    "\n"
   ]
  },
  {
   "cell_type": "code",
   "execution_count": 86,
   "metadata": {},
   "outputs": [
    {
     "data": {
      "image/png": "[encoded data removed]",
      "text/plain": [
       "<Figure size 432x288 with 1 Axes>"
      ]
     },
     "metadata": {
      "needs_background": "light"
     },
     "output_type": "display_data"
    }
   ],
   "source": [
    "# visualization\n",
    "\n",
    "## KMEANS result\n",
    "df = np.hstack([x_scaled_ss, kmeans_x.labels_.reshape(-1, 1)]) # x_scaled_ss 오른쪽에 1열 붙이기\n",
    "\n",
    "df_ft0 = df[df[:,2]==0, :] # 클러스터 0 추출\n",
    "df_ft1 = df[df[:,2]==1, :] # 클러스터 1 추출\n",
    "df_ft2 = df[df[:,2]==2, :] # 클러스터 2 추출\n",
    "\n",
    "\n",
    "# matplotlib로 그래프 그리기\n",
    "\n",
    "plt.scatter(df_ft0[:, 0], df_ft0[:, 1], label='cluster 0', cmap='Pairs') # x, y, label, 색상\n",
    "plt.scatter(df_ft1[:, 0], df_ft1[:, 1], label='cluster 1', cmap='Pairs')\n",
    "plt.scatter(df_ft2[:, 0], df_ft2[:, 1], label='cluster 2', cmap='Pairs')\n",
    "\n",
    "plt.xlabel('feature 0')\n",
    "plt.ylabel('feature 1')\n",
    "plt.legend()\n",
    "plt.title(\"KMEANS result\")\n",
    "plt.show()"
   ]
  },
  {
   "cell_type": "code",
   "execution_count": 87,
   "metadata": {
    "scrolled": true
   },
   "outputs": [
    {
     "data": {
      "image/png": "[encoded data removed]",
      "text/plain": [
       "<Figure size 432x288 with 1 Axes>"
      ]
     },
     "metadata": {
      "needs_background": "light"
     },
     "output_type": "display_data"
    }
   ],
   "source": [
    "# visualization\n",
    "\n",
    "## DBSCAN의 경우\n",
    "df = np.hstack([x_scaled_ss, y.reshape(-1, 1)]) # x_scaled_ss 오른쪽에 1열 붙이기\n",
    "\n",
    "df_ft0 = df[df[:,2]==0, :] # 클러스터 0 추출\n",
    "df_ft1 = df[df[:,2]==1, :] # 클러스터 1 추출\n",
    "df_ft2 = df[df[:,2]==2, :] # 클러스터 2 추출\n",
    "\n",
    "# matplotlib로 그래프 그리기\n",
    "\n",
    "plt.scatter(df_ft0[:, 0], df_ft0[:, 1], label='cluster 0', cmap='Pairs') # x, y, label, 색상\n",
    "plt.scatter(df_ft1[:, 0], df_ft1[:, 1], label='cluster 1', cmap='Pairs')\n",
    "plt.scatter(df_ft2[:, 0], df_ft2[:, 1], label='cluster 2', cmap='Pairs')\n",
    "plt.xlabel('feature 0')\n",
    "plt.ylabel('feature 1')\n",
    "plt.legend()\n",
    "plt.title(\"Actual result\")\n",
    "plt.show()"
   ]
  },
  {
   "cell_type": "markdown",
   "metadata": {},
   "source": [
    "## Example 2\n",
    "- 특징 벡터가 3차원일 경우"
   ]
  },
  {
   "cell_type": "code",
   "execution_count": 117,
   "metadata": {},
   "outputs": [
    {
     "name": "stdout",
     "output_type": "stream",
     "text": [
      "clusters center: \n",
      "[[  9.33333333   2.33333333 100.         100.        ]\n",
      " [ 13.16666667   3.66666667  12.          12.        ]\n",
      " [  3.66666667   1.66666667  12.          12.        ]]\n"
     ]
    },
    {
     "data": {
      "text/html": [
       "<div>\n",
       "<style scoped>\n",
       "    .dataframe tbody tr th:only-of-type {\n",
       "        vertical-align: middle;\n",
       "    }\n",
       "\n",
       "    .dataframe tbody tr th {\n",
       "        vertical-align: top;\n",
       "    }\n",
       "\n",
       "    .dataframe thead th {\n",
       "        text-align: right;\n",
       "    }\n",
       "</style>\n",
       "<table border=\"1\" class=\"dataframe\">\n",
       "  <thead>\n",
       "    <tr style=\"text-align: right;\">\n",
       "      <th></th>\n",
       "      <th>x</th>\n",
       "      <th>y</th>\n",
       "      <th>z</th>\n",
       "      <th>t</th>\n",
       "      <th>cluster_id</th>\n",
       "    </tr>\n",
       "  </thead>\n",
       "  <tbody>\n",
       "    <tr>\n",
       "      <th>0</th>\n",
       "      <td>3</td>\n",
       "      <td>1</td>\n",
       "      <td>100</td>\n",
       "      <td>100</td>\n",
       "      <td>0</td>\n",
       "    </tr>\n",
       "    <tr>\n",
       "      <th>1</th>\n",
       "      <td>4</td>\n",
       "      <td>1</td>\n",
       "      <td>11</td>\n",
       "      <td>11</td>\n",
       "      <td>2</td>\n",
       "    </tr>\n",
       "    <tr>\n",
       "      <th>2</th>\n",
       "      <td>3</td>\n",
       "      <td>2</td>\n",
       "      <td>12</td>\n",
       "      <td>12</td>\n",
       "      <td>2</td>\n",
       "    </tr>\n",
       "    <tr>\n",
       "      <th>3</th>\n",
       "      <td>4</td>\n",
       "      <td>2</td>\n",
       "      <td>13</td>\n",
       "      <td>13</td>\n",
       "      <td>2</td>\n",
       "    </tr>\n",
       "    <tr>\n",
       "      <th>4</th>\n",
       "      <td>10</td>\n",
       "      <td>5</td>\n",
       "      <td>100</td>\n",
       "      <td>100</td>\n",
       "      <td>0</td>\n",
       "    </tr>\n",
       "    <tr>\n",
       "      <th>5</th>\n",
       "      <td>10</td>\n",
       "      <td>6</td>\n",
       "      <td>11</td>\n",
       "      <td>11</td>\n",
       "      <td>1</td>\n",
       "    </tr>\n",
       "    <tr>\n",
       "      <th>6</th>\n",
       "      <td>11</td>\n",
       "      <td>5</td>\n",
       "      <td>12</td>\n",
       "      <td>12</td>\n",
       "      <td>1</td>\n",
       "    </tr>\n",
       "    <tr>\n",
       "      <th>7</th>\n",
       "      <td>11</td>\n",
       "      <td>6</td>\n",
       "      <td>13</td>\n",
       "      <td>13</td>\n",
       "      <td>1</td>\n",
       "    </tr>\n",
       "    <tr>\n",
       "      <th>8</th>\n",
       "      <td>15</td>\n",
       "      <td>1</td>\n",
       "      <td>100</td>\n",
       "      <td>100</td>\n",
       "      <td>0</td>\n",
       "    </tr>\n",
       "    <tr>\n",
       "      <th>9</th>\n",
       "      <td>15</td>\n",
       "      <td>2</td>\n",
       "      <td>11</td>\n",
       "      <td>11</td>\n",
       "      <td>1</td>\n",
       "    </tr>\n",
       "    <tr>\n",
       "      <th>10</th>\n",
       "      <td>16</td>\n",
       "      <td>1</td>\n",
       "      <td>12</td>\n",
       "      <td>12</td>\n",
       "      <td>1</td>\n",
       "    </tr>\n",
       "    <tr>\n",
       "      <th>11</th>\n",
       "      <td>16</td>\n",
       "      <td>2</td>\n",
       "      <td>13</td>\n",
       "      <td>13</td>\n",
       "      <td>1</td>\n",
       "    </tr>\n",
       "  </tbody>\n",
       "</table>\n",
       "</div>"
      ],
      "text/plain": [
       "     x  y    z    t  cluster_id\n",
       "0    3  1  100  100           0\n",
       "1    4  1   11   11           2\n",
       "2    3  2   12   12           2\n",
       "3    4  2   13   13           2\n",
       "4   10  5  100  100           0\n",
       "5   10  6   11   11           1\n",
       "6   11  5   12   12           1\n",
       "7   11  6   13   13           1\n",
       "8   15  1  100  100           0\n",
       "9   15  2   11   11           1\n",
       "10  16  1   12   12           1\n",
       "11  16  2   13   13           1"
      ]
     },
     "execution_count": 117,
     "metadata": {},
     "output_type": "execute_result"
    }
   ],
   "source": [
    "df = pd.DataFrame(columns=['x', 'y', 'z', 't'])\n",
    "\n",
    "df.loc[0] = [3, 1, 100, 100]\n",
    "df.loc[1] = [4, 1, 11, 11]\n",
    "df.loc[2] = [3, 2, 12, 12]\n",
    "df.loc[3] = [4, 2, 13, 13]\n",
    "df.loc[4] = [10, 5, 100, 100]\n",
    "df.loc[5] = [10, 6, 11, 11]\n",
    "df.loc[6] = [11, 5, 12, 12]\n",
    "df.loc[7] = [11, 6, 13, 13]\n",
    "df.loc[8] = [15, 1, 100, 100]\n",
    "df.loc[9] = [15, 2, 11, 11]\n",
    "df.loc[10] = [16, 1, 12, 12]\n",
    "df.loc[11] = [16, 2, 13, 13]\n",
    "\n",
    "df.head(20) # 데이터 프레임 차트 형식 출력\n",
    "data_points = df.to_numpy()\n",
    "kmeans = KMeans(n_clusters=3).fit(data_points)\n",
    "df['cluster_id'] = kmeans.labels_\n",
    "#dbscan = DBSCAN(eps=0.5, min_samples=5)\n",
    "#clusters = dbscan.fit_predict(df)\n",
    "\n",
    "print(\"clusters center: \\n{}\".format(kmeans.cluster_centers_))\n",
    "#df = np.hstack([df, clusters.reshape(-1, 1)])\n",
    "pd.DataFrame(df).head(12)\n"
   ]
  },
  {
   "cell_type": "markdown",
   "metadata": {},
   "source": [
    "## Accuracy 계산 함수\n",
    "- 인자 : 정답 numpy 리스트 / 예측 numpy 리스트\n",
    "- 결과 : 0 ~ 1 사이 값 (1에 가까울 수록 정확도 높다)\n",
    "- 실제 데이터 정답 라벨링이 필요하다."
   ]
  },
  {
   "cell_type": "code",
   "execution_count": 76,
   "metadata": {
    "scrolled": true
   },
   "outputs": [
    {
     "name": "stdout",
     "output_type": "stream",
     "text": [
      "KMeans accuracy: \n",
      "0.0\n"
     ]
    }
   ],
   "source": [
    "# Accuracy를 가져오는 함수\n",
    "def getAccuracy(data_y, pred_y):\n",
    "    count = 0\n",
    "    bool_array = (data_y == pred_y)\n",
    "    for correct in bool_array:\n",
    "        if(correct):\n",
    "            count += 1\n",
    "    return count / pred_y.size\n",
    "answer = np.array([1, 1, 0,1, 1, 0, 0, 0, 2, 2, 2, 2])\n",
    "print(\"KMeans accuracy: \\n{}\".format(getAccuracy(answer, clusters)))"
   ]
  },
  {
   "cell_type": "code",
   "execution_count": 102,
   "metadata": {},
   "outputs": [
    {
     "name": "stdout",
     "output_type": "stream",
     "text": [
      "[0. 0. 0. 0. 0. 0. 0. 0. 0. 0. 0. 0. 0. 0. 0. 0. 0. 0. 0. 0. 0. 0. 0. 0.\n",
      " 0. 0. 0. 0. 0. 0. 0. 0. 0. 0. 0. 0. 0. 0. 0. 0. 0. 0. 0. 0. 0. 0. 0. 0.\n",
      " 0. 0. 0. 0. 0. 0. 0. 0. 0. 0. 0. 0. 0. 0. 0. 0. 0. 0. 0. 0. 0. 0. 0. 0.\n",
      " 0. 0. 0. 0. 0. 0. 0. 0. 0. 0. 0. 0. 0. 0. 0. 0. 0. 0. 0. 0. 0. 0. 0. 0.\n",
      " 0. 0. 0. 0. 0. 0. 0. 0. 0. 0. 0. 0. 0. 0. 0. 0. 0. 0. 0. 0. 0. 0. 0. 0.\n",
      " 0. 0. 0. 0. 0. 0. 0. 0. 0. 0. 0. 0. 0. 0. 0. 0. 0. 0. 0. 0. 0. 0. 0. 0.\n",
      " 0. 0. 0. 0. 0. 0. 0. 0. 0. 0. 0. 0. 0. 0. 0. 0. 0. 0. 0. 0. 0. 0. 0. 0.\n",
      " 0. 0. 0. 0. 0. 0. 0. 0. 0. 0. 0. 0. 0. 0. 0. 0. 0. 0. 0. 0. 0. 0. 1. 1.\n",
      " 1. 1. 1. 1. 1. 1. 1. 1. 1. 1. 1. 1. 1. 1. 1. 1. 1. 1. 1. 1. 1. 1. 1. 1.\n",
      " 1. 1. 1. 1. 1. 1. 1. 1. 1. 1. 1. 1. 1. 1. 1. 1. 1. 1. 1. 1. 1. 1. 1. 1.\n",
      " 1. 1. 1. 1. 1. 1. 1. 1. 1. 1. 1. 1. 1. 1. 1. 1. 1. 1. 1. 1. 1. 1. 1. 1.\n",
      " 1. 1. 1. 1. 1. 1. 1. 1. 1. 1. 1. 1. 1. 1. 1. 1. 1. 1. 1. 1. 1. 1. 1. 1.\n",
      " 1. 1. 1. 1. 1. 1. 1. 1. 1. 1. 1. 1. 1. 1. 1. 1. 1. 1. 1. 1. 1. 1. 1. 1.\n",
      " 1. 1. 1. 1. 1. 1. 1. 1. 1. 1. 1. 1. 1. 1. 1. 1. 1. 1. 1. 1. 1. 1. 1. 1.\n",
      " 1. 1. 1. 1. 1. 1. 1. 1. 1. 1. 1. 1. 1. 1. 1. 1. 1. 1. 1. 1. 1. 1. 1. 1.\n",
      " 1. 1. 1. 1. 1. 1. 1. 1. 1. 1. 1. 1. 1. 1. 1. 1. 1. 1. 1. 1. 5. 5. 5. 5.\n",
      " 5. 5. 5. 5. 5. 5. 5. 5. 5. 5. 5. 5. 5. 5. 5. 5. 5. 5. 5. 5. 5. 5. 5. 5.\n",
      " 5. 5. 5. 5. 5. 5. 5. 5. 5. 5. 5. 5. 5. 5. 5. 5. 5. 5. 5. 5. 5. 5. 5. 5.\n",
      " 5. 5. 5. 5. 5. 5. 5. 5. 5. 5. 5. 5. 5. 5. 5. 5. 5. 5. 5. 5. 5. 5. 5. 5.\n",
      " 5. 5. 5. 5. 5. 5. 5. 5. 5. 5. 5. 5. 5. 5. 5. 5. 5. 5. 5. 5. 5. 5. 5. 5.\n",
      " 5. 5. 5. 5. 5. 5. 5. 5. 5. 5. 5. 5. 5. 5. 5. 5. 5. 5. 5. 5. 5. 5. 5. 5.\n",
      " 5. 5. 5. 5. 5. 5. 5. 5. 5. 5. 5. 5. 5. 5. 5. 5. 5. 5. 5. 5. 5. 5. 5. 5.\n",
      " 5. 5. 5. 5. 5. 5. 5. 5. 5. 5. 5. 5. 5. 5. 5. 5. 5. 5. 5. 5. 5. 5. 5. 5.\n",
      " 5. 5. 5. 5. 5. 5. 5. 5. 5. 5. 5. 5. 5. 5. 5. 5. 5. 5.]\n"
     ]
    }
   ],
   "source": [
    "# 정답 레이블 만들기\n",
    "## 원하는 클래스 레이블의 리스트를 넘긴다.\n",
    "\n",
    "def getClassLabelFor(list):\n",
    "    y=np.array([])\n",
    "    for i in list:\n",
    "        y_=np.full((1, 190), i)[0]\n",
    "        y=np.hstack([y, y_])\n",
    "    \n",
    "    return y\n",
    "\n",
    "classes = [0, 1, 5]\n",
    "y=getClassLabelFor(classes)\n",
    "print(y)"
   ]
  },
  {
   "cell_type": "code",
   "execution_count": 110,
   "metadata": {},
   "outputs": [
    {
     "data": {
      "image/png": "[encoded data removed]",
      "text/plain": [
       "<Figure size 748.8x514.8 with 1 Axes>"
      ]
     },
     "metadata": {
      "needs_background": "light"
     },
     "output_type": "display_data"
    }
   ],
   "source": [
    "%matplotlib inline\n",
    "from matplotlib import style\n",
    "\n",
    "style.use('seaborn-talk')\n",
    "\n",
    "\n",
    "def randrange(n, vmin, vmax):\n",
    "    return (vmax - vmin)*np.random.rand(n) + vmin\n",
    "\n",
    "fig = plt.figure()\n",
    "ax = fig.add_subplot(111, projection='3d')\n",
    "n = 100\n",
    "\n",
    "for c, m, zl, zh in [('r', 'o', -50, -25), ('b', '^', -30, -5)]:\n",
    "    xs = randrange(n, 23, 32)\n",
    "    ys = randrange(n, 0, 100)\n",
    "    zs = randrange(n, zl, zh)\n",
    "    ax.scatter(xs, ys, zs, c=c, marker=m)\n",
    "\n",
    "ax.set_xlabel('X')\n",
    "ax.set_ylabel('Y')\n",
    "ax.set_zlabel('Z')\n",
    "\n",
    "plt.show()"
   ]
  },
  {
   "cell_type": "code",
   "execution_count": 7,
   "metadata": {},
   "outputs": [
    {
     "name": "stdout",
     "output_type": "stream",
     "text": [
      "[1 2 3 2 3 4]\n",
      "[[1 2 3]\n",
      " [2 3 4]]\n"
     ]
    }
   ],
   "source": []
  },
  {
   "cell_type": "code",
   "execution_count": null,
   "metadata": {},
   "outputs": [],
   "source": []
  }
 ],
 "metadata": {
  "kernelspec": {
   "display_name": "Python 3",
   "language": "python",
   "name": "python3"
  },
  "language_info": {
   "codemirror_mode": {
    "name": "ipython",
    "version": 3
   },
   "file_extension": ".py",
   "mimetype": "text/x-python",
   "name": "python",
   "nbconvert_exporter": "python",
   "pygments_lexer": "ipython3",
   "version": "3.8.5"
  }
 },
 "nbformat": 4,
 "nbformat_minor": 4
}
